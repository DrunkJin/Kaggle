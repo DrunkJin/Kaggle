{
 "cells": [
  {
   "cell_type": "code",
   "execution_count": 1,
   "id": "67e9e26c",
   "metadata": {
    "_cell_guid": "b1076dfc-b9ad-4769-8c92-a6c4dae69d19",
    "_uuid": "8f2839f25d086af736a60e9eeb907d3b93b6e0e5",
    "execution": {
     "iopub.execute_input": "2022-07-17T13:54:50.258481Z",
     "iopub.status.busy": "2022-07-17T13:54:50.257805Z",
     "iopub.status.idle": "2022-07-17T13:54:50.346949Z",
     "shell.execute_reply": "2022-07-17T13:54:50.345625Z"
    },
    "papermill": {
     "duration": 0.107896,
     "end_time": "2022-07-17T13:54:50.349783",
     "exception": false,
     "start_time": "2022-07-17T13:54:50.241887",
     "status": "completed"
    },
    "tags": []
   },
   "outputs": [],
   "source": [
    "import numpy as np\n",
    "import pandas as pd\n",
    "\n",
    "# 데이터 경로\n",
    "data_path = '/kaggle/input/bike-sharing-demand/'\n",
    "\n",
    "train = pd.read_csv(data_path + 'train.csv') # train data\n",
    "test = pd.read_csv(data_path + 'test.csv') # test data\n",
    "submission = pd.read_csv(data_path + 'sampleSubmission.csv') # submission sample data"
   ]
  },
  {
   "cell_type": "code",
   "execution_count": 2,
   "id": "a846cd59",
   "metadata": {
    "execution": {
     "iopub.execute_input": "2022-07-17T13:54:50.385086Z",
     "iopub.status.busy": "2022-07-17T13:54:50.384687Z",
     "iopub.status.idle": "2022-07-17T13:54:50.393320Z",
     "shell.execute_reply": "2022-07-17T13:54:50.392147Z"
    },
    "papermill": {
     "duration": 0.02959,
     "end_time": "2022-07-17T13:54:50.396345",
     "exception": false,
     "start_time": "2022-07-17T13:54:50.366755",
     "status": "completed"
    },
    "tags": []
   },
   "outputs": [
    {
     "data": {
      "text/plain": [
       "((10886, 12), (6493, 9))"
      ]
     },
     "execution_count": 2,
     "metadata": {},
     "output_type": "execute_result"
    }
   ],
   "source": [
    "train.shape, test.shape"
   ]
  },
  {
   "cell_type": "code",
   "execution_count": 3,
   "id": "7559e379",
   "metadata": {
    "execution": {
     "iopub.execute_input": "2022-07-17T13:54:50.424240Z",
     "iopub.status.busy": "2022-07-17T13:54:50.423480Z",
     "iopub.status.idle": "2022-07-17T13:54:50.444403Z",
     "shell.execute_reply": "2022-07-17T13:54:50.443330Z"
    },
    "papermill": {
     "duration": 0.037228,
     "end_time": "2022-07-17T13:54:50.446538",
     "exception": false,
     "start_time": "2022-07-17T13:54:50.409310",
     "status": "completed"
    },
    "tags": []
   },
   "outputs": [
    {
     "data": {
      "text/html": [
       "<div>\n",
       "<style scoped>\n",
       "    .dataframe tbody tr th:only-of-type {\n",
       "        vertical-align: middle;\n",
       "    }\n",
       "\n",
       "    .dataframe tbody tr th {\n",
       "        vertical-align: top;\n",
       "    }\n",
       "\n",
       "    .dataframe thead th {\n",
       "        text-align: right;\n",
       "    }\n",
       "</style>\n",
       "<table border=\"1\" class=\"dataframe\">\n",
       "  <thead>\n",
       "    <tr style=\"text-align: right;\">\n",
       "      <th></th>\n",
       "      <th>datetime</th>\n",
       "      <th>season</th>\n",
       "      <th>holiday</th>\n",
       "      <th>workingday</th>\n",
       "      <th>weather</th>\n",
       "      <th>temp</th>\n",
       "      <th>atemp</th>\n",
       "      <th>humidity</th>\n",
       "      <th>windspeed</th>\n",
       "      <th>casual</th>\n",
       "      <th>registered</th>\n",
       "      <th>count</th>\n",
       "    </tr>\n",
       "  </thead>\n",
       "  <tbody>\n",
       "    <tr>\n",
       "      <th>0</th>\n",
       "      <td>2011-01-01 00:00:00</td>\n",
       "      <td>1</td>\n",
       "      <td>0</td>\n",
       "      <td>0</td>\n",
       "      <td>1</td>\n",
       "      <td>9.84</td>\n",
       "      <td>14.395</td>\n",
       "      <td>81</td>\n",
       "      <td>0.0</td>\n",
       "      <td>3</td>\n",
       "      <td>13</td>\n",
       "      <td>16</td>\n",
       "    </tr>\n",
       "    <tr>\n",
       "      <th>1</th>\n",
       "      <td>2011-01-01 01:00:00</td>\n",
       "      <td>1</td>\n",
       "      <td>0</td>\n",
       "      <td>0</td>\n",
       "      <td>1</td>\n",
       "      <td>9.02</td>\n",
       "      <td>13.635</td>\n",
       "      <td>80</td>\n",
       "      <td>0.0</td>\n",
       "      <td>8</td>\n",
       "      <td>32</td>\n",
       "      <td>40</td>\n",
       "    </tr>\n",
       "    <tr>\n",
       "      <th>2</th>\n",
       "      <td>2011-01-01 02:00:00</td>\n",
       "      <td>1</td>\n",
       "      <td>0</td>\n",
       "      <td>0</td>\n",
       "      <td>1</td>\n",
       "      <td>9.02</td>\n",
       "      <td>13.635</td>\n",
       "      <td>80</td>\n",
       "      <td>0.0</td>\n",
       "      <td>5</td>\n",
       "      <td>27</td>\n",
       "      <td>32</td>\n",
       "    </tr>\n",
       "    <tr>\n",
       "      <th>3</th>\n",
       "      <td>2011-01-01 03:00:00</td>\n",
       "      <td>1</td>\n",
       "      <td>0</td>\n",
       "      <td>0</td>\n",
       "      <td>1</td>\n",
       "      <td>9.84</td>\n",
       "      <td>14.395</td>\n",
       "      <td>75</td>\n",
       "      <td>0.0</td>\n",
       "      <td>3</td>\n",
       "      <td>10</td>\n",
       "      <td>13</td>\n",
       "    </tr>\n",
       "    <tr>\n",
       "      <th>4</th>\n",
       "      <td>2011-01-01 04:00:00</td>\n",
       "      <td>1</td>\n",
       "      <td>0</td>\n",
       "      <td>0</td>\n",
       "      <td>1</td>\n",
       "      <td>9.84</td>\n",
       "      <td>14.395</td>\n",
       "      <td>75</td>\n",
       "      <td>0.0</td>\n",
       "      <td>0</td>\n",
       "      <td>1</td>\n",
       "      <td>1</td>\n",
       "    </tr>\n",
       "  </tbody>\n",
       "</table>\n",
       "</div>"
      ],
      "text/plain": [
       "              datetime  season  holiday  workingday  weather  temp   atemp  \\\n",
       "0  2011-01-01 00:00:00       1        0           0        1  9.84  14.395   \n",
       "1  2011-01-01 01:00:00       1        0           0        1  9.02  13.635   \n",
       "2  2011-01-01 02:00:00       1        0           0        1  9.02  13.635   \n",
       "3  2011-01-01 03:00:00       1        0           0        1  9.84  14.395   \n",
       "4  2011-01-01 04:00:00       1        0           0        1  9.84  14.395   \n",
       "\n",
       "   humidity  windspeed  casual  registered  count  \n",
       "0        81        0.0       3          13     16  \n",
       "1        80        0.0       8          32     40  \n",
       "2        80        0.0       5          27     32  \n",
       "3        75        0.0       3          10     13  \n",
       "4        75        0.0       0           1      1  "
      ]
     },
     "execution_count": 3,
     "metadata": {},
     "output_type": "execute_result"
    }
   ],
   "source": [
    "train.head()\n",
    "\n",
    "# datetime : 1시간 간격으로 기록한 일시\n",
    "# season : 계절(1,2,3,4 -> 봄, 여름, 가을, 겨울)\n",
    "# holiday : 공휴일 여부(1 -> 공휴일)\n",
    "# workingday : 근무일 여부 (1 -> 근무일) => 주말과 공휴일이 아니면 근무일이라고 간주함\n",
    "# weather : 1->맑음, 2-> 옅은안개or약간 흐림, 3->약간의 눈과 비, 천둥번개, 흐림 4-> 폭우와 천둥번개 ==> 숫자가 클수록 날씨가 안좋음\n",
    "# temp : 실제온도\n",
    "# atemp : 체감온도\n",
    "# humidity : 상대습도\n",
    "# casual : 비회원 수\n",
    "# registered : 회원 수\n",
    "# count :자전거 대여 수량\n"
   ]
  },
  {
   "cell_type": "code",
   "execution_count": 4,
   "id": "3e82e3f1",
   "metadata": {
    "execution": {
     "iopub.execute_input": "2022-07-17T13:54:50.475100Z",
     "iopub.status.busy": "2022-07-17T13:54:50.474369Z",
     "iopub.status.idle": "2022-07-17T13:54:50.487993Z",
     "shell.execute_reply": "2022-07-17T13:54:50.486690Z"
    },
    "papermill": {
     "duration": 0.030451,
     "end_time": "2022-07-17T13:54:50.490362",
     "exception": false,
     "start_time": "2022-07-17T13:54:50.459911",
     "status": "completed"
    },
    "tags": []
   },
   "outputs": [
    {
     "data": {
      "text/html": [
       "<div>\n",
       "<style scoped>\n",
       "    .dataframe tbody tr th:only-of-type {\n",
       "        vertical-align: middle;\n",
       "    }\n",
       "\n",
       "    .dataframe tbody tr th {\n",
       "        vertical-align: top;\n",
       "    }\n",
       "\n",
       "    .dataframe thead th {\n",
       "        text-align: right;\n",
       "    }\n",
       "</style>\n",
       "<table border=\"1\" class=\"dataframe\">\n",
       "  <thead>\n",
       "    <tr style=\"text-align: right;\">\n",
       "      <th></th>\n",
       "      <th>datetime</th>\n",
       "      <th>season</th>\n",
       "      <th>holiday</th>\n",
       "      <th>workingday</th>\n",
       "      <th>weather</th>\n",
       "      <th>temp</th>\n",
       "      <th>atemp</th>\n",
       "      <th>humidity</th>\n",
       "      <th>windspeed</th>\n",
       "    </tr>\n",
       "  </thead>\n",
       "  <tbody>\n",
       "    <tr>\n",
       "      <th>0</th>\n",
       "      <td>2011-01-20 00:00:00</td>\n",
       "      <td>1</td>\n",
       "      <td>0</td>\n",
       "      <td>1</td>\n",
       "      <td>1</td>\n",
       "      <td>10.66</td>\n",
       "      <td>11.365</td>\n",
       "      <td>56</td>\n",
       "      <td>26.0027</td>\n",
       "    </tr>\n",
       "    <tr>\n",
       "      <th>1</th>\n",
       "      <td>2011-01-20 01:00:00</td>\n",
       "      <td>1</td>\n",
       "      <td>0</td>\n",
       "      <td>1</td>\n",
       "      <td>1</td>\n",
       "      <td>10.66</td>\n",
       "      <td>13.635</td>\n",
       "      <td>56</td>\n",
       "      <td>0.0000</td>\n",
       "    </tr>\n",
       "    <tr>\n",
       "      <th>2</th>\n",
       "      <td>2011-01-20 02:00:00</td>\n",
       "      <td>1</td>\n",
       "      <td>0</td>\n",
       "      <td>1</td>\n",
       "      <td>1</td>\n",
       "      <td>10.66</td>\n",
       "      <td>13.635</td>\n",
       "      <td>56</td>\n",
       "      <td>0.0000</td>\n",
       "    </tr>\n",
       "    <tr>\n",
       "      <th>3</th>\n",
       "      <td>2011-01-20 03:00:00</td>\n",
       "      <td>1</td>\n",
       "      <td>0</td>\n",
       "      <td>1</td>\n",
       "      <td>1</td>\n",
       "      <td>10.66</td>\n",
       "      <td>12.880</td>\n",
       "      <td>56</td>\n",
       "      <td>11.0014</td>\n",
       "    </tr>\n",
       "    <tr>\n",
       "      <th>4</th>\n",
       "      <td>2011-01-20 04:00:00</td>\n",
       "      <td>1</td>\n",
       "      <td>0</td>\n",
       "      <td>1</td>\n",
       "      <td>1</td>\n",
       "      <td>10.66</td>\n",
       "      <td>12.880</td>\n",
       "      <td>56</td>\n",
       "      <td>11.0014</td>\n",
       "    </tr>\n",
       "  </tbody>\n",
       "</table>\n",
       "</div>"
      ],
      "text/plain": [
       "              datetime  season  holiday  workingday  weather   temp   atemp  \\\n",
       "0  2011-01-20 00:00:00       1        0           1        1  10.66  11.365   \n",
       "1  2011-01-20 01:00:00       1        0           1        1  10.66  13.635   \n",
       "2  2011-01-20 02:00:00       1        0           1        1  10.66  13.635   \n",
       "3  2011-01-20 03:00:00       1        0           1        1  10.66  12.880   \n",
       "4  2011-01-20 04:00:00       1        0           1        1  10.66  12.880   \n",
       "\n",
       "   humidity  windspeed  \n",
       "0        56    26.0027  \n",
       "1        56     0.0000  \n",
       "2        56     0.0000  \n",
       "3        56    11.0014  \n",
       "4        56    11.0014  "
      ]
     },
     "execution_count": 4,
     "metadata": {},
     "output_type": "execute_result"
    }
   ],
   "source": [
    "test.head()"
   ]
  },
  {
   "cell_type": "code",
   "execution_count": 5,
   "id": "eaa65909",
   "metadata": {
    "execution": {
     "iopub.execute_input": "2022-07-17T13:54:50.518301Z",
     "iopub.status.busy": "2022-07-17T13:54:50.517937Z",
     "iopub.status.idle": "2022-07-17T13:54:50.526182Z",
     "shell.execute_reply": "2022-07-17T13:54:50.525400Z"
    },
    "papermill": {
     "duration": 0.024301,
     "end_time": "2022-07-17T13:54:50.527952",
     "exception": false,
     "start_time": "2022-07-17T13:54:50.503651",
     "status": "completed"
    },
    "tags": []
   },
   "outputs": [
    {
     "data": {
      "text/html": [
       "<div>\n",
       "<style scoped>\n",
       "    .dataframe tbody tr th:only-of-type {\n",
       "        vertical-align: middle;\n",
       "    }\n",
       "\n",
       "    .dataframe tbody tr th {\n",
       "        vertical-align: top;\n",
       "    }\n",
       "\n",
       "    .dataframe thead th {\n",
       "        text-align: right;\n",
       "    }\n",
       "</style>\n",
       "<table border=\"1\" class=\"dataframe\">\n",
       "  <thead>\n",
       "    <tr style=\"text-align: right;\">\n",
       "      <th></th>\n",
       "      <th>datetime</th>\n",
       "      <th>count</th>\n",
       "    </tr>\n",
       "  </thead>\n",
       "  <tbody>\n",
       "    <tr>\n",
       "      <th>0</th>\n",
       "      <td>2011-01-20 00:00:00</td>\n",
       "      <td>0</td>\n",
       "    </tr>\n",
       "    <tr>\n",
       "      <th>1</th>\n",
       "      <td>2011-01-20 01:00:00</td>\n",
       "      <td>0</td>\n",
       "    </tr>\n",
       "    <tr>\n",
       "      <th>2</th>\n",
       "      <td>2011-01-20 02:00:00</td>\n",
       "      <td>0</td>\n",
       "    </tr>\n",
       "    <tr>\n",
       "      <th>3</th>\n",
       "      <td>2011-01-20 03:00:00</td>\n",
       "      <td>0</td>\n",
       "    </tr>\n",
       "    <tr>\n",
       "      <th>4</th>\n",
       "      <td>2011-01-20 04:00:00</td>\n",
       "      <td>0</td>\n",
       "    </tr>\n",
       "  </tbody>\n",
       "</table>\n",
       "</div>"
      ],
      "text/plain": [
       "              datetime  count\n",
       "0  2011-01-20 00:00:00      0\n",
       "1  2011-01-20 01:00:00      0\n",
       "2  2011-01-20 02:00:00      0\n",
       "3  2011-01-20 03:00:00      0\n",
       "4  2011-01-20 04:00:00      0"
      ]
     },
     "execution_count": 5,
     "metadata": {},
     "output_type": "execute_result"
    }
   ],
   "source": [
    "submission.head()"
   ]
  },
  {
   "cell_type": "code",
   "execution_count": 6,
   "id": "0d08e885",
   "metadata": {
    "execution": {
     "iopub.execute_input": "2022-07-17T13:54:50.556735Z",
     "iopub.status.busy": "2022-07-17T13:54:50.555615Z",
     "iopub.status.idle": "2022-07-17T13:54:50.581155Z",
     "shell.execute_reply": "2022-07-17T13:54:50.580076Z"
    },
    "papermill": {
     "duration": 0.042197,
     "end_time": "2022-07-17T13:54:50.583408",
     "exception": false,
     "start_time": "2022-07-17T13:54:50.541211",
     "status": "completed"
    },
    "tags": []
   },
   "outputs": [
    {
     "name": "stdout",
     "output_type": "stream",
     "text": [
      "<class 'pandas.core.frame.DataFrame'>\n",
      "RangeIndex: 10886 entries, 0 to 10885\n",
      "Data columns (total 12 columns):\n",
      " #   Column      Non-Null Count  Dtype  \n",
      "---  ------      --------------  -----  \n",
      " 0   datetime    10886 non-null  object \n",
      " 1   season      10886 non-null  int64  \n",
      " 2   holiday     10886 non-null  int64  \n",
      " 3   workingday  10886 non-null  int64  \n",
      " 4   weather     10886 non-null  int64  \n",
      " 5   temp        10886 non-null  float64\n",
      " 6   atemp       10886 non-null  float64\n",
      " 7   humidity    10886 non-null  int64  \n",
      " 8   windspeed   10886 non-null  float64\n",
      " 9   casual      10886 non-null  int64  \n",
      " 10  registered  10886 non-null  int64  \n",
      " 11  count       10886 non-null  int64  \n",
      "dtypes: float64(3), int64(8), object(1)\n",
      "memory usage: 1020.7+ KB\n"
     ]
    }
   ],
   "source": [
    "train.info()"
   ]
  },
  {
   "cell_type": "code",
   "execution_count": 7,
   "id": "af0607cb",
   "metadata": {
    "execution": {
     "iopub.execute_input": "2022-07-17T13:54:50.612368Z",
     "iopub.status.busy": "2022-07-17T13:54:50.611806Z",
     "iopub.status.idle": "2022-07-17T13:54:50.623415Z",
     "shell.execute_reply": "2022-07-17T13:54:50.622567Z"
    },
    "papermill": {
     "duration": 0.028429,
     "end_time": "2022-07-17T13:54:50.625417",
     "exception": false,
     "start_time": "2022-07-17T13:54:50.596988",
     "status": "completed"
    },
    "tags": []
   },
   "outputs": [
    {
     "name": "stdout",
     "output_type": "stream",
     "text": [
      "<class 'pandas.core.frame.DataFrame'>\n",
      "RangeIndex: 6493 entries, 0 to 6492\n",
      "Data columns (total 9 columns):\n",
      " #   Column      Non-Null Count  Dtype  \n",
      "---  ------      --------------  -----  \n",
      " 0   datetime    6493 non-null   object \n",
      " 1   season      6493 non-null   int64  \n",
      " 2   holiday     6493 non-null   int64  \n",
      " 3   workingday  6493 non-null   int64  \n",
      " 4   weather     6493 non-null   int64  \n",
      " 5   temp        6493 non-null   float64\n",
      " 6   atemp       6493 non-null   float64\n",
      " 7   humidity    6493 non-null   int64  \n",
      " 8   windspeed   6493 non-null   float64\n",
      "dtypes: float64(3), int64(5), object(1)\n",
      "memory usage: 456.7+ KB\n"
     ]
    }
   ],
   "source": [
    "test.info()"
   ]
  },
  {
   "cell_type": "markdown",
   "id": "432fbe35",
   "metadata": {
    "papermill": {
     "duration": 0.013014,
     "end_time": "2022-07-17T13:54:50.651839",
     "exception": false,
     "start_time": "2022-07-17T13:54:50.638825",
     "status": "completed"
    },
    "tags": []
   },
   "source": [
    "### Feature Engineering"
   ]
  },
  {
   "cell_type": "code",
   "execution_count": 8,
   "id": "68a78fcb",
   "metadata": {
    "execution": {
     "iopub.execute_input": "2022-07-17T13:54:50.680719Z",
     "iopub.status.busy": "2022-07-17T13:54:50.680153Z",
     "iopub.status.idle": "2022-07-17T13:54:50.685435Z",
     "shell.execute_reply": "2022-07-17T13:54:50.684757Z"
    },
    "papermill": {
     "duration": 0.02254,
     "end_time": "2022-07-17T13:54:50.687811",
     "exception": false,
     "start_time": "2022-07-17T13:54:50.665271",
     "status": "completed"
    },
    "tags": []
   },
   "outputs": [
    {
     "name": "stdout",
     "output_type": "stream",
     "text": [
      "2011-01-05 09:00:00\n",
      "['2011-01-05', '09:00:00']\n",
      "2011-01-05\n",
      "09:00:00\n"
     ]
    }
   ],
   "source": [
    "print(train['datetime'][100]) # datetime 100번째 원소\n",
    "print(train['datetime'][100].split()) # 공백 기준으로 문자열 나누기\n",
    "print(train['datetime'][100].split()[0]) # 날짜\n",
    "print(train['datetime'][100].split()[1]) # 시간"
   ]
  },
  {
   "cell_type": "code",
   "execution_count": 9,
   "id": "16fcce93",
   "metadata": {
    "execution": {
     "iopub.execute_input": "2022-07-17T13:54:50.717848Z",
     "iopub.status.busy": "2022-07-17T13:54:50.717422Z",
     "iopub.status.idle": "2022-07-17T13:54:50.723869Z",
     "shell.execute_reply": "2022-07-17T13:54:50.723027Z"
    },
    "papermill": {
     "duration": 0.024191,
     "end_time": "2022-07-17T13:54:50.726520",
     "exception": false,
     "start_time": "2022-07-17T13:54:50.702329",
     "status": "completed"
    },
    "tags": []
   },
   "outputs": [
    {
     "name": "stdout",
     "output_type": "stream",
     "text": [
      "2011-01-05\n",
      "['2011', '01', '05']\n",
      "2011\n",
      "01\n",
      "05\n"
     ]
    }
   ],
   "source": [
    "print(train['datetime'][100].split()[0]) # 날짜\n",
    "print(train['datetime'][100].split()[0].split(\"-\")) # \"-\" 기준으로 문자열 나누기\n",
    "print(train['datetime'][100].split()[0].split(\"-\")[0]) # 연도\n",
    "print(train['datetime'][100].split()[0].split(\"-\")[1]) # 월\n",
    "print(train['datetime'][100].split()[0].split(\"-\")[2]) # 일"
   ]
  },
  {
   "cell_type": "code",
   "execution_count": 10,
   "id": "d92e6248",
   "metadata": {
    "execution": {
     "iopub.execute_input": "2022-07-17T13:54:50.757394Z",
     "iopub.status.busy": "2022-07-17T13:54:50.756352Z",
     "iopub.status.idle": "2022-07-17T13:54:50.763980Z",
     "shell.execute_reply": "2022-07-17T13:54:50.762962Z"
    },
    "papermill": {
     "duration": 0.025039,
     "end_time": "2022-07-17T13:54:50.766420",
     "exception": false,
     "start_time": "2022-07-17T13:54:50.741381",
     "status": "completed"
    },
    "tags": []
   },
   "outputs": [
    {
     "name": "stdout",
     "output_type": "stream",
     "text": [
      "09:00:00\n",
      "['09', '00', '00']\n",
      "09\n",
      "00\n",
      "00\n"
     ]
    }
   ],
   "source": [
    "print(train['datetime'][100].split()[1]) # 시간\n",
    "print(train['datetime'][100].split()[1].split(\":\")) # \":\" 기준으로 문자열 나누기\n",
    "print(train['datetime'][100].split()[1].split(\":\")[0]) # 시\n",
    "print(train['datetime'][100].split()[1].split(\":\")[1]) # 분\n",
    "print(train['datetime'][100].split()[1].split(\":\")[2]) # 초"
   ]
  },
  {
   "cell_type": "code",
   "execution_count": 11,
   "id": "f61d0c8c",
   "metadata": {
    "execution": {
     "iopub.execute_input": "2022-07-17T13:54:50.795907Z",
     "iopub.status.busy": "2022-07-17T13:54:50.795291Z",
     "iopub.status.idle": "2022-07-17T13:54:50.849590Z",
     "shell.execute_reply": "2022-07-17T13:54:50.848792Z"
    },
    "papermill": {
     "duration": 0.071716,
     "end_time": "2022-07-17T13:54:50.851990",
     "exception": false,
     "start_time": "2022-07-17T13:54:50.780274",
     "status": "completed"
    },
    "tags": []
   },
   "outputs": [],
   "source": [
    "train['date'] = train['datetime'].apply(lambda x:x.split()[0]) # 날짜 피처 생성\n",
    "\n",
    "# 연, 월, 일, 시, 분, 초 피처 차례로 생성\n",
    "train['year'] = train['datetime'].apply(lambda x:x.split()[0].split(\"-\")[0])\n",
    "train['month'] = train['datetime'].apply(lambda x:x.split()[0].split(\"-\")[1])\n",
    "train['day'] = train['datetime'].apply(lambda x:x.split()[0].split(\"-\")[2])\n",
    "train['hour'] = train['datetime'].apply(lambda x:x.split()[1].split(\":\")[0])\n",
    "train['minute'] = train['datetime'].apply(lambda x:x.split()[1].split(\":\")[1])\n",
    "train['second'] = train['datetime'].apply(lambda x:x.split()[1].split(\":\")[2])"
   ]
  },
  {
   "cell_type": "code",
   "execution_count": 12,
   "id": "f5f22f31",
   "metadata": {
    "execution": {
     "iopub.execute_input": "2022-07-17T13:54:50.893399Z",
     "iopub.status.busy": "2022-07-17T13:54:50.892640Z",
     "iopub.status.idle": "2022-07-17T13:54:50.901200Z",
     "shell.execute_reply": "2022-07-17T13:54:50.900194Z"
    },
    "papermill": {
     "duration": 0.032774,
     "end_time": "2022-07-17T13:54:50.903271",
     "exception": false,
     "start_time": "2022-07-17T13:54:50.870497",
     "status": "completed"
    },
    "tags": []
   },
   "outputs": [
    {
     "name": "stdout",
     "output_type": "stream",
     "text": [
      "2011-01-05\n",
      "2011-01-05 00:00:00\n",
      "2\n",
      "Wednesday\n"
     ]
    }
   ],
   "source": [
    "from datetime import datetime\n",
    "import calendar\n",
    "\n",
    "print(train['date'][100]) # 임의의 날짜\n",
    "print(datetime.strptime(train['date'][100], '%Y-%m-%d')) # datetime 타입으로 변경\n",
    "\n",
    "# 정수로 요일 반환\n",
    "print(datetime.strptime(train['date'][100], '%Y-%m-%d').weekday())\n",
    "\n",
    "# 문자열로 요일 반환\n",
    "print(calendar.day_name[datetime.strptime(train['date'][100], '%Y-%m-%d').weekday()])"
   ]
  },
  {
   "cell_type": "code",
   "execution_count": 13,
   "id": "2a0e38d1",
   "metadata": {
    "execution": {
     "iopub.execute_input": "2022-07-17T13:54:50.940092Z",
     "iopub.status.busy": "2022-07-17T13:54:50.939332Z",
     "iopub.status.idle": "2022-07-17T13:54:51.101883Z",
     "shell.execute_reply": "2022-07-17T13:54:51.100980Z"
    },
    "papermill": {
     "duration": 0.187551,
     "end_time": "2022-07-17T13:54:51.104469",
     "exception": false,
     "start_time": "2022-07-17T13:54:50.916918",
     "status": "completed"
    },
    "tags": []
   },
   "outputs": [],
   "source": [
    "train['weekday'] = train['date'].apply(lambda dateString:\n",
    "                                      calendar.day_name[datetime.strptime(dateString, \"%Y-%m-%d\").weekday()])"
   ]
  },
  {
   "cell_type": "code",
   "execution_count": 14,
   "id": "8305da73",
   "metadata": {
    "execution": {
     "iopub.execute_input": "2022-07-17T13:54:51.134487Z",
     "iopub.status.busy": "2022-07-17T13:54:51.133707Z",
     "iopub.status.idle": "2022-07-17T13:54:51.143900Z",
     "shell.execute_reply": "2022-07-17T13:54:51.142821Z"
    },
    "papermill": {
     "duration": 0.027415,
     "end_time": "2022-07-17T13:54:51.146026",
     "exception": false,
     "start_time": "2022-07-17T13:54:51.118611",
     "status": "completed"
    },
    "tags": []
   },
   "outputs": [],
   "source": [
    "train['season'] = train['season'].map({1: 'Spring',\n",
    "                                       2: 'Summer',\n",
    "                                       3: 'Fall',\n",
    "                                       4: 'Winter'})\n",
    "train['weather'] = train['weather'].map({1: 'Clear',\n",
    "                                         2: 'Mist, Few clouds',\n",
    "                                         3: 'Light snow, Rain, Thunderstrom',\n",
    "                                         4: 'Heavy Rain, Thunderstorm, Snow, Fog'})"
   ]
  },
  {
   "cell_type": "code",
   "execution_count": 15,
   "id": "6681b255",
   "metadata": {
    "execution": {
     "iopub.execute_input": "2022-07-17T13:54:51.179472Z",
     "iopub.status.busy": "2022-07-17T13:54:51.178407Z",
     "iopub.status.idle": "2022-07-17T13:54:51.200709Z",
     "shell.execute_reply": "2022-07-17T13:54:51.199539Z"
    },
    "papermill": {
     "duration": 0.04402,
     "end_time": "2022-07-17T13:54:51.204116",
     "exception": false,
     "start_time": "2022-07-17T13:54:51.160096",
     "status": "completed"
    },
    "tags": []
   },
   "outputs": [
    {
     "data": {
      "text/html": [
       "<div>\n",
       "<style scoped>\n",
       "    .dataframe tbody tr th:only-of-type {\n",
       "        vertical-align: middle;\n",
       "    }\n",
       "\n",
       "    .dataframe tbody tr th {\n",
       "        vertical-align: top;\n",
       "    }\n",
       "\n",
       "    .dataframe thead th {\n",
       "        text-align: right;\n",
       "    }\n",
       "</style>\n",
       "<table border=\"1\" class=\"dataframe\">\n",
       "  <thead>\n",
       "    <tr style=\"text-align: right;\">\n",
       "      <th></th>\n",
       "      <th>datetime</th>\n",
       "      <th>season</th>\n",
       "      <th>holiday</th>\n",
       "      <th>workingday</th>\n",
       "      <th>weather</th>\n",
       "      <th>temp</th>\n",
       "      <th>atemp</th>\n",
       "      <th>humidity</th>\n",
       "      <th>windspeed</th>\n",
       "      <th>casual</th>\n",
       "      <th>registered</th>\n",
       "      <th>count</th>\n",
       "      <th>date</th>\n",
       "      <th>year</th>\n",
       "      <th>month</th>\n",
       "      <th>day</th>\n",
       "      <th>hour</th>\n",
       "      <th>minute</th>\n",
       "      <th>second</th>\n",
       "      <th>weekday</th>\n",
       "    </tr>\n",
       "  </thead>\n",
       "  <tbody>\n",
       "    <tr>\n",
       "      <th>0</th>\n",
       "      <td>2011-01-01 00:00:00</td>\n",
       "      <td>Spring</td>\n",
       "      <td>0</td>\n",
       "      <td>0</td>\n",
       "      <td>Clear</td>\n",
       "      <td>9.84</td>\n",
       "      <td>14.395</td>\n",
       "      <td>81</td>\n",
       "      <td>0.0</td>\n",
       "      <td>3</td>\n",
       "      <td>13</td>\n",
       "      <td>16</td>\n",
       "      <td>2011-01-01</td>\n",
       "      <td>2011</td>\n",
       "      <td>01</td>\n",
       "      <td>01</td>\n",
       "      <td>00</td>\n",
       "      <td>00</td>\n",
       "      <td>00</td>\n",
       "      <td>Saturday</td>\n",
       "    </tr>\n",
       "    <tr>\n",
       "      <th>1</th>\n",
       "      <td>2011-01-01 01:00:00</td>\n",
       "      <td>Spring</td>\n",
       "      <td>0</td>\n",
       "      <td>0</td>\n",
       "      <td>Clear</td>\n",
       "      <td>9.02</td>\n",
       "      <td>13.635</td>\n",
       "      <td>80</td>\n",
       "      <td>0.0</td>\n",
       "      <td>8</td>\n",
       "      <td>32</td>\n",
       "      <td>40</td>\n",
       "      <td>2011-01-01</td>\n",
       "      <td>2011</td>\n",
       "      <td>01</td>\n",
       "      <td>01</td>\n",
       "      <td>01</td>\n",
       "      <td>00</td>\n",
       "      <td>00</td>\n",
       "      <td>Saturday</td>\n",
       "    </tr>\n",
       "    <tr>\n",
       "      <th>2</th>\n",
       "      <td>2011-01-01 02:00:00</td>\n",
       "      <td>Spring</td>\n",
       "      <td>0</td>\n",
       "      <td>0</td>\n",
       "      <td>Clear</td>\n",
       "      <td>9.02</td>\n",
       "      <td>13.635</td>\n",
       "      <td>80</td>\n",
       "      <td>0.0</td>\n",
       "      <td>5</td>\n",
       "      <td>27</td>\n",
       "      <td>32</td>\n",
       "      <td>2011-01-01</td>\n",
       "      <td>2011</td>\n",
       "      <td>01</td>\n",
       "      <td>01</td>\n",
       "      <td>02</td>\n",
       "      <td>00</td>\n",
       "      <td>00</td>\n",
       "      <td>Saturday</td>\n",
       "    </tr>\n",
       "    <tr>\n",
       "      <th>3</th>\n",
       "      <td>2011-01-01 03:00:00</td>\n",
       "      <td>Spring</td>\n",
       "      <td>0</td>\n",
       "      <td>0</td>\n",
       "      <td>Clear</td>\n",
       "      <td>9.84</td>\n",
       "      <td>14.395</td>\n",
       "      <td>75</td>\n",
       "      <td>0.0</td>\n",
       "      <td>3</td>\n",
       "      <td>10</td>\n",
       "      <td>13</td>\n",
       "      <td>2011-01-01</td>\n",
       "      <td>2011</td>\n",
       "      <td>01</td>\n",
       "      <td>01</td>\n",
       "      <td>03</td>\n",
       "      <td>00</td>\n",
       "      <td>00</td>\n",
       "      <td>Saturday</td>\n",
       "    </tr>\n",
       "    <tr>\n",
       "      <th>4</th>\n",
       "      <td>2011-01-01 04:00:00</td>\n",
       "      <td>Spring</td>\n",
       "      <td>0</td>\n",
       "      <td>0</td>\n",
       "      <td>Clear</td>\n",
       "      <td>9.84</td>\n",
       "      <td>14.395</td>\n",
       "      <td>75</td>\n",
       "      <td>0.0</td>\n",
       "      <td>0</td>\n",
       "      <td>1</td>\n",
       "      <td>1</td>\n",
       "      <td>2011-01-01</td>\n",
       "      <td>2011</td>\n",
       "      <td>01</td>\n",
       "      <td>01</td>\n",
       "      <td>04</td>\n",
       "      <td>00</td>\n",
       "      <td>00</td>\n",
       "      <td>Saturday</td>\n",
       "    </tr>\n",
       "  </tbody>\n",
       "</table>\n",
       "</div>"
      ],
      "text/plain": [
       "              datetime  season  holiday  workingday weather  temp   atemp  \\\n",
       "0  2011-01-01 00:00:00  Spring        0           0   Clear  9.84  14.395   \n",
       "1  2011-01-01 01:00:00  Spring        0           0   Clear  9.02  13.635   \n",
       "2  2011-01-01 02:00:00  Spring        0           0   Clear  9.02  13.635   \n",
       "3  2011-01-01 03:00:00  Spring        0           0   Clear  9.84  14.395   \n",
       "4  2011-01-01 04:00:00  Spring        0           0   Clear  9.84  14.395   \n",
       "\n",
       "   humidity  windspeed  casual  registered  count        date  year month day  \\\n",
       "0        81        0.0       3          13     16  2011-01-01  2011    01  01   \n",
       "1        80        0.0       8          32     40  2011-01-01  2011    01  01   \n",
       "2        80        0.0       5          27     32  2011-01-01  2011    01  01   \n",
       "3        75        0.0       3          10     13  2011-01-01  2011    01  01   \n",
       "4        75        0.0       0           1      1  2011-01-01  2011    01  01   \n",
       "\n",
       "  hour minute second   weekday  \n",
       "0   00     00     00  Saturday  \n",
       "1   01     00     00  Saturday  \n",
       "2   02     00     00  Saturday  \n",
       "3   03     00     00  Saturday  \n",
       "4   04     00     00  Saturday  "
      ]
     },
     "execution_count": 15,
     "metadata": {},
     "output_type": "execute_result"
    }
   ],
   "source": [
    "train.head()"
   ]
  },
  {
   "cell_type": "markdown",
   "id": "839cc870",
   "metadata": {
    "papermill": {
     "duration": 0.013957,
     "end_time": "2022-07-17T13:54:51.241516",
     "exception": false,
     "start_time": "2022-07-17T13:54:51.227559",
     "status": "completed"
    },
    "tags": []
   },
   "source": [
    "* 3달씩 묶으면 계절\n",
    "* date -> year, month, day"
   ]
  },
  {
   "cell_type": "markdown",
   "id": "0970710b",
   "metadata": {
    "papermill": {
     "duration": 0.013693,
     "end_time": "2022-07-17T13:54:51.269119",
     "exception": false,
     "start_time": "2022-07-17T13:54:51.255426",
     "status": "completed"
    },
    "tags": []
   },
   "source": [
    "### Visualization"
   ]
  },
  {
   "cell_type": "code",
   "execution_count": 16,
   "id": "4a5a1b35",
   "metadata": {
    "execution": {
     "iopub.execute_input": "2022-07-17T13:54:51.299748Z",
     "iopub.status.busy": "2022-07-17T13:54:51.298625Z",
     "iopub.status.idle": "2022-07-17T13:54:52.399318Z",
     "shell.execute_reply": "2022-07-17T13:54:52.398034Z"
    },
    "papermill": {
     "duration": 1.118657,
     "end_time": "2022-07-17T13:54:52.401911",
     "exception": false,
     "start_time": "2022-07-17T13:54:51.283254",
     "status": "completed"
    },
    "tags": []
   },
   "outputs": [],
   "source": [
    " import seaborn as sns\n",
    " import matplotlib as mpl\n",
    " import matplotlib.pyplot as plt\n",
    " %matplotlib inline"
   ]
  },
  {
   "cell_type": "markdown",
   "id": "7dbcf5ec",
   "metadata": {
    "papermill": {
     "duration": 0.013531,
     "end_time": "2022-07-17T13:54:52.429627",
     "exception": false,
     "start_time": "2022-07-17T13:54:52.416096",
     "status": "completed"
    },
    "tags": []
   },
   "source": [
    "#### Distribution plot (분포도)"
   ]
  },
  {
   "cell_type": "code",
   "execution_count": 17,
   "id": "4f7b6d87",
   "metadata": {
    "execution": {
     "iopub.execute_input": "2022-07-17T13:54:52.459588Z",
     "iopub.status.busy": "2022-07-17T13:54:52.458930Z",
     "iopub.status.idle": "2022-07-17T13:54:52.802831Z",
     "shell.execute_reply": "2022-07-17T13:54:52.801661Z"
    },
    "papermill": {
     "duration": 0.36204,
     "end_time": "2022-07-17T13:54:52.805739",
     "exception": false,
     "start_time": "2022-07-17T13:54:52.443699",
     "status": "completed"
    },
    "tags": []
   },
   "outputs": [
    {
     "data": {
      "text/plain": [
       "<seaborn.axisgrid.FacetGrid at 0x7f91b2cad1d0>"
      ]
     },
     "execution_count": 17,
     "metadata": {},
     "output_type": "execute_result"
    },
    {
     "data": {
      "image/png": "[encoded data removed]",
      "text/plain": [
       "<Figure size 360x360 with 1 Axes>"
      ]
     },
     "metadata": {
      "needs_background": "light"
     },
     "output_type": "display_data"
    }
   ],
   "source": [
    "mpl.rc('font', size = 15) # 폰트 크기 15로 출력 셋팅\n",
    "sns.displot(train['count']) # 분포도 출력"
   ]
  },
  {
   "cell_type": "markdown",
   "id": "892fa6cb",
   "metadata": {
    "papermill": {
     "duration": 0.014488,
     "end_time": "2022-07-17T13:54:52.834919",
     "exception": false,
     "start_time": "2022-07-17T13:54:52.820431",
     "status": "completed"
    },
    "tags": []
   },
   "source": [
    "회귀 모델이 좋은 성능을 내려면 정규분포를 따라야하는데 그렇지 않음..  \n",
    "로그변환을 해줌. 왼쪽 편향되어있을 때 사용함"
   ]
  },
  {
   "cell_type": "code",
   "execution_count": 18,
   "id": "cb479e9d",
   "metadata": {
    "execution": {
     "iopub.execute_input": "2022-07-17T13:54:52.866132Z",
     "iopub.status.busy": "2022-07-17T13:54:52.865720Z",
     "iopub.status.idle": "2022-07-17T13:54:53.171781Z",
     "shell.execute_reply": "2022-07-17T13:54:53.170921Z"
    },
    "papermill": {
     "duration": 0.324458,
     "end_time": "2022-07-17T13:54:53.173822",
     "exception": false,
     "start_time": "2022-07-17T13:54:52.849364",
     "status": "completed"
    },
    "tags": []
   },
   "outputs": [
    {
     "data": {
      "text/plain": [
       "<seaborn.axisgrid.FacetGrid at 0x7f91e5ff0150>"
      ]
     },
     "execution_count": 18,
     "metadata": {},
     "output_type": "execute_result"
    },
    {
     "data": {
      "image/png": "[encoded data removed]",
      "text/plain": [
       "<Figure size 360x360 with 1 Axes>"
      ]
     },
     "metadata": {
      "needs_background": "light"
     },
     "output_type": "display_data"
    }
   ],
   "source": [
    "sns.displot(np.log(train['count']))"
   ]
  },
  {
   "cell_type": "markdown",
   "id": "472a1d11",
   "metadata": {
    "papermill": {
     "duration": 0.01458,
     "end_time": "2022-07-17T13:54:53.203145",
     "exception": false,
     "start_time": "2022-07-17T13:54:53.188565",
     "status": "completed"
    },
    "tags": []
   },
   "source": [
    "#### Bar plot (막대 그래프)"
   ]
  },
  {
   "cell_type": "code",
   "execution_count": 19,
   "id": "99c58a40",
   "metadata": {
    "execution": {
     "iopub.execute_input": "2022-07-17T13:54:53.234962Z",
     "iopub.status.busy": "2022-07-17T13:54:53.234270Z",
     "iopub.status.idle": "2022-07-17T13:54:56.171363Z",
     "shell.execute_reply": "2022-07-17T13:54:56.170524Z"
    },
    "papermill": {
     "duration": 2.955392,
     "end_time": "2022-07-17T13:54:56.173459",
     "exception": false,
     "start_time": "2022-07-17T13:54:53.218067",
     "status": "completed"
    },
    "tags": []
   },
   "outputs": [
    {
     "data": {
      "image/png": "[encoded data removed]",
      "text/plain": [
       "<Figure size 720x648 with 6 Axes>"
      ]
     },
     "metadata": {
      "needs_background": "light"
     },
     "output_type": "display_data"
    }
   ],
   "source": [
    "# step1. (m x n) Figure 준비\n",
    "mpl.rc('font', size = 14) # 폰트크기 설정\n",
    "mpl.rc('axes', titlesize=15) # 각 축의 제목 크기 설정\n",
    "figure, axes = plt.subplots(nrows=3, ncols=2) # 3행 2열 figure 생성\n",
    "plt.tight_layout() # 그래프 사이에 여백 확보\n",
    "figure.set_size_inches(10, 9) # 전체 Figure 크기를 10x9인치로 설정\n",
    "\n",
    "# step2. 각 축에 서브플롯 할당\n",
    "sns.barplot(x='year', y='count', data=train, ax=axes[0, 0])\n",
    "sns.barplot(x='month', y='count', data=train, ax=axes[0, 1])\n",
    "sns.barplot(x='day', y='count', data=train, ax=axes[1, 0])\n",
    "sns.barplot(x='hour', y='count', data=train, ax=axes[1, 1])\n",
    "sns.barplot(x='minute', y='count', data=train, ax=axes[2, 0])\n",
    "sns.barplot(x='second', y='count', data=train, ax=axes[2, 1])\n",
    "\n",
    "# step3. 세부설정\n",
    "axes[0, 0].set(title='Rental amounts by year')\n",
    "axes[0, 1].set(title='Rental amounts by month')\n",
    "axes[1, 0].set(title='Rental amounts by day')\n",
    "axes[1, 1].set(title='Rental amounts by hour')\n",
    "axes[2, 0].set(title='Rental amounts by minute')\n",
    "axes[2, 1].set(title='Rental amounts by second')\n",
    "# 1행의 x축 라벨 2개를 90도 회전 (보기 편하도록)\n",
    "axes[1, 0].tick_params(axis='x', labelrotation=90)\n",
    "axes[1, 1].tick_params(axis='x', labelrotation=90)"
   ]
  },
  {
   "cell_type": "markdown",
   "id": "44dc1e65",
   "metadata": {
    "papermill": {
     "duration": 0.01531,
     "end_time": "2022-07-17T13:54:56.204431",
     "exception": false,
     "start_time": "2022-07-17T13:54:56.189121",
     "status": "completed"
    },
    "tags": []
   },
   "source": [
    "#### Box plot(박스플롯)  \n",
    "* 범주형 데이터에 따른 수치형 데이터 정보를 나타내는 그래프"
   ]
  },
  {
   "cell_type": "code",
   "execution_count": 20,
   "id": "71fbe3c1",
   "metadata": {
    "execution": {
     "iopub.execute_input": "2022-07-17T13:54:56.237531Z",
     "iopub.status.busy": "2022-07-17T13:54:56.236960Z",
     "iopub.status.idle": "2022-07-17T13:54:56.820196Z",
     "shell.execute_reply": "2022-07-17T13:54:56.818909Z"
    },
    "papermill": {
     "duration": 0.602781,
     "end_time": "2022-07-17T13:54:56.822822",
     "exception": false,
     "start_time": "2022-07-17T13:54:56.220041",
     "status": "completed"
    },
    "tags": []
   },
   "outputs": [
    {
     "data": {
      "image/png": "[encoded data removed]",
      "text/plain": [
       "<Figure size 720x720 with 4 Axes>"
      ]
     },
     "metadata": {
      "needs_background": "light"
     },
     "output_type": "display_data"
    }
   ],
   "source": [
    "# Step1. m행 n형 Figure 준비\n",
    "figure, axes = plt.subplots(nrows=2, ncols=2) # 2행 2열\n",
    "plt.tight_layout()\n",
    "figure.set_size_inches(10, 10)\n",
    "\n",
    "# Step2. 서브 플롯 할당\n",
    "# 계절, 날씨, 공휴일, 근무일별 대여 수량 박스플롯\n",
    "sns.boxplot(x='season', y='count', data=train, ax=axes[0, 0])\n",
    "sns.boxplot(x='weather',y='count', data=train, ax=axes[0, 1])\n",
    "sns.boxplot(x='holiday',y='count', data=train, ax=axes[1, 0])\n",
    "sns.boxplot(x='workingday', y='count', data=train, ax=axes[1, 1])\n",
    "\n",
    "# Step3. 세부 설정\n",
    "axes[0, 0].set(title='Box Plot On Count Across Season')\n",
    "axes[0, 1].set(title='Box Plot On Count Across Weather')\n",
    "axes[1, 0].set(title='Box Plot On Count Across Holiday')\n",
    "axes[1, 1].set(title='Box Plot On Count Across Workingday')\n",
    "\n",
    "axes[0, 1].tick_params(axis='x', labelrotation=10)"
   ]
  },
  {
   "cell_type": "markdown",
   "id": "7e152b67",
   "metadata": {
    "papermill": {
     "duration": 0.01613,
     "end_time": "2022-07-17T13:54:56.856178",
     "exception": false,
     "start_time": "2022-07-17T13:54:56.840048",
     "status": "completed"
    },
    "tags": []
   },
   "source": [
    "#### Point plot(포인트 플롯)"
   ]
  },
  {
   "cell_type": "code",
   "execution_count": 21,
   "id": "f3055c2a",
   "metadata": {
    "execution": {
     "iopub.execute_input": "2022-07-17T13:54:56.891180Z",
     "iopub.status.busy": "2022-07-17T13:54:56.890800Z",
     "iopub.status.idle": "2022-07-17T13:55:09.124168Z",
     "shell.execute_reply": "2022-07-17T13:55:09.123205Z"
    },
    "papermill": {
     "duration": 12.255827,
     "end_time": "2022-07-17T13:55:09.128808",
     "exception": false,
     "start_time": "2022-07-17T13:54:56.872981",
     "status": "completed"
    },
    "tags": []
   },
   "outputs": [
    {
     "data": {
      "text/plain": [
       "<AxesSubplot:xlabel='hour', ylabel='count'>"
      ]
     },
     "execution_count": 21,
     "metadata": {},
     "output_type": "execute_result"
    },
    {
     "data": {
      "image/png": "[encoded data removed]",
      "text/plain": [
       "<Figure size 864x1296 with 5 Axes>"
      ]
     },
     "metadata": {
      "needs_background": "light"
     },
     "output_type": "display_data"
    }
   ],
   "source": [
    "# Step1. m행 n열 Figure 준비\n",
    "mpl.rc('font', size=11)\n",
    "figure, axes = plt.subplots(nrows=5) # 5행 1열\n",
    "figure.set_size_inches(12, 18)\n",
    "\n",
    "# Step2. 서브플롯 할당\n",
    "# 근무일, 공휴일, 요일, 계절, 날씨에 따른 시간대별 평균 대여 수량 포인트플롯\n",
    "sns.pointplot(x='hour', y='count', data=train, hue = 'workingday', ax=axes[0])\n",
    "sns.pointplot(x='hour', y='count', data=train, hue = 'holiday', ax=axes[1])\n",
    "sns.pointplot(x='hour', y='count', data=train, hue = 'weekday', ax=axes[2])\n",
    "sns.pointplot(x='hour', y='count', data=train, hue = 'season', ax=axes[3])\n",
    "sns.pointplot(x='hour', y='count', data=train, hue = 'weather', ax=axes[4])"
   ]
  },
  {
   "cell_type": "markdown",
   "id": "1482cb10",
   "metadata": {
    "papermill": {
     "duration": 0.020326,
     "end_time": "2022-07-17T13:55:09.169892",
     "exception": false,
     "start_time": "2022-07-17T13:55:09.149566",
     "status": "completed"
    },
    "tags": []
   },
   "source": [
    "#### Scatter plot graph with regression line (회귀선을 포함한 산점도 그래프)"
   ]
  },
  {
   "cell_type": "code",
   "execution_count": 22,
   "id": "fe3e80ac",
   "metadata": {
    "execution": {
     "iopub.execute_input": "2022-07-17T13:55:09.213942Z",
     "iopub.status.busy": "2022-07-17T13:55:09.213485Z",
     "iopub.status.idle": "2022-07-17T13:55:12.251103Z",
     "shell.execute_reply": "2022-07-17T13:55:12.249813Z"
    },
    "papermill": {
     "duration": 3.063146,
     "end_time": "2022-07-17T13:55:12.254014",
     "exception": false,
     "start_time": "2022-07-17T13:55:09.190868",
     "status": "completed"
    },
    "tags": []
   },
   "outputs": [
    {
     "data": {
      "text/plain": [
       "<AxesSubplot:xlabel='humidity', ylabel='count'>"
      ]
     },
     "execution_count": 22,
     "metadata": {},
     "output_type": "execute_result"
    },
    {
     "data": {
      "image/png": "[encoded data removed]",
      "text/plain": [
       "<Figure size 504x432 with 4 Axes>"
      ]
     },
     "metadata": {
      "needs_background": "light"
     },
     "output_type": "display_data"
    }
   ],
   "source": [
    "# Step1. m행 n열 Figure 준비\n",
    "mpl.rc('font', size=15)\n",
    "figure, axes = plt.subplots(nrows=2, ncols=2)\n",
    "plt.tight_layout()\n",
    "figure.set_size_inches(7, 6)\n",
    "\n",
    "# Step2. 서브플롯 할당\n",
    "# 온도, 체감 온도, 풍속, 습도 별 대여 수량 산점도 그래프\n",
    "sns.regplot(x='temp', y='count', data=train, ax=axes[0, 0],\n",
    "           scatter_kws={'alpha':0.2}, line_kws={'color':'blue'})\n",
    "sns.regplot(x='atemp', y='count', data=train, ax=axes[0, 1],\n",
    "           scatter_kws={'alpha':0.2}, line_kws={'color':'blue'})\n",
    "sns.regplot(x='windspeed', y='count', data=train, ax=axes[1, 0],\n",
    "           scatter_kws={'alpha':0.2}, line_kws={'color':'blue'})\n",
    "sns.regplot(x='humidity', y='count', data=train, ax=axes[1, 1],\n",
    "           scatter_kws={'alpha':0.2}, line_kws={'color':'blue'})"
   ]
  },
  {
   "cell_type": "markdown",
   "id": "9bad2bbe",
   "metadata": {
    "papermill": {
     "duration": 0.026695,
     "end_time": "2022-07-17T13:55:12.307668",
     "exception": false,
     "start_time": "2022-07-17T13:55:12.280973",
     "status": "completed"
    },
    "tags": []
   },
   "source": [
    "#### Heatmap (히트맵)\n",
    "* 수치형 데이터간의 어떠한 상관관계가 있는지에 대해 알아봄"
   ]
  },
  {
   "cell_type": "code",
   "execution_count": 23,
   "id": "47974e07",
   "metadata": {
    "execution": {
     "iopub.execute_input": "2022-07-17T13:55:12.367282Z",
     "iopub.status.busy": "2022-07-17T13:55:12.366484Z",
     "iopub.status.idle": "2022-07-17T13:55:12.384831Z",
     "shell.execute_reply": "2022-07-17T13:55:12.384036Z"
    },
    "papermill": {
     "duration": 0.050051,
     "end_time": "2022-07-17T13:55:12.386895",
     "exception": false,
     "start_time": "2022-07-17T13:55:12.336844",
     "status": "completed"
    },
    "tags": []
   },
   "outputs": [
    {
     "data": {
      "text/html": [
       "<div>\n",
       "<style scoped>\n",
       "    .dataframe tbody tr th:only-of-type {\n",
       "        vertical-align: middle;\n",
       "    }\n",
       "\n",
       "    .dataframe tbody tr th {\n",
       "        vertical-align: top;\n",
       "    }\n",
       "\n",
       "    .dataframe thead th {\n",
       "        text-align: right;\n",
       "    }\n",
       "</style>\n",
       "<table border=\"1\" class=\"dataframe\">\n",
       "  <thead>\n",
       "    <tr style=\"text-align: right;\">\n",
       "      <th></th>\n",
       "      <th>temp</th>\n",
       "      <th>atemp</th>\n",
       "      <th>humidity</th>\n",
       "      <th>windspeed</th>\n",
       "      <th>count</th>\n",
       "    </tr>\n",
       "  </thead>\n",
       "  <tbody>\n",
       "    <tr>\n",
       "      <th>temp</th>\n",
       "      <td>1.000000</td>\n",
       "      <td>0.984948</td>\n",
       "      <td>-0.064949</td>\n",
       "      <td>-0.017852</td>\n",
       "      <td>0.394454</td>\n",
       "    </tr>\n",
       "    <tr>\n",
       "      <th>atemp</th>\n",
       "      <td>0.984948</td>\n",
       "      <td>1.000000</td>\n",
       "      <td>-0.043536</td>\n",
       "      <td>-0.057473</td>\n",
       "      <td>0.389784</td>\n",
       "    </tr>\n",
       "    <tr>\n",
       "      <th>humidity</th>\n",
       "      <td>-0.064949</td>\n",
       "      <td>-0.043536</td>\n",
       "      <td>1.000000</td>\n",
       "      <td>-0.318607</td>\n",
       "      <td>-0.317371</td>\n",
       "    </tr>\n",
       "    <tr>\n",
       "      <th>windspeed</th>\n",
       "      <td>-0.017852</td>\n",
       "      <td>-0.057473</td>\n",
       "      <td>-0.318607</td>\n",
       "      <td>1.000000</td>\n",
       "      <td>0.101369</td>\n",
       "    </tr>\n",
       "    <tr>\n",
       "      <th>count</th>\n",
       "      <td>0.394454</td>\n",
       "      <td>0.389784</td>\n",
       "      <td>-0.317371</td>\n",
       "      <td>0.101369</td>\n",
       "      <td>1.000000</td>\n",
       "    </tr>\n",
       "  </tbody>\n",
       "</table>\n",
       "</div>"
      ],
      "text/plain": [
       "               temp     atemp  humidity  windspeed     count\n",
       "temp       1.000000  0.984948 -0.064949  -0.017852  0.394454\n",
       "atemp      0.984948  1.000000 -0.043536  -0.057473  0.389784\n",
       "humidity  -0.064949 -0.043536  1.000000  -0.318607 -0.317371\n",
       "windspeed -0.017852 -0.057473 -0.318607   1.000000  0.101369\n",
       "count      0.394454  0.389784 -0.317371   0.101369  1.000000"
      ]
     },
     "execution_count": 23,
     "metadata": {},
     "output_type": "execute_result"
    }
   ],
   "source": [
    "train[['temp','atemp','humidity','windspeed','count']].corr()"
   ]
  },
  {
   "cell_type": "code",
   "execution_count": 24,
   "id": "738f8fea",
   "metadata": {
    "execution": {
     "iopub.execute_input": "2022-07-17T13:55:12.436500Z",
     "iopub.status.busy": "2022-07-17T13:55:12.435931Z",
     "iopub.status.idle": "2022-07-17T13:55:12.741050Z",
     "shell.execute_reply": "2022-07-17T13:55:12.739969Z"
    },
    "papermill": {
     "duration": 0.332922,
     "end_time": "2022-07-17T13:55:12.743454",
     "exception": false,
     "start_time": "2022-07-17T13:55:12.410532",
     "status": "completed"
    },
    "tags": []
   },
   "outputs": [
    {
     "data": {
      "text/plain": [
       "[Text(0.5, 1.0, 'Heatmap of Numerical Data')]"
      ]
     },
     "execution_count": 24,
     "metadata": {},
     "output_type": "execute_result"
    },
    {
     "data": {
      "image/png": "[encoded data removed]",
      "text/plain": [
       "<Figure size 720x720 with 2 Axes>"
      ]
     },
     "metadata": {
      "needs_background": "light"
     },
     "output_type": "display_data"
    }
   ],
   "source": [
    "# Feature 간의 상관관계 매트릭스\n",
    "corrMatrix = train[['temp','atemp','humidity','windspeed','count']].corr()\n",
    "fig, ax = plt.subplots()\n",
    "fig.set_size_inches(10, 10)\n",
    "sns.heatmap(corrMatrix, annot=True) # 상관관계 히트맵 그리기\n",
    "ax.set(title='Heatmap of Numerical Data')"
   ]
  },
  {
   "cell_type": "markdown",
   "id": "c11f2e02",
   "metadata": {
    "papermill": {
     "duration": 0.024118,
     "end_time": "2022-07-17T13:55:12.790855",
     "exception": false,
     "start_time": "2022-07-17T13:55:12.766737",
     "status": "completed"
    },
    "tags": []
   },
   "source": [
    "### Baseline Model"
   ]
  },
  {
   "cell_type": "markdown",
   "id": "df1e7f2e",
   "metadata": {
    "papermill": {
     "duration": 0.022809,
     "end_time": "2022-07-17T13:55:12.837194",
     "exception": false,
     "start_time": "2022-07-17T13:55:12.814385",
     "status": "completed"
    },
    "tags": []
   },
   "source": [
    "EDA완료 이후 실제 모델 제작을 위해 새로 데이터 불러와서 시작"
   ]
  },
  {
   "cell_type": "code",
   "execution_count": 25,
   "id": "1dbdc277",
   "metadata": {
    "execution": {
     "iopub.execute_input": "2022-07-17T13:55:12.885910Z",
     "iopub.status.busy": "2022-07-17T13:55:12.885519Z",
     "iopub.status.idle": "2022-07-17T13:55:12.926956Z",
     "shell.execute_reply": "2022-07-17T13:55:12.925747Z"
    },
    "papermill": {
     "duration": 0.068725,
     "end_time": "2022-07-17T13:55:12.929532",
     "exception": false,
     "start_time": "2022-07-17T13:55:12.860807",
     "status": "completed"
    },
    "tags": []
   },
   "outputs": [],
   "source": [
    "import pandas as pd\n",
    "\n",
    "# 데이터 경로\n",
    "data_path = '/kaggle/input/bike-sharing-demand/'\n",
    "\n",
    "train = pd.read_csv(data_path + 'train.csv') # train data\n",
    "test = pd.read_csv(data_path + 'test.csv') # test data\n",
    "submission = pd.read_csv(data_path + 'sampleSubmission.csv') # submission sample data"
   ]
  },
  {
   "cell_type": "markdown",
   "id": "98b6755a",
   "metadata": {
    "papermill": {
     "duration": 0.022664,
     "end_time": "2022-07-17T13:55:12.975291",
     "exception": false,
     "start_time": "2022-07-17T13:55:12.952627",
     "status": "completed"
    },
    "tags": []
   },
   "source": [
    "* point plot에서 weather가 4인 데이터는 이상치이므로 제거"
   ]
  },
  {
   "cell_type": "code",
   "execution_count": 26,
   "id": "40fb1992",
   "metadata": {
    "execution": {
     "iopub.execute_input": "2022-07-17T13:55:13.023026Z",
     "iopub.status.busy": "2022-07-17T13:55:13.022636Z",
     "iopub.status.idle": "2022-07-17T13:55:13.029463Z",
     "shell.execute_reply": "2022-07-17T13:55:13.028714Z"
    },
    "papermill": {
     "duration": 0.033402,
     "end_time": "2022-07-17T13:55:13.031507",
     "exception": false,
     "start_time": "2022-07-17T13:55:12.998105",
     "status": "completed"
    },
    "tags": []
   },
   "outputs": [],
   "source": [
    "# 훈련 데이터에서 weather가 4가 아닌 데이터만 추출\n",
    "train = train[train['weather'] != 4]"
   ]
  },
  {
   "cell_type": "code",
   "execution_count": 27,
   "id": "d28db344",
   "metadata": {
    "execution": {
     "iopub.execute_input": "2022-07-17T13:55:13.081246Z",
     "iopub.status.busy": "2022-07-17T13:55:13.080013Z",
     "iopub.status.idle": "2022-07-17T13:55:13.105056Z",
     "shell.execute_reply": "2022-07-17T13:55:13.103995Z"
    },
    "papermill": {
     "duration": 0.052304,
     "end_time": "2022-07-17T13:55:13.107458",
     "exception": false,
     "start_time": "2022-07-17T13:55:13.055154",
     "status": "completed"
    },
    "tags": []
   },
   "outputs": [
    {
     "data": {
      "text/html": [
       "<div>\n",
       "<style scoped>\n",
       "    .dataframe tbody tr th:only-of-type {\n",
       "        vertical-align: middle;\n",
       "    }\n",
       "\n",
       "    .dataframe tbody tr th {\n",
       "        vertical-align: top;\n",
       "    }\n",
       "\n",
       "    .dataframe thead th {\n",
       "        text-align: right;\n",
       "    }\n",
       "</style>\n",
       "<table border=\"1\" class=\"dataframe\">\n",
       "  <thead>\n",
       "    <tr style=\"text-align: right;\">\n",
       "      <th></th>\n",
       "      <th>datetime</th>\n",
       "      <th>season</th>\n",
       "      <th>holiday</th>\n",
       "      <th>workingday</th>\n",
       "      <th>weather</th>\n",
       "      <th>temp</th>\n",
       "      <th>atemp</th>\n",
       "      <th>humidity</th>\n",
       "      <th>windspeed</th>\n",
       "      <th>casual</th>\n",
       "      <th>registered</th>\n",
       "      <th>count</th>\n",
       "    </tr>\n",
       "  </thead>\n",
       "  <tbody>\n",
       "    <tr>\n",
       "      <th>0</th>\n",
       "      <td>2011-01-01 00:00:00</td>\n",
       "      <td>1</td>\n",
       "      <td>0</td>\n",
       "      <td>0</td>\n",
       "      <td>1</td>\n",
       "      <td>9.84</td>\n",
       "      <td>14.395</td>\n",
       "      <td>81</td>\n",
       "      <td>0.0000</td>\n",
       "      <td>3.0</td>\n",
       "      <td>13.0</td>\n",
       "      <td>16.0</td>\n",
       "    </tr>\n",
       "    <tr>\n",
       "      <th>1</th>\n",
       "      <td>2011-01-01 01:00:00</td>\n",
       "      <td>1</td>\n",
       "      <td>0</td>\n",
       "      <td>0</td>\n",
       "      <td>1</td>\n",
       "      <td>9.02</td>\n",
       "      <td>13.635</td>\n",
       "      <td>80</td>\n",
       "      <td>0.0000</td>\n",
       "      <td>8.0</td>\n",
       "      <td>32.0</td>\n",
       "      <td>40.0</td>\n",
       "    </tr>\n",
       "    <tr>\n",
       "      <th>2</th>\n",
       "      <td>2011-01-01 02:00:00</td>\n",
       "      <td>1</td>\n",
       "      <td>0</td>\n",
       "      <td>0</td>\n",
       "      <td>1</td>\n",
       "      <td>9.02</td>\n",
       "      <td>13.635</td>\n",
       "      <td>80</td>\n",
       "      <td>0.0000</td>\n",
       "      <td>5.0</td>\n",
       "      <td>27.0</td>\n",
       "      <td>32.0</td>\n",
       "    </tr>\n",
       "    <tr>\n",
       "      <th>3</th>\n",
       "      <td>2011-01-01 03:00:00</td>\n",
       "      <td>1</td>\n",
       "      <td>0</td>\n",
       "      <td>0</td>\n",
       "      <td>1</td>\n",
       "      <td>9.84</td>\n",
       "      <td>14.395</td>\n",
       "      <td>75</td>\n",
       "      <td>0.0000</td>\n",
       "      <td>3.0</td>\n",
       "      <td>10.0</td>\n",
       "      <td>13.0</td>\n",
       "    </tr>\n",
       "    <tr>\n",
       "      <th>4</th>\n",
       "      <td>2011-01-01 04:00:00</td>\n",
       "      <td>1</td>\n",
       "      <td>0</td>\n",
       "      <td>0</td>\n",
       "      <td>1</td>\n",
       "      <td>9.84</td>\n",
       "      <td>14.395</td>\n",
       "      <td>75</td>\n",
       "      <td>0.0000</td>\n",
       "      <td>0.0</td>\n",
       "      <td>1.0</td>\n",
       "      <td>1.0</td>\n",
       "    </tr>\n",
       "    <tr>\n",
       "      <th>...</th>\n",
       "      <td>...</td>\n",
       "      <td>...</td>\n",
       "      <td>...</td>\n",
       "      <td>...</td>\n",
       "      <td>...</td>\n",
       "      <td>...</td>\n",
       "      <td>...</td>\n",
       "      <td>...</td>\n",
       "      <td>...</td>\n",
       "      <td>...</td>\n",
       "      <td>...</td>\n",
       "      <td>...</td>\n",
       "    </tr>\n",
       "    <tr>\n",
       "      <th>6488</th>\n",
       "      <td>2012-12-31 19:00:00</td>\n",
       "      <td>1</td>\n",
       "      <td>0</td>\n",
       "      <td>1</td>\n",
       "      <td>2</td>\n",
       "      <td>10.66</td>\n",
       "      <td>12.880</td>\n",
       "      <td>60</td>\n",
       "      <td>11.0014</td>\n",
       "      <td>NaN</td>\n",
       "      <td>NaN</td>\n",
       "      <td>NaN</td>\n",
       "    </tr>\n",
       "    <tr>\n",
       "      <th>6489</th>\n",
       "      <td>2012-12-31 20:00:00</td>\n",
       "      <td>1</td>\n",
       "      <td>0</td>\n",
       "      <td>1</td>\n",
       "      <td>2</td>\n",
       "      <td>10.66</td>\n",
       "      <td>12.880</td>\n",
       "      <td>60</td>\n",
       "      <td>11.0014</td>\n",
       "      <td>NaN</td>\n",
       "      <td>NaN</td>\n",
       "      <td>NaN</td>\n",
       "    </tr>\n",
       "    <tr>\n",
       "      <th>6490</th>\n",
       "      <td>2012-12-31 21:00:00</td>\n",
       "      <td>1</td>\n",
       "      <td>0</td>\n",
       "      <td>1</td>\n",
       "      <td>1</td>\n",
       "      <td>10.66</td>\n",
       "      <td>12.880</td>\n",
       "      <td>60</td>\n",
       "      <td>11.0014</td>\n",
       "      <td>NaN</td>\n",
       "      <td>NaN</td>\n",
       "      <td>NaN</td>\n",
       "    </tr>\n",
       "    <tr>\n",
       "      <th>6491</th>\n",
       "      <td>2012-12-31 22:00:00</td>\n",
       "      <td>1</td>\n",
       "      <td>0</td>\n",
       "      <td>1</td>\n",
       "      <td>1</td>\n",
       "      <td>10.66</td>\n",
       "      <td>13.635</td>\n",
       "      <td>56</td>\n",
       "      <td>8.9981</td>\n",
       "      <td>NaN</td>\n",
       "      <td>NaN</td>\n",
       "      <td>NaN</td>\n",
       "    </tr>\n",
       "    <tr>\n",
       "      <th>6492</th>\n",
       "      <td>2012-12-31 23:00:00</td>\n",
       "      <td>1</td>\n",
       "      <td>0</td>\n",
       "      <td>1</td>\n",
       "      <td>1</td>\n",
       "      <td>10.66</td>\n",
       "      <td>13.635</td>\n",
       "      <td>65</td>\n",
       "      <td>8.9981</td>\n",
       "      <td>NaN</td>\n",
       "      <td>NaN</td>\n",
       "      <td>NaN</td>\n",
       "    </tr>\n",
       "  </tbody>\n",
       "</table>\n",
       "<p>17378 rows × 12 columns</p>\n",
       "</div>"
      ],
      "text/plain": [
       "                 datetime  season  holiday  workingday  weather   temp  \\\n",
       "0     2011-01-01 00:00:00       1        0           0        1   9.84   \n",
       "1     2011-01-01 01:00:00       1        0           0        1   9.02   \n",
       "2     2011-01-01 02:00:00       1        0           0        1   9.02   \n",
       "3     2011-01-01 03:00:00       1        0           0        1   9.84   \n",
       "4     2011-01-01 04:00:00       1        0           0        1   9.84   \n",
       "...                   ...     ...      ...         ...      ...    ...   \n",
       "6488  2012-12-31 19:00:00       1        0           1        2  10.66   \n",
       "6489  2012-12-31 20:00:00       1        0           1        2  10.66   \n",
       "6490  2012-12-31 21:00:00       1        0           1        1  10.66   \n",
       "6491  2012-12-31 22:00:00       1        0           1        1  10.66   \n",
       "6492  2012-12-31 23:00:00       1        0           1        1  10.66   \n",
       "\n",
       "       atemp  humidity  windspeed  casual  registered  count  \n",
       "0     14.395        81     0.0000     3.0        13.0   16.0  \n",
       "1     13.635        80     0.0000     8.0        32.0   40.0  \n",
       "2     13.635        80     0.0000     5.0        27.0   32.0  \n",
       "3     14.395        75     0.0000     3.0        10.0   13.0  \n",
       "4     14.395        75     0.0000     0.0         1.0    1.0  \n",
       "...      ...       ...        ...     ...         ...    ...  \n",
       "6488  12.880        60    11.0014     NaN         NaN    NaN  \n",
       "6489  12.880        60    11.0014     NaN         NaN    NaN  \n",
       "6490  12.880        60    11.0014     NaN         NaN    NaN  \n",
       "6491  13.635        56     8.9981     NaN         NaN    NaN  \n",
       "6492  13.635        65     8.9981     NaN         NaN    NaN  \n",
       "\n",
       "[17378 rows x 12 columns]"
      ]
     },
     "execution_count": 27,
     "metadata": {},
     "output_type": "execute_result"
    }
   ],
   "source": [
    "all_data_temp = pd.concat([train, test])\n",
    "all_data_temp"
   ]
  },
  {
   "cell_type": "markdown",
   "id": "08d1c2a9",
   "metadata": {
    "papermill": {
     "duration": 0.022977,
     "end_time": "2022-07-17T13:55:13.154042",
     "exception": false,
     "start_time": "2022-07-17T13:55:13.131065",
     "status": "completed"
    },
    "tags": []
   },
   "source": [
    "index가 train, test에 붙어있는게 그대로 붙어서 합쳐져서 index값이 이상하게 보임  \n",
    "이를 위해 ignore_index=True 처리"
   ]
  },
  {
   "cell_type": "code",
   "execution_count": 28,
   "id": "2456d07b",
   "metadata": {
    "execution": {
     "iopub.execute_input": "2022-07-17T13:55:13.202224Z",
     "iopub.status.busy": "2022-07-17T13:55:13.201849Z",
     "iopub.status.idle": "2022-07-17T13:55:13.225179Z",
     "shell.execute_reply": "2022-07-17T13:55:13.224411Z"
    },
    "papermill": {
     "duration": 0.049988,
     "end_time": "2022-07-17T13:55:13.227235",
     "exception": false,
     "start_time": "2022-07-17T13:55:13.177247",
     "status": "completed"
    },
    "tags": []
   },
   "outputs": [
    {
     "data": {
      "text/html": [
       "<div>\n",
       "<style scoped>\n",
       "    .dataframe tbody tr th:only-of-type {\n",
       "        vertical-align: middle;\n",
       "    }\n",
       "\n",
       "    .dataframe tbody tr th {\n",
       "        vertical-align: top;\n",
       "    }\n",
       "\n",
       "    .dataframe thead th {\n",
       "        text-align: right;\n",
       "    }\n",
       "</style>\n",
       "<table border=\"1\" class=\"dataframe\">\n",
       "  <thead>\n",
       "    <tr style=\"text-align: right;\">\n",
       "      <th></th>\n",
       "      <th>datetime</th>\n",
       "      <th>season</th>\n",
       "      <th>holiday</th>\n",
       "      <th>workingday</th>\n",
       "      <th>weather</th>\n",
       "      <th>temp</th>\n",
       "      <th>atemp</th>\n",
       "      <th>humidity</th>\n",
       "      <th>windspeed</th>\n",
       "      <th>casual</th>\n",
       "      <th>registered</th>\n",
       "      <th>count</th>\n",
       "    </tr>\n",
       "  </thead>\n",
       "  <tbody>\n",
       "    <tr>\n",
       "      <th>0</th>\n",
       "      <td>2011-01-01 00:00:00</td>\n",
       "      <td>1</td>\n",
       "      <td>0</td>\n",
       "      <td>0</td>\n",
       "      <td>1</td>\n",
       "      <td>9.84</td>\n",
       "      <td>14.395</td>\n",
       "      <td>81</td>\n",
       "      <td>0.0000</td>\n",
       "      <td>3.0</td>\n",
       "      <td>13.0</td>\n",
       "      <td>16.0</td>\n",
       "    </tr>\n",
       "    <tr>\n",
       "      <th>1</th>\n",
       "      <td>2011-01-01 01:00:00</td>\n",
       "      <td>1</td>\n",
       "      <td>0</td>\n",
       "      <td>0</td>\n",
       "      <td>1</td>\n",
       "      <td>9.02</td>\n",
       "      <td>13.635</td>\n",
       "      <td>80</td>\n",
       "      <td>0.0000</td>\n",
       "      <td>8.0</td>\n",
       "      <td>32.0</td>\n",
       "      <td>40.0</td>\n",
       "    </tr>\n",
       "    <tr>\n",
       "      <th>2</th>\n",
       "      <td>2011-01-01 02:00:00</td>\n",
       "      <td>1</td>\n",
       "      <td>0</td>\n",
       "      <td>0</td>\n",
       "      <td>1</td>\n",
       "      <td>9.02</td>\n",
       "      <td>13.635</td>\n",
       "      <td>80</td>\n",
       "      <td>0.0000</td>\n",
       "      <td>5.0</td>\n",
       "      <td>27.0</td>\n",
       "      <td>32.0</td>\n",
       "    </tr>\n",
       "    <tr>\n",
       "      <th>3</th>\n",
       "      <td>2011-01-01 03:00:00</td>\n",
       "      <td>1</td>\n",
       "      <td>0</td>\n",
       "      <td>0</td>\n",
       "      <td>1</td>\n",
       "      <td>9.84</td>\n",
       "      <td>14.395</td>\n",
       "      <td>75</td>\n",
       "      <td>0.0000</td>\n",
       "      <td>3.0</td>\n",
       "      <td>10.0</td>\n",
       "      <td>13.0</td>\n",
       "    </tr>\n",
       "    <tr>\n",
       "      <th>4</th>\n",
       "      <td>2011-01-01 04:00:00</td>\n",
       "      <td>1</td>\n",
       "      <td>0</td>\n",
       "      <td>0</td>\n",
       "      <td>1</td>\n",
       "      <td>9.84</td>\n",
       "      <td>14.395</td>\n",
       "      <td>75</td>\n",
       "      <td>0.0000</td>\n",
       "      <td>0.0</td>\n",
       "      <td>1.0</td>\n",
       "      <td>1.0</td>\n",
       "    </tr>\n",
       "    <tr>\n",
       "      <th>...</th>\n",
       "      <td>...</td>\n",
       "      <td>...</td>\n",
       "      <td>...</td>\n",
       "      <td>...</td>\n",
       "      <td>...</td>\n",
       "      <td>...</td>\n",
       "      <td>...</td>\n",
       "      <td>...</td>\n",
       "      <td>...</td>\n",
       "      <td>...</td>\n",
       "      <td>...</td>\n",
       "      <td>...</td>\n",
       "    </tr>\n",
       "    <tr>\n",
       "      <th>17373</th>\n",
       "      <td>2012-12-31 19:00:00</td>\n",
       "      <td>1</td>\n",
       "      <td>0</td>\n",
       "      <td>1</td>\n",
       "      <td>2</td>\n",
       "      <td>10.66</td>\n",
       "      <td>12.880</td>\n",
       "      <td>60</td>\n",
       "      <td>11.0014</td>\n",
       "      <td>NaN</td>\n",
       "      <td>NaN</td>\n",
       "      <td>NaN</td>\n",
       "    </tr>\n",
       "    <tr>\n",
       "      <th>17374</th>\n",
       "      <td>2012-12-31 20:00:00</td>\n",
       "      <td>1</td>\n",
       "      <td>0</td>\n",
       "      <td>1</td>\n",
       "      <td>2</td>\n",
       "      <td>10.66</td>\n",
       "      <td>12.880</td>\n",
       "      <td>60</td>\n",
       "      <td>11.0014</td>\n",
       "      <td>NaN</td>\n",
       "      <td>NaN</td>\n",
       "      <td>NaN</td>\n",
       "    </tr>\n",
       "    <tr>\n",
       "      <th>17375</th>\n",
       "      <td>2012-12-31 21:00:00</td>\n",
       "      <td>1</td>\n",
       "      <td>0</td>\n",
       "      <td>1</td>\n",
       "      <td>1</td>\n",
       "      <td>10.66</td>\n",
       "      <td>12.880</td>\n",
       "      <td>60</td>\n",
       "      <td>11.0014</td>\n",
       "      <td>NaN</td>\n",
       "      <td>NaN</td>\n",
       "      <td>NaN</td>\n",
       "    </tr>\n",
       "    <tr>\n",
       "      <th>17376</th>\n",
       "      <td>2012-12-31 22:00:00</td>\n",
       "      <td>1</td>\n",
       "      <td>0</td>\n",
       "      <td>1</td>\n",
       "      <td>1</td>\n",
       "      <td>10.66</td>\n",
       "      <td>13.635</td>\n",
       "      <td>56</td>\n",
       "      <td>8.9981</td>\n",
       "      <td>NaN</td>\n",
       "      <td>NaN</td>\n",
       "      <td>NaN</td>\n",
       "    </tr>\n",
       "    <tr>\n",
       "      <th>17377</th>\n",
       "      <td>2012-12-31 23:00:00</td>\n",
       "      <td>1</td>\n",
       "      <td>0</td>\n",
       "      <td>1</td>\n",
       "      <td>1</td>\n",
       "      <td>10.66</td>\n",
       "      <td>13.635</td>\n",
       "      <td>65</td>\n",
       "      <td>8.9981</td>\n",
       "      <td>NaN</td>\n",
       "      <td>NaN</td>\n",
       "      <td>NaN</td>\n",
       "    </tr>\n",
       "  </tbody>\n",
       "</table>\n",
       "<p>17378 rows × 12 columns</p>\n",
       "</div>"
      ],
      "text/plain": [
       "                  datetime  season  holiday  workingday  weather   temp  \\\n",
       "0      2011-01-01 00:00:00       1        0           0        1   9.84   \n",
       "1      2011-01-01 01:00:00       1        0           0        1   9.02   \n",
       "2      2011-01-01 02:00:00       1        0           0        1   9.02   \n",
       "3      2011-01-01 03:00:00       1        0           0        1   9.84   \n",
       "4      2011-01-01 04:00:00       1        0           0        1   9.84   \n",
       "...                    ...     ...      ...         ...      ...    ...   \n",
       "17373  2012-12-31 19:00:00       1        0           1        2  10.66   \n",
       "17374  2012-12-31 20:00:00       1        0           1        2  10.66   \n",
       "17375  2012-12-31 21:00:00       1        0           1        1  10.66   \n",
       "17376  2012-12-31 22:00:00       1        0           1        1  10.66   \n",
       "17377  2012-12-31 23:00:00       1        0           1        1  10.66   \n",
       "\n",
       "        atemp  humidity  windspeed  casual  registered  count  \n",
       "0      14.395        81     0.0000     3.0        13.0   16.0  \n",
       "1      13.635        80     0.0000     8.0        32.0   40.0  \n",
       "2      13.635        80     0.0000     5.0        27.0   32.0  \n",
       "3      14.395        75     0.0000     3.0        10.0   13.0  \n",
       "4      14.395        75     0.0000     0.0         1.0    1.0  \n",
       "...       ...       ...        ...     ...         ...    ...  \n",
       "17373  12.880        60    11.0014     NaN         NaN    NaN  \n",
       "17374  12.880        60    11.0014     NaN         NaN    NaN  \n",
       "17375  12.880        60    11.0014     NaN         NaN    NaN  \n",
       "17376  13.635        56     8.9981     NaN         NaN    NaN  \n",
       "17377  13.635        65     8.9981     NaN         NaN    NaN  \n",
       "\n",
       "[17378 rows x 12 columns]"
      ]
     },
     "execution_count": 28,
     "metadata": {},
     "output_type": "execute_result"
    }
   ],
   "source": [
    "all_data = pd.concat([train, test], ignore_index=True)\n",
    "all_data"
   ]
  },
  {
   "cell_type": "code",
   "execution_count": 29,
   "id": "20aba5eb",
   "metadata": {
    "execution": {
     "iopub.execute_input": "2022-07-17T13:55:13.278032Z",
     "iopub.status.busy": "2022-07-17T13:55:13.277376Z",
     "iopub.status.idle": "2022-07-17T13:55:13.462827Z",
     "shell.execute_reply": "2022-07-17T13:55:13.461670Z"
    },
    "papermill": {
     "duration": 0.213845,
     "end_time": "2022-07-17T13:55:13.465411",
     "exception": false,
     "start_time": "2022-07-17T13:55:13.251566",
     "status": "completed"
    },
    "tags": []
   },
   "outputs": [],
   "source": [
    "from datetime import datetime\n",
    "\n",
    "# 날짜 피처 생성\n",
    "all_data['date'] = all_data['datetime'].apply(lambda x:x.split()[0])\n",
    "# 연도 피처 생성\n",
    "all_data['year'] = all_data['datetime'].apply(lambda x:x.split()[0].split(\"-\")[0])\n",
    "# 월 피처 생성\n",
    "all_data['month'] = all_data['datetime'].apply(lambda x:x.split()[0].split(\"-\")[1])\n",
    "# 시 피처 생성\n",
    "all_data['hour'] = all_data['datetime'].apply(lambda x:x.split()[1].split(\":\")[0])\n",
    "# 요일 피처 생성\n",
    "all_data['weekday'] = all_data['date'].apply(lambda dateString : datetime.strptime(dateString, \"%Y-%m-%d\").weekday()) # 요일을 정수형으로 생성\n",
    "\n",
    "# train은 1~19일 test는 20 ~ 말일 이므로 사용할 필요가 없음"
   ]
  },
  {
   "cell_type": "markdown",
   "id": "42e628dd",
   "metadata": {
    "papermill": {
     "duration": 0.023357,
     "end_time": "2022-07-17T13:55:13.512961",
     "exception": false,
     "start_time": "2022-07-17T13:55:13.489604",
     "status": "completed"
    },
    "tags": []
   },
   "source": [
    "##### 쓸모없는 Feature 제거\n",
    "* season에 month에 관한 내용이 담김 (3개월단위 = season)\n",
    "* windspeed 상관관계 약함 등등"
   ]
  },
  {
   "cell_type": "code",
   "execution_count": 30,
   "id": "61b99c7b",
   "metadata": {
    "execution": {
     "iopub.execute_input": "2022-07-17T13:55:13.561989Z",
     "iopub.status.busy": "2022-07-17T13:55:13.561599Z",
     "iopub.status.idle": "2022-07-17T13:55:13.571669Z",
     "shell.execute_reply": "2022-07-17T13:55:13.570843Z"
    },
    "papermill": {
     "duration": 0.037049,
     "end_time": "2022-07-17T13:55:13.573720",
     "exception": false,
     "start_time": "2022-07-17T13:55:13.536671",
     "status": "completed"
    },
    "tags": []
   },
   "outputs": [],
   "source": [
    "drop_features = ['casual', 'registered', 'datetime', 'date', 'windspeed', 'month']\n",
    "all_data = all_data.drop(drop_features, axis=1)"
   ]
  },
  {
   "cell_type": "markdown",
   "id": "ee278f0a",
   "metadata": {
    "papermill": {
     "duration": 0.023704,
     "end_time": "2022-07-17T13:55:13.621182",
     "exception": false,
     "start_time": "2022-07-17T13:55:13.597478",
     "status": "completed"
    },
    "tags": []
   },
   "source": [
    "#### 데이터 나누기\n",
    "* Feature 작업 완료했으니 다시 train, test로 나누기"
   ]
  },
  {
   "cell_type": "code",
   "execution_count": 31,
   "id": "ef37b2e8",
   "metadata": {
    "execution": {
     "iopub.execute_input": "2022-07-17T13:55:13.671744Z",
     "iopub.status.busy": "2022-07-17T13:55:13.670977Z",
     "iopub.status.idle": "2022-07-17T13:55:13.679291Z",
     "shell.execute_reply": "2022-07-17T13:55:13.678462Z"
    },
    "papermill": {
     "duration": 0.036149,
     "end_time": "2022-07-17T13:55:13.681515",
     "exception": false,
     "start_time": "2022-07-17T13:55:13.645366",
     "status": "completed"
    },
    "tags": []
   },
   "outputs": [],
   "source": [
    "X_train = all_data[~pd.isnull(all_data['count'])]\n",
    "X_test = all_data[pd.isnull(all_data['count'])]"
   ]
  },
  {
   "cell_type": "code",
   "execution_count": 32,
   "id": "2de73097",
   "metadata": {
    "execution": {
     "iopub.execute_input": "2022-07-17T13:55:13.732606Z",
     "iopub.status.busy": "2022-07-17T13:55:13.731485Z",
     "iopub.status.idle": "2022-07-17T13:55:13.739643Z",
     "shell.execute_reply": "2022-07-17T13:55:13.738819Z"
    },
    "papermill": {
     "duration": 0.035892,
     "end_time": "2022-07-17T13:55:13.741834",
     "exception": false,
     "start_time": "2022-07-17T13:55:13.705942",
     "status": "completed"
    },
    "tags": []
   },
   "outputs": [],
   "source": [
    "# 타켓의 count 제거\n",
    "X_train = X_train.drop(['count'], axis=1)\n",
    "X_test = X_test.drop(['count'], axis=1)\n",
    "\n",
    "y = train['count'] # 타켓값"
   ]
  },
  {
   "cell_type": "code",
   "execution_count": 33,
   "id": "849260b0",
   "metadata": {
    "execution": {
     "iopub.execute_input": "2022-07-17T13:55:13.792822Z",
     "iopub.status.busy": "2022-07-17T13:55:13.792189Z",
     "iopub.status.idle": "2022-07-17T13:55:13.805365Z",
     "shell.execute_reply": "2022-07-17T13:55:13.804545Z"
    },
    "papermill": {
     "duration": 0.041549,
     "end_time": "2022-07-17T13:55:13.807261",
     "exception": false,
     "start_time": "2022-07-17T13:55:13.765712",
     "status": "completed"
    },
    "tags": []
   },
   "outputs": [
    {
     "data": {
      "text/html": [
       "<div>\n",
       "<style scoped>\n",
       "    .dataframe tbody tr th:only-of-type {\n",
       "        vertical-align: middle;\n",
       "    }\n",
       "\n",
       "    .dataframe tbody tr th {\n",
       "        vertical-align: top;\n",
       "    }\n",
       "\n",
       "    .dataframe thead th {\n",
       "        text-align: right;\n",
       "    }\n",
       "</style>\n",
       "<table border=\"1\" class=\"dataframe\">\n",
       "  <thead>\n",
       "    <tr style=\"text-align: right;\">\n",
       "      <th></th>\n",
       "      <th>season</th>\n",
       "      <th>holiday</th>\n",
       "      <th>workingday</th>\n",
       "      <th>weather</th>\n",
       "      <th>temp</th>\n",
       "      <th>atemp</th>\n",
       "      <th>humidity</th>\n",
       "      <th>year</th>\n",
       "      <th>hour</th>\n",
       "      <th>weekday</th>\n",
       "    </tr>\n",
       "  </thead>\n",
       "  <tbody>\n",
       "    <tr>\n",
       "      <th>0</th>\n",
       "      <td>1</td>\n",
       "      <td>0</td>\n",
       "      <td>0</td>\n",
       "      <td>1</td>\n",
       "      <td>9.84</td>\n",
       "      <td>14.395</td>\n",
       "      <td>81</td>\n",
       "      <td>2011</td>\n",
       "      <td>00</td>\n",
       "      <td>5</td>\n",
       "    </tr>\n",
       "    <tr>\n",
       "      <th>1</th>\n",
       "      <td>1</td>\n",
       "      <td>0</td>\n",
       "      <td>0</td>\n",
       "      <td>1</td>\n",
       "      <td>9.02</td>\n",
       "      <td>13.635</td>\n",
       "      <td>80</td>\n",
       "      <td>2011</td>\n",
       "      <td>01</td>\n",
       "      <td>5</td>\n",
       "    </tr>\n",
       "    <tr>\n",
       "      <th>2</th>\n",
       "      <td>1</td>\n",
       "      <td>0</td>\n",
       "      <td>0</td>\n",
       "      <td>1</td>\n",
       "      <td>9.02</td>\n",
       "      <td>13.635</td>\n",
       "      <td>80</td>\n",
       "      <td>2011</td>\n",
       "      <td>02</td>\n",
       "      <td>5</td>\n",
       "    </tr>\n",
       "    <tr>\n",
       "      <th>3</th>\n",
       "      <td>1</td>\n",
       "      <td>0</td>\n",
       "      <td>0</td>\n",
       "      <td>1</td>\n",
       "      <td>9.84</td>\n",
       "      <td>14.395</td>\n",
       "      <td>75</td>\n",
       "      <td>2011</td>\n",
       "      <td>03</td>\n",
       "      <td>5</td>\n",
       "    </tr>\n",
       "    <tr>\n",
       "      <th>4</th>\n",
       "      <td>1</td>\n",
       "      <td>0</td>\n",
       "      <td>0</td>\n",
       "      <td>1</td>\n",
       "      <td>9.84</td>\n",
       "      <td>14.395</td>\n",
       "      <td>75</td>\n",
       "      <td>2011</td>\n",
       "      <td>04</td>\n",
       "      <td>5</td>\n",
       "    </tr>\n",
       "  </tbody>\n",
       "</table>\n",
       "</div>"
      ],
      "text/plain": [
       "   season  holiday  workingday  weather  temp   atemp  humidity  year hour  \\\n",
       "0       1        0           0        1  9.84  14.395        81  2011   00   \n",
       "1       1        0           0        1  9.02  13.635        80  2011   01   \n",
       "2       1        0           0        1  9.02  13.635        80  2011   02   \n",
       "3       1        0           0        1  9.84  14.395        75  2011   03   \n",
       "4       1        0           0        1  9.84  14.395        75  2011   04   \n",
       "\n",
       "   weekday  \n",
       "0        5  \n",
       "1        5  \n",
       "2        5  \n",
       "3        5  \n",
       "4        5  "
      ]
     },
     "execution_count": 33,
     "metadata": {},
     "output_type": "execute_result"
    }
   ],
   "source": [
    "X_train.head()"
   ]
  },
  {
   "cell_type": "markdown",
   "id": "79596e4f",
   "metadata": {
    "papermill": {
     "duration": 0.023594,
     "end_time": "2022-07-17T13:55:13.855021",
     "exception": false,
     "start_time": "2022-07-17T13:55:13.831427",
     "status": "completed"
    },
    "tags": []
   },
   "source": [
    "#### 평가지표인 RMSLE 계산하는 함수 작성"
   ]
  },
  {
   "cell_type": "code",
   "execution_count": 34,
   "id": "975f367a",
   "metadata": {
    "execution": {
     "iopub.execute_input": "2022-07-17T13:55:13.905075Z",
     "iopub.status.busy": "2022-07-17T13:55:13.904449Z",
     "iopub.status.idle": "2022-07-17T13:55:13.910272Z",
     "shell.execute_reply": "2022-07-17T13:55:13.909431Z"
    },
    "papermill": {
     "duration": 0.03346,
     "end_time": "2022-07-17T13:55:13.912398",
     "exception": false,
     "start_time": "2022-07-17T13:55:13.878938",
     "status": "completed"
    },
    "tags": []
   },
   "outputs": [],
   "source": [
    "import numpy as np\n",
    "def rmsle(y_true, y_pred, convertExp=True):\n",
    "    # 지수변환 (count를 로그변환해서 예측하기 때문에 다시 돌려줘야함)\n",
    "    if convertExp:\n",
    "        y_true = np.exp(y_true)\n",
    "        y_pred = np.exp(y_pred)\n",
    "    \n",
    "    # 로그변환 후 결측값을 0으로 변환\n",
    "    log_true = np.nan_to_num(np.log(y_true+1))\n",
    "    log_pred = np.nan_to_num(np.log(y_pred+1))\n",
    "    \n",
    "    # RMSLE 계산\n",
    "    output = np.sqrt(np.mean((log_true - log_pred)**2)) # RMSLE 공식을 그래서 작성\n",
    "    return output"
   ]
  },
  {
   "cell_type": "markdown",
   "id": "97d01895",
   "metadata": {
    "papermill": {
     "duration": 0.025699,
     "end_time": "2022-07-17T13:55:13.962685",
     "exception": false,
     "start_time": "2022-07-17T13:55:13.936986",
     "status": "completed"
    },
    "tags": []
   },
   "source": [
    "### 모델 훈련"
   ]
  },
  {
   "cell_type": "code",
   "execution_count": 35,
   "id": "dd0ad79e",
   "metadata": {
    "execution": {
     "iopub.execute_input": "2022-07-17T13:55:14.014197Z",
     "iopub.status.busy": "2022-07-17T13:55:14.013509Z",
     "iopub.status.idle": "2022-07-17T13:55:14.449575Z",
     "shell.execute_reply": "2022-07-17T13:55:14.448312Z"
    },
    "papermill": {
     "duration": 0.46471,
     "end_time": "2022-07-17T13:55:14.452283",
     "exception": false,
     "start_time": "2022-07-17T13:55:13.987573",
     "status": "completed"
    },
    "tags": []
   },
   "outputs": [],
   "source": [
    "from sklearn.linear_model import LinearRegression\n",
    "\n",
    "linear_reg_model = LinearRegression()"
   ]
  },
  {
   "cell_type": "code",
   "execution_count": 36,
   "id": "ae3846c8",
   "metadata": {
    "execution": {
     "iopub.execute_input": "2022-07-17T13:55:14.502374Z",
     "iopub.status.busy": "2022-07-17T13:55:14.501980Z",
     "iopub.status.idle": "2022-07-17T13:55:14.542514Z",
     "shell.execute_reply": "2022-07-17T13:55:14.541155Z"
    },
    "papermill": {
     "duration": 0.069035,
     "end_time": "2022-07-17T13:55:14.545741",
     "exception": false,
     "start_time": "2022-07-17T13:55:14.476706",
     "status": "completed"
    },
    "tags": []
   },
   "outputs": [
    {
     "data": {
      "text/plain": [
       "LinearRegression()"
      ]
     },
     "execution_count": 36,
     "metadata": {},
     "output_type": "execute_result"
    }
   ],
   "source": [
    "log_y = np.log(y) # 타겟값 로그변환\n",
    "linear_reg_model.fit(X_train, log_y) # 모델 훈련"
   ]
  },
  {
   "cell_type": "markdown",
   "id": "ea0d345e",
   "metadata": {
    "papermill": {
     "duration": 0.05004,
     "end_time": "2022-07-17T13:55:14.648262",
     "exception": false,
     "start_time": "2022-07-17T13:55:14.598222",
     "status": "completed"
    },
    "tags": []
   },
   "source": [
    "#### 모델 성능 검증\n",
    "* 예시를 들어서 검증하는 것..학습데이터로 검증하는것은 안됨"
   ]
  },
  {
   "cell_type": "code",
   "execution_count": 37,
   "id": "24aa5833",
   "metadata": {
    "execution": {
     "iopub.execute_input": "2022-07-17T13:55:14.700640Z",
     "iopub.status.busy": "2022-07-17T13:55:14.700277Z",
     "iopub.status.idle": "2022-07-17T13:55:14.717274Z",
     "shell.execute_reply": "2022-07-17T13:55:14.715480Z"
    },
    "papermill": {
     "duration": 0.048377,
     "end_time": "2022-07-17T13:55:14.722123",
     "exception": false,
     "start_time": "2022-07-17T13:55:14.673746",
     "status": "completed"
    },
    "tags": []
   },
   "outputs": [],
   "source": [
    "preds = linear_reg_model.predict(X_train)"
   ]
  },
  {
   "cell_type": "code",
   "execution_count": 38,
   "id": "293bbed9",
   "metadata": {
    "execution": {
     "iopub.execute_input": "2022-07-17T13:55:14.833999Z",
     "iopub.status.busy": "2022-07-17T13:55:14.833192Z",
     "iopub.status.idle": "2022-07-17T13:55:14.842607Z",
     "shell.execute_reply": "2022-07-17T13:55:14.841524Z"
    },
    "papermill": {
     "duration": 0.068372,
     "end_time": "2022-07-17T13:55:14.844978",
     "exception": false,
     "start_time": "2022-07-17T13:55:14.776606",
     "status": "completed"
    },
    "tags": []
   },
   "outputs": [
    {
     "name": "stdout",
     "output_type": "stream",
     "text": [
      "선형 회귀의 RMSLE의 값 : 1.0205\n"
     ]
    }
   ],
   "source": [
    "print(f\"선형 회귀의 RMSLE의 값 : {rmsle(log_y, preds, True):.4f}\")"
   ]
  },
  {
   "cell_type": "markdown",
   "id": "b52826fe",
   "metadata": {
    "papermill": {
     "duration": 0.024105,
     "end_time": "2022-07-17T13:55:14.893881",
     "exception": false,
     "start_time": "2022-07-17T13:55:14.869776",
     "status": "completed"
    },
    "tags": []
   },
   "source": [
    "#### 예측 및 결과 제출"
   ]
  },
  {
   "cell_type": "code",
   "execution_count": 39,
   "id": "3554645d",
   "metadata": {
    "execution": {
     "iopub.execute_input": "2022-07-17T13:55:14.945492Z",
     "iopub.status.busy": "2022-07-17T13:55:14.945107Z",
     "iopub.status.idle": "2022-07-17T13:55:14.999448Z",
     "shell.execute_reply": "2022-07-17T13:55:14.998100Z"
    },
    "papermill": {
     "duration": 0.083617,
     "end_time": "2022-07-17T13:55:15.002198",
     "exception": false,
     "start_time": "2022-07-17T13:55:14.918581",
     "status": "completed"
    },
    "tags": []
   },
   "outputs": [],
   "source": [
    "linearreg_preds = linear_reg_model.predict(X_test) # 테스트 데이터로 예측\n",
    "\n",
    "submission['count'] = np.exp(linearreg_preds)  # 지수변환\n",
    "submission.to_csv('submission.csv', index=False) # 파일로 저장"
   ]
  },
  {
   "cell_type": "markdown",
   "id": "89dbc58d",
   "metadata": {
    "papermill": {
     "duration": 0.037692,
     "end_time": "2022-07-17T13:55:15.089968",
     "exception": false,
     "start_time": "2022-07-17T13:55:15.052276",
     "status": "completed"
    },
    "tags": []
   },
   "source": [
    "# 성능개선\n",
    "### 릿지(Ridge) 회귀 모델\n",
    "* 규제(regularization)을 통해 과대적합(overfitting)을 방지를 해주는 모델"
   ]
  },
  {
   "cell_type": "code",
   "execution_count": 40,
   "id": "5ae7716d",
   "metadata": {
    "execution": {
     "iopub.execute_input": "2022-07-17T13:55:15.140680Z",
     "iopub.status.busy": "2022-07-17T13:55:15.140321Z",
     "iopub.status.idle": "2022-07-17T13:55:15.145557Z",
     "shell.execute_reply": "2022-07-17T13:55:15.144463Z"
    },
    "papermill": {
     "duration": 0.033506,
     "end_time": "2022-07-17T13:55:15.147691",
     "exception": false,
     "start_time": "2022-07-17T13:55:15.114185",
     "status": "completed"
    },
    "tags": []
   },
   "outputs": [],
   "source": [
    "from sklearn.linear_model import Ridge\n",
    "from sklearn.model_selection import GridSearchCV\n",
    "from sklearn import metrics\n",
    "\n",
    "ridge_model = Ridge()"
   ]
  },
  {
   "cell_type": "code",
   "execution_count": 41,
   "id": "46267abc",
   "metadata": {
    "execution": {
     "iopub.execute_input": "2022-07-17T13:55:15.199506Z",
     "iopub.status.busy": "2022-07-17T13:55:15.198722Z",
     "iopub.status.idle": "2022-07-17T13:55:15.205551Z",
     "shell.execute_reply": "2022-07-17T13:55:15.204320Z"
    },
    "papermill": {
     "duration": 0.034748,
     "end_time": "2022-07-17T13:55:15.207744",
     "exception": false,
     "start_time": "2022-07-17T13:55:15.172996",
     "status": "completed"
    },
    "tags": []
   },
   "outputs": [],
   "source": [
    "# 하이퍼파라미터 값 목록\n",
    "ridge_params = {'max_iter':[3000], 'alpha':[0.1, 1, 2, 3, 4, 10, 30, 100, 200, 300, 400, 800, 900, 1000]}\n",
    "\n",
    "# 교차 검증용 평가 함수(RMSLE 점수 계산)\n",
    "rmsle_scorer = metrics.make_scorer(rmsle, greater_is_better=False)\n",
    "\n",
    "# 그리드서치(with 릿지) 객체 생성\n",
    "gridsearch_ridge_model = GridSearchCV(estimator = ridge_model,   # 릿지모델\n",
    "                                      param_grid = ridge_params, # 값 목록\n",
    "                                      scoring=rmsle_scorer,      # 평가지표\n",
    "                                      cv=5)                      # 교차 검증 분할 수"
   ]
  },
  {
   "cell_type": "markdown",
   "id": "6fda25f6",
   "metadata": {
    "papermill": {
     "duration": 0.024654,
     "end_time": "2022-07-17T13:55:15.257454",
     "exception": false,
     "start_time": "2022-07-17T13:55:15.232800",
     "status": "completed"
    },
    "tags": []
   },
   "source": [
    "그리드서치 수행"
   ]
  },
  {
   "cell_type": "code",
   "execution_count": 42,
   "id": "cae9e0f6",
   "metadata": {
    "execution": {
     "iopub.execute_input": "2022-07-17T13:55:15.307907Z",
     "iopub.status.busy": "2022-07-17T13:55:15.307506Z",
     "iopub.status.idle": "2022-07-17T13:55:17.367702Z",
     "shell.execute_reply": "2022-07-17T13:55:17.366536Z"
    },
    "papermill": {
     "duration": 2.089101,
     "end_time": "2022-07-17T13:55:17.371122",
     "exception": false,
     "start_time": "2022-07-17T13:55:15.282021",
     "status": "completed"
    },
    "tags": []
   },
   "outputs": [
    {
     "data": {
      "text/plain": [
       "GridSearchCV(cv=5, estimator=Ridge(),\n",
       "             param_grid={'alpha': [0.1, 1, 2, 3, 4, 10, 30, 100, 200, 300, 400,\n",
       "                                   800, 900, 1000],\n",
       "                         'max_iter': [3000]},\n",
       "             scoring=make_scorer(rmsle, greater_is_better=False))"
      ]
     },
     "execution_count": 42,
     "metadata": {},
     "output_type": "execute_result"
    }
   ],
   "source": [
    "log_y = np.log(y) # 타깃값 로그변환\n",
    "gridsearch_ridge_model.fit(X_train, log_y) # 훈련 (그리드서치)"
   ]
  },
  {
   "cell_type": "code",
   "execution_count": 43,
   "id": "20af3273",
   "metadata": {
    "execution": {
     "iopub.execute_input": "2022-07-17T13:55:17.505783Z",
     "iopub.status.busy": "2022-07-17T13:55:17.504598Z",
     "iopub.status.idle": "2022-07-17T13:55:17.511469Z",
     "shell.execute_reply": "2022-07-17T13:55:17.510195Z"
    },
    "papermill": {
     "duration": 0.092519,
     "end_time": "2022-07-17T13:55:17.514244",
     "exception": false,
     "start_time": "2022-07-17T13:55:17.421725",
     "status": "completed"
    },
    "tags": []
   },
   "outputs": [
    {
     "name": "stdout",
     "output_type": "stream",
     "text": [
      "최적 하이퍼파라미터 :  {'alpha': 0.1, 'max_iter': 3000}\n"
     ]
    }
   ],
   "source": [
    "print('최적 하이퍼파라미터 : ', gridsearch_ridge_model.best_params_)"
   ]
  },
  {
   "cell_type": "markdown",
   "id": "0e5757d3",
   "metadata": {
    "papermill": {
     "duration": 0.024077,
     "end_time": "2022-07-17T13:55:17.563575",
     "exception": false,
     "start_time": "2022-07-17T13:55:17.539498",
     "status": "completed"
    },
    "tags": []
   },
   "source": [
    "#### 성능 검증"
   ]
  },
  {
   "cell_type": "code",
   "execution_count": 44,
   "id": "910bae03",
   "metadata": {
    "execution": {
     "iopub.execute_input": "2022-07-17T13:55:17.614011Z",
     "iopub.status.busy": "2022-07-17T13:55:17.613636Z",
     "iopub.status.idle": "2022-07-17T13:55:17.637097Z",
     "shell.execute_reply": "2022-07-17T13:55:17.635822Z"
    },
    "papermill": {
     "duration": 0.052433,
     "end_time": "2022-07-17T13:55:17.640390",
     "exception": false,
     "start_time": "2022-07-17T13:55:17.587957",
     "status": "completed"
    },
    "tags": []
   },
   "outputs": [
    {
     "name": "stdout",
     "output_type": "stream",
     "text": [
      "릿지 회귀 RMSLE 값 : 1.0205\n"
     ]
    }
   ],
   "source": [
    "# 예측\n",
    "preds = gridsearch_ridge_model.best_estimator_.predict(X_train)\n",
    "# 평가\n",
    "print(f\"릿지 회귀 RMSLE 값 : {rmsle(log_y, preds, True):.4f}\")"
   ]
  },
  {
   "cell_type": "markdown",
   "id": "a3a95ec5",
   "metadata": {
    "papermill": {
     "duration": 0.049474,
     "end_time": "2022-07-17T13:55:17.740384",
     "exception": false,
     "start_time": "2022-07-17T13:55:17.690910",
     "status": "completed"
    },
    "tags": []
   },
   "source": [
    "## 라쏘(Lasso) 회귀 모델"
   ]
  },
  {
   "cell_type": "code",
   "execution_count": 45,
   "id": "67b2aaf1",
   "metadata": {
    "execution": {
     "iopub.execute_input": "2022-07-17T13:55:17.796478Z",
     "iopub.status.busy": "2022-07-17T13:55:17.796099Z",
     "iopub.status.idle": "2022-07-17T13:55:21.830551Z",
     "shell.execute_reply": "2022-07-17T13:55:21.828369Z"
    },
    "papermill": {
     "duration": 4.065861,
     "end_time": "2022-07-17T13:55:21.834690",
     "exception": false,
     "start_time": "2022-07-17T13:55:17.768829",
     "status": "completed"
    },
    "tags": []
   },
   "outputs": [
    {
     "name": "stdout",
     "output_type": "stream",
     "text": [
      "최적 하이퍼파라미터 :  {'alpha': 0.00125, 'max_iter': 3000}\n"
     ]
    }
   ],
   "source": [
    "from sklearn.linear_model import Lasso\n",
    "\n",
    "# 모델 생성\n",
    "lasso_model = Lasso()\n",
    "# 하이퍼파라미터 값 목록\n",
    "lasso_alpha = 1/np.array([0.1, 1, 2, 3, 4, 10, 30, 100, 200, 300, 400, 800, 900, 1000])\n",
    "lasso_params = {'max_iter':[3000], 'alpha':lasso_alpha}\n",
    "\n",
    "# 그리드서치(with 라쏘) 객체 생성\n",
    "gridsearch_lasso_model = GridSearchCV(estimator=lasso_model,\n",
    "                                      param_grid=lasso_params,\n",
    "                                      scoring=rmsle_scorer,\n",
    "                                      cv=5)\n",
    "\n",
    "# 그리드 서치 수행\n",
    "log_y = np.log(y)\n",
    "gridsearch_lasso_model.fit(X_train, log_y)\n",
    "\n",
    "print('최적 하이퍼파라미터 : ', gridsearch_lasso_model.best_params_)"
   ]
  },
  {
   "cell_type": "markdown",
   "id": "5dd88f3e",
   "metadata": {
    "papermill": {
     "duration": 0.041647,
     "end_time": "2022-07-17T13:55:21.954666",
     "exception": false,
     "start_time": "2022-07-17T13:55:21.913019",
     "status": "completed"
    },
    "tags": []
   },
   "source": [
    "#### 성능검증"
   ]
  },
  {
   "cell_type": "code",
   "execution_count": 46,
   "id": "027daa32",
   "metadata": {
    "execution": {
     "iopub.execute_input": "2022-07-17T13:55:22.006443Z",
     "iopub.status.busy": "2022-07-17T13:55:22.006057Z",
     "iopub.status.idle": "2022-07-17T13:55:22.028562Z",
     "shell.execute_reply": "2022-07-17T13:55:22.026869Z"
    },
    "papermill": {
     "duration": 0.051813,
     "end_time": "2022-07-17T13:55:22.031757",
     "exception": false,
     "start_time": "2022-07-17T13:55:21.979944",
     "status": "completed"
    },
    "tags": []
   },
   "outputs": [
    {
     "name": "stdout",
     "output_type": "stream",
     "text": [
      "라쏘 회귀 RMSLE 값 : 1.0205\n"
     ]
    }
   ],
   "source": [
    "# 예측\n",
    "preds = gridsearch_lasso_model.best_estimator_.predict(X_train)\n",
    "\n",
    "# 평가\n",
    "print(f\"라쏘 회귀 RMSLE 값 : {rmsle(log_y, preds, True):.4f}\")"
   ]
  },
  {
   "cell_type": "markdown",
   "id": "68821250",
   "metadata": {
    "papermill": {
     "duration": 0.049275,
     "end_time": "2022-07-17T13:55:22.134400",
     "exception": false,
     "start_time": "2022-07-17T13:55:22.085125",
     "status": "completed"
    },
    "tags": []
   },
   "source": [
    "## RandomForest (랜덤포레스트) 회귀 모델"
   ]
  },
  {
   "cell_type": "code",
   "execution_count": 47,
   "id": "ac11c6c5",
   "metadata": {
    "execution": {
     "iopub.execute_input": "2022-07-17T13:55:22.189187Z",
     "iopub.status.busy": "2022-07-17T13:55:22.188745Z",
     "iopub.status.idle": "2022-07-17T13:56:10.700771Z",
     "shell.execute_reply": "2022-07-17T13:56:10.699590Z"
    },
    "papermill": {
     "duration": 48.564261,
     "end_time": "2022-07-17T13:56:10.727177",
     "exception": false,
     "start_time": "2022-07-17T13:55:22.162916",
     "status": "completed"
    },
    "tags": []
   },
   "outputs": [
    {
     "name": "stdout",
     "output_type": "stream",
     "text": [
      "최적 하이퍼파라미터 :  {'n_estimators': 140, 'random_state': 42}\n"
     ]
    }
   ],
   "source": [
    "from sklearn.ensemble import RandomForestRegressor\n",
    "\n",
    "# 모델 생성\n",
    "randomforest_model = RandomForestRegressor()\n",
    "# 그리드서치 객체 생성\n",
    "rf_params = {'random_state':[42], 'n_estimators':[100, 120, 140]}\n",
    "gridsearch_random_forest_model = GridSearchCV(estimator=randomforest_model,\n",
    "                                              param_grid=rf_params,\n",
    "                                              scoring=rmsle_scorer,\n",
    "                                              cv=5)\n",
    "\n",
    "# 그리드서치 수행\n",
    "log_y = np.log(y)\n",
    "gridsearch_random_forest_model.fit(X_train, log_y)\n",
    "print(\"최적 하이퍼파라미터 : \", gridsearch_random_forest_model.best_params_)"
   ]
  },
  {
   "cell_type": "markdown",
   "id": "4af24d07",
   "metadata": {
    "papermill": {
     "duration": 0.024273,
     "end_time": "2022-07-17T13:56:10.775906",
     "exception": false,
     "start_time": "2022-07-17T13:56:10.751633",
     "status": "completed"
    },
    "tags": []
   },
   "source": [
    "#### 모델 성능 검증"
   ]
  },
  {
   "cell_type": "code",
   "execution_count": 48,
   "id": "802d8523",
   "metadata": {
    "execution": {
     "iopub.execute_input": "2022-07-17T13:56:10.827404Z",
     "iopub.status.busy": "2022-07-17T13:56:10.827006Z",
     "iopub.status.idle": "2022-07-17T13:56:11.142547Z",
     "shell.execute_reply": "2022-07-17T13:56:11.141407Z"
    },
    "papermill": {
     "duration": 0.344526,
     "end_time": "2022-07-17T13:56:11.145137",
     "exception": false,
     "start_time": "2022-07-17T13:56:10.800611",
     "status": "completed"
    },
    "tags": []
   },
   "outputs": [
    {
     "name": "stdout",
     "output_type": "stream",
     "text": [
      "랜덤 포레스트 회귀 RMSLE 값 : 0.1127\n"
     ]
    }
   ],
   "source": [
    "# 예측\n",
    "preds = gridsearch_random_forest_model.best_estimator_.predict(X_train)\n",
    "\n",
    "# 평가\n",
    "print(f\"랜덤 포레스트 회귀 RMSLE 값 : {rmsle(log_y, preds, True):.4f}\")"
   ]
  },
  {
   "cell_type": "code",
   "execution_count": 49,
   "id": "291415fb",
   "metadata": {
    "execution": {
     "iopub.execute_input": "2022-07-17T13:56:11.197403Z",
     "iopub.status.busy": "2022-07-17T13:56:11.197012Z",
     "iopub.status.idle": "2022-07-17T13:56:11.775419Z",
     "shell.execute_reply": "2022-07-17T13:56:11.774661Z"
    },
    "papermill": {
     "duration": 0.607533,
     "end_time": "2022-07-17T13:56:11.777436",
     "exception": false,
     "start_time": "2022-07-17T13:56:11.169903",
     "status": "completed"
    },
    "tags": []
   },
   "outputs": [
    {
     "data": {
      "text/plain": [
       "Text(0.5, 1.0, 'Predicted Test Data Distribution')"
      ]
     },
     "execution_count": 49,
     "metadata": {},
     "output_type": "execute_result"
    },
    {
     "data": {
      "image/png": "[encoded data removed]",
      "text/plain": [
       "<Figure size 720x288 with 2 Axes>"
      ]
     },
     "metadata": {
      "needs_background": "light"
     },
     "output_type": "display_data"
    }
   ],
   "source": [
    "import seaborn as sns\n",
    "import matplotlib.pyplot as plt\n",
    "\n",
    "randomforest_preds = gridsearch_random_forest_model.best_estimator_.predict(X_test)\n",
    "\n",
    "figure, axes = plt.subplots(ncols=2)\n",
    "figure.set_size_inches(10, 4)\n",
    "\n",
    "sns.histplot(y, bins=50, ax=axes[0])\n",
    "axes[0].set_title('Train Data Distribution')\n",
    "sns.histplot(np.exp(randomforest_preds), bins=50, ax=axes[1])\n",
    "axes[1].set_title('Predicted Test Data Distribution')"
   ]
  },
  {
   "cell_type": "code",
   "execution_count": 50,
   "id": "49f457b3",
   "metadata": {
    "execution": {
     "iopub.execute_input": "2022-07-17T13:56:11.830939Z",
     "iopub.status.busy": "2022-07-17T13:56:11.830135Z",
     "iopub.status.idle": "2022-07-17T13:56:11.853786Z",
     "shell.execute_reply": "2022-07-17T13:56:11.852961Z"
    },
    "papermill": {
     "duration": 0.052641,
     "end_time": "2022-07-17T13:56:11.856034",
     "exception": false,
     "start_time": "2022-07-17T13:56:11.803393",
     "status": "completed"
    },
    "tags": []
   },
   "outputs": [],
   "source": [
    "submission['count'] = np.exp(randomforest_preds) # 지수변환\n",
    "submission.to_csv('submission.csv', index=False)"
   ]
  },
  {
   "cell_type": "code",
   "execution_count": null,
   "id": "f1547ac2",
   "metadata": {
    "papermill": {
     "duration": 0.024967,
     "end_time": "2022-07-17T13:56:11.906200",
     "exception": false,
     "start_time": "2022-07-17T13:56:11.881233",
     "status": "completed"
    },
    "tags": []
   },
   "outputs": [],
   "source": []
  }
 ],
 "metadata": {
  "kernelspec": {
   "display_name": "Python 3",
   "language": "python",
   "name": "python3"
  },
  "language_info": {
   "codemirror_mode": {
    "name": "ipython",
    "version": 3
   },
   "file_extension": ".py",
   "mimetype": "text/x-python",
   "name": "python",
   "nbconvert_exporter": "python",
   "pygments_lexer": "ipython3",
   "version": "3.7.12"
  },
  "papermill": {
   "default_parameters": {},
   "duration": 91.633629,
   "end_time": "2022-07-17T13:56:12.853716",
   "environment_variables": {},
   "exception": null,
   "input_path": "__notebook__.ipynb",
   "output_path": "__notebook__.ipynb",
   "parameters": {},
   "start_time": "2022-07-17T13:54:41.220087",
   "version": "2.3.4"
  }
 },
 "nbformat": 4,
 "nbformat_minor": 5
}
