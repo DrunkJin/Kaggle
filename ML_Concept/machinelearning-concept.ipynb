{
 "cells": [
  {
   "cell_type": "markdown",
   "id": "98109ca4",
   "metadata": {
    "papermill": {
     "duration": 0.018288,
     "end_time": "2022-07-16T16:03:19.274816",
     "exception": false,
     "start_time": "2022-07-16T16:03:19.256528",
     "status": "completed"
    },
    "tags": []
   },
   "source": [
    "# Regression Evaluation Metric"
   ]
  },
  {
   "cell_type": "code",
   "execution_count": 1,
   "id": "4a8f85bf",
   "metadata": {
    "_cell_guid": "b1076dfc-b9ad-4769-8c92-a6c4dae69d19",
    "_uuid": "8f2839f25d086af736a60e9eeb907d3b93b6e0e5",
    "execution": {
     "iopub.execute_input": "2022-07-16T16:03:19.327833Z",
     "iopub.status.busy": "2022-07-16T16:03:19.327026Z",
     "iopub.status.idle": "2022-07-16T16:03:20.338879Z",
     "shell.execute_reply": "2022-07-16T16:03:20.340372Z",
     "shell.execute_reply.started": "2022-07-16T15:41:02.580222Z"
    },
    "papermill": {
     "duration": 1.045871,
     "end_time": "2022-07-16T16:03:20.340781",
     "exception": false,
     "start_time": "2022-07-16T16:03:19.294910",
     "status": "completed"
    },
    "tags": []
   },
   "outputs": [
    {
     "name": "stdout",
     "output_type": "stream",
     "text": [
      "MAE:\t 0.5385\n",
      "MSE:\t 0.6923\n",
      "RMSE:\t 0.8321\n",
      "MSLE:\t 0.0296\n",
      "RMSLE:\t 0.1721\n",
      "R2:\t 0.8617\n"
     ]
    }
   ],
   "source": [
    "import numpy as np\n",
    "# MAE, MSE, MSLE, R2 임포트\n",
    "from sklearn.metrics import mean_absolute_error, mean_squared_error, mean_squared_log_error, r2_score\n",
    "\n",
    "true = np.array([1, 2, 3, 2, 3, 5, 4, 6, 5, 6, 7, 8, 8]) # 실제값\n",
    "preds = np.array([1, 1, 2, 2, 3, 4, 4, 5, 5, 7, 7, 6, 8]) # 예측값\n",
    "\n",
    "MAE = mean_absolute_error(true, preds)\n",
    "MSE = mean_squared_error(true, preds)\n",
    "RMSE = np.sqrt(MSE)\n",
    "MSLE = mean_squared_log_error(true, preds)\n",
    "RMSLE = np.sqrt(mean_squared_log_error(true, preds))\n",
    "R2 = r2_score(true, preds)\n",
    "\n",
    "# 출력\n",
    "print(f'MAE:\\t {MAE:.4f}')\n",
    "print(f'MSE:\\t {MSE:.4f}')\n",
    "print(f'RMSE:\\t {RMSE:.4f}')\n",
    "print(f'MSLE:\\t {MSLE:.4f}')\n",
    "print(f'RMSLE:\\t {RMSLE:.4f}')\n",
    "print(f'R2:\\t {R2:.4f}')"
   ]
  },
  {
   "cell_type": "markdown",
   "id": "525ea411",
   "metadata": {
    "papermill": {
     "duration": 0.016788,
     "end_time": "2022-07-16T16:03:20.377784",
     "exception": false,
     "start_time": "2022-07-16T16:03:20.360996",
     "status": "completed"
    },
    "tags": []
   },
   "source": [
    "# Cateforical Data Encoding"
   ]
  },
  {
   "cell_type": "markdown",
   "id": "14d88688",
   "metadata": {
    "papermill": {
     "duration": 0.016835,
     "end_time": "2022-07-16T16:03:20.411876",
     "exception": false,
     "start_time": "2022-07-16T16:03:20.395041",
     "status": "completed"
    },
    "tags": []
   },
   "source": [
    "#### 레이블 인코딩"
   ]
  },
  {
   "cell_type": "code",
   "execution_count": 2,
   "id": "11f0582b",
   "metadata": {
    "execution": {
     "iopub.execute_input": "2022-07-16T16:03:20.452531Z",
     "iopub.status.busy": "2022-07-16T16:03:20.451806Z",
     "iopub.status.idle": "2022-07-16T16:03:20.455481Z",
     "shell.execute_reply": "2022-07-16T16:03:20.454770Z",
     "shell.execute_reply.started": "2022-07-16T15:45:37.231596Z"
    },
    "papermill": {
     "duration": 0.026746,
     "end_time": "2022-07-16T16:03:20.455629",
     "exception": false,
     "start_time": "2022-07-16T16:03:20.428883",
     "status": "completed"
    },
    "tags": []
   },
   "outputs": [
    {
     "name": "stdout",
     "output_type": "stream",
     "text": [
      "레이블 인코딩 적용 후 데이터: [3 2 1 0 2 1 1 3]\n"
     ]
    }
   ],
   "source": [
    "from sklearn.preprocessing import LabelEncoder # 레이블 인코더\n",
    "\n",
    "fruits = ['사과', '블루베리', '바나나', '귤', '블루베리', '바나나', '바나나', '사과']\n",
    "\n",
    "# 레이블 인코더 생성\n",
    "label_encoder = LabelEncoder()\n",
    "# 레이블 인코딩 적용\n",
    "fruits_label_encoded = label_encoder.fit_transform(fruits)\n",
    "\n",
    "print('레이블 인코딩 적용 후 데이터:', fruits_label_encoded)"
   ]
  },
  {
   "cell_type": "markdown",
   "id": "2d0a1cd0",
   "metadata": {
    "papermill": {
     "duration": 0.01711,
     "end_time": "2022-07-16T16:03:20.490091",
     "exception": false,
     "start_time": "2022-07-16T16:03:20.472981",
     "status": "completed"
    },
    "tags": []
   },
   "source": [
    "#### 원핫 인코딩"
   ]
  },
  {
   "cell_type": "code",
   "execution_count": 3,
   "id": "88cee238",
   "metadata": {
    "execution": {
     "iopub.execute_input": "2022-07-16T16:03:20.534631Z",
     "iopub.status.busy": "2022-07-16T16:03:20.533818Z",
     "iopub.status.idle": "2022-07-16T16:03:20.540799Z",
     "shell.execute_reply": "2022-07-16T16:03:20.541659Z",
     "shell.execute_reply.started": "2022-07-16T15:46:17.958217Z"
    },
    "papermill": {
     "duration": 0.034389,
     "end_time": "2022-07-16T16:03:20.541883",
     "exception": false,
     "start_time": "2022-07-16T16:03:20.507494",
     "status": "completed"
    },
    "tags": []
   },
   "outputs": [
    {
     "name": "stdout",
     "output_type": "stream",
     "text": [
      "원-핫 인코딩 적용 후 데이터:\n",
      " [[0. 0. 0. 1.]\n",
      " [0. 0. 1. 0.]\n",
      " [0. 1. 0. 0.]\n",
      " [1. 0. 0. 0.]\n",
      " [0. 0. 1. 0.]\n",
      " [0. 1. 0. 0.]\n",
      " [0. 1. 0. 0.]\n",
      " [0. 0. 0. 1.]]\n"
     ]
    }
   ],
   "source": [
    "from sklearn.preprocessing import LabelEncoder, OneHotEncoder\n",
    "\n",
    "fruits = ['사과', '블루베리', '바나나', '귤', '블루베리', '바나나', '바나나', '사과']\n",
    "\n",
    "# 레이블 인코더, 원-핫 인코더 생성\n",
    "label_encoder = LabelEncoder()\n",
    "onehot_encoder = OneHotEncoder()\n",
    "\n",
    "# 레이블 인코딩 적용(문자 데이터 -> 숫자 데이터)\n",
    "fruits_label_encoded = label_encoder.fit_transform(fruits)\n",
    "# 원-핫 인코딩 적용\n",
    "fruits_onehot_encoded = onehot_encoder.fit_transform(fruits_label_encoded.reshape(-1, 1))\n",
    "\n",
    "print('원-핫 인코딩 적용 후 데이터:\\n', fruits_onehot_encoded.toarray())"
   ]
  },
  {
   "cell_type": "markdown",
   "id": "aac7331e",
   "metadata": {
    "papermill": {
     "duration": 0.01835,
     "end_time": "2022-07-16T16:03:20.579145",
     "exception": false,
     "start_time": "2022-07-16T16:03:20.560795",
     "status": "completed"
    },
    "tags": []
   },
   "source": [
    "#### 판다스의 get_dummies를 활용한 원핫인코딩"
   ]
  },
  {
   "cell_type": "code",
   "execution_count": 4,
   "id": "40046ee5",
   "metadata": {
    "execution": {
     "iopub.execute_input": "2022-07-16T16:03:20.634855Z",
     "iopub.status.busy": "2022-07-16T16:03:20.634119Z",
     "iopub.status.idle": "2022-07-16T16:03:20.648775Z",
     "shell.execute_reply": "2022-07-16T16:03:20.649373Z",
     "shell.execute_reply.started": "2022-07-16T15:47:16.653240Z"
    },
    "papermill": {
     "duration": 0.051771,
     "end_time": "2022-07-16T16:03:20.649562",
     "exception": false,
     "start_time": "2022-07-16T16:03:20.597791",
     "status": "completed"
    },
    "tags": []
   },
   "outputs": [
    {
     "data": {
      "text/html": [
       "<div>\n",
       "<style scoped>\n",
       "    .dataframe tbody tr th:only-of-type {\n",
       "        vertical-align: middle;\n",
       "    }\n",
       "\n",
       "    .dataframe tbody tr th {\n",
       "        vertical-align: top;\n",
       "    }\n",
       "\n",
       "    .dataframe thead th {\n",
       "        text-align: right;\n",
       "    }\n",
       "</style>\n",
       "<table border=\"1\" class=\"dataframe\">\n",
       "  <thead>\n",
       "    <tr style=\"text-align: right;\">\n",
       "      <th></th>\n",
       "      <th>귤</th>\n",
       "      <th>바나나</th>\n",
       "      <th>블루베리</th>\n",
       "      <th>사과</th>\n",
       "    </tr>\n",
       "  </thead>\n",
       "  <tbody>\n",
       "    <tr>\n",
       "      <th>0</th>\n",
       "      <td>0</td>\n",
       "      <td>0</td>\n",
       "      <td>0</td>\n",
       "      <td>1</td>\n",
       "    </tr>\n",
       "    <tr>\n",
       "      <th>1</th>\n",
       "      <td>0</td>\n",
       "      <td>0</td>\n",
       "      <td>1</td>\n",
       "      <td>0</td>\n",
       "    </tr>\n",
       "    <tr>\n",
       "      <th>2</th>\n",
       "      <td>0</td>\n",
       "      <td>1</td>\n",
       "      <td>0</td>\n",
       "      <td>0</td>\n",
       "    </tr>\n",
       "    <tr>\n",
       "      <th>3</th>\n",
       "      <td>1</td>\n",
       "      <td>0</td>\n",
       "      <td>0</td>\n",
       "      <td>0</td>\n",
       "    </tr>\n",
       "    <tr>\n",
       "      <th>4</th>\n",
       "      <td>0</td>\n",
       "      <td>0</td>\n",
       "      <td>1</td>\n",
       "      <td>0</td>\n",
       "    </tr>\n",
       "    <tr>\n",
       "      <th>5</th>\n",
       "      <td>0</td>\n",
       "      <td>1</td>\n",
       "      <td>0</td>\n",
       "      <td>0</td>\n",
       "    </tr>\n",
       "    <tr>\n",
       "      <th>6</th>\n",
       "      <td>0</td>\n",
       "      <td>1</td>\n",
       "      <td>0</td>\n",
       "      <td>0</td>\n",
       "    </tr>\n",
       "    <tr>\n",
       "      <th>7</th>\n",
       "      <td>0</td>\n",
       "      <td>0</td>\n",
       "      <td>0</td>\n",
       "      <td>1</td>\n",
       "    </tr>\n",
       "  </tbody>\n",
       "</table>\n",
       "</div>"
      ],
      "text/plain": [
       "   귤  바나나  블루베리  사과\n",
       "0  0    0     0   1\n",
       "1  0    0     1   0\n",
       "2  0    1     0   0\n",
       "3  1    0     0   0\n",
       "4  0    0     1   0\n",
       "5  0    1     0   0\n",
       "6  0    1     0   0\n",
       "7  0    0     0   1"
      ]
     },
     "execution_count": 4,
     "metadata": {},
     "output_type": "execute_result"
    }
   ],
   "source": [
    "import pandas as pd\n",
    "\n",
    "pd.get_dummies(fruits)"
   ]
  },
  {
   "cell_type": "markdown",
   "id": "604ead24",
   "metadata": {
    "papermill": {
     "duration": 0.018996,
     "end_time": "2022-07-16T16:03:20.687582",
     "exception": false,
     "start_time": "2022-07-16T16:03:20.668586",
     "status": "completed"
    },
    "tags": []
   },
   "source": [
    "# Feature Scaling"
   ]
  },
  {
   "cell_type": "markdown",
   "id": "ba2da321",
   "metadata": {
    "papermill": {
     "duration": 0.019528,
     "end_time": "2022-07-16T16:03:20.726307",
     "exception": false,
     "start_time": "2022-07-16T16:03:20.706779",
     "status": "completed"
    },
    "tags": []
   },
   "source": [
    "#### Min-Max 정규화"
   ]
  },
  {
   "cell_type": "code",
   "execution_count": 5,
   "id": "402661bf",
   "metadata": {
    "execution": {
     "iopub.execute_input": "2022-07-16T16:03:20.775608Z",
     "iopub.status.busy": "2022-07-16T16:03:20.774684Z",
     "iopub.status.idle": "2022-07-16T16:03:20.779745Z",
     "shell.execute_reply": "2022-07-16T16:03:20.778649Z",
     "shell.execute_reply.started": "2022-07-16T15:50:18.230638Z"
    },
    "papermill": {
     "duration": 0.034314,
     "end_time": "2022-07-16T16:03:20.779995",
     "exception": false,
     "start_time": "2022-07-16T16:03:20.745681",
     "status": "completed"
    },
    "tags": []
   },
   "outputs": [
    {
     "name": "stdout",
     "output_type": "stream",
     "text": [
      "      키  몸무게\n",
      "서진  1.7   75\n",
      "미영  1.5   55\n",
      "민수  1.8   60\n"
     ]
    }
   ],
   "source": [
    "import pandas as pd\n",
    "\n",
    "height_weight_dict = {'키': [1.7, 1.5, 1.8], '몸무게': [75, 55, 60]}\n",
    "df = pd.DataFrame(height_weight_dict, index=['서진', '미영', '민수'])\n",
    "\n",
    "print(df)"
   ]
  },
  {
   "cell_type": "code",
   "execution_count": 6,
   "id": "1a67306e",
   "metadata": {
    "execution": {
     "iopub.execute_input": "2022-07-16T16:03:20.831101Z",
     "iopub.status.busy": "2022-07-16T16:03:20.830144Z",
     "iopub.status.idle": "2022-07-16T16:03:20.833917Z",
     "shell.execute_reply": "2022-07-16T16:03:20.834782Z",
     "shell.execute_reply.started": "2022-07-16T15:50:25.575875Z"
    },
    "papermill": {
     "duration": 0.033982,
     "end_time": "2022-07-16T16:03:20.835065",
     "exception": false,
     "start_time": "2022-07-16T16:03:20.801083",
     "status": "completed"
    },
    "tags": []
   },
   "outputs": [
    {
     "name": "stdout",
     "output_type": "stream",
     "text": [
      "[[0.66666667 1.        ]\n",
      " [0.         0.        ]\n",
      " [1.         0.25      ]]\n"
     ]
    }
   ],
   "source": [
    "from sklearn.preprocessing import MinMaxScaler\n",
    "\n",
    "# min-max 정규화 객체 생성\n",
    "scaler = MinMaxScaler()\n",
    "\n",
    "# min-max 정규화 적용\n",
    "scaler.fit(df)\n",
    "df_scaled = scaler.transform(df)\n",
    "\n",
    "print(df_scaled)"
   ]
  },
  {
   "cell_type": "code",
   "execution_count": 7,
   "id": "ce6f1d80",
   "metadata": {
    "execution": {
     "iopub.execute_input": "2022-07-16T16:03:20.889407Z",
     "iopub.status.busy": "2022-07-16T16:03:20.888657Z",
     "iopub.status.idle": "2022-07-16T16:03:20.892223Z",
     "shell.execute_reply": "2022-07-16T16:03:20.892829Z",
     "shell.execute_reply.started": "2022-07-16T15:51:10.212554Z"
    },
    "papermill": {
     "duration": 0.035807,
     "end_time": "2022-07-16T16:03:20.893039",
     "exception": false,
     "start_time": "2022-07-16T16:03:20.857232",
     "status": "completed"
    },
    "tags": []
   },
   "outputs": [
    {
     "name": "stdout",
     "output_type": "stream",
     "text": [
      "[[0.66666667 1.        ]\n",
      " [0.         0.        ]\n",
      " [1.         0.25      ]]\n"
     ]
    }
   ],
   "source": [
    "# min-max 정규화 객체 생성\n",
    "scaler = MinMaxScaler()\n",
    "\n",
    "# min-max 정규화 적용\n",
    "df_scaled = scaler.fit_transform(df)\n",
    "\n",
    "print(df_scaled)"
   ]
  },
  {
   "cell_type": "markdown",
   "id": "f063e681",
   "metadata": {
    "execution": {
     "iopub.execute_input": "2022-07-16T15:53:55.720315Z",
     "iopub.status.busy": "2022-07-16T15:53:55.719943Z",
     "iopub.status.idle": "2022-07-16T15:53:55.834558Z",
     "shell.execute_reply": "2022-07-16T15:53:55.833094Z",
     "shell.execute_reply.started": "2022-07-16T15:53:55.720275Z"
    },
    "papermill": {
     "duration": 0.020807,
     "end_time": "2022-07-16T16:03:20.934294",
     "exception": false,
     "start_time": "2022-07-16T16:03:20.913487",
     "status": "completed"
    },
    "tags": []
   },
   "source": [
    "데이터 하나에만 min-max정규화를 적용하고자 하면 fit_transform()을 쓰는게 더 편리함.  \n",
    "그러나 하나에 맞춰놓은 범위를 다른 데이터에도 사용하고자 하면 fit()과 transform()을 따로 써야함.  \n",
    "```python\n",
    "scaler = MinMaxScaler()\n",
    "scaler.fit(df)\n",
    "df_scaled = scaler.transform(df)\n",
    "df_scaled2 = scaler.transform(df2)\n",
    "df_scaled3 = scaler.transform(df3)\n",
    "```"
   ]
  },
  {
   "cell_type": "markdown",
   "id": "97a9363f",
   "metadata": {
    "papermill": {
     "duration": 0.019977,
     "end_time": "2022-07-16T16:03:20.974887",
     "exception": false,
     "start_time": "2022-07-16T16:03:20.954910",
     "status": "completed"
    },
    "tags": []
   },
   "source": [
    "#### Standardization(표준화)"
   ]
  },
  {
   "cell_type": "code",
   "execution_count": 8,
   "id": "5a8357b5",
   "metadata": {
    "execution": {
     "iopub.execute_input": "2022-07-16T16:03:21.026662Z",
     "iopub.status.busy": "2022-07-16T16:03:21.025902Z",
     "iopub.status.idle": "2022-07-16T16:03:21.030820Z",
     "shell.execute_reply": "2022-07-16T16:03:21.030207Z",
     "shell.execute_reply.started": "2022-07-16T15:51:43.141104Z"
    },
    "papermill": {
     "duration": 0.035507,
     "end_time": "2022-07-16T16:03:21.030987",
     "exception": false,
     "start_time": "2022-07-16T16:03:20.995480",
     "status": "completed"
    },
    "tags": []
   },
   "outputs": [
    {
     "name": "stdout",
     "output_type": "stream",
     "text": [
      "[[ 0.26726124  1.37281295]\n",
      " [-1.33630621 -0.98058068]\n",
      " [ 1.06904497 -0.39223227]]\n"
     ]
    }
   ],
   "source": [
    "from sklearn.preprocessing import StandardScaler\n",
    "\n",
    "# StandardScaler 객체 생성\n",
    "scaler = StandardScaler()\n",
    "\n",
    "# 표준화 적용\n",
    "df_scaled = scaler.fit_transform(df)\n",
    "\n",
    "print(df_scaled)"
   ]
  },
  {
   "cell_type": "markdown",
   "id": "ad7a1fbd",
   "metadata": {
    "papermill": {
     "duration": 0.020115,
     "end_time": "2022-07-16T16:03:21.071886",
     "exception": false,
     "start_time": "2022-07-16T16:03:21.051771",
     "status": "completed"
    },
    "tags": []
   },
   "source": [
    "# CrossValidation\n",
    "# K-fold"
   ]
  },
  {
   "cell_type": "code",
   "execution_count": 9,
   "id": "7a84305f",
   "metadata": {
    "execution": {
     "iopub.execute_input": "2022-07-16T16:03:21.120063Z",
     "iopub.status.busy": "2022-07-16T16:03:21.119225Z",
     "iopub.status.idle": "2022-07-16T16:03:21.142213Z",
     "shell.execute_reply": "2022-07-16T16:03:21.141516Z",
     "shell.execute_reply.started": "2022-07-16T16:02:26.972449Z"
    },
    "papermill": {
     "duration": 0.049997,
     "end_time": "2022-07-16T16:03:21.142414",
     "exception": false,
     "start_time": "2022-07-16T16:03:21.092417",
     "status": "completed"
    },
    "tags": []
   },
   "outputs": [
    {
     "name": "stdout",
     "output_type": "stream",
     "text": [
      "훈련 데이터: [2 3 4 5 6 7 8 9], 검증 데이터: [0 1]\n",
      "훈련 데이터: [0 1 4 5 6 7 8 9], 검증 데이터: [2 3]\n",
      "훈련 데이터: [0 1 2 3 6 7 8 9], 검증 데이터: [4 5]\n",
      "훈련 데이터: [0 1 2 3 4 5 8 9], 검증 데이터: [6 7]\n",
      "훈련 데이터: [0 1 2 3 4 5 6 7], 검증 데이터: [8 9]\n"
     ]
    }
   ],
   "source": [
    "import numpy as np\n",
    "from sklearn.model_selection import KFold\n",
    "\n",
    "data = np.array([0, 1, 2, 3, 4, 5, 6, 7, 8, 9])\n",
    "\n",
    "folds = KFold(n_splits=5, shuffle=False)\n",
    "\n",
    "for train_idx, valid_idx in folds.split(data):\n",
    "    print(f'훈련 데이터: {data[train_idx]}, 검증 데이터: {data[valid_idx]}')"
   ]
  },
  {
   "cell_type": "code",
   "execution_count": 10,
   "id": "aabdb35a",
   "metadata": {
    "execution": {
     "iopub.execute_input": "2022-07-16T16:03:21.193310Z",
     "iopub.status.busy": "2022-07-16T16:03:21.192561Z",
     "iopub.status.idle": "2022-07-16T16:03:21.198381Z",
     "shell.execute_reply": "2022-07-16T16:03:21.197732Z",
     "shell.execute_reply.started": "2022-07-16T16:02:31.971026Z"
    },
    "papermill": {
     "duration": 0.034989,
     "end_time": "2022-07-16T16:03:21.198546",
     "exception": false,
     "start_time": "2022-07-16T16:03:21.163557",
     "status": "completed"
    },
    "tags": []
   },
   "outputs": [
    {
     "name": "stdout",
     "output_type": "stream",
     "text": [
      "훈련 데이터: [0 1 2 4 6 7 8 9], 검증 데이터: [3 5]\n",
      "훈련 데이터: [0 1 3 4 5 6 7 9], 검증 데이터: [2 8]\n",
      "훈련 데이터: [0 1 2 3 4 5 6 8], 검증 데이터: [7 9]\n",
      "훈련 데이터: [0 2 3 5 6 7 8 9], 검증 데이터: [1 4]\n",
      "훈련 데이터: [1 2 3 4 5 7 8 9], 검증 데이터: [0 6]\n"
     ]
    }
   ],
   "source": [
    "folds = KFold(n_splits=5, shuffle=True)\n",
    "\n",
    "for train_idx, valid_idx in folds.split(data):\n",
    "    print(f'훈련 데이터: {data[train_idx]}, 검증 데이터: {data[valid_idx]}')"
   ]
  },
  {
   "cell_type": "markdown",
   "id": "05591dd9",
   "metadata": {
    "papermill": {
     "duration": 0.021209,
     "end_time": "2022-07-16T16:03:21.241379",
     "exception": false,
     "start_time": "2022-07-16T16:03:21.220170",
     "status": "completed"
    },
    "tags": []
   },
   "source": [
    "# Stratified K-Fold (층화 K폴드)"
   ]
  },
  {
   "cell_type": "code",
   "execution_count": 11,
   "id": "a86219b6",
   "metadata": {
    "execution": {
     "iopub.execute_input": "2022-07-16T16:03:21.292676Z",
     "iopub.status.busy": "2022-07-16T16:03:21.291889Z",
     "iopub.status.idle": "2022-07-16T16:03:21.300710Z",
     "shell.execute_reply": "2022-07-16T16:03:21.300090Z",
     "shell.execute_reply.started": "2022-07-16T16:02:50.829542Z"
    },
    "papermill": {
     "duration": 0.038177,
     "end_time": "2022-07-16T16:03:21.300874",
     "exception": false,
     "start_time": "2022-07-16T16:03:21.262697",
     "status": "completed"
    },
    "tags": []
   },
   "outputs": [
    {
     "name": "stdout",
     "output_type": "stream",
     "text": [
      "Fold 1 검증 데이터 타깃 값:\n",
      "['일반' '일반' '일반' '일반' '일반' '일반' '일반' '일반' '일반' '일반'] \n",
      "\n",
      "Fold 2 검증 데이터 타깃 값:\n",
      "['일반' '일반' '일반' '일반' '일반' '일반' '일반' '일반' '일반' '일반'] \n",
      "\n",
      "Fold 3 검증 데이터 타깃 값:\n",
      "['스팸' '스팸' '일반' '일반' '일반' '일반' '일반' '일반' '일반' '일반'] \n",
      "\n",
      "Fold 4 검증 데이터 타깃 값:\n",
      "['스팸' '일반' '일반' '일반' '일반' '일반' '일반' '일반' '일반' '일반'] \n",
      "\n",
      "Fold 5 검증 데이터 타깃 값:\n",
      "['스팸' '스팸' '일반' '일반' '일반' '일반' '일반' '일반' '일반' '일반'] \n",
      "\n"
     ]
    }
   ],
   "source": [
    "y = np.array(['스팸']*5 + ['일반']*45)\n",
    "\n",
    "folds = KFold(n_splits=5, shuffle=True) # K 폴드 교차 검증\n",
    "\n",
    "for idx, (train_idx, valid_idx) in enumerate(folds.split(y)):\n",
    "    print(f'Fold {idx+1} 검증 데이터 타깃 값:')\n",
    "    print(y[valid_idx], '\\n')"
   ]
  }
 ],
 "metadata": {
  "kernelspec": {
   "display_name": "Python 3.9.10 64-bit",
   "language": "python",
   "name": "python3"
  },
  "language_info": {
   "codemirror_mode": {
    "name": "ipython",
    "version": 3
   },
   "file_extension": ".py",
   "mimetype": "text/x-python",
   "name": "python",
   "nbconvert_exporter": "python",
   "pygments_lexer": "ipython3",
   "version": "3.9.10"
  },
  "papermill": {
   "default_parameters": {},
   "duration": 13.077296,
   "end_time": "2022-07-16T16:03:22.034346",
   "environment_variables": {},
   "exception": null,
   "input_path": "__notebook__.ipynb",
   "output_path": "__notebook__.ipynb",
   "parameters": {},
   "start_time": "2022-07-16T16:03:08.957050",
   "version": "2.3.3"
  },
  "vscode": {
   "interpreter": {
    "hash": "4c04ba04c06673c828b3b94af1bd456ef4bcd84dcef24457eac8f4df6b43b863"
   }
  }
 },
 "nbformat": 4,
 "nbformat_minor": 5
}
