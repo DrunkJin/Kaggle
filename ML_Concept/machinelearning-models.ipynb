{
 "cells": [
  {
   "cell_type": "markdown",
   "id": "20db2f48",
   "metadata": {
    "_cell_guid": "b1076dfc-b9ad-4769-8c92-a6c4dae69d19",
    "_uuid": "8f2839f25d086af736a60e9eeb907d3b93b6e0e5",
    "papermill": {
     "duration": 0.005217,
     "end_time": "2022-07-16T16:22:29.569670",
     "exception": false,
     "start_time": "2022-07-16T16:22:29.564453",
     "status": "completed"
    },
    "tags": []
   },
   "source": [
    "# Linear Regression 선형회귀모델"
   ]
  },
  {
   "cell_type": "markdown",
   "id": "563b038c",
   "metadata": {
    "papermill": {
     "duration": 0.003836,
     "end_time": "2022-07-16T16:22:29.577800",
     "exception": false,
     "start_time": "2022-07-16T16:22:29.573964",
     "status": "completed"
    },
    "tags": []
   },
   "source": [
    "데이터 생성  \n",
    "y = 2x + 5 에 근사하는 데이터 생성"
   ]
  },
  {
   "cell_type": "code",
   "execution_count": 1,
   "id": "28f5d352",
   "metadata": {
    "execution": {
     "iopub.execute_input": "2022-07-16T16:22:29.587903Z",
     "iopub.status.busy": "2022-07-16T16:22:29.587443Z",
     "iopub.status.idle": "2022-07-16T16:22:29.797062Z",
     "shell.execute_reply": "2022-07-16T16:22:29.796006Z"
    },
    "papermill": {
     "duration": 0.217958,
     "end_time": "2022-07-16T16:22:29.799845",
     "exception": false,
     "start_time": "2022-07-16T16:22:29.581887",
     "status": "completed"
    },
    "tags": []
   },
   "outputs": [
    {
     "data": {
      "image/png": "[encoded data removed]",
      "text/plain": [
       "<Figure size 432x288 with 1 Axes>"
      ]
     },
     "metadata": {
      "needs_background": "light"
     },
     "output_type": "display_data"
    }
   ],
   "source": [
    "import numpy as np\n",
    "import matplotlib.pyplot as plt\n",
    "\n",
    "np.random.seed(0) # 시드값 고정\n",
    "\n",
    "w0 = 5 # y절편\n",
    "w1 = 2 # 회귀 계수\n",
    "noise = np.random.randn(100, 1) # 노이즈\n",
    "\n",
    "x = 4 * np.random.rand(100, 1) # 0 ~ 4 사이 실수값 100개 생성 (x값)\n",
    "y = w1*x + w0 + noise # y값\n",
    "\n",
    "plt.scatter(x, y);"
   ]
  },
  {
   "cell_type": "markdown",
   "id": "afbc0bf1",
   "metadata": {
    "papermill": {
     "duration": 0.00416,
     "end_time": "2022-07-16T16:22:29.808597",
     "exception": false,
     "start_time": "2022-07-16T16:22:29.804437",
     "status": "completed"
    },
    "tags": []
   },
   "source": [
    "모델 훈련"
   ]
  },
  {
   "cell_type": "code",
   "execution_count": 2,
   "id": "0bac4f4d",
   "metadata": {
    "execution": {
     "iopub.execute_input": "2022-07-16T16:22:29.819223Z",
     "iopub.status.busy": "2022-07-16T16:22:29.818471Z",
     "iopub.status.idle": "2022-07-16T16:22:30.887113Z",
     "shell.execute_reply": "2022-07-16T16:22:30.885855Z"
    },
    "papermill": {
     "duration": 1.077163,
     "end_time": "2022-07-16T16:22:30.890060",
     "exception": false,
     "start_time": "2022-07-16T16:22:29.812897",
     "status": "completed"
    },
    "tags": []
   },
   "outputs": [
    {
     "name": "stdout",
     "output_type": "stream",
     "text": [
      "y절편(w0): [5.09772262]\n",
      "회귀계수(w1): [[1.9808382]]\n"
     ]
    }
   ],
   "source": [
    "from sklearn.linear_model import LinearRegression\n",
    "\n",
    "linear_reg_model = LinearRegression() # 선형 회귀 모델\n",
    "linear_reg_model.fit(x, y) # 모델 훈련\n",
    "\n",
    "print('y절편(w0):', linear_reg_model.intercept_)\n",
    "print('회귀계수(w1):', linear_reg_model.coef_)"
   ]
  },
  {
   "cell_type": "markdown",
   "id": "e19e6d62",
   "metadata": {
    "papermill": {
     "duration": 0.004446,
     "end_time": "2022-07-16T16:22:30.899292",
     "exception": false,
     "start_time": "2022-07-16T16:22:30.894846",
     "status": "completed"
    },
    "tags": []
   },
   "source": [
    "회귀선 확인"
   ]
  },
  {
   "cell_type": "code",
   "execution_count": 3,
   "id": "8f5db356",
   "metadata": {
    "execution": {
     "iopub.execute_input": "2022-07-16T16:22:30.912560Z",
     "iopub.status.busy": "2022-07-16T16:22:30.911696Z",
     "iopub.status.idle": "2022-07-16T16:22:31.099966Z",
     "shell.execute_reply": "2022-07-16T16:22:31.098956Z"
    },
    "papermill": {
     "duration": 0.198462,
     "end_time": "2022-07-16T16:22:31.102112",
     "exception": false,
     "start_time": "2022-07-16T16:22:30.903650",
     "status": "completed"
    },
    "tags": []
   },
   "outputs": [
    {
     "data": {
      "image/png": "[encoded data removed]",
      "text/plain": [
       "<Figure size 432x288 with 1 Axes>"
      ]
     },
     "metadata": {
      "needs_background": "light"
     },
     "output_type": "display_data"
    }
   ],
   "source": [
    "y_pred = linear_reg_model.predict(x) # 예측\n",
    "\n",
    "plt.scatter(x, y)\n",
    "plt.plot(x, y_pred); # 선형 회귀선 그리기"
   ]
  },
  {
   "cell_type": "markdown",
   "id": "cf39c122",
   "metadata": {
    "papermill": {
     "duration": 0.004461,
     "end_time": "2022-07-16T16:22:31.111502",
     "exception": false,
     "start_time": "2022-07-16T16:22:31.107041",
     "status": "completed"
    },
    "tags": []
   },
   "source": [
    "# Decision Tree 결정트리(의사결정나무)"
   ]
  },
  {
   "cell_type": "code",
   "execution_count": 4,
   "id": "3f3daada",
   "metadata": {
    "execution": {
     "iopub.execute_input": "2022-07-16T16:22:31.122254Z",
     "iopub.status.busy": "2022-07-16T16:22:31.121884Z",
     "iopub.status.idle": "2022-07-16T16:22:31.274567Z",
     "shell.execute_reply": "2022-07-16T16:22:31.273323Z"
    },
    "papermill": {
     "duration": 0.16061,
     "end_time": "2022-07-16T16:22:31.276767",
     "exception": false,
     "start_time": "2022-07-16T16:22:31.116157",
     "status": "completed"
    },
    "tags": []
   },
   "outputs": [
    {
     "name": "stdout",
     "output_type": "stream",
     "text": [
      "결정 트리 정확도: 0.930\n"
     ]
    }
   ],
   "source": [
    "from sklearn.tree import DecisionTreeClassifier\n",
    "from sklearn.model_selection import train_test_split\n",
    "from sklearn.datasets import load_breast_cancer\n",
    "\n",
    "# 유방암 데이터 세트 불러오기\n",
    "cancer_data = load_breast_cancer()\n",
    "# 훈련, 테스트 데이터로 분리\n",
    "X_train, X_test, y_train, y_test = train_test_split(cancer_data['data'], \n",
    "                                                cancer_data['target'], \n",
    "                                                stratify=cancer_data['target'], \n",
    "                                                test_size=0.4, \n",
    "                                                random_state=42)\n",
    "\n",
    "decisiontree = DecisionTreeClassifier(random_state=42) # 결정 트리 정의\n",
    "decisiontree.fit(X_train, y_train) # 모델 훈련\n",
    "\n",
    "accuracy = decisiontree.score(X_test, y_test) # 정확도 측정\n",
    "\n",
    "# 테스트 데이터를 활용하여 결정 트리 모델 정확도 출력\n",
    "print(f'결정 트리 정확도: {accuracy:.3f}')"
   ]
  },
  {
   "cell_type": "markdown",
   "id": "de0c3a58",
   "metadata": {
    "papermill": {
     "duration": 0.004649,
     "end_time": "2022-07-16T16:22:31.286218",
     "exception": false,
     "start_time": "2022-07-16T16:22:31.281569",
     "status": "completed"
    },
    "tags": []
   },
   "source": [
    "# Random Forest  \n",
    "* 결정트리를 배깅 방식으로 결합한 모델"
   ]
  },
  {
   "cell_type": "code",
   "execution_count": 5,
   "id": "bef53010",
   "metadata": {
    "execution": {
     "iopub.execute_input": "2022-07-16T16:22:31.297132Z",
     "iopub.status.busy": "2022-07-16T16:22:31.296772Z",
     "iopub.status.idle": "2022-07-16T16:22:31.544552Z",
     "shell.execute_reply": "2022-07-16T16:22:31.543547Z"
    },
    "papermill": {
     "duration": 0.255839,
     "end_time": "2022-07-16T16:22:31.546766",
     "exception": false,
     "start_time": "2022-07-16T16:22:31.290927",
     "status": "completed"
    },
    "tags": []
   },
   "outputs": [
    {
     "name": "stdout",
     "output_type": "stream",
     "text": [
      "랜덤 포레스트 정확도: 0.939\n"
     ]
    }
   ],
   "source": [
    "from sklearn.ensemble import RandomForestClassifier\n",
    "from sklearn.model_selection import train_test_split\n",
    "from sklearn.datasets import load_breast_cancer\n",
    "\n",
    "# 유방암 데이터 세트 불러오기\n",
    "cancer_data = load_breast_cancer()\n",
    "# 훈련, 테스트 데이터로 분리\n",
    "X_train, X_test, y_train, y_test = train_test_split(cancer_data['data'], \n",
    "                                                cancer_data['target'], \n",
    "                                                stratify=cancer_data['target'], \n",
    "                                                test_size=0.4, \n",
    "                                                random_state=42)\n",
    "\n",
    "randomforest = RandomForestClassifier(random_state=42) # 랜덤 포레스트 정의\n",
    "randomforest.fit(X_train, y_train) # 모델 훈련\n",
    "\n",
    "accuracy = randomforest.score(X_test, y_test) # 정확도 측정\n",
    "\n",
    "# 테스트 데이터를 활용하여 랜덤 포레스트 모델 정확도 출력\n",
    "print(f'랜덤 포레스트 정확도: {accuracy:.3f}')"
   ]
  },
  {
   "cell_type": "markdown",
   "id": "6f54e0f2",
   "metadata": {
    "papermill": {
     "duration": 0.004574,
     "end_time": "2022-07-16T16:22:31.556359",
     "exception": false,
     "start_time": "2022-07-16T16:22:31.551785",
     "status": "completed"
    },
    "tags": []
   },
   "source": [
    "# 하이퍼파라미터 최적화"
   ]
  },
  {
   "cell_type": "markdown",
   "id": "29f2742f",
   "metadata": {
    "papermill": {
     "duration": 0.004849,
     "end_time": "2022-07-16T16:22:31.565878",
     "exception": false,
     "start_time": "2022-07-16T16:22:31.561029",
     "status": "completed"
    },
    "tags": []
   },
   "source": [
    "* 그리드서치\n",
    "* 랜덤서치\n",
    "* 베이지안 최적화\n",
    "\n",
    "### 베이지안 최적화"
   ]
  },
  {
   "cell_type": "markdown",
   "id": "1605d636",
   "metadata": {
    "papermill": {
     "duration": 0.004744,
     "end_time": "2022-07-16T16:22:31.575435",
     "exception": false,
     "start_time": "2022-07-16T16:22:31.570691",
     "status": "completed"
    },
    "tags": []
   },
   "source": [
    "1) 하이퍼 파라미터 탐색 범위 설정¶"
   ]
  },
  {
   "cell_type": "code",
   "execution_count": 6,
   "id": "1806d180",
   "metadata": {
    "execution": {
     "iopub.execute_input": "2022-07-16T16:22:31.586840Z",
     "iopub.status.busy": "2022-07-16T16:22:31.585922Z",
     "iopub.status.idle": "2022-07-16T16:22:31.590313Z",
     "shell.execute_reply": "2022-07-16T16:22:31.589484Z"
    },
    "papermill": {
     "duration": 0.012309,
     "end_time": "2022-07-16T16:22:31.592435",
     "exception": false,
     "start_time": "2022-07-16T16:22:31.580126",
     "status": "completed"
    },
    "tags": []
   },
   "outputs": [],
   "source": [
    "# 하이퍼 파라미터 범위 (딕셔너리 형태)\n",
    "param_bounds = {'x': (-1, 5), \n",
    "                'y': (0, 4)}"
   ]
  },
  {
   "cell_type": "markdown",
   "id": "c5289170",
   "metadata": {
    "papermill": {
     "duration": 0.004479,
     "end_time": "2022-07-16T16:22:31.601573",
     "exception": false,
     "start_time": "2022-07-16T16:22:31.597094",
     "status": "completed"
    },
    "tags": []
   },
   "source": [
    "2) 평가지표 계산 함수 정의"
   ]
  },
  {
   "cell_type": "code",
   "execution_count": 7,
   "id": "01756999",
   "metadata": {
    "execution": {
     "iopub.execute_input": "2022-07-16T16:22:31.614003Z",
     "iopub.status.busy": "2022-07-16T16:22:31.612898Z",
     "iopub.status.idle": "2022-07-16T16:22:31.618082Z",
     "shell.execute_reply": "2022-07-16T16:22:31.617373Z"
    },
    "papermill": {
     "duration": 0.013193,
     "end_time": "2022-07-16T16:22:31.620007",
     "exception": false,
     "start_time": "2022-07-16T16:22:31.606814",
     "status": "completed"
    },
    "tags": []
   },
   "outputs": [],
   "source": [
    "def eval_function(x, y):\n",
    "    return -x ** 2 - (y - 2) ** 2 + 10"
   ]
  },
  {
   "cell_type": "markdown",
   "id": "42a7837f",
   "metadata": {
    "papermill": {
     "duration": 0.004366,
     "end_time": "2022-07-16T16:22:31.629046",
     "exception": false,
     "start_time": "2022-07-16T16:22:31.624680",
     "status": "completed"
    },
    "tags": []
   },
   "source": [
    "3) 베이지안 최적화 객체 생성"
   ]
  },
  {
   "cell_type": "code",
   "execution_count": 8,
   "id": "9c95c704",
   "metadata": {
    "execution": {
     "iopub.execute_input": "2022-07-16T16:22:31.640718Z",
     "iopub.status.busy": "2022-07-16T16:22:31.639984Z",
     "iopub.status.idle": "2022-07-16T16:22:31.662676Z",
     "shell.execute_reply": "2022-07-16T16:22:31.661604Z"
    },
    "papermill": {
     "duration": 0.030994,
     "end_time": "2022-07-16T16:22:31.664872",
     "exception": false,
     "start_time": "2022-07-16T16:22:31.633878",
     "status": "completed"
    },
    "tags": []
   },
   "outputs": [],
   "source": [
    "from bayes_opt import BayesianOptimization\n",
    "\n",
    "# 베이지안 최적화 객체 생성\n",
    "optimizer = BayesianOptimization(f=eval_function,\n",
    "                                 pbounds=param_bounds,\n",
    "                                 random_state=0)"
   ]
  },
  {
   "cell_type": "markdown",
   "id": "932935c1",
   "metadata": {
    "papermill": {
     "duration": 0.004379,
     "end_time": "2022-07-16T16:22:31.674111",
     "exception": false,
     "start_time": "2022-07-16T16:22:31.669732",
     "status": "completed"
    },
    "tags": []
   },
   "source": [
    "4) 최적화 수행"
   ]
  },
  {
   "cell_type": "code",
   "execution_count": 9,
   "id": "f7f2039b",
   "metadata": {
    "execution": {
     "iopub.execute_input": "2022-07-16T16:22:31.685083Z",
     "iopub.status.busy": "2022-07-16T16:22:31.684439Z",
     "iopub.status.idle": "2022-07-16T16:22:33.097113Z",
     "shell.execute_reply": "2022-07-16T16:22:33.096001Z"
    },
    "papermill": {
     "duration": 1.421807,
     "end_time": "2022-07-16T16:22:33.100406",
     "exception": false,
     "start_time": "2022-07-16T16:22:31.678599",
     "status": "completed"
    },
    "tags": []
   },
   "outputs": [
    {
     "name": "stdout",
     "output_type": "stream",
     "text": [
      "|   iter    |  target   |     x     |     y     |\n",
      "-------------------------------------------------\n",
      "| \u001b[0m 1       \u001b[0m | \u001b[0m 4.002   \u001b[0m | \u001b[0m 2.293   \u001b[0m | \u001b[0m 2.861   \u001b[0m |\n",
      "| \u001b[0m 2       \u001b[0m | \u001b[0m 3.121   \u001b[0m | \u001b[0m 2.617   \u001b[0m | \u001b[0m 2.18    \u001b[0m |\n",
      "| \u001b[0m 3       \u001b[0m | \u001b[0m 3.832   \u001b[0m | \u001b[0m 2.327   \u001b[0m | \u001b[0m 2.869   \u001b[0m |\n",
      "| \u001b[95m 4       \u001b[0m | \u001b[95m 4.596   \u001b[0m | \u001b[95m 2.171   \u001b[0m | \u001b[95m 2.832   \u001b[0m |\n",
      "| \u001b[0m 5       \u001b[0m | \u001b[0m-6.227   \u001b[0m | \u001b[0m 3.989   \u001b[0m | \u001b[0m 2.559   \u001b[0m |\n",
      "| \u001b[95m 6       \u001b[0m | \u001b[95m 9.467   \u001b[0m | \u001b[95m 0.3522  \u001b[0m | \u001b[95m 1.361   \u001b[0m |\n",
      "| \u001b[0m 7       \u001b[0m | \u001b[0m 7.39    \u001b[0m | \u001b[0m-1.0     \u001b[0m | \u001b[0m 3.269   \u001b[0m |\n",
      "| \u001b[0m 8       \u001b[0m | \u001b[0m 5.0     \u001b[0m | \u001b[0m-1.0     \u001b[0m | \u001b[0m 0.0     \u001b[0m |\n",
      "| \u001b[0m 9       \u001b[0m | \u001b[0m 3.841   \u001b[0m | \u001b[0m 1.469   \u001b[0m | \u001b[0m 0.0     \u001b[0m |\n",
      "| \u001b[0m 10      \u001b[0m | \u001b[0m 8.966   \u001b[0m | \u001b[0m-1.0     \u001b[0m | \u001b[0m 1.817   \u001b[0m |\n",
      "| \u001b[95m 11      \u001b[0m | \u001b[95m 9.737   \u001b[0m | \u001b[95m 0.1806  \u001b[0m | \u001b[95m 2.48    \u001b[0m |\n",
      "| \u001b[0m 12      \u001b[0m | \u001b[0m 5.785   \u001b[0m | \u001b[0m 0.4638  \u001b[0m | \u001b[0m 4.0     \u001b[0m |\n",
      "=================================================\n"
     ]
    }
   ],
   "source": [
    "# 베이지안 최적화 수행\n",
    "optimizer.maximize(init_points=2, n_iter=10)"
   ]
  },
  {
   "cell_type": "code",
   "execution_count": 10,
   "id": "4d11ef38",
   "metadata": {
    "execution": {
     "iopub.execute_input": "2022-07-16T16:22:33.113061Z",
     "iopub.status.busy": "2022-07-16T16:22:33.112723Z",
     "iopub.status.idle": "2022-07-16T16:22:33.118949Z",
     "shell.execute_reply": "2022-07-16T16:22:33.117946Z"
    },
    "papermill": {
     "duration": 0.014646,
     "end_time": "2022-07-16T16:22:33.121140",
     "exception": false,
     "start_time": "2022-07-16T16:22:33.106494",
     "status": "completed"
    },
    "tags": []
   },
   "outputs": [
    {
     "data": {
      "text/plain": [
       "{'target': 9.73708754050397,\n",
       " 'params': {'x': 0.18063747442587866, 'y': 2.4798776535004214}}"
      ]
     },
     "execution_count": 10,
     "metadata": {},
     "output_type": "execute_result"
    }
   ],
   "source": [
    "# 평가점수가 최대일 때 타깃, x, y 값 출력\n",
    "optimizer.max"
   ]
  },
  {
   "cell_type": "code",
   "execution_count": null,
   "id": "bd8b7277",
   "metadata": {
    "papermill": {
     "duration": 0.004964,
     "end_time": "2022-07-16T16:22:33.131367",
     "exception": false,
     "start_time": "2022-07-16T16:22:33.126403",
     "status": "completed"
    },
    "tags": []
   },
   "outputs": [],
   "source": []
  }
 ],
 "metadata": {
  "kernelspec": {
   "display_name": "Python 3",
   "language": "python",
   "name": "python3"
  },
  "language_info": {
   "codemirror_mode": {
    "name": "ipython",
    "version": 3
   },
   "file_extension": ".py",
   "mimetype": "text/x-python",
   "name": "python",
   "nbconvert_exporter": "python",
   "pygments_lexer": "ipython3",
   "version": "3.7.12"
  },
  "papermill": {
   "default_parameters": {},
   "duration": 12.211624,
   "end_time": "2022-07-16T16:22:33.859407",
   "environment_variables": {},
   "exception": null,
   "input_path": "__notebook__.ipynb",
   "output_path": "__notebook__.ipynb",
   "parameters": {},
   "start_time": "2022-07-16T16:22:21.647783",
   "version": "2.3.4"
  }
 },
 "nbformat": 4,
 "nbformat_minor": 5
}
