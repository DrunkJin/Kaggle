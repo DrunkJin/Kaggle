{
 "cells": [
  {
   "cell_type": "code",
   "execution_count": 1,
   "id": "0dbdba5f",
   "metadata": {
    "_cell_guid": "b1076dfc-b9ad-4769-8c92-a6c4dae69d19",
    "_uuid": "8f2839f25d086af736a60e9eeb907d3b93b6e0e5",
    "execution": {
     "iopub.execute_input": "2022-08-26T14:59:53.307050Z",
     "iopub.status.busy": "2022-08-26T14:59:53.306567Z",
     "iopub.status.idle": "2022-08-26T15:00:03.248540Z",
     "shell.execute_reply": "2022-08-26T15:00:03.247519Z"
    },
    "papermill": {
     "duration": 9.953735,
     "end_time": "2022-08-26T15:00:03.251784",
     "exception": false,
     "start_time": "2022-08-26T14:59:53.298049",
     "status": "completed"
    },
    "tags": []
   },
   "outputs": [],
   "source": [
    "import pandas as pd\n",
    "\n",
    "# 데이터 경로\n",
    "data_path = '/kaggle/input/porto-seguro-safe-driver-prediction/'\n",
    "\n",
    "train = pd.read_csv(data_path + 'train.csv', index_col='id')\n",
    "test = pd.read_csv(data_path + 'test.csv', index_col='id')\n",
    "submission = pd.read_csv(data_path + 'sample_submission.csv', index_col='id')"
   ]
  },
  {
   "cell_type": "markdown",
   "id": "81c7c670",
   "metadata": {
    "papermill": {
     "duration": 0.005283,
     "end_time": "2022-08-26T15:00:03.262922",
     "exception": false,
     "start_time": "2022-08-26T15:00:03.257639",
     "status": "completed"
    },
    "tags": []
   },
   "source": [
    "#### 데이터 합치기"
   ]
  },
  {
   "cell_type": "code",
   "execution_count": 2,
   "id": "13ed8388",
   "metadata": {
    "execution": {
     "iopub.execute_input": "2022-08-26T15:00:03.275575Z",
     "iopub.status.busy": "2022-08-26T15:00:03.275156Z",
     "iopub.status.idle": "2022-08-26T15:00:04.588344Z",
     "shell.execute_reply": "2022-08-26T15:00:04.587005Z"
    },
    "papermill": {
     "duration": 1.322744,
     "end_time": "2022-08-26T15:00:04.591100",
     "exception": false,
     "start_time": "2022-08-26T15:00:03.268356",
     "status": "completed"
    },
    "tags": []
   },
   "outputs": [],
   "source": [
    "all_data = pd.concat([train, test], ignore_index=True)\n",
    "all_data = all_data.drop('target', axis=1)  # 타겟값 제거"
   ]
  },
  {
   "cell_type": "code",
   "execution_count": 3,
   "id": "22a66f62",
   "metadata": {
    "execution": {
     "iopub.execute_input": "2022-08-26T15:00:04.604267Z",
     "iopub.status.busy": "2022-08-26T15:00:04.603849Z",
     "iopub.status.idle": "2022-08-26T15:00:04.613364Z",
     "shell.execute_reply": "2022-08-26T15:00:04.612123Z"
    },
    "papermill": {
     "duration": 0.018703,
     "end_time": "2022-08-26T15:00:04.615663",
     "exception": false,
     "start_time": "2022-08-26T15:00:04.596960",
     "status": "completed"
    },
    "tags": []
   },
   "outputs": [
    {
     "data": {
      "text/plain": [
       "Index(['ps_ind_01', 'ps_ind_02_cat', 'ps_ind_03', 'ps_ind_04_cat',\n",
       "       'ps_ind_05_cat', 'ps_ind_06_bin', 'ps_ind_07_bin', 'ps_ind_08_bin',\n",
       "       'ps_ind_09_bin', 'ps_ind_10_bin', 'ps_ind_11_bin', 'ps_ind_12_bin',\n",
       "       'ps_ind_13_bin', 'ps_ind_14', 'ps_ind_15', 'ps_ind_16_bin',\n",
       "       'ps_ind_17_bin', 'ps_ind_18_bin', 'ps_reg_01', 'ps_reg_02', 'ps_reg_03',\n",
       "       'ps_car_01_cat', 'ps_car_02_cat', 'ps_car_03_cat', 'ps_car_04_cat',\n",
       "       'ps_car_05_cat', 'ps_car_06_cat', 'ps_car_07_cat', 'ps_car_08_cat',\n",
       "       'ps_car_09_cat', 'ps_car_10_cat', 'ps_car_11_cat', 'ps_car_11',\n",
       "       'ps_car_12', 'ps_car_13', 'ps_car_14', 'ps_car_15', 'ps_calc_01',\n",
       "       'ps_calc_02', 'ps_calc_03', 'ps_calc_04', 'ps_calc_05', 'ps_calc_06',\n",
       "       'ps_calc_07', 'ps_calc_08', 'ps_calc_09', 'ps_calc_10', 'ps_calc_11',\n",
       "       'ps_calc_12', 'ps_calc_13', 'ps_calc_14', 'ps_calc_15_bin',\n",
       "       'ps_calc_16_bin', 'ps_calc_17_bin', 'ps_calc_18_bin', 'ps_calc_19_bin',\n",
       "       'ps_calc_20_bin'],\n",
       "      dtype='object')"
      ]
     },
     "execution_count": 3,
     "metadata": {},
     "output_type": "execute_result"
    }
   ],
   "source": [
    "all_features = all_data.columns # 전체 피처\n",
    "all_features"
   ]
  },
  {
   "cell_type": "markdown",
   "id": "1593ef20",
   "metadata": {
    "papermill": {
     "duration": 0.005597,
     "end_time": "2022-08-26T15:00:04.627220",
     "exception": false,
     "start_time": "2022-08-26T15:00:04.621623",
     "status": "completed"
    },
    "tags": []
   },
   "source": [
    "**명목형 원-핫 인코딩**"
   ]
  },
  {
   "cell_type": "code",
   "execution_count": 4,
   "id": "4ffba9be",
   "metadata": {
    "execution": {
     "iopub.execute_input": "2022-08-26T15:00:04.641943Z",
     "iopub.status.busy": "2022-08-26T15:00:04.641112Z",
     "iopub.status.idle": "2022-08-26T15:00:07.909670Z",
     "shell.execute_reply": "2022-08-26T15:00:07.908464Z"
    },
    "papermill": {
     "duration": 3.278529,
     "end_time": "2022-08-26T15:00:07.912080",
     "exception": false,
     "start_time": "2022-08-26T15:00:04.633551",
     "status": "completed"
    },
    "tags": []
   },
   "outputs": [
    {
     "data": {
      "text/plain": [
       "<1488028x184 sparse matrix of type '<class 'numpy.float64'>'\n",
       "\twith 20832392 stored elements in Compressed Sparse Row format>"
      ]
     },
     "execution_count": 4,
     "metadata": {},
     "output_type": "execute_result"
    }
   ],
   "source": [
    "from sklearn.preprocessing import OneHotEncoder\n",
    "# 명목형 피처 추출\n",
    "cat_features = [feature for feature in all_features if 'cat' in feature]\n",
    "\n",
    "onehot_encoder = OneHotEncoder()  # 원-핫 인코더 객체 생성\n",
    "# 인코딩\n",
    "encoded_cat_matrix = onehot_encoder.fit_transform(all_data[cat_features])\n",
    "\n",
    "encoded_cat_matrix"
   ]
  },
  {
   "cell_type": "markdown",
   "id": "8cdaac95",
   "metadata": {
    "papermill": {
     "duration": 0.005476,
     "end_time": "2022-08-26T15:00:07.923531",
     "exception": false,
     "start_time": "2022-08-26T15:00:07.918055",
     "status": "completed"
    },
    "tags": []
   },
   "source": [
    "**필요없는 피처 제거**"
   ]
  },
  {
   "cell_type": "code",
   "execution_count": 5,
   "id": "aad01adc",
   "metadata": {
    "execution": {
     "iopub.execute_input": "2022-08-26T15:00:07.936679Z",
     "iopub.status.busy": "2022-08-26T15:00:07.936274Z",
     "iopub.status.idle": "2022-08-26T15:00:07.941776Z",
     "shell.execute_reply": "2022-08-26T15:00:07.940668Z"
    },
    "papermill": {
     "duration": 0.015232,
     "end_time": "2022-08-26T15:00:07.944300",
     "exception": false,
     "start_time": "2022-08-26T15:00:07.929068",
     "status": "completed"
    },
    "tags": []
   },
   "outputs": [],
   "source": [
    "# 추가로 제거할 피처\n",
    "drop_features = ['ps_ind_14', 'ps_ind_10_bin', 'ps_ind_11_bin',\n",
    "                 'ps_ind_12_bin', 'ps_ind_13_bin', 'ps_car_14']\n",
    "\n",
    "# '1) 명목형 피처, 2) calc 분류의 피처, 3) 추가 제거할 피처'를 제외한 피처\n",
    "remaining_features = [feature for feature in all_features\n",
    "                      if ('cat' not in feature and\n",
    "                          'calc' not in feature and\n",
    "                          feature not in drop_features)]"
   ]
  },
  {
   "cell_type": "code",
   "execution_count": 6,
   "id": "c4fa68c0",
   "metadata": {
    "execution": {
     "iopub.execute_input": "2022-08-26T15:00:07.958168Z",
     "iopub.status.busy": "2022-08-26T15:00:07.957287Z",
     "iopub.status.idle": "2022-08-26T15:00:10.610943Z",
     "shell.execute_reply": "2022-08-26T15:00:10.609803Z"
    },
    "papermill": {
     "duration": 2.663895,
     "end_time": "2022-08-26T15:00:10.614036",
     "exception": false,
     "start_time": "2022-08-26T15:00:07.950141",
     "status": "completed"
    },
    "tags": []
   },
   "outputs": [],
   "source": [
    "from scipy import sparse\n",
    "\n",
    "all_data_sprs = sparse.hstack([sparse.csr_matrix(all_data[remaining_features]),\n",
    "                               encoded_cat_matrix],\n",
    "                              format='csr')"
   ]
  },
  {
   "cell_type": "markdown",
   "id": "c243ffaa",
   "metadata": {
    "papermill": {
     "duration": 0.005473,
     "end_time": "2022-08-26T15:00:10.625369",
     "exception": false,
     "start_time": "2022-08-26T15:00:10.619896",
     "status": "completed"
    },
    "tags": []
   },
   "source": [
    "**데이터 나누기**"
   ]
  },
  {
   "cell_type": "code",
   "execution_count": 7,
   "id": "4a4da013",
   "metadata": {
    "execution": {
     "iopub.execute_input": "2022-08-26T15:00:10.638575Z",
     "iopub.status.busy": "2022-08-26T15:00:10.638181Z",
     "iopub.status.idle": "2022-08-26T15:00:11.385490Z",
     "shell.execute_reply": "2022-08-26T15:00:11.384019Z"
    },
    "papermill": {
     "duration": 0.757282,
     "end_time": "2022-08-26T15:00:11.388451",
     "exception": false,
     "start_time": "2022-08-26T15:00:10.631169",
     "status": "completed"
    },
    "tags": []
   },
   "outputs": [],
   "source": [
    "num_train = len(train) # 훈련데이터 갯수\n",
    "\n",
    "# 훈련 데이터와 테스트 데이터 나누기\n",
    "X = all_data_sprs[:num_train]\n",
    "X_test = all_data_sprs[num_train:]\n",
    "\n",
    "y = train['target'].values"
   ]
  },
  {
   "cell_type": "markdown",
   "id": "5768e532",
   "metadata": {
    "papermill": {
     "duration": 0.005547,
     "end_time": "2022-08-26T15:00:11.399899",
     "exception": false,
     "start_time": "2022-08-26T15:00:11.394352",
     "status": "completed"
    },
    "tags": []
   },
   "source": [
    "#### 평가지표 계산 함수 작성\n",
    "* 이 대회는 정규화된 지니계수\n",
    "* 정규화 지니계수 = (예측 값에 대한 지니계수) / (예측이 완벽할 때의 지니계수)"
   ]
  },
  {
   "cell_type": "code",
   "execution_count": 8,
   "id": "7c4bb96e",
   "metadata": {
    "execution": {
     "iopub.execute_input": "2022-08-26T15:00:11.413814Z",
     "iopub.status.busy": "2022-08-26T15:00:11.412715Z",
     "iopub.status.idle": "2022-08-26T15:00:11.421456Z",
     "shell.execute_reply": "2022-08-26T15:00:11.420309Z"
    },
    "papermill": {
     "duration": 0.018227,
     "end_time": "2022-08-26T15:00:11.423921",
     "exception": false,
     "start_time": "2022-08-26T15:00:11.405694",
     "status": "completed"
    },
    "tags": []
   },
   "outputs": [],
   "source": [
    "import numpy as np\n",
    "\n",
    "def eval_gini(y_true, y_pred):\n",
    "    # 실제값과 예측값의 크기가 서로 같은지 확인 (값이 다르면 오류 발생)\n",
    "    assert y_true.shape == y_pred.shape\n",
    "    \n",
    "    n_samples = y_true.shape[0]        # 데이터 개수\n",
    "    L_mid = np.linspace(1 / n_samples, 1, n_samples) # 대각선 값\n",
    "    \n",
    "    # 1) 예측값에 대한 지니계수\n",
    "    pred_order = y_true[y_pred.argsort()] # y_pred 크기 순으로 y_true 값 정렬\n",
    "    L_pred = np.cumsum(pred_order) / np.sum(pred_order) # 로렌츠 곡선\n",
    "    G_pred = np.sum(L_mid - L_pred)       # 예측값에 대한 지니계수\n",
    "    \n",
    "    # 2) 예측이 완벽할 때 지니계수\n",
    "    true_order = y_true[y_true.argsort()]  # y_true 크기 순으로 y_true값 정렬\n",
    "    L_true = np.cumsum(true_order) / np.sum(true_order)  # 로렌츠 곡선\n",
    "    G_true = np.sum(L_mid - L_true)     # 예측이 완벽할 때 지니계수\n",
    "    \n",
    "    # 정규화된 지니계수\n",
    "    return G_pred / G_true"
   ]
  },
  {
   "cell_type": "code",
   "execution_count": 9,
   "id": "8807a5e0",
   "metadata": {
    "execution": {
     "iopub.execute_input": "2022-08-26T15:00:11.438525Z",
     "iopub.status.busy": "2022-08-26T15:00:11.437424Z",
     "iopub.status.idle": "2022-08-26T15:00:11.442777Z",
     "shell.execute_reply": "2022-08-26T15:00:11.441804Z"
    },
    "papermill": {
     "duration": 0.014475,
     "end_time": "2022-08-26T15:00:11.445048",
     "exception": false,
     "start_time": "2022-08-26T15:00:11.430573",
     "status": "completed"
    },
    "tags": []
   },
   "outputs": [],
   "source": [
    "# LightGBM용 gini() 함수\n",
    "def gini(preds, dtrain):\n",
    "    labels = dtrain.get_label() # 데이터셋의 타겟값을 반환함\n",
    "    return 'gini', eval_gini(labels, preds), True    # 평가지표 이름, 평가점수, 평가점수가 높을수록 좋은지 여부"
   ]
  },
  {
   "cell_type": "markdown",
   "id": "4d45f477",
   "metadata": {
    "papermill": {
     "duration": 0.00545,
     "end_time": "2022-08-26T15:00:11.456369",
     "exception": false,
     "start_time": "2022-08-26T15:00:11.450919",
     "status": "completed"
    },
    "tags": []
   },
   "source": [
    "### 모델 훈련 및 성능 검증\n",
    "* OOF 예측 방식 -> Out of Fold prediction"
   ]
  },
  {
   "cell_type": "code",
   "execution_count": 10,
   "id": "a95b69bd",
   "metadata": {
    "execution": {
     "iopub.execute_input": "2022-08-26T15:00:11.470222Z",
     "iopub.status.busy": "2022-08-26T15:00:11.469501Z",
     "iopub.status.idle": "2022-08-26T15:00:11.535825Z",
     "shell.execute_reply": "2022-08-26T15:00:11.534643Z"
    },
    "papermill": {
     "duration": 0.076387,
     "end_time": "2022-08-26T15:00:11.538461",
     "exception": false,
     "start_time": "2022-08-26T15:00:11.462074",
     "status": "completed"
    },
    "tags": []
   },
   "outputs": [],
   "source": [
    "from sklearn.model_selection import StratifiedKFold\n",
    "\n",
    "# 층화 K 폴드 교차 검증기\n",
    "folds = StratifiedKFold(n_splits=5, shuffle=True, random_state=1991)"
   ]
  },
  {
   "cell_type": "code",
   "execution_count": 11,
   "id": "8bcb8e1a",
   "metadata": {
    "execution": {
     "iopub.execute_input": "2022-08-26T15:00:11.552751Z",
     "iopub.status.busy": "2022-08-26T15:00:11.551661Z",
     "iopub.status.idle": "2022-08-26T15:00:11.556892Z",
     "shell.execute_reply": "2022-08-26T15:00:11.555997Z"
    },
    "papermill": {
     "duration": 0.014932,
     "end_time": "2022-08-26T15:00:11.559293",
     "exception": false,
     "start_time": "2022-08-26T15:00:11.544361",
     "status": "completed"
    },
    "tags": []
   },
   "outputs": [],
   "source": [
    "# LightGGBM  하이퍼파라미터 \n",
    "params = {'objective':'binary',\n",
    "          'learning_rate':0.01,\n",
    "          'force_row_wise':True,    # 경고 문구를 없애려구 추가함\n",
    "          'random_state':0}"
   ]
  },
  {
   "cell_type": "code",
   "execution_count": 12,
   "id": "a4789bfe",
   "metadata": {
    "execution": {
     "iopub.execute_input": "2022-08-26T15:00:11.573241Z",
     "iopub.status.busy": "2022-08-26T15:00:11.572473Z",
     "iopub.status.idle": "2022-08-26T15:00:11.579124Z",
     "shell.execute_reply": "2022-08-26T15:00:11.578207Z"
    },
    "papermill": {
     "duration": 0.016268,
     "end_time": "2022-08-26T15:00:11.581469",
     "exception": false,
     "start_time": "2022-08-26T15:00:11.565201",
     "status": "completed"
    },
    "tags": []
   },
   "outputs": [],
   "source": [
    "# OOF 방식으로 훈련된 모델로 검증 데이터 타겟값을 예측한 확률을 담을 1차원 배열\n",
    "oof_val_preds = np.zeros(X.shape[0])\n",
    "\n",
    "# OOF 방식으로 훈련된 모델로 테스트 데이터 타겟값을 예측한 확률을 담을 1차원 배열\n",
    "oof_test_preds = np.zeros(X_test.shape[0])"
   ]
  },
  {
   "cell_type": "markdown",
   "id": "8ab47002",
   "metadata": {
    "papermill": {
     "duration": 0.005999,
     "end_time": "2022-08-26T15:00:11.593392",
     "exception": false,
     "start_time": "2022-08-26T15:00:11.587393",
     "status": "completed"
    },
    "tags": []
   },
   "source": [
    "### LightGBM 훈련"
   ]
  },
  {
   "cell_type": "code",
   "execution_count": 13,
   "id": "ce1e7461",
   "metadata": {
    "execution": {
     "iopub.execute_input": "2022-08-26T15:00:11.606960Z",
     "iopub.status.busy": "2022-08-26T15:00:11.606276Z",
     "iopub.status.idle": "2022-08-26T15:05:39.168413Z",
     "shell.execute_reply": "2022-08-26T15:05:39.166431Z"
    },
    "papermill": {
     "duration": 327.58037,
     "end_time": "2022-08-26T15:05:39.179554",
     "exception": false,
     "start_time": "2022-08-26T15:00:11.599184",
     "status": "completed"
    },
    "tags": []
   },
   "outputs": [
    {
     "data": {
      "text/html": [
       "<style type='text/css'>\n",
       ".datatable table.frame { margin-bottom: 0; }\n",
       ".datatable table.frame thead { border-bottom: none; }\n",
       ".datatable table.frame tr.coltypes td {  color: #FFFFFF;  line-height: 6px;  padding: 0 0.5em;}\n",
       ".datatable .bool    { background: #DDDD99; }\n",
       ".datatable .object  { background: #565656; }\n",
       ".datatable .int     { background: #5D9E5D; }\n",
       ".datatable .float   { background: #4040CC; }\n",
       ".datatable .str     { background: #CC4040; }\n",
       ".datatable .time    { background: #40CC40; }\n",
       ".datatable .row_index {  background: var(--jp-border-color3);  border-right: 1px solid var(--jp-border-color0);  color: var(--jp-ui-font-color3);  font-size: 9px;}\n",
       ".datatable .frame tbody td { text-align: left; }\n",
       ".datatable .frame tr.coltypes .row_index {  background: var(--jp-border-color0);}\n",
       ".datatable th:nth-child(2) { padding-left: 12px; }\n",
       ".datatable .hellipsis {  color: var(--jp-cell-editor-border-color);}\n",
       ".datatable .vellipsis {  background: var(--jp-layout-color0);  color: var(--jp-cell-editor-border-color);}\n",
       ".datatable .na {  color: var(--jp-cell-editor-border-color);  font-size: 80%;}\n",
       ".datatable .sp {  opacity: 0.25;}\n",
       ".datatable .footer { font-size: 9px; }\n",
       ".datatable .frame_dimensions {  background: var(--jp-border-color3);  border-top: 1px solid var(--jp-border-color0);  color: var(--jp-ui-font-color3);  display: inline-block;  opacity: 0.6;  padding: 1px 10px 1px 5px;}\n",
       "</style>\n"
      ],
      "text/plain": [
       "<IPython.core.display.HTML object>"
      ]
     },
     "metadata": {},
     "output_type": "display_data"
    },
    {
     "name": "stdout",
     "output_type": "stream",
     "text": [
      "######################################## 폴드 1 / 폴드 5 ########################################\n"
     ]
    },
    {
     "name": "stderr",
     "output_type": "stream",
     "text": [
      "/opt/conda/lib/python3.7/site-packages/lightgbm/engine.py:181: UserWarning: 'early_stopping_rounds' argument is deprecated and will be removed in a future release of LightGBM. Pass 'early_stopping()' callback via 'callbacks' argument instead.\n",
      "  _log_warning(\"'early_stopping_rounds' argument is deprecated and will be removed in a future release of LightGBM. \"\n",
      "/opt/conda/lib/python3.7/site-packages/lightgbm/engine.py:239: UserWarning: 'verbose_eval' argument is deprecated and will be removed in a future release of LightGBM. Pass 'log_evaluation()' callback via 'callbacks' argument instead.\n",
      "  _log_warning(\"'verbose_eval' argument is deprecated and will be removed in a future release of LightGBM. \"\n"
     ]
    },
    {
     "name": "stdout",
     "output_type": "stream",
     "text": [
      "[LightGBM] [Info] Number of positive: 17355, number of negative: 458814\n",
      "[LightGBM] [Info] Total Bins 1095\n",
      "[LightGBM] [Info] Number of data points in the train set: 476169, number of used features: 200\n",
      "[LightGBM] [Info] [binary:BoostFromScore]: pavg=0.036447 -> initscore=-3.274764\n",
      "[LightGBM] [Info] Start training from score -3.274764\n",
      "Training until validation scores don't improve for 100 rounds\n",
      "[100]\tvalid_0's binary_logloss: 0.153354\tvalid_0's gini: 0.261651\n",
      "[200]\tvalid_0's binary_logloss: 0.152426\tvalid_0's gini: 0.275704\n",
      "[300]\tvalid_0's binary_logloss: 0.152023\tvalid_0's gini: 0.282277\n",
      "[400]\tvalid_0's binary_logloss: 0.1518\tvalid_0's gini: 0.286648\n",
      "[500]\tvalid_0's binary_logloss: 0.151713\tvalid_0's gini: 0.287944\n",
      "[600]\tvalid_0's binary_logloss: 0.151672\tvalid_0's gini: 0.288637\n",
      "[700]\tvalid_0's binary_logloss: 0.151659\tvalid_0's gini: 0.288939\n",
      "Early stopping, best iteration is:\n",
      "[681]\tvalid_0's binary_logloss: 0.151659\tvalid_0's gini: 0.289034\n",
      "폴드 1 지니계수: 0.2890336154188232\n",
      "\n",
      "######################################## 폴드 2 / 폴드 5 ########################################\n",
      "[LightGBM] [Info] Number of positive: 17355, number of negative: 458814\n",
      "[LightGBM] [Info] Total Bins 1093\n",
      "[LightGBM] [Info] Number of data points in the train set: 476169, number of used features: 200\n",
      "[LightGBM] [Info] [binary:BoostFromScore]: pavg=0.036447 -> initscore=-3.274764\n",
      "[LightGBM] [Info] Start training from score -3.274764\n",
      "Training until validation scores don't improve for 100 rounds\n",
      "[100]\tvalid_0's binary_logloss: 0.153498\tvalid_0's gini: 0.249446\n",
      "[200]\tvalid_0's binary_logloss: 0.152708\tvalid_0's gini: 0.260777\n",
      "[300]\tvalid_0's binary_logloss: 0.152397\tvalid_0's gini: 0.267104\n",
      "[400]\tvalid_0's binary_logloss: 0.152234\tvalid_0's gini: 0.271522\n",
      "[500]\tvalid_0's binary_logloss: 0.152164\tvalid_0's gini: 0.273276\n",
      "[600]\tvalid_0's binary_logloss: 0.152136\tvalid_0's gini: 0.27426\n",
      "[700]\tvalid_0's binary_logloss: 0.152125\tvalid_0's gini: 0.274337\n",
      "[800]\tvalid_0's binary_logloss: 0.152116\tvalid_0's gini: 0.274634\n",
      "[900]\tvalid_0's binary_logloss: 0.152106\tvalid_0's gini: 0.274992\n",
      "[1000]\tvalid_0's binary_logloss: 0.152104\tvalid_0's gini: 0.275078\n",
      "Did not meet early stopping. Best iteration is:\n",
      "[983]\tvalid_0's binary_logloss: 0.152101\tvalid_0's gini: 0.275121\n",
      "폴드 2 지니계수: 0.27512085497432026\n",
      "\n",
      "######################################## 폴드 3 / 폴드 5 ########################################\n",
      "[LightGBM] [Info] Number of positive: 17356, number of negative: 458814\n",
      "[LightGBM] [Info] Total Bins 1097\n",
      "[LightGBM] [Info] Number of data points in the train set: 476170, number of used features: 200\n",
      "[LightGBM] [Info] [binary:BoostFromScore]: pavg=0.036449 -> initscore=-3.274707\n",
      "[LightGBM] [Info] Start training from score -3.274707\n",
      "Training until validation scores don't improve for 100 rounds\n",
      "[100]\tvalid_0's binary_logloss: 0.153263\tvalid_0's gini: 0.261144\n",
      "[200]\tvalid_0's binary_logloss: 0.15234\tvalid_0's gini: 0.271571\n",
      "[300]\tvalid_0's binary_logloss: 0.151981\tvalid_0's gini: 0.276391\n",
      "[400]\tvalid_0's binary_logloss: 0.151818\tvalid_0's gini: 0.278667\n",
      "[500]\tvalid_0's binary_logloss: 0.151758\tvalid_0's gini: 0.279899\n",
      "[600]\tvalid_0's binary_logloss: 0.15174\tvalid_0's gini: 0.280373\n",
      "Early stopping, best iteration is:\n",
      "[560]\tvalid_0's binary_logloss: 0.151737\tvalid_0's gini: 0.280598\n",
      "폴드 3 지니계수: 0.2805977528883293\n",
      "\n",
      "######################################## 폴드 4 / 폴드 5 ########################################\n",
      "[LightGBM] [Info] Number of positive: 17355, number of negative: 458815\n",
      "[LightGBM] [Info] Total Bins 1096\n",
      "[LightGBM] [Info] Number of data points in the train set: 476170, number of used features: 200\n",
      "[LightGBM] [Info] [binary:BoostFromScore]: pavg=0.036447 -> initscore=-3.274766\n",
      "[LightGBM] [Info] Start training from score -3.274766\n",
      "Training until validation scores don't improve for 100 rounds\n",
      "[100]\tvalid_0's binary_logloss: 0.153399\tvalid_0's gini: 0.25056\n",
      "[200]\tvalid_0's binary_logloss: 0.152556\tvalid_0's gini: 0.262835\n",
      "[300]\tvalid_0's binary_logloss: 0.152258\tvalid_0's gini: 0.267038\n",
      "[400]\tvalid_0's binary_logloss: 0.152118\tvalid_0's gini: 0.269715\n",
      "[500]\tvalid_0's binary_logloss: 0.15208\tvalid_0's gini: 0.270536\n",
      "[600]\tvalid_0's binary_logloss: 0.152085\tvalid_0's gini: 0.270629\n",
      "Early stopping, best iteration is:\n",
      "[522]\tvalid_0's binary_logloss: 0.152074\tvalid_0's gini: 0.270749\n",
      "폴드 4 지니계수: 0.2707490338932929\n",
      "\n",
      "######################################## 폴드 5 / 폴드 5 ########################################\n",
      "[LightGBM] [Info] Number of positive: 17355, number of negative: 458815\n",
      "[LightGBM] [Info] Total Bins 1098\n",
      "[LightGBM] [Info] Number of data points in the train set: 476170, number of used features: 200\n",
      "[LightGBM] [Info] [binary:BoostFromScore]: pavg=0.036447 -> initscore=-3.274766\n",
      "[LightGBM] [Info] Start training from score -3.274766\n",
      "Training until validation scores don't improve for 100 rounds\n",
      "[100]\tvalid_0's binary_logloss: 0.153483\tvalid_0's gini: 0.262106\n",
      "[200]\tvalid_0's binary_logloss: 0.152646\tvalid_0's gini: 0.273406\n",
      "[300]\tvalid_0's binary_logloss: 0.152291\tvalid_0's gini: 0.279805\n",
      "[400]\tvalid_0's binary_logloss: 0.152093\tvalid_0's gini: 0.284645\n",
      "[500]\tvalid_0's binary_logloss: 0.152004\tvalid_0's gini: 0.28713\n",
      "[600]\tvalid_0's binary_logloss: 0.151982\tvalid_0's gini: 0.287668\n",
      "Early stopping, best iteration is:\n",
      "[583]\tvalid_0's binary_logloss: 0.15198\tvalid_0's gini: 0.287804\n",
      "폴드 5 지니계수: 0.2878042213842625\n",
      "\n"
     ]
    }
   ],
   "source": [
    "import lightgbm as lgb\n",
    "\n",
    "# OOF 방식으로 모델 훈련, 검증, 예측\n",
    "for idx, (train_idx, valid_idx) in enumerate(folds.split(X, y)):\n",
    "    # 각 폴드를 구분하는 문구 출력\n",
    "    print('#'*40, f'폴드 {idx+1} / 폴드 {folds.n_splits}', '#'*40)\n",
    "    \n",
    "    # 훈련용 데이터, 검증용 데이터 설정\n",
    "    X_train, y_train = X[train_idx], y[train_idx]   # 훈련용 데이터\n",
    "    X_valid, y_valid = X[valid_idx], y[valid_idx]   # 검증용 데이터\n",
    "    \n",
    "    # LightGBM 전용 데이터셋 설정\n",
    "    dtrain = lgb.Dataset(X_train, y_train)          # LightGBM 전용 훈련 데이터셋\n",
    "    dvalid = lgb.Dataset(X_valid, y_valid)          # LightGBM 전용 검증 데이터셋\n",
    "    \n",
    "    # LightGBM 모델 훈련\n",
    "    lgb_model = lgb.train(params=params,                # 훈련용 하이퍼파라미터\n",
    "                          train_set=dtrain,             # 훈련 데이터셋\n",
    "                          num_boost_round=1000,         # 부스팅 반복 횟수\n",
    "                          valid_sets=dvalid,            # 성능 평가용 검증 데이터셋\n",
    "                          feval=gini,                   # 검증용 평가지표\n",
    "                          early_stopping_rounds=100,    # 조기종료 조건 (early_stopping_rounds -> callbacks 로 바뀐다고 함)\n",
    "                          verbose_eval=100)             # 100번째마다 점수 출력\n",
    "    \n",
    "    # 테스트 데이터를 활용해 OOF 예측\n",
    "    oof_test_preds += lgb_model.predict(X_test)/folds.n_splits\n",
    "    # 모델 성능 평가를 위한 검증 데이터 타겟값 예측\n",
    "    oof_val_preds[valid_idx] += lgb_model.predict(X_valid)\n",
    "    \n",
    "    # 검증 데이터 예측 확률에 대한 정규화 지니계수\n",
    "    gini_score = eval_gini(y_valid, oof_val_preds[valid_idx])\n",
    "    print(f'폴드 {idx+1} 지니계수: {gini_score}\\n')   "
   ]
  },
  {
   "cell_type": "code",
   "execution_count": 14,
   "id": "3e67703b",
   "metadata": {
    "execution": {
     "iopub.execute_input": "2022-08-26T15:05:39.201230Z",
     "iopub.status.busy": "2022-08-26T15:05:39.200219Z",
     "iopub.status.idle": "2022-08-26T15:05:39.309889Z",
     "shell.execute_reply": "2022-08-26T15:05:39.308548Z"
    },
    "papermill": {
     "duration": 0.123615,
     "end_time": "2022-08-26T15:05:39.312468",
     "exception": false,
     "start_time": "2022-08-26T15:05:39.188853",
     "status": "completed"
    },
    "tags": []
   },
   "outputs": [
    {
     "name": "stdout",
     "output_type": "stream",
     "text": [
      "OOF 검증 데이터 지니계수: 0.2804995714877777\n"
     ]
    }
   ],
   "source": [
    "print('OOF 검증 데이터 지니계수:', eval_gini(y, oof_val_preds))"
   ]
  },
  {
   "cell_type": "markdown",
   "id": "3c932e96",
   "metadata": {
    "papermill": {
     "duration": 0.008978,
     "end_time": "2022-08-26T15:05:39.330807",
     "exception": false,
     "start_time": "2022-08-26T15:05:39.321829",
     "status": "completed"
    },
    "tags": []
   },
   "source": [
    "## 예측 및 결과 제출"
   ]
  },
  {
   "cell_type": "code",
   "execution_count": 15,
   "id": "7ed27a64",
   "metadata": {
    "execution": {
     "iopub.execute_input": "2022-08-26T15:05:39.351574Z",
     "iopub.status.busy": "2022-08-26T15:05:39.350964Z",
     "iopub.status.idle": "2022-08-26T15:05:41.638047Z",
     "shell.execute_reply": "2022-08-26T15:05:41.636901Z"
    },
    "papermill": {
     "duration": 2.300913,
     "end_time": "2022-08-26T15:05:41.640880",
     "exception": false,
     "start_time": "2022-08-26T15:05:39.339967",
     "status": "completed"
    },
    "tags": []
   },
   "outputs": [],
   "source": [
    "submission['target'] = oof_test_preds\n",
    "submission.to_csv('submission.csv')"
   ]
  }
 ],
 "metadata": {
  "kernelspec": {
   "display_name": "Python 3",
   "language": "python",
   "name": "python3"
  },
  "language_info": {
   "codemirror_mode": {
    "name": "ipython",
    "version": 3
   },
   "file_extension": ".py",
   "mimetype": "text/x-python",
   "name": "python",
   "nbconvert_exporter": "python",
   "pygments_lexer": "ipython3",
   "version": "3.7.12"
  },
  "papermill": {
   "default_parameters": {},
   "duration": 358.652019,
   "end_time": "2022-08-26T15:05:42.574172",
   "environment_variables": {},
   "exception": null,
   "input_path": "__notebook__.ipynb",
   "output_path": "__notebook__.ipynb",
   "parameters": {},
   "start_time": "2022-08-26T14:59:43.922153",
   "version": "2.3.4"
  }
 },
 "nbformat": 4,
 "nbformat_minor": 5
}
