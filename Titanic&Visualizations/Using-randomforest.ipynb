{
 "cells": [
  {
   "cell_type": "markdown",
   "id": "f0ff33e9",
   "metadata": {
    "papermill": {
     "duration": 0.024674,
     "end_time": "2022-07-16T14:52:37.255316",
     "exception": false,
     "start_time": "2022-07-16T14:52:37.230642",
     "status": "completed"
    },
    "tags": []
   },
   "source": [
    "# 라이브러리 불러오기"
   ]
  },
  {
   "cell_type": "code",
   "execution_count": 1,
   "id": "1704b2b1",
   "metadata": {
    "_cell_guid": "b1076dfc-b9ad-4769-8c92-a6c4dae69d19",
    "_uuid": "8f2839f25d086af736a60e9eeb907d3b93b6e0e5",
    "execution": {
     "iopub.execute_input": "2022-07-16T14:52:37.304546Z",
     "iopub.status.busy": "2022-07-16T14:52:37.303364Z",
     "iopub.status.idle": "2022-07-16T14:52:38.643253Z",
     "shell.execute_reply": "2022-07-16T14:52:38.642555Z",
     "shell.execute_reply.started": "2022-07-16T14:51:55.874082Z"
    },
    "papermill": {
     "duration": 1.364935,
     "end_time": "2022-07-16T14:52:38.643454",
     "exception": false,
     "start_time": "2022-07-16T14:52:37.278519",
     "status": "completed"
    },
    "tags": []
   },
   "outputs": [],
   "source": [
    "import numpy as np \n",
    "import pandas as pd\n",
    "import matplotlib.pyplot as plt\n",
    "import seaborn as sns\n",
    "from sklearn.ensemble import RandomForestClassifier\n",
    "%matplotlib inline"
   ]
  },
  {
   "cell_type": "markdown",
   "id": "d784b593",
   "metadata": {
    "papermill": {
     "duration": 0.021922,
     "end_time": "2022-07-16T14:52:38.688088",
     "exception": false,
     "start_time": "2022-07-16T14:52:38.666166",
     "status": "completed"
    },
    "tags": []
   },
   "source": [
    "# 데이터 읽어오기"
   ]
  },
  {
   "cell_type": "code",
   "execution_count": 2,
   "id": "12587575",
   "metadata": {
    "_cell_guid": "79c7e3d0-c299-4dcb-8224-4455121ee9b0",
    "_uuid": "d629ff2d2480ee46fbb7e2d37f6b5fab8052498a",
    "execution": {
     "iopub.execute_input": "2022-07-16T14:52:38.736201Z",
     "iopub.status.busy": "2022-07-16T14:52:38.735493Z",
     "iopub.status.idle": "2022-07-16T14:52:38.773104Z",
     "shell.execute_reply": "2022-07-16T14:52:38.773726Z",
     "shell.execute_reply.started": "2022-07-16T14:51:57.292498Z"
    },
    "papermill": {
     "duration": 0.063659,
     "end_time": "2022-07-16T14:52:38.773959",
     "exception": false,
     "start_time": "2022-07-16T14:52:38.710300",
     "status": "completed"
    },
    "tags": []
   },
   "outputs": [],
   "source": [
    "train = pd.read_csv(\"/kaggle/input/titanic/train.csv\")\n",
    "test = pd.read_csv(\"/kaggle/input/titanic/test.csv\")\n",
    "submission = pd.read_csv(\"/kaggle/input/titanic/gender_submission.csv\")"
   ]
  },
  {
   "cell_type": "code",
   "execution_count": 3,
   "id": "e58f9810",
   "metadata": {
    "execution": {
     "iopub.execute_input": "2022-07-16T14:52:38.823356Z",
     "iopub.status.busy": "2022-07-16T14:52:38.822245Z",
     "iopub.status.idle": "2022-07-16T14:52:38.848325Z",
     "shell.execute_reply": "2022-07-16T14:52:38.847760Z",
     "shell.execute_reply.started": "2022-07-16T14:51:57.327324Z"
    },
    "papermill": {
     "duration": 0.051462,
     "end_time": "2022-07-16T14:52:38.848477",
     "exception": false,
     "start_time": "2022-07-16T14:52:38.797015",
     "status": "completed"
    },
    "tags": []
   },
   "outputs": [
    {
     "data": {
      "text/html": [
       "<div>\n",
       "<style scoped>\n",
       "    .dataframe tbody tr th:only-of-type {\n",
       "        vertical-align: middle;\n",
       "    }\n",
       "\n",
       "    .dataframe tbody tr th {\n",
       "        vertical-align: top;\n",
       "    }\n",
       "\n",
       "    .dataframe thead th {\n",
       "        text-align: right;\n",
       "    }\n",
       "</style>\n",
       "<table border=\"1\" class=\"dataframe\">\n",
       "  <thead>\n",
       "    <tr style=\"text-align: right;\">\n",
       "      <th></th>\n",
       "      <th>PassengerId</th>\n",
       "      <th>Survived</th>\n",
       "      <th>Pclass</th>\n",
       "      <th>Name</th>\n",
       "      <th>Sex</th>\n",
       "      <th>Age</th>\n",
       "      <th>SibSp</th>\n",
       "      <th>Parch</th>\n",
       "      <th>Ticket</th>\n",
       "      <th>Fare</th>\n",
       "      <th>Cabin</th>\n",
       "      <th>Embarked</th>\n",
       "    </tr>\n",
       "  </thead>\n",
       "  <tbody>\n",
       "    <tr>\n",
       "      <th>0</th>\n",
       "      <td>1</td>\n",
       "      <td>0</td>\n",
       "      <td>3</td>\n",
       "      <td>Braund, Mr. Owen Harris</td>\n",
       "      <td>male</td>\n",
       "      <td>22.0</td>\n",
       "      <td>1</td>\n",
       "      <td>0</td>\n",
       "      <td>A/5 21171</td>\n",
       "      <td>7.2500</td>\n",
       "      <td>NaN</td>\n",
       "      <td>S</td>\n",
       "    </tr>\n",
       "    <tr>\n",
       "      <th>1</th>\n",
       "      <td>2</td>\n",
       "      <td>1</td>\n",
       "      <td>1</td>\n",
       "      <td>Cumings, Mrs. John Bradley (Florence Briggs Th...</td>\n",
       "      <td>female</td>\n",
       "      <td>38.0</td>\n",
       "      <td>1</td>\n",
       "      <td>0</td>\n",
       "      <td>PC 17599</td>\n",
       "      <td>71.2833</td>\n",
       "      <td>C85</td>\n",
       "      <td>C</td>\n",
       "    </tr>\n",
       "    <tr>\n",
       "      <th>2</th>\n",
       "      <td>3</td>\n",
       "      <td>1</td>\n",
       "      <td>3</td>\n",
       "      <td>Heikkinen, Miss. Laina</td>\n",
       "      <td>female</td>\n",
       "      <td>26.0</td>\n",
       "      <td>0</td>\n",
       "      <td>0</td>\n",
       "      <td>STON/O2. 3101282</td>\n",
       "      <td>7.9250</td>\n",
       "      <td>NaN</td>\n",
       "      <td>S</td>\n",
       "    </tr>\n",
       "    <tr>\n",
       "      <th>3</th>\n",
       "      <td>4</td>\n",
       "      <td>1</td>\n",
       "      <td>1</td>\n",
       "      <td>Futrelle, Mrs. Jacques Heath (Lily May Peel)</td>\n",
       "      <td>female</td>\n",
       "      <td>35.0</td>\n",
       "      <td>1</td>\n",
       "      <td>0</td>\n",
       "      <td>113803</td>\n",
       "      <td>53.1000</td>\n",
       "      <td>C123</td>\n",
       "      <td>S</td>\n",
       "    </tr>\n",
       "    <tr>\n",
       "      <th>4</th>\n",
       "      <td>5</td>\n",
       "      <td>0</td>\n",
       "      <td>3</td>\n",
       "      <td>Allen, Mr. William Henry</td>\n",
       "      <td>male</td>\n",
       "      <td>35.0</td>\n",
       "      <td>0</td>\n",
       "      <td>0</td>\n",
       "      <td>373450</td>\n",
       "      <td>8.0500</td>\n",
       "      <td>NaN</td>\n",
       "      <td>S</td>\n",
       "    </tr>\n",
       "  </tbody>\n",
       "</table>\n",
       "</div>"
      ],
      "text/plain": [
       "   PassengerId  Survived  Pclass  \\\n",
       "0            1         0       3   \n",
       "1            2         1       1   \n",
       "2            3         1       3   \n",
       "3            4         1       1   \n",
       "4            5         0       3   \n",
       "\n",
       "                                                Name     Sex   Age  SibSp  \\\n",
       "0                            Braund, Mr. Owen Harris    male  22.0      1   \n",
       "1  Cumings, Mrs. John Bradley (Florence Briggs Th...  female  38.0      1   \n",
       "2                             Heikkinen, Miss. Laina  female  26.0      0   \n",
       "3       Futrelle, Mrs. Jacques Heath (Lily May Peel)  female  35.0      1   \n",
       "4                           Allen, Mr. William Henry    male  35.0      0   \n",
       "\n",
       "   Parch            Ticket     Fare Cabin Embarked  \n",
       "0      0         A/5 21171   7.2500   NaN        S  \n",
       "1      0          PC 17599  71.2833   C85        C  \n",
       "2      0  STON/O2. 3101282   7.9250   NaN        S  \n",
       "3      0            113803  53.1000  C123        S  \n",
       "4      0            373450   8.0500   NaN        S  "
      ]
     },
     "execution_count": 3,
     "metadata": {},
     "output_type": "execute_result"
    }
   ],
   "source": [
    "train.head()"
   ]
  },
  {
   "cell_type": "code",
   "execution_count": 4,
   "id": "8cd2b671",
   "metadata": {
    "execution": {
     "iopub.execute_input": "2022-07-16T14:52:38.911307Z",
     "iopub.status.busy": "2022-07-16T14:52:38.910416Z",
     "iopub.status.idle": "2022-07-16T14:52:38.913909Z",
     "shell.execute_reply": "2022-07-16T14:52:38.914423Z",
     "shell.execute_reply.started": "2022-07-16T14:51:57.356338Z"
    },
    "papermill": {
     "duration": 0.043319,
     "end_time": "2022-07-16T14:52:38.914592",
     "exception": false,
     "start_time": "2022-07-16T14:52:38.871273",
     "status": "completed"
    },
    "tags": []
   },
   "outputs": [
    {
     "data": {
      "text/html": [
       "<div>\n",
       "<style scoped>\n",
       "    .dataframe tbody tr th:only-of-type {\n",
       "        vertical-align: middle;\n",
       "    }\n",
       "\n",
       "    .dataframe tbody tr th {\n",
       "        vertical-align: top;\n",
       "    }\n",
       "\n",
       "    .dataframe thead th {\n",
       "        text-align: right;\n",
       "    }\n",
       "</style>\n",
       "<table border=\"1\" class=\"dataframe\">\n",
       "  <thead>\n",
       "    <tr style=\"text-align: right;\">\n",
       "      <th></th>\n",
       "      <th>PassengerId</th>\n",
       "      <th>Pclass</th>\n",
       "      <th>Name</th>\n",
       "      <th>Sex</th>\n",
       "      <th>Age</th>\n",
       "      <th>SibSp</th>\n",
       "      <th>Parch</th>\n",
       "      <th>Ticket</th>\n",
       "      <th>Fare</th>\n",
       "      <th>Cabin</th>\n",
       "      <th>Embarked</th>\n",
       "    </tr>\n",
       "  </thead>\n",
       "  <tbody>\n",
       "    <tr>\n",
       "      <th>0</th>\n",
       "      <td>892</td>\n",
       "      <td>3</td>\n",
       "      <td>Kelly, Mr. James</td>\n",
       "      <td>male</td>\n",
       "      <td>34.5</td>\n",
       "      <td>0</td>\n",
       "      <td>0</td>\n",
       "      <td>330911</td>\n",
       "      <td>7.8292</td>\n",
       "      <td>NaN</td>\n",
       "      <td>Q</td>\n",
       "    </tr>\n",
       "    <tr>\n",
       "      <th>1</th>\n",
       "      <td>893</td>\n",
       "      <td>3</td>\n",
       "      <td>Wilkes, Mrs. James (Ellen Needs)</td>\n",
       "      <td>female</td>\n",
       "      <td>47.0</td>\n",
       "      <td>1</td>\n",
       "      <td>0</td>\n",
       "      <td>363272</td>\n",
       "      <td>7.0000</td>\n",
       "      <td>NaN</td>\n",
       "      <td>S</td>\n",
       "    </tr>\n",
       "    <tr>\n",
       "      <th>2</th>\n",
       "      <td>894</td>\n",
       "      <td>2</td>\n",
       "      <td>Myles, Mr. Thomas Francis</td>\n",
       "      <td>male</td>\n",
       "      <td>62.0</td>\n",
       "      <td>0</td>\n",
       "      <td>0</td>\n",
       "      <td>240276</td>\n",
       "      <td>9.6875</td>\n",
       "      <td>NaN</td>\n",
       "      <td>Q</td>\n",
       "    </tr>\n",
       "    <tr>\n",
       "      <th>3</th>\n",
       "      <td>895</td>\n",
       "      <td>3</td>\n",
       "      <td>Wirz, Mr. Albert</td>\n",
       "      <td>male</td>\n",
       "      <td>27.0</td>\n",
       "      <td>0</td>\n",
       "      <td>0</td>\n",
       "      <td>315154</td>\n",
       "      <td>8.6625</td>\n",
       "      <td>NaN</td>\n",
       "      <td>S</td>\n",
       "    </tr>\n",
       "    <tr>\n",
       "      <th>4</th>\n",
       "      <td>896</td>\n",
       "      <td>3</td>\n",
       "      <td>Hirvonen, Mrs. Alexander (Helga E Lindqvist)</td>\n",
       "      <td>female</td>\n",
       "      <td>22.0</td>\n",
       "      <td>1</td>\n",
       "      <td>1</td>\n",
       "      <td>3101298</td>\n",
       "      <td>12.2875</td>\n",
       "      <td>NaN</td>\n",
       "      <td>S</td>\n",
       "    </tr>\n",
       "  </tbody>\n",
       "</table>\n",
       "</div>"
      ],
      "text/plain": [
       "   PassengerId  Pclass                                          Name     Sex  \\\n",
       "0          892       3                              Kelly, Mr. James    male   \n",
       "1          893       3              Wilkes, Mrs. James (Ellen Needs)  female   \n",
       "2          894       2                     Myles, Mr. Thomas Francis    male   \n",
       "3          895       3                              Wirz, Mr. Albert    male   \n",
       "4          896       3  Hirvonen, Mrs. Alexander (Helga E Lindqvist)  female   \n",
       "\n",
       "    Age  SibSp  Parch   Ticket     Fare Cabin Embarked  \n",
       "0  34.5      0      0   330911   7.8292   NaN        Q  \n",
       "1  47.0      1      0   363272   7.0000   NaN        S  \n",
       "2  62.0      0      0   240276   9.6875   NaN        Q  \n",
       "3  27.0      0      0   315154   8.6625   NaN        S  \n",
       "4  22.0      1      1  3101298  12.2875   NaN        S  "
      ]
     },
     "execution_count": 4,
     "metadata": {},
     "output_type": "execute_result"
    }
   ],
   "source": [
    "test.head()"
   ]
  },
  {
   "cell_type": "code",
   "execution_count": 5,
   "id": "134c9eec",
   "metadata": {
    "execution": {
     "iopub.execute_input": "2022-07-16T14:52:38.965377Z",
     "iopub.status.busy": "2022-07-16T14:52:38.964610Z",
     "iopub.status.idle": "2022-07-16T14:52:38.972030Z",
     "shell.execute_reply": "2022-07-16T14:52:38.972542Z",
     "shell.execute_reply.started": "2022-07-16T14:51:57.376166Z"
    },
    "papermill": {
     "duration": 0.035074,
     "end_time": "2022-07-16T14:52:38.972729",
     "exception": false,
     "start_time": "2022-07-16T14:52:38.937655",
     "status": "completed"
    },
    "tags": []
   },
   "outputs": [
    {
     "data": {
      "text/html": [
       "<div>\n",
       "<style scoped>\n",
       "    .dataframe tbody tr th:only-of-type {\n",
       "        vertical-align: middle;\n",
       "    }\n",
       "\n",
       "    .dataframe tbody tr th {\n",
       "        vertical-align: top;\n",
       "    }\n",
       "\n",
       "    .dataframe thead th {\n",
       "        text-align: right;\n",
       "    }\n",
       "</style>\n",
       "<table border=\"1\" class=\"dataframe\">\n",
       "  <thead>\n",
       "    <tr style=\"text-align: right;\">\n",
       "      <th></th>\n",
       "      <th>PassengerId</th>\n",
       "      <th>Survived</th>\n",
       "    </tr>\n",
       "  </thead>\n",
       "  <tbody>\n",
       "    <tr>\n",
       "      <th>0</th>\n",
       "      <td>892</td>\n",
       "      <td>0</td>\n",
       "    </tr>\n",
       "    <tr>\n",
       "      <th>1</th>\n",
       "      <td>893</td>\n",
       "      <td>1</td>\n",
       "    </tr>\n",
       "    <tr>\n",
       "      <th>2</th>\n",
       "      <td>894</td>\n",
       "      <td>0</td>\n",
       "    </tr>\n",
       "    <tr>\n",
       "      <th>3</th>\n",
       "      <td>895</td>\n",
       "      <td>0</td>\n",
       "    </tr>\n",
       "    <tr>\n",
       "      <th>4</th>\n",
       "      <td>896</td>\n",
       "      <td>1</td>\n",
       "    </tr>\n",
       "  </tbody>\n",
       "</table>\n",
       "</div>"
      ],
      "text/plain": [
       "   PassengerId  Survived\n",
       "0          892         0\n",
       "1          893         1\n",
       "2          894         0\n",
       "3          895         0\n",
       "4          896         1"
      ]
     },
     "execution_count": 5,
     "metadata": {},
     "output_type": "execute_result"
    }
   ],
   "source": [
    "submission.head()"
   ]
  },
  {
   "cell_type": "markdown",
   "id": "d9ac10b6",
   "metadata": {
    "papermill": {
     "duration": 0.023764,
     "end_time": "2022-07-16T14:52:39.025828",
     "exception": false,
     "start_time": "2022-07-16T14:52:39.002064",
     "status": "completed"
    },
    "tags": []
   },
   "source": [
    "# 전처리 & 피처엔지니어링"
   ]
  },
  {
   "cell_type": "code",
   "execution_count": 6,
   "id": "b83161d1",
   "metadata": {
    "execution": {
     "iopub.execute_input": "2022-07-16T14:52:39.075924Z",
     "iopub.status.busy": "2022-07-16T14:52:39.075220Z",
     "iopub.status.idle": "2022-07-16T14:52:39.105219Z",
     "shell.execute_reply": "2022-07-16T14:52:39.106136Z",
     "shell.execute_reply.started": "2022-07-16T14:51:57.390311Z"
    },
    "papermill": {
     "duration": 0.057116,
     "end_time": "2022-07-16T14:52:39.106383",
     "exception": false,
     "start_time": "2022-07-16T14:52:39.049267",
     "status": "completed"
    },
    "tags": []
   },
   "outputs": [
    {
     "name": "stdout",
     "output_type": "stream",
     "text": [
      "<class 'pandas.core.frame.DataFrame'>\n",
      "Int64Index: 1309 entries, 0 to 417\n",
      "Data columns (total 12 columns):\n",
      " #   Column       Non-Null Count  Dtype  \n",
      "---  ------       --------------  -----  \n",
      " 0   PassengerId  1309 non-null   int64  \n",
      " 1   Survived     891 non-null    float64\n",
      " 2   Pclass       1309 non-null   int64  \n",
      " 3   Name         1309 non-null   object \n",
      " 4   Sex          1309 non-null   object \n",
      " 5   Age          1046 non-null   float64\n",
      " 6   SibSp        1309 non-null   int64  \n",
      " 7   Parch        1309 non-null   int64  \n",
      " 8   Ticket       1309 non-null   object \n",
      " 9   Fare         1308 non-null   float64\n",
      " 10  Cabin        295 non-null    object \n",
      " 11  Embarked     1307 non-null   object \n",
      "dtypes: float64(3), int64(4), object(5)\n",
      "memory usage: 132.9+ KB\n"
     ]
    }
   ],
   "source": [
    "all_data = pd.concat([train, test], sort = False)\n",
    "all_data.info()"
   ]
  },
  {
   "cell_type": "code",
   "execution_count": 7,
   "id": "c2963073",
   "metadata": {
    "execution": {
     "iopub.execute_input": "2022-07-16T14:52:39.158773Z",
     "iopub.status.busy": "2022-07-16T14:52:39.158105Z",
     "iopub.status.idle": "2022-07-16T14:52:39.163842Z",
     "shell.execute_reply": "2022-07-16T14:52:39.164426Z",
     "shell.execute_reply.started": "2022-07-16T14:51:57.429738Z"
    },
    "papermill": {
     "duration": 0.033174,
     "end_time": "2022-07-16T14:52:39.164599",
     "exception": false,
     "start_time": "2022-07-16T14:52:39.131425",
     "status": "completed"
    },
    "tags": []
   },
   "outputs": [],
   "source": [
    "# Age, Fare의 null 값을 중앙값으로 치환\n",
    "all_data['Age'] = all_data['Age'].fillna(all_data['Age'].median())\n",
    "all_data['Fare'] = all_data['Fare'].fillna(all_data['Fare'].median())"
   ]
  },
  {
   "cell_type": "code",
   "execution_count": 8,
   "id": "be71e233",
   "metadata": {
    "execution": {
     "iopub.execute_input": "2022-07-16T14:52:39.215522Z",
     "iopub.status.busy": "2022-07-16T14:52:39.214820Z",
     "iopub.status.idle": "2022-07-16T14:52:39.228759Z",
     "shell.execute_reply": "2022-07-16T14:52:39.229315Z",
     "shell.execute_reply.started": "2022-07-16T14:51:57.440164Z"
    },
    "papermill": {
     "duration": 0.041106,
     "end_time": "2022-07-16T14:52:39.229499",
     "exception": false,
     "start_time": "2022-07-16T14:52:39.188393",
     "status": "completed"
    },
    "tags": []
   },
   "outputs": [
    {
     "name": "stdout",
     "output_type": "stream",
     "text": [
      "<class 'pandas.core.frame.DataFrame'>\n",
      "Int64Index: 1309 entries, 0 to 417\n",
      "Data columns (total 12 columns):\n",
      " #   Column       Non-Null Count  Dtype  \n",
      "---  ------       --------------  -----  \n",
      " 0   PassengerId  1309 non-null   int64  \n",
      " 1   Survived     891 non-null    float64\n",
      " 2   Pclass       1309 non-null   int64  \n",
      " 3   Name         1309 non-null   object \n",
      " 4   Sex          1309 non-null   object \n",
      " 5   Age          1309 non-null   float64\n",
      " 6   SibSp        1309 non-null   int64  \n",
      " 7   Parch        1309 non-null   int64  \n",
      " 8   Ticket       1309 non-null   object \n",
      " 9   Fare         1309 non-null   float64\n",
      " 10  Cabin        295 non-null    object \n",
      " 11  Embarked     1307 non-null   object \n",
      "dtypes: float64(3), int64(4), object(5)\n",
      "memory usage: 132.9+ KB\n"
     ]
    }
   ],
   "source": [
    "all_data.info()"
   ]
  },
  {
   "cell_type": "code",
   "execution_count": 9,
   "id": "70a5d467",
   "metadata": {
    "execution": {
     "iopub.execute_input": "2022-07-16T14:52:39.286003Z",
     "iopub.status.busy": "2022-07-16T14:52:39.285276Z",
     "iopub.status.idle": "2022-07-16T14:52:39.579160Z",
     "shell.execute_reply": "2022-07-16T14:52:39.579736Z",
     "shell.execute_reply.started": "2022-07-16T14:51:57.459076Z"
    },
    "papermill": {
     "duration": 0.325758,
     "end_time": "2022-07-16T14:52:39.579938",
     "exception": false,
     "start_time": "2022-07-16T14:52:39.254180",
     "status": "completed"
    },
    "tags": []
   },
   "outputs": [
    {
     "data": {
      "image/png": "[encoded data removed]",
      "text/plain": [
       "<Figure size 360x360 with 1 Axes>"
      ]
     },
     "metadata": {
      "needs_background": "light"
     },
     "output_type": "display_data"
    }
   ],
   "source": [
    "sns.catplot(x='Embarked', kind='count', data=all_data);"
   ]
  },
  {
   "cell_type": "code",
   "execution_count": 10,
   "id": "83c22954",
   "metadata": {
    "execution": {
     "iopub.execute_input": "2022-07-16T14:52:39.645776Z",
     "iopub.status.busy": "2022-07-16T14:52:39.645028Z",
     "iopub.status.idle": "2022-07-16T14:52:39.647742Z",
     "shell.execute_reply": "2022-07-16T14:52:39.648245Z",
     "shell.execute_reply.started": "2022-07-16T14:51:57.756585Z"
    },
    "papermill": {
     "duration": 0.043147,
     "end_time": "2022-07-16T14:52:39.648426",
     "exception": false,
     "start_time": "2022-07-16T14:52:39.605279",
     "status": "completed"
    },
    "tags": []
   },
   "outputs": [
    {
     "name": "stdout",
     "output_type": "stream",
     "text": [
      "<class 'pandas.core.frame.DataFrame'>\n",
      "Int64Index: 1309 entries, 0 to 417\n",
      "Data columns (total 12 columns):\n",
      " #   Column       Non-Null Count  Dtype  \n",
      "---  ------       --------------  -----  \n",
      " 0   PassengerId  1309 non-null   int64  \n",
      " 1   Survived     891 non-null    float64\n",
      " 2   Pclass       1309 non-null   int64  \n",
      " 3   Name         1309 non-null   object \n",
      " 4   Sex          1309 non-null   object \n",
      " 5   Age          1309 non-null   float64\n",
      " 6   SibSp        1309 non-null   int64  \n",
      " 7   Parch        1309 non-null   int64  \n",
      " 8   Ticket       1309 non-null   object \n",
      " 9   Fare         1309 non-null   float64\n",
      " 10  Cabin        295 non-null    object \n",
      " 11  Embarked     1309 non-null   object \n",
      "dtypes: float64(3), int64(4), object(5)\n",
      "memory usage: 165.2+ KB\n"
     ]
    }
   ],
   "source": [
    "# Embarked 중 가장 많은 'S'로 null 값 치환\n",
    "all_data['Embarked'] = all_data['Embarked'].fillna('S')\n",
    "all_data.info()"
   ]
  },
  {
   "cell_type": "code",
   "execution_count": 11,
   "id": "a8ac5ecb",
   "metadata": {
    "execution": {
     "iopub.execute_input": "2022-07-16T14:52:39.701995Z",
     "iopub.status.busy": "2022-07-16T14:52:39.701338Z",
     "iopub.status.idle": "2022-07-16T14:52:39.712302Z",
     "shell.execute_reply": "2022-07-16T14:52:39.712841Z",
     "shell.execute_reply.started": "2022-07-16T14:51:57.777637Z"
    },
    "papermill": {
     "duration": 0.039598,
     "end_time": "2022-07-16T14:52:39.713015",
     "exception": false,
     "start_time": "2022-07-16T14:52:39.673417",
     "status": "completed"
    },
    "tags": []
   },
   "outputs": [],
   "source": [
    "# 나이 feature 구간 나누기\n",
    "all_data.loc[all_data['Age'] <= 15, 'Age'] = 0\n",
    "all_data.loc[(all_data['Age'] > 15) & (all_data['Age'] <= 25), 'Age'] = 1\n",
    "all_data.loc[(all_data['Age'] > 25) & (all_data['Age'] <= 35), 'Age'] = 2\n",
    "all_data.loc[(all_data['Age'] > 35) & (all_data['Age'] <= 45), 'Age'] = 3\n",
    "all_data.loc[(all_data['Age'] > 45) & (all_data['Age'] <= 60), 'Age'] = 4\n",
    "all_data.loc[ all_data['Age'] > 60, 'Age'] = 5"
   ]
  },
  {
   "cell_type": "code",
   "execution_count": 12,
   "id": "d042a65c",
   "metadata": {
    "execution": {
     "iopub.execute_input": "2022-07-16T14:52:39.767054Z",
     "iopub.status.busy": "2022-07-16T14:52:39.766384Z",
     "iopub.status.idle": "2022-07-16T14:52:39.770302Z",
     "shell.execute_reply": "2022-07-16T14:52:39.770910Z",
     "shell.execute_reply.started": "2022-07-16T14:51:57.792872Z"
    },
    "papermill": {
     "duration": 0.032989,
     "end_time": "2022-07-16T14:52:39.771091",
     "exception": false,
     "start_time": "2022-07-16T14:52:39.738102",
     "status": "completed"
    },
    "tags": []
   },
   "outputs": [],
   "source": [
    "# Title 추출 함수\n",
    "import re\n",
    "def get_title(name):\n",
    "    title_search = re.search(' ([A-Za-z]+\\.)', name)\n",
    "    \n",
    "    if title_search:\n",
    "        return title_search.group(1)\n",
    "    return \"\""
   ]
  },
  {
   "cell_type": "code",
   "execution_count": 13,
   "id": "635810a2",
   "metadata": {
    "execution": {
     "iopub.execute_input": "2022-07-16T14:52:39.823983Z",
     "iopub.status.busy": "2022-07-16T14:52:39.823329Z",
     "iopub.status.idle": "2022-07-16T14:52:39.834943Z",
     "shell.execute_reply": "2022-07-16T14:52:39.835463Z",
     "shell.execute_reply.started": "2022-07-16T14:51:57.804586Z"
    },
    "papermill": {
     "duration": 0.039511,
     "end_time": "2022-07-16T14:52:39.835634",
     "exception": false,
     "start_time": "2022-07-16T14:52:39.796123",
     "status": "completed"
    },
    "tags": []
   },
   "outputs": [
    {
     "data": {
      "text/plain": [
       "Mr.          757\n",
       "Miss.        260\n",
       "Mrs.         197\n",
       "Master.       61\n",
       "Rev.           8\n",
       "Dr.            8\n",
       "Col.           4\n",
       "Mlle.          2\n",
       "Major.         2\n",
       "Ms.            2\n",
       "Lady.          1\n",
       "Sir.           1\n",
       "Mme.           1\n",
       "Don.           1\n",
       "Capt.          1\n",
       "Countess.      1\n",
       "Jonkheer.      1\n",
       "Dona.          1\n",
       "Name: Title, dtype: int64"
      ]
     },
     "execution_count": 13,
     "metadata": {},
     "output_type": "execute_result"
    }
   ],
   "source": [
    "# Title 추출\n",
    "all_data['Title'] = all_data['Name'].apply(get_title)\n",
    "all_data['Title'].value_counts()"
   ]
  },
  {
   "cell_type": "code",
   "execution_count": 14,
   "id": "4e664414",
   "metadata": {
    "execution": {
     "iopub.execute_input": "2022-07-16T14:52:39.889891Z",
     "iopub.status.busy": "2022-07-16T14:52:39.889131Z",
     "iopub.status.idle": "2022-07-16T14:52:39.904705Z",
     "shell.execute_reply": "2022-07-16T14:52:39.905331Z",
     "shell.execute_reply.started": "2022-07-16T14:51:57.823962Z"
    },
    "papermill": {
     "duration": 0.044305,
     "end_time": "2022-07-16T14:52:39.905513",
     "exception": false,
     "start_time": "2022-07-16T14:52:39.861208",
     "status": "completed"
    },
    "tags": []
   },
   "outputs": [
    {
     "data": {
      "text/plain": [
       "Mr.         757\n",
       "Miss.       264\n",
       "Mrs.        198\n",
       "Master.      61\n",
       "Officer.     19\n",
       "Royal.        6\n",
       "Col.          4\n",
       "Name: Title, dtype: int64"
      ]
     },
     "execution_count": 14,
     "metadata": {},
     "output_type": "execute_result"
    }
   ],
   "source": [
    "# Title을 대표 Title로 축소\n",
    "all_data['Title'] = all_data['Title'].replace(['Capt.', 'Dr.', 'Major.', 'Rev.'], 'Officer.')\n",
    "all_data['Title'] = all_data['Title'].replace(['Lady.', 'Countess.', 'Don.', 'Sir.', 'Jonkheer.', 'Dona.'], 'Royal.')\n",
    "all_data['Title'] = all_data['Title'].replace(['Mlle.', 'Ms.'], 'Miss.')\n",
    "all_data['Title'] = all_data['Title'].replace(['Mme.'], 'Mrs.')\n",
    "all_data['Title'].value_counts()"
   ]
  },
  {
   "cell_type": "code",
   "execution_count": 15,
   "id": "e3bdacd9",
   "metadata": {
    "execution": {
     "iopub.execute_input": "2022-07-16T14:52:39.970125Z",
     "iopub.status.busy": "2022-07-16T14:52:39.969467Z",
     "iopub.status.idle": "2022-07-16T14:52:39.980801Z",
     "shell.execute_reply": "2022-07-16T14:52:39.980193Z",
     "shell.execute_reply.started": "2022-07-16T14:51:57.847793Z"
    },
    "papermill": {
     "duration": 0.045275,
     "end_time": "2022-07-16T14:52:39.980949",
     "exception": false,
     "start_time": "2022-07-16T14:52:39.935674",
     "status": "completed"
    },
    "tags": []
   },
   "outputs": [
    {
     "data": {
      "text/plain": [
       "M    1014\n",
       "C      94\n",
       "B      65\n",
       "D      46\n",
       "E      41\n",
       "A      22\n",
       "F      21\n",
       "G       5\n",
       "T       1\n",
       "Name: Cabin, dtype: int64"
      ]
     },
     "execution_count": 15,
     "metadata": {},
     "output_type": "execute_result"
    }
   ],
   "source": [
    "# Cabin null값 처리\n",
    "all_data['Cabin'] = all_data['Cabin'].fillna('Missing')\n",
    "all_data['Cabin'] = all_data['Cabin'].str[0]\n",
    "all_data['Cabin'].value_counts()"
   ]
  },
  {
   "cell_type": "code",
   "execution_count": 16,
   "id": "bd31fcbb",
   "metadata": {
    "execution": {
     "iopub.execute_input": "2022-07-16T14:52:40.039047Z",
     "iopub.status.busy": "2022-07-16T14:52:40.038214Z",
     "iopub.status.idle": "2022-07-16T14:52:40.060039Z",
     "shell.execute_reply": "2022-07-16T14:52:40.060587Z",
     "shell.execute_reply.started": "2022-07-16T14:51:57.866255Z"
    },
    "papermill": {
     "duration": 0.052947,
     "end_time": "2022-07-16T14:52:40.060765",
     "exception": false,
     "start_time": "2022-07-16T14:52:40.007818",
     "status": "completed"
    },
    "tags": []
   },
   "outputs": [
    {
     "data": {
      "text/html": [
       "<div>\n",
       "<style scoped>\n",
       "    .dataframe tbody tr th:only-of-type {\n",
       "        vertical-align: middle;\n",
       "    }\n",
       "\n",
       "    .dataframe tbody tr th {\n",
       "        vertical-align: top;\n",
       "    }\n",
       "\n",
       "    .dataframe thead th {\n",
       "        text-align: right;\n",
       "    }\n",
       "</style>\n",
       "<table border=\"1\" class=\"dataframe\">\n",
       "  <thead>\n",
       "    <tr style=\"text-align: right;\">\n",
       "      <th></th>\n",
       "      <th>PassengerId</th>\n",
       "      <th>Survived</th>\n",
       "      <th>Pclass</th>\n",
       "      <th>Name</th>\n",
       "      <th>Sex</th>\n",
       "      <th>Age</th>\n",
       "      <th>SibSp</th>\n",
       "      <th>Parch</th>\n",
       "      <th>Ticket</th>\n",
       "      <th>Fare</th>\n",
       "      <th>Cabin</th>\n",
       "      <th>Embarked</th>\n",
       "      <th>Title</th>\n",
       "      <th>Family_Size</th>\n",
       "      <th>IsAlone</th>\n",
       "    </tr>\n",
       "  </thead>\n",
       "  <tbody>\n",
       "    <tr>\n",
       "      <th>0</th>\n",
       "      <td>1</td>\n",
       "      <td>0.0</td>\n",
       "      <td>3</td>\n",
       "      <td>Braund, Mr. Owen Harris</td>\n",
       "      <td>male</td>\n",
       "      <td>1.0</td>\n",
       "      <td>1</td>\n",
       "      <td>0</td>\n",
       "      <td>A/5 21171</td>\n",
       "      <td>7.2500</td>\n",
       "      <td>M</td>\n",
       "      <td>S</td>\n",
       "      <td>Mr.</td>\n",
       "      <td>2</td>\n",
       "      <td>0</td>\n",
       "    </tr>\n",
       "    <tr>\n",
       "      <th>1</th>\n",
       "      <td>2</td>\n",
       "      <td>1.0</td>\n",
       "      <td>1</td>\n",
       "      <td>Cumings, Mrs. John Bradley (Florence Briggs Th...</td>\n",
       "      <td>female</td>\n",
       "      <td>3.0</td>\n",
       "      <td>1</td>\n",
       "      <td>0</td>\n",
       "      <td>PC 17599</td>\n",
       "      <td>71.2833</td>\n",
       "      <td>C</td>\n",
       "      <td>C</td>\n",
       "      <td>Mrs.</td>\n",
       "      <td>2</td>\n",
       "      <td>0</td>\n",
       "    </tr>\n",
       "    <tr>\n",
       "      <th>2</th>\n",
       "      <td>3</td>\n",
       "      <td>1.0</td>\n",
       "      <td>3</td>\n",
       "      <td>Heikkinen, Miss. Laina</td>\n",
       "      <td>female</td>\n",
       "      <td>2.0</td>\n",
       "      <td>0</td>\n",
       "      <td>0</td>\n",
       "      <td>STON/O2. 3101282</td>\n",
       "      <td>7.9250</td>\n",
       "      <td>M</td>\n",
       "      <td>S</td>\n",
       "      <td>Miss.</td>\n",
       "      <td>1</td>\n",
       "      <td>1</td>\n",
       "    </tr>\n",
       "    <tr>\n",
       "      <th>3</th>\n",
       "      <td>4</td>\n",
       "      <td>1.0</td>\n",
       "      <td>1</td>\n",
       "      <td>Futrelle, Mrs. Jacques Heath (Lily May Peel)</td>\n",
       "      <td>female</td>\n",
       "      <td>2.0</td>\n",
       "      <td>1</td>\n",
       "      <td>0</td>\n",
       "      <td>113803</td>\n",
       "      <td>53.1000</td>\n",
       "      <td>C</td>\n",
       "      <td>S</td>\n",
       "      <td>Mrs.</td>\n",
       "      <td>2</td>\n",
       "      <td>0</td>\n",
       "    </tr>\n",
       "    <tr>\n",
       "      <th>4</th>\n",
       "      <td>5</td>\n",
       "      <td>0.0</td>\n",
       "      <td>3</td>\n",
       "      <td>Allen, Mr. William Henry</td>\n",
       "      <td>male</td>\n",
       "      <td>2.0</td>\n",
       "      <td>0</td>\n",
       "      <td>0</td>\n",
       "      <td>373450</td>\n",
       "      <td>8.0500</td>\n",
       "      <td>M</td>\n",
       "      <td>S</td>\n",
       "      <td>Mr.</td>\n",
       "      <td>1</td>\n",
       "      <td>1</td>\n",
       "    </tr>\n",
       "  </tbody>\n",
       "</table>\n",
       "</div>"
      ],
      "text/plain": [
       "   PassengerId  Survived  Pclass  \\\n",
       "0            1       0.0       3   \n",
       "1            2       1.0       1   \n",
       "2            3       1.0       3   \n",
       "3            4       1.0       1   \n",
       "4            5       0.0       3   \n",
       "\n",
       "                                                Name     Sex  Age  SibSp  \\\n",
       "0                            Braund, Mr. Owen Harris    male  1.0      1   \n",
       "1  Cumings, Mrs. John Bradley (Florence Briggs Th...  female  3.0      1   \n",
       "2                             Heikkinen, Miss. Laina  female  2.0      0   \n",
       "3       Futrelle, Mrs. Jacques Heath (Lily May Peel)  female  2.0      1   \n",
       "4                           Allen, Mr. William Henry    male  2.0      0   \n",
       "\n",
       "   Parch            Ticket     Fare Cabin Embarked  Title  Family_Size  \\\n",
       "0      0         A/5 21171   7.2500     M        S    Mr.            2   \n",
       "1      0          PC 17599  71.2833     C        C   Mrs.            2   \n",
       "2      0  STON/O2. 3101282   7.9250     M        S  Miss.            1   \n",
       "3      0            113803  53.1000     C        S   Mrs.            2   \n",
       "4      0            373450   8.0500     M        S    Mr.            1   \n",
       "\n",
       "   IsAlone  \n",
       "0        0  \n",
       "1        0  \n",
       "2        1  \n",
       "3        0  \n",
       "4        1  "
      ]
     },
     "execution_count": 16,
     "metadata": {},
     "output_type": "execute_result"
    }
   ],
   "source": [
    "# 가족 수 및 혼자사는지 여부에 대한 feature 추가\n",
    "all_data['Family_Size'] = all_data['SibSp'] + all_data['Parch'] + 1\n",
    "all_data['IsAlone'] = 0\n",
    "all_data.loc[all_data['Family_Size']==1, 'IsAlone'] = 1\n",
    "all_data.head()"
   ]
  },
  {
   "cell_type": "code",
   "execution_count": 17,
   "id": "17cd65db",
   "metadata": {
    "execution": {
     "iopub.execute_input": "2022-07-16T14:52:40.117932Z",
     "iopub.status.busy": "2022-07-16T14:52:40.117173Z",
     "iopub.status.idle": "2022-07-16T14:52:40.134560Z",
     "shell.execute_reply": "2022-07-16T14:52:40.135173Z",
     "shell.execute_reply.started": "2022-07-16T14:51:57.893195Z"
    },
    "papermill": {
     "duration": 0.047743,
     "end_time": "2022-07-16T14:52:40.135354",
     "exception": false,
     "start_time": "2022-07-16T14:52:40.087611",
     "status": "completed"
    },
    "tags": []
   },
   "outputs": [
    {
     "data": {
      "text/html": [
       "<div>\n",
       "<style scoped>\n",
       "    .dataframe tbody tr th:only-of-type {\n",
       "        vertical-align: middle;\n",
       "    }\n",
       "\n",
       "    .dataframe tbody tr th {\n",
       "        vertical-align: top;\n",
       "    }\n",
       "\n",
       "    .dataframe thead th {\n",
       "        text-align: right;\n",
       "    }\n",
       "</style>\n",
       "<table border=\"1\" class=\"dataframe\">\n",
       "  <thead>\n",
       "    <tr style=\"text-align: right;\">\n",
       "      <th></th>\n",
       "      <th>PassengerId</th>\n",
       "      <th>Survived</th>\n",
       "      <th>Pclass</th>\n",
       "      <th>Sex</th>\n",
       "      <th>Age</th>\n",
       "      <th>SibSp</th>\n",
       "      <th>Parch</th>\n",
       "      <th>Fare</th>\n",
       "      <th>Cabin</th>\n",
       "      <th>Embarked</th>\n",
       "      <th>Title</th>\n",
       "      <th>Family_Size</th>\n",
       "      <th>IsAlone</th>\n",
       "    </tr>\n",
       "  </thead>\n",
       "  <tbody>\n",
       "    <tr>\n",
       "      <th>0</th>\n",
       "      <td>1</td>\n",
       "      <td>0.0</td>\n",
       "      <td>3</td>\n",
       "      <td>male</td>\n",
       "      <td>1.0</td>\n",
       "      <td>1</td>\n",
       "      <td>0</td>\n",
       "      <td>7.2500</td>\n",
       "      <td>M</td>\n",
       "      <td>S</td>\n",
       "      <td>Mr.</td>\n",
       "      <td>2</td>\n",
       "      <td>0</td>\n",
       "    </tr>\n",
       "    <tr>\n",
       "      <th>1</th>\n",
       "      <td>2</td>\n",
       "      <td>1.0</td>\n",
       "      <td>1</td>\n",
       "      <td>female</td>\n",
       "      <td>3.0</td>\n",
       "      <td>1</td>\n",
       "      <td>0</td>\n",
       "      <td>71.2833</td>\n",
       "      <td>C</td>\n",
       "      <td>C</td>\n",
       "      <td>Mrs.</td>\n",
       "      <td>2</td>\n",
       "      <td>0</td>\n",
       "    </tr>\n",
       "    <tr>\n",
       "      <th>2</th>\n",
       "      <td>3</td>\n",
       "      <td>1.0</td>\n",
       "      <td>3</td>\n",
       "      <td>female</td>\n",
       "      <td>2.0</td>\n",
       "      <td>0</td>\n",
       "      <td>0</td>\n",
       "      <td>7.9250</td>\n",
       "      <td>M</td>\n",
       "      <td>S</td>\n",
       "      <td>Miss.</td>\n",
       "      <td>1</td>\n",
       "      <td>1</td>\n",
       "    </tr>\n",
       "    <tr>\n",
       "      <th>3</th>\n",
       "      <td>4</td>\n",
       "      <td>1.0</td>\n",
       "      <td>1</td>\n",
       "      <td>female</td>\n",
       "      <td>2.0</td>\n",
       "      <td>1</td>\n",
       "      <td>0</td>\n",
       "      <td>53.1000</td>\n",
       "      <td>C</td>\n",
       "      <td>S</td>\n",
       "      <td>Mrs.</td>\n",
       "      <td>2</td>\n",
       "      <td>0</td>\n",
       "    </tr>\n",
       "    <tr>\n",
       "      <th>4</th>\n",
       "      <td>5</td>\n",
       "      <td>0.0</td>\n",
       "      <td>3</td>\n",
       "      <td>male</td>\n",
       "      <td>2.0</td>\n",
       "      <td>0</td>\n",
       "      <td>0</td>\n",
       "      <td>8.0500</td>\n",
       "      <td>M</td>\n",
       "      <td>S</td>\n",
       "      <td>Mr.</td>\n",
       "      <td>1</td>\n",
       "      <td>1</td>\n",
       "    </tr>\n",
       "  </tbody>\n",
       "</table>\n",
       "</div>"
      ],
      "text/plain": [
       "   PassengerId  Survived  Pclass     Sex  Age  SibSp  Parch     Fare Cabin  \\\n",
       "0            1       0.0       3    male  1.0      1      0   7.2500     M   \n",
       "1            2       1.0       1  female  3.0      1      0  71.2833     C   \n",
       "2            3       1.0       3  female  2.0      0      0   7.9250     M   \n",
       "3            4       1.0       1  female  2.0      1      0  53.1000     C   \n",
       "4            5       0.0       3    male  2.0      0      0   8.0500     M   \n",
       "\n",
       "  Embarked  Title  Family_Size  IsAlone  \n",
       "0        S    Mr.            2        0  \n",
       "1        C   Mrs.            2        0  \n",
       "2        S  Miss.            1        1  \n",
       "3        S   Mrs.            2        0  \n",
       "4        S    Mr.            1        1  "
      ]
     },
     "execution_count": 17,
     "metadata": {},
     "output_type": "execute_result"
    }
   ],
   "source": [
    "# 모델링에 필요 없는 feature 삭제\n",
    "all_data.drop(['Name', 'Ticket'], axis=1, inplace=True)\n",
    "all_data.head()"
   ]
  },
  {
   "cell_type": "code",
   "execution_count": 18,
   "id": "34a68adb",
   "metadata": {
    "execution": {
     "iopub.execute_input": "2022-07-16T14:52:40.193970Z",
     "iopub.status.busy": "2022-07-16T14:52:40.193283Z",
     "iopub.status.idle": "2022-07-16T14:52:40.222570Z",
     "shell.execute_reply": "2022-07-16T14:52:40.223121Z",
     "shell.execute_reply.started": "2022-07-16T14:51:57.914424Z"
    },
    "papermill": {
     "duration": 0.060561,
     "end_time": "2022-07-16T14:52:40.223296",
     "exception": false,
     "start_time": "2022-07-16T14:52:40.162735",
     "status": "completed"
    },
    "tags": []
   },
   "outputs": [
    {
     "data": {
      "text/html": [
       "<div>\n",
       "<style scoped>\n",
       "    .dataframe tbody tr th:only-of-type {\n",
       "        vertical-align: middle;\n",
       "    }\n",
       "\n",
       "    .dataframe tbody tr th {\n",
       "        vertical-align: top;\n",
       "    }\n",
       "\n",
       "    .dataframe thead th {\n",
       "        text-align: right;\n",
       "    }\n",
       "</style>\n",
       "<table border=\"1\" class=\"dataframe\">\n",
       "  <thead>\n",
       "    <tr style=\"text-align: right;\">\n",
       "      <th></th>\n",
       "      <th>PassengerId</th>\n",
       "      <th>Survived</th>\n",
       "      <th>Pclass</th>\n",
       "      <th>Age</th>\n",
       "      <th>SibSp</th>\n",
       "      <th>Parch</th>\n",
       "      <th>Fare</th>\n",
       "      <th>Family_Size</th>\n",
       "      <th>IsAlone</th>\n",
       "      <th>Sex_male</th>\n",
       "      <th>...</th>\n",
       "      <th>Cabin_M</th>\n",
       "      <th>Cabin_T</th>\n",
       "      <th>Embarked_Q</th>\n",
       "      <th>Embarked_S</th>\n",
       "      <th>Title_Master.</th>\n",
       "      <th>Title_Miss.</th>\n",
       "      <th>Title_Mr.</th>\n",
       "      <th>Title_Mrs.</th>\n",
       "      <th>Title_Officer.</th>\n",
       "      <th>Title_Royal.</th>\n",
       "    </tr>\n",
       "  </thead>\n",
       "  <tbody>\n",
       "    <tr>\n",
       "      <th>0</th>\n",
       "      <td>1</td>\n",
       "      <td>0.0</td>\n",
       "      <td>3</td>\n",
       "      <td>1.0</td>\n",
       "      <td>1</td>\n",
       "      <td>0</td>\n",
       "      <td>7.2500</td>\n",
       "      <td>2</td>\n",
       "      <td>0</td>\n",
       "      <td>1</td>\n",
       "      <td>...</td>\n",
       "      <td>1</td>\n",
       "      <td>0</td>\n",
       "      <td>0</td>\n",
       "      <td>1</td>\n",
       "      <td>0</td>\n",
       "      <td>0</td>\n",
       "      <td>1</td>\n",
       "      <td>0</td>\n",
       "      <td>0</td>\n",
       "      <td>0</td>\n",
       "    </tr>\n",
       "    <tr>\n",
       "      <th>1</th>\n",
       "      <td>2</td>\n",
       "      <td>1.0</td>\n",
       "      <td>1</td>\n",
       "      <td>3.0</td>\n",
       "      <td>1</td>\n",
       "      <td>0</td>\n",
       "      <td>71.2833</td>\n",
       "      <td>2</td>\n",
       "      <td>0</td>\n",
       "      <td>0</td>\n",
       "      <td>...</td>\n",
       "      <td>0</td>\n",
       "      <td>0</td>\n",
       "      <td>0</td>\n",
       "      <td>0</td>\n",
       "      <td>0</td>\n",
       "      <td>0</td>\n",
       "      <td>0</td>\n",
       "      <td>1</td>\n",
       "      <td>0</td>\n",
       "      <td>0</td>\n",
       "    </tr>\n",
       "    <tr>\n",
       "      <th>2</th>\n",
       "      <td>3</td>\n",
       "      <td>1.0</td>\n",
       "      <td>3</td>\n",
       "      <td>2.0</td>\n",
       "      <td>0</td>\n",
       "      <td>0</td>\n",
       "      <td>7.9250</td>\n",
       "      <td>1</td>\n",
       "      <td>1</td>\n",
       "      <td>0</td>\n",
       "      <td>...</td>\n",
       "      <td>1</td>\n",
       "      <td>0</td>\n",
       "      <td>0</td>\n",
       "      <td>1</td>\n",
       "      <td>0</td>\n",
       "      <td>1</td>\n",
       "      <td>0</td>\n",
       "      <td>0</td>\n",
       "      <td>0</td>\n",
       "      <td>0</td>\n",
       "    </tr>\n",
       "    <tr>\n",
       "      <th>3</th>\n",
       "      <td>4</td>\n",
       "      <td>1.0</td>\n",
       "      <td>1</td>\n",
       "      <td>2.0</td>\n",
       "      <td>1</td>\n",
       "      <td>0</td>\n",
       "      <td>53.1000</td>\n",
       "      <td>2</td>\n",
       "      <td>0</td>\n",
       "      <td>0</td>\n",
       "      <td>...</td>\n",
       "      <td>0</td>\n",
       "      <td>0</td>\n",
       "      <td>0</td>\n",
       "      <td>1</td>\n",
       "      <td>0</td>\n",
       "      <td>0</td>\n",
       "      <td>0</td>\n",
       "      <td>1</td>\n",
       "      <td>0</td>\n",
       "      <td>0</td>\n",
       "    </tr>\n",
       "    <tr>\n",
       "      <th>4</th>\n",
       "      <td>5</td>\n",
       "      <td>0.0</td>\n",
       "      <td>3</td>\n",
       "      <td>2.0</td>\n",
       "      <td>0</td>\n",
       "      <td>0</td>\n",
       "      <td>8.0500</td>\n",
       "      <td>1</td>\n",
       "      <td>1</td>\n",
       "      <td>1</td>\n",
       "      <td>...</td>\n",
       "      <td>1</td>\n",
       "      <td>0</td>\n",
       "      <td>0</td>\n",
       "      <td>1</td>\n",
       "      <td>0</td>\n",
       "      <td>0</td>\n",
       "      <td>1</td>\n",
       "      <td>0</td>\n",
       "      <td>0</td>\n",
       "      <td>0</td>\n",
       "    </tr>\n",
       "  </tbody>\n",
       "</table>\n",
       "<p>5 rows × 26 columns</p>\n",
       "</div>"
      ],
      "text/plain": [
       "   PassengerId  Survived  Pclass  Age  SibSp  Parch     Fare  Family_Size  \\\n",
       "0            1       0.0       3  1.0      1      0   7.2500            2   \n",
       "1            2       1.0       1  3.0      1      0  71.2833            2   \n",
       "2            3       1.0       3  2.0      0      0   7.9250            1   \n",
       "3            4       1.0       1  2.0      1      0  53.1000            2   \n",
       "4            5       0.0       3  2.0      0      0   8.0500            1   \n",
       "\n",
       "   IsAlone  Sex_male  ...  Cabin_M  Cabin_T  Embarked_Q  Embarked_S  \\\n",
       "0        0         1  ...        1        0           0           1   \n",
       "1        0         0  ...        0        0           0           0   \n",
       "2        1         0  ...        1        0           0           1   \n",
       "3        0         0  ...        0        0           0           1   \n",
       "4        1         1  ...        1        0           0           1   \n",
       "\n",
       "   Title_Master.  Title_Miss.  Title_Mr.  Title_Mrs.  Title_Officer.  \\\n",
       "0              0            0          1           0               0   \n",
       "1              0            0          0           1               0   \n",
       "2              0            1          0           0               0   \n",
       "3              0            0          0           1               0   \n",
       "4              0            0          1           0               0   \n",
       "\n",
       "   Title_Royal.  \n",
       "0             0  \n",
       "1             0  \n",
       "2             0  \n",
       "3             0  \n",
       "4             0  \n",
       "\n",
       "[5 rows x 26 columns]"
      ]
     },
     "execution_count": 18,
     "metadata": {},
     "output_type": "execute_result"
    }
   ],
   "source": [
    "# 범주형 feature 가변수화하기\n",
    "all_dummies = pd.get_dummies(all_data, drop_first=True)\n",
    "all_dummies.head()"
   ]
  },
  {
   "cell_type": "code",
   "execution_count": 19,
   "id": "ae8e2fff",
   "metadata": {
    "execution": {
     "iopub.execute_input": "2022-07-16T14:52:40.285065Z",
     "iopub.status.busy": "2022-07-16T14:52:40.282490Z",
     "iopub.status.idle": "2022-07-16T14:52:40.299494Z",
     "shell.execute_reply": "2022-07-16T14:52:40.298875Z",
     "shell.execute_reply.started": "2022-07-16T14:51:57.953079Z"
    },
    "papermill": {
     "duration": 0.048406,
     "end_time": "2022-07-16T14:52:40.299637",
     "exception": false,
     "start_time": "2022-07-16T14:52:40.251231",
     "status": "completed"
    },
    "tags": []
   },
   "outputs": [
    {
     "name": "stdout",
     "output_type": "stream",
     "text": [
      "<class 'pandas.core.frame.DataFrame'>\n",
      "Int64Index: 891 entries, 0 to 890\n",
      "Data columns (total 26 columns):\n",
      " #   Column          Non-Null Count  Dtype  \n",
      "---  ------          --------------  -----  \n",
      " 0   PassengerId     891 non-null    int64  \n",
      " 1   Survived        891 non-null    float64\n",
      " 2   Pclass          891 non-null    int64  \n",
      " 3   Age             891 non-null    float64\n",
      " 4   SibSp           891 non-null    int64  \n",
      " 5   Parch           891 non-null    int64  \n",
      " 6   Fare            891 non-null    float64\n",
      " 7   Family_Size     891 non-null    int64  \n",
      " 8   IsAlone         891 non-null    int64  \n",
      " 9   Sex_male        891 non-null    uint8  \n",
      " 10  Cabin_B         891 non-null    uint8  \n",
      " 11  Cabin_C         891 non-null    uint8  \n",
      " 12  Cabin_D         891 non-null    uint8  \n",
      " 13  Cabin_E         891 non-null    uint8  \n",
      " 14  Cabin_F         891 non-null    uint8  \n",
      " 15  Cabin_G         891 non-null    uint8  \n",
      " 16  Cabin_M         891 non-null    uint8  \n",
      " 17  Cabin_T         891 non-null    uint8  \n",
      " 18  Embarked_Q      891 non-null    uint8  \n",
      " 19  Embarked_S      891 non-null    uint8  \n",
      " 20  Title_Master.   891 non-null    uint8  \n",
      " 21  Title_Miss.     891 non-null    uint8  \n",
      " 22  Title_Mr.       891 non-null    uint8  \n",
      " 23  Title_Mrs.      891 non-null    uint8  \n",
      " 24  Title_Officer.  891 non-null    uint8  \n",
      " 25  Title_Royal.    891 non-null    uint8  \n",
      "dtypes: float64(3), int64(6), uint8(17)\n",
      "memory usage: 84.4 KB\n"
     ]
    }
   ],
   "source": [
    "train = all_dummies[all_dummies['Survived'].notna()]\n",
    "train.info()"
   ]
  },
  {
   "cell_type": "code",
   "execution_count": 20,
   "id": "be4e1e29",
   "metadata": {
    "execution": {
     "iopub.execute_input": "2022-07-16T14:52:40.372222Z",
     "iopub.status.busy": "2022-07-16T14:52:40.363835Z",
     "iopub.status.idle": "2022-07-16T14:52:40.375928Z",
     "shell.execute_reply": "2022-07-16T14:52:40.377056Z",
     "shell.execute_reply.started": "2022-07-16T14:51:57.971197Z"
    },
    "papermill": {
     "duration": 0.049082,
     "end_time": "2022-07-16T14:52:40.377388",
     "exception": false,
     "start_time": "2022-07-16T14:52:40.328306",
     "status": "completed"
    },
    "tags": []
   },
   "outputs": [
    {
     "name": "stdout",
     "output_type": "stream",
     "text": [
      "<class 'pandas.core.frame.DataFrame'>\n",
      "Int64Index: 418 entries, 0 to 417\n",
      "Data columns (total 26 columns):\n",
      " #   Column          Non-Null Count  Dtype  \n",
      "---  ------          --------------  -----  \n",
      " 0   PassengerId     418 non-null    int64  \n",
      " 1   Survived        0 non-null      float64\n",
      " 2   Pclass          418 non-null    int64  \n",
      " 3   Age             418 non-null    float64\n",
      " 4   SibSp           418 non-null    int64  \n",
      " 5   Parch           418 non-null    int64  \n",
      " 6   Fare            418 non-null    float64\n",
      " 7   Family_Size     418 non-null    int64  \n",
      " 8   IsAlone         418 non-null    int64  \n",
      " 9   Sex_male        418 non-null    uint8  \n",
      " 10  Cabin_B         418 non-null    uint8  \n",
      " 11  Cabin_C         418 non-null    uint8  \n",
      " 12  Cabin_D         418 non-null    uint8  \n",
      " 13  Cabin_E         418 non-null    uint8  \n",
      " 14  Cabin_F         418 non-null    uint8  \n",
      " 15  Cabin_G         418 non-null    uint8  \n",
      " 16  Cabin_M         418 non-null    uint8  \n",
      " 17  Cabin_T         418 non-null    uint8  \n",
      " 18  Embarked_Q      418 non-null    uint8  \n",
      " 19  Embarked_S      418 non-null    uint8  \n",
      " 20  Title_Master.   418 non-null    uint8  \n",
      " 21  Title_Miss.     418 non-null    uint8  \n",
      " 22  Title_Mr.       418 non-null    uint8  \n",
      " 23  Title_Mrs.      418 non-null    uint8  \n",
      " 24  Title_Officer.  418 non-null    uint8  \n",
      " 25  Title_Royal.    418 non-null    uint8  \n",
      "dtypes: float64(3), int64(6), uint8(17)\n",
      "memory usage: 39.6 KB\n"
     ]
    }
   ],
   "source": [
    "test = all_dummies[all_dummies['Survived'].isna()]\n",
    "test.info()"
   ]
  },
  {
   "cell_type": "markdown",
   "id": "4f9eca0d",
   "metadata": {
    "papermill": {
     "duration": 0.028112,
     "end_time": "2022-07-16T14:52:40.435683",
     "exception": false,
     "start_time": "2022-07-16T14:52:40.407571",
     "status": "completed"
    },
    "tags": []
   },
   "source": [
    "# 모델링 및 훈련/예측"
   ]
  },
  {
   "cell_type": "code",
   "execution_count": 21,
   "id": "05f14cdd",
   "metadata": {
    "execution": {
     "iopub.execute_input": "2022-07-16T14:52:40.496589Z",
     "iopub.status.busy": "2022-07-16T14:52:40.495943Z",
     "iopub.status.idle": "2022-07-16T14:52:40.503132Z",
     "shell.execute_reply": "2022-07-16T14:52:40.502533Z",
     "shell.execute_reply.started": "2022-07-16T14:51:57.987727Z"
    },
    "papermill": {
     "duration": 0.039193,
     "end_time": "2022-07-16T14:52:40.503279",
     "exception": false,
     "start_time": "2022-07-16T14:52:40.464086",
     "status": "completed"
    },
    "tags": []
   },
   "outputs": [],
   "source": [
    "X = train.drop(['PassengerId','Survived'], axis=1)\n",
    "y = train['Survived']\n",
    "\n",
    "test = test.drop(['PassengerId', 'Survived'], axis=1)"
   ]
  },
  {
   "cell_type": "code",
   "execution_count": 22,
   "id": "983aa811",
   "metadata": {
    "execution": {
     "iopub.execute_input": "2022-07-16T14:52:40.568834Z",
     "iopub.status.busy": "2022-07-16T14:52:40.564524Z",
     "iopub.status.idle": "2022-07-16T14:52:41.023616Z",
     "shell.execute_reply": "2022-07-16T14:52:41.024263Z",
     "shell.execute_reply.started": "2022-07-16T14:51:58.001657Z"
    },
    "papermill": {
     "duration": 0.49134,
     "end_time": "2022-07-16T14:52:41.024449",
     "exception": false,
     "start_time": "2022-07-16T14:52:40.533109",
     "status": "completed"
    },
    "tags": []
   },
   "outputs": [
    {
     "data": {
      "text/plain": [
       "RandomForestClassifier(min_samples_split=10, n_estimators=200, random_state=42)"
      ]
     },
     "execution_count": 22,
     "metadata": {},
     "output_type": "execute_result"
    }
   ],
   "source": [
    "clf = RandomForestClassifier(n_estimators=200, min_samples_split=10, random_state=42)\n",
    "clf.fit(X, y)"
   ]
  },
  {
   "cell_type": "code",
   "execution_count": 23,
   "id": "5fd2d90b",
   "metadata": {
    "execution": {
     "iopub.execute_input": "2022-07-16T14:52:41.088142Z",
     "iopub.status.busy": "2022-07-16T14:52:41.087140Z",
     "iopub.status.idle": "2022-07-16T14:52:41.123345Z",
     "shell.execute_reply": "2022-07-16T14:52:41.123858Z",
     "shell.execute_reply.started": "2022-07-16T14:51:58.466752Z"
    },
    "papermill": {
     "duration": 0.070224,
     "end_time": "2022-07-16T14:52:41.124051",
     "exception": false,
     "start_time": "2022-07-16T14:52:41.053827",
     "status": "completed"
    },
    "tags": []
   },
   "outputs": [],
   "source": [
    "pred = clf.predict(test).astype(int)\n",
    "submission['Survived'] = pred"
   ]
  },
  {
   "cell_type": "code",
   "execution_count": 24,
   "id": "d8771c25",
   "metadata": {
    "execution": {
     "iopub.execute_input": "2022-07-16T14:52:41.187221Z",
     "iopub.status.busy": "2022-07-16T14:52:41.186053Z",
     "iopub.status.idle": "2022-07-16T14:52:41.195079Z",
     "shell.execute_reply": "2022-07-16T14:52:41.194463Z",
     "shell.execute_reply.started": "2022-07-16T14:51:58.508642Z"
    },
    "papermill": {
     "duration": 0.042268,
     "end_time": "2022-07-16T14:52:41.195231",
     "exception": false,
     "start_time": "2022-07-16T14:52:41.152963",
     "status": "completed"
    },
    "tags": []
   },
   "outputs": [],
   "source": [
    "submission.to_csv(\"submission.csv\", index=False)"
   ]
  }
 ],
 "metadata": {
  "kernelspec": {
   "display_name": "Python 3",
   "language": "python",
   "name": "python3"
  },
  "language_info": {
   "codemirror_mode": {
    "name": "ipython",
    "version": 3
   },
   "file_extension": ".py",
   "mimetype": "text/x-python",
   "name": "python",
   "nbconvert_exporter": "python",
   "pygments_lexer": "ipython3",
   "version": "3.7.10"
  },
  "papermill": {
   "default_parameters": {},
   "duration": 14.806264,
   "end_time": "2022-07-16T14:52:42.903061",
   "environment_variables": {},
   "exception": null,
   "input_path": "__notebook__.ipynb",
   "output_path": "__notebook__.ipynb",
   "parameters": {},
   "start_time": "2022-07-16T14:52:28.096797",
   "version": "2.3.3"
  }
 },
 "nbformat": 4,
 "nbformat_minor": 5
}
