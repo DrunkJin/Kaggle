{
 "cells": [
  {
   "cell_type": "markdown",
   "id": "3021f38e",
   "metadata": {
    "papermill": {
     "duration": 0.004436,
     "end_time": "2022-11-20T10:48:45.173803",
     "exception": false,
     "start_time": "2022-11-20T10:48:45.169367",
     "status": "completed"
    },
    "tags": []
   },
   "source": [
    "## 1.1 FeatureEngineering"
   ]
  },
  {
   "cell_type": "code",
   "execution_count": 1,
   "id": "081af5a8",
   "metadata": {
    "_cell_guid": "b1076dfc-b9ad-4769-8c92-a6c4dae69d19",
    "_uuid": "8f2839f25d086af736a60e9eeb907d3b93b6e0e5",
    "execution": {
     "iopub.execute_input": "2022-11-20T10:48:45.182937Z",
     "iopub.status.busy": "2022-11-20T10:48:45.182263Z",
     "iopub.status.idle": "2022-11-20T10:48:48.073379Z",
     "shell.execute_reply": "2022-11-20T10:48:48.072367Z"
    },
    "papermill": {
     "duration": 2.89917,
     "end_time": "2022-11-20T10:48:48.076308",
     "exception": false,
     "start_time": "2022-11-20T10:48:45.177138",
     "status": "completed"
    },
    "tags": []
   },
   "outputs": [],
   "source": [
    "import numpy as np\n",
    "import pandas as pd\n",
    "import warnings\n",
    "\n",
    "warnings.filterwarnings(action='ignore') # 경고 문구 생략 (범주형을 LightGBM으로 모델링할 시에 불필요한 경고문이 뜨게 됨)\n",
    "\n",
    "# DATA PATH\n",
    "data_path = '../input/competitive-data-science-predict-future-sales/'\n",
    "\n",
    "sales_train = pd.read_csv(data_path + 'sales_train.csv')\n",
    "shops = pd.read_csv(data_path + 'shops.csv')\n",
    "items = pd.read_csv(data_path + 'items.csv')\n",
    "item_categories = pd.read_csv(data_path + 'item_categories.csv')\n",
    "test = pd.read_csv(data_path + 'test.csv')\n",
    "submission = pd.read_csv(data_path + 'sample_submission.csv')"
   ]
  },
  {
   "cell_type": "markdown",
   "id": "2d68d49b",
   "metadata": {
    "papermill": {
     "duration": 0.002816,
     "end_time": "2022-11-20T10:48:48.082482",
     "exception": false,
     "start_time": "2022-11-20T10:48:48.079666",
     "status": "completed"
    },
    "tags": []
   },
   "source": [
    "#### feature name translate to Korean"
   ]
  },
  {
   "cell_type": "code",
   "execution_count": 2,
   "id": "89bb73f6",
   "metadata": {
    "execution": {
     "iopub.execute_input": "2022-11-20T10:48:48.091298Z",
     "iopub.status.busy": "2022-11-20T10:48:48.090512Z",
     "iopub.status.idle": "2022-11-20T10:48:48.210669Z",
     "shell.execute_reply": "2022-11-20T10:48:48.209258Z"
    },
    "papermill": {
     "duration": 0.128238,
     "end_time": "2022-11-20T10:48:48.213768",
     "exception": false,
     "start_time": "2022-11-20T10:48:48.085530",
     "status": "completed"
    },
    "tags": []
   },
   "outputs": [
    {
     "data": {
      "text/html": [
       "<div>\n",
       "<style scoped>\n",
       "    .dataframe tbody tr th:only-of-type {\n",
       "        vertical-align: middle;\n",
       "    }\n",
       "\n",
       "    .dataframe tbody tr th {\n",
       "        vertical-align: top;\n",
       "    }\n",
       "\n",
       "    .dataframe thead th {\n",
       "        text-align: right;\n",
       "    }\n",
       "</style>\n",
       "<table border=\"1\" class=\"dataframe\">\n",
       "  <thead>\n",
       "    <tr style=\"text-align: right;\">\n",
       "      <th></th>\n",
       "      <th>date</th>\n",
       "      <th>date_block_num</th>\n",
       "      <th>상점ID</th>\n",
       "      <th>상품ID</th>\n",
       "      <th>판매가</th>\n",
       "      <th>판매량</th>\n",
       "    </tr>\n",
       "  </thead>\n",
       "  <tbody>\n",
       "    <tr>\n",
       "      <th>0</th>\n",
       "      <td>02.01.2013</td>\n",
       "      <td>0</td>\n",
       "      <td>59</td>\n",
       "      <td>22154</td>\n",
       "      <td>999.00</td>\n",
       "      <td>1.0</td>\n",
       "    </tr>\n",
       "    <tr>\n",
       "      <th>1</th>\n",
       "      <td>03.01.2013</td>\n",
       "      <td>0</td>\n",
       "      <td>25</td>\n",
       "      <td>2552</td>\n",
       "      <td>899.00</td>\n",
       "      <td>1.0</td>\n",
       "    </tr>\n",
       "    <tr>\n",
       "      <th>2</th>\n",
       "      <td>05.01.2013</td>\n",
       "      <td>0</td>\n",
       "      <td>25</td>\n",
       "      <td>2552</td>\n",
       "      <td>899.00</td>\n",
       "      <td>-1.0</td>\n",
       "    </tr>\n",
       "    <tr>\n",
       "      <th>3</th>\n",
       "      <td>06.01.2013</td>\n",
       "      <td>0</td>\n",
       "      <td>25</td>\n",
       "      <td>2554</td>\n",
       "      <td>1709.05</td>\n",
       "      <td>1.0</td>\n",
       "    </tr>\n",
       "    <tr>\n",
       "      <th>4</th>\n",
       "      <td>15.01.2013</td>\n",
       "      <td>0</td>\n",
       "      <td>25</td>\n",
       "      <td>2555</td>\n",
       "      <td>1099.00</td>\n",
       "      <td>1.0</td>\n",
       "    </tr>\n",
       "  </tbody>\n",
       "</table>\n",
       "</div>"
      ],
      "text/plain": [
       "         date  date_block_num  상점ID   상품ID      판매가  판매량\n",
       "0  02.01.2013               0    59  22154   999.00  1.0\n",
       "1  03.01.2013               0    25   2552   899.00  1.0\n",
       "2  05.01.2013               0    25   2552   899.00 -1.0\n",
       "3  06.01.2013               0    25   2554  1709.05  1.0\n",
       "4  15.01.2013               0    25   2555  1099.00  1.0"
      ]
     },
     "execution_count": 2,
     "metadata": {},
     "output_type": "execute_result"
    }
   ],
   "source": [
    "sales_train = sales_train.rename(columns = {'data':'날짜',\n",
    "                                            'data_block_num':'월ID',\n",
    "                                            'shop_id':'상점ID',\n",
    "                                            'item_id':'상품ID',\n",
    "                                            'item_price':'판매가',\n",
    "                                            'item_cnt_day':'판매량'})\n",
    "sales_train.head()"
   ]
  },
  {
   "cell_type": "code",
   "execution_count": 3,
   "id": "45d46edc",
   "metadata": {
    "execution": {
     "iopub.execute_input": "2022-11-20T10:48:48.222668Z",
     "iopub.status.busy": "2022-11-20T10:48:48.222253Z",
     "iopub.status.idle": "2022-11-20T10:48:48.235108Z",
     "shell.execute_reply": "2022-11-20T10:48:48.233640Z"
    },
    "papermill": {
     "duration": 0.020495,
     "end_time": "2022-11-20T10:48:48.237752",
     "exception": false,
     "start_time": "2022-11-20T10:48:48.217257",
     "status": "completed"
    },
    "tags": []
   },
   "outputs": [
    {
     "data": {
      "text/html": [
       "<div>\n",
       "<style scoped>\n",
       "    .dataframe tbody tr th:only-of-type {\n",
       "        vertical-align: middle;\n",
       "    }\n",
       "\n",
       "    .dataframe tbody tr th {\n",
       "        vertical-align: top;\n",
       "    }\n",
       "\n",
       "    .dataframe thead th {\n",
       "        text-align: right;\n",
       "    }\n",
       "</style>\n",
       "<table border=\"1\" class=\"dataframe\">\n",
       "  <thead>\n",
       "    <tr style=\"text-align: right;\">\n",
       "      <th></th>\n",
       "      <th>상점명</th>\n",
       "      <th>상점ID</th>\n",
       "    </tr>\n",
       "  </thead>\n",
       "  <tbody>\n",
       "    <tr>\n",
       "      <th>0</th>\n",
       "      <td>!Якутск Орджоникидзе, 56 фран</td>\n",
       "      <td>0</td>\n",
       "    </tr>\n",
       "    <tr>\n",
       "      <th>1</th>\n",
       "      <td>!Якутск ТЦ \"Центральный\" фран</td>\n",
       "      <td>1</td>\n",
       "    </tr>\n",
       "    <tr>\n",
       "      <th>2</th>\n",
       "      <td>Адыгея ТЦ \"Мега\"</td>\n",
       "      <td>2</td>\n",
       "    </tr>\n",
       "    <tr>\n",
       "      <th>3</th>\n",
       "      <td>Балашиха ТРК \"Октябрь-Киномир\"</td>\n",
       "      <td>3</td>\n",
       "    </tr>\n",
       "    <tr>\n",
       "      <th>4</th>\n",
       "      <td>Волжский ТЦ \"Волга Молл\"</td>\n",
       "      <td>4</td>\n",
       "    </tr>\n",
       "  </tbody>\n",
       "</table>\n",
       "</div>"
      ],
      "text/plain": [
       "                              상점명  상점ID\n",
       "0   !Якутск Орджоникидзе, 56 фран     0\n",
       "1   !Якутск ТЦ \"Центральный\" фран     1\n",
       "2                Адыгея ТЦ \"Мега\"     2\n",
       "3  Балашиха ТРК \"Октябрь-Киномир\"     3\n",
       "4        Волжский ТЦ \"Волга Молл\"     4"
      ]
     },
     "execution_count": 3,
     "metadata": {},
     "output_type": "execute_result"
    }
   ],
   "source": [
    "shops = shops.rename(columns={'shop_name':'상점명',\n",
    "                              'shop_id':'상점ID'})\n",
    "shops.head()"
   ]
  },
  {
   "cell_type": "code",
   "execution_count": 4,
   "id": "4f5c4fc0",
   "metadata": {
    "execution": {
     "iopub.execute_input": "2022-11-20T10:48:48.247153Z",
     "iopub.status.busy": "2022-11-20T10:48:48.246765Z",
     "iopub.status.idle": "2022-11-20T10:48:48.260275Z",
     "shell.execute_reply": "2022-11-20T10:48:48.259149Z"
    },
    "papermill": {
     "duration": 0.021018,
     "end_time": "2022-11-20T10:48:48.262657",
     "exception": false,
     "start_time": "2022-11-20T10:48:48.241639",
     "status": "completed"
    },
    "tags": []
   },
   "outputs": [
    {
     "data": {
      "text/html": [
       "<div>\n",
       "<style scoped>\n",
       "    .dataframe tbody tr th:only-of-type {\n",
       "        vertical-align: middle;\n",
       "    }\n",
       "\n",
       "    .dataframe tbody tr th {\n",
       "        vertical-align: top;\n",
       "    }\n",
       "\n",
       "    .dataframe thead th {\n",
       "        text-align: right;\n",
       "    }\n",
       "</style>\n",
       "<table border=\"1\" class=\"dataframe\">\n",
       "  <thead>\n",
       "    <tr style=\"text-align: right;\">\n",
       "      <th></th>\n",
       "      <th>상품명</th>\n",
       "      <th>상품ID</th>\n",
       "      <th>상품분류ID</th>\n",
       "    </tr>\n",
       "  </thead>\n",
       "  <tbody>\n",
       "    <tr>\n",
       "      <th>0</th>\n",
       "      <td>! ВО ВЛАСТИ НАВАЖДЕНИЯ (ПЛАСТ.)         D</td>\n",
       "      <td>0</td>\n",
       "      <td>40</td>\n",
       "    </tr>\n",
       "    <tr>\n",
       "      <th>1</th>\n",
       "      <td>!ABBYY FineReader 12 Professional Edition Full...</td>\n",
       "      <td>1</td>\n",
       "      <td>76</td>\n",
       "    </tr>\n",
       "    <tr>\n",
       "      <th>2</th>\n",
       "      <td>***В ЛУЧАХ СЛАВЫ   (UNV)                    D</td>\n",
       "      <td>2</td>\n",
       "      <td>40</td>\n",
       "    </tr>\n",
       "    <tr>\n",
       "      <th>3</th>\n",
       "      <td>***ГОЛУБАЯ ВОЛНА  (Univ)                      D</td>\n",
       "      <td>3</td>\n",
       "      <td>40</td>\n",
       "    </tr>\n",
       "    <tr>\n",
       "      <th>4</th>\n",
       "      <td>***КОРОБКА (СТЕКЛО)                       D</td>\n",
       "      <td>4</td>\n",
       "      <td>40</td>\n",
       "    </tr>\n",
       "  </tbody>\n",
       "</table>\n",
       "</div>"
      ],
      "text/plain": [
       "                                                 상품명  상품ID  상품분류ID\n",
       "0          ! ВО ВЛАСТИ НАВАЖДЕНИЯ (ПЛАСТ.)         D     0      40\n",
       "1  !ABBYY FineReader 12 Professional Edition Full...     1      76\n",
       "2      ***В ЛУЧАХ СЛАВЫ   (UNV)                    D     2      40\n",
       "3    ***ГОЛУБАЯ ВОЛНА  (Univ)                      D     3      40\n",
       "4        ***КОРОБКА (СТЕКЛО)                       D     4      40"
      ]
     },
     "execution_count": 4,
     "metadata": {},
     "output_type": "execute_result"
    }
   ],
   "source": [
    "items = items.rename(columns={'item_name':'상품명',\n",
    "                              'item_id':'상품ID',\n",
    "                              'item_category_id':'상품분류ID'})\n",
    "items.head()"
   ]
  },
  {
   "cell_type": "code",
   "execution_count": 5,
   "id": "d852eb0c",
   "metadata": {
    "execution": {
     "iopub.execute_input": "2022-11-20T10:48:48.272218Z",
     "iopub.status.busy": "2022-11-20T10:48:48.271786Z",
     "iopub.status.idle": "2022-11-20T10:48:48.283714Z",
     "shell.execute_reply": "2022-11-20T10:48:48.282555Z"
    },
    "papermill": {
     "duration": 0.01932,
     "end_time": "2022-11-20T10:48:48.286078",
     "exception": false,
     "start_time": "2022-11-20T10:48:48.266758",
     "status": "completed"
    },
    "tags": []
   },
   "outputs": [
    {
     "data": {
      "text/html": [
       "<div>\n",
       "<style scoped>\n",
       "    .dataframe tbody tr th:only-of-type {\n",
       "        vertical-align: middle;\n",
       "    }\n",
       "\n",
       "    .dataframe tbody tr th {\n",
       "        vertical-align: top;\n",
       "    }\n",
       "\n",
       "    .dataframe thead th {\n",
       "        text-align: right;\n",
       "    }\n",
       "</style>\n",
       "<table border=\"1\" class=\"dataframe\">\n",
       "  <thead>\n",
       "    <tr style=\"text-align: right;\">\n",
       "      <th></th>\n",
       "      <th>상품분류명</th>\n",
       "      <th>상품분류ID</th>\n",
       "    </tr>\n",
       "  </thead>\n",
       "  <tbody>\n",
       "    <tr>\n",
       "      <th>0</th>\n",
       "      <td>PC - Гарнитуры/Наушники</td>\n",
       "      <td>0</td>\n",
       "    </tr>\n",
       "    <tr>\n",
       "      <th>1</th>\n",
       "      <td>Аксессуары - PS2</td>\n",
       "      <td>1</td>\n",
       "    </tr>\n",
       "    <tr>\n",
       "      <th>2</th>\n",
       "      <td>Аксессуары - PS3</td>\n",
       "      <td>2</td>\n",
       "    </tr>\n",
       "    <tr>\n",
       "      <th>3</th>\n",
       "      <td>Аксессуары - PS4</td>\n",
       "      <td>3</td>\n",
       "    </tr>\n",
       "    <tr>\n",
       "      <th>4</th>\n",
       "      <td>Аксессуары - PSP</td>\n",
       "      <td>4</td>\n",
       "    </tr>\n",
       "  </tbody>\n",
       "</table>\n",
       "</div>"
      ],
      "text/plain": [
       "                     상품분류명  상품분류ID\n",
       "0  PC - Гарнитуры/Наушники       0\n",
       "1         Аксессуары - PS2       1\n",
       "2         Аксессуары - PS3       2\n",
       "3         Аксессуары - PS4       3\n",
       "4         Аксессуары - PSP       4"
      ]
     },
     "execution_count": 5,
     "metadata": {},
     "output_type": "execute_result"
    }
   ],
   "source": [
    "item_categories = item_categories.rename(columns=\n",
    "                                         {'item_category_name':'상품분류명',\n",
    "                                          'item_category_id':'상품분류ID'})\n",
    "item_categories.head()"
   ]
  },
  {
   "cell_type": "code",
   "execution_count": 6,
   "id": "e8529b70",
   "metadata": {
    "execution": {
     "iopub.execute_input": "2022-11-20T10:48:48.295894Z",
     "iopub.status.busy": "2022-11-20T10:48:48.295454Z",
     "iopub.status.idle": "2022-11-20T10:48:48.309539Z",
     "shell.execute_reply": "2022-11-20T10:48:48.308344Z"
    },
    "papermill": {
     "duration": 0.02211,
     "end_time": "2022-11-20T10:48:48.312314",
     "exception": false,
     "start_time": "2022-11-20T10:48:48.290204",
     "status": "completed"
    },
    "tags": []
   },
   "outputs": [
    {
     "data": {
      "text/html": [
       "<div>\n",
       "<style scoped>\n",
       "    .dataframe tbody tr th:only-of-type {\n",
       "        vertical-align: middle;\n",
       "    }\n",
       "\n",
       "    .dataframe tbody tr th {\n",
       "        vertical-align: top;\n",
       "    }\n",
       "\n",
       "    .dataframe thead th {\n",
       "        text-align: right;\n",
       "    }\n",
       "</style>\n",
       "<table border=\"1\" class=\"dataframe\">\n",
       "  <thead>\n",
       "    <tr style=\"text-align: right;\">\n",
       "      <th></th>\n",
       "      <th>ID</th>\n",
       "      <th>상점ID</th>\n",
       "      <th>상품ID</th>\n",
       "    </tr>\n",
       "  </thead>\n",
       "  <tbody>\n",
       "    <tr>\n",
       "      <th>0</th>\n",
       "      <td>0</td>\n",
       "      <td>5</td>\n",
       "      <td>5037</td>\n",
       "    </tr>\n",
       "    <tr>\n",
       "      <th>1</th>\n",
       "      <td>1</td>\n",
       "      <td>5</td>\n",
       "      <td>5320</td>\n",
       "    </tr>\n",
       "    <tr>\n",
       "      <th>2</th>\n",
       "      <td>2</td>\n",
       "      <td>5</td>\n",
       "      <td>5233</td>\n",
       "    </tr>\n",
       "    <tr>\n",
       "      <th>3</th>\n",
       "      <td>3</td>\n",
       "      <td>5</td>\n",
       "      <td>5232</td>\n",
       "    </tr>\n",
       "    <tr>\n",
       "      <th>4</th>\n",
       "      <td>4</td>\n",
       "      <td>5</td>\n",
       "      <td>5268</td>\n",
       "    </tr>\n",
       "  </tbody>\n",
       "</table>\n",
       "</div>"
      ],
      "text/plain": [
       "   ID  상점ID  상품ID\n",
       "0   0     5  5037\n",
       "1   1     5  5320\n",
       "2   2     5  5233\n",
       "3   3     5  5232\n",
       "4   4     5  5268"
      ]
     },
     "execution_count": 6,
     "metadata": {},
     "output_type": "execute_result"
    }
   ],
   "source": [
    "test = test.rename(columns = {'shop_id':'상점ID',\n",
    "                              'item_id':'상품ID'})\n",
    "test.head()"
   ]
  },
  {
   "cell_type": "markdown",
   "id": "49d826af",
   "metadata": {
    "papermill": {
     "duration": 0.003957,
     "end_time": "2022-11-20T10:48:48.320594",
     "exception": false,
     "start_time": "2022-11-20T10:48:48.316637",
     "status": "completed"
    },
    "tags": []
   },
   "source": [
    "## 1.2 데이터 다운캐스팅"
   ]
  },
  {
   "cell_type": "code",
   "execution_count": null,
   "id": "4c1a0300",
   "metadata": {
    "papermill": {
     "duration": 0.00367,
     "end_time": "2022-11-20T10:48:48.328509",
     "exception": false,
     "start_time": "2022-11-20T10:48:48.324839",
     "status": "completed"
    },
    "tags": []
   },
   "outputs": [],
   "source": []
  }
 ],
 "metadata": {
  "kernelspec": {
   "display_name": "Python 3",
   "language": "python",
   "name": "python3"
  },
  "language_info": {
   "codemirror_mode": {
    "name": "ipython",
    "version": 3
   },
   "file_extension": ".py",
   "mimetype": "text/x-python",
   "name": "python",
   "nbconvert_exporter": "python",
   "pygments_lexer": "ipython3",
   "version": "3.7.12"
  },
  "papermill": {
   "default_parameters": {},
   "duration": 13.013985,
   "end_time": "2022-11-20T10:48:49.056051",
   "environment_variables": {},
   "exception": null,
   "input_path": "__notebook__.ipynb",
   "output_path": "__notebook__.ipynb",
   "parameters": {},
   "start_time": "2022-11-20T10:48:36.042066",
   "version": "2.3.4"
  }
 },
 "nbformat": 4,
 "nbformat_minor": 5
}
