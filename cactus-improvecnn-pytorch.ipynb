{
 "cells": [
  {
   "cell_type": "code",
   "execution_count": 1,
   "id": "ea940164",
   "metadata": {
    "_cell_guid": "b1076dfc-b9ad-4769-8c92-a6c4dae69d19",
    "_uuid": "8f2839f25d086af736a60e9eeb907d3b93b6e0e5",
    "execution": {
     "iopub.execute_input": "2023-03-29T03:21:16.499906Z",
     "iopub.status.busy": "2023-03-29T03:21:16.499485Z",
     "iopub.status.idle": "2023-03-29T03:21:20.726243Z",
     "shell.execute_reply": "2023-03-29T03:21:20.725124Z"
    },
    "papermill": {
     "duration": 4.237276,
     "end_time": "2023-03-29T03:21:20.728781",
     "exception": false,
     "start_time": "2023-03-29T03:21:16.491505",
     "status": "completed"
    },
    "tags": []
   },
   "outputs": [
    {
     "data": {
      "text/plain": [
       "device(type='cuda')"
      ]
     },
     "execution_count": 1,
     "metadata": {},
     "output_type": "execute_result"
    }
   ],
   "source": [
    "import torch\n",
    "import random\n",
    "import numpy as np\n",
    "import os\n",
    "\n",
    "device = torch.device('cuda' if torch.cuda.is_available() else 'CPU')\n",
    "device"
   ]
  },
  {
   "cell_type": "markdown",
   "id": "1d37d1d1",
   "metadata": {
    "papermill": {
     "duration": 0.005381,
     "end_time": "2023-03-29T03:21:20.740143",
     "exception": false,
     "start_time": "2023-03-29T03:21:20.734762",
     "status": "completed"
    },
    "tags": []
   },
   "source": [
    "# Prepare Data\n",
    "* Seperate train, validation data\n",
    "* Define dataset class\n",
    "* Image conversion and data augmentation\n",
    "* Create Dataset and Dataloader"
   ]
  },
  {
   "cell_type": "code",
   "execution_count": 2,
   "id": "824c8296",
   "metadata": {
    "execution": {
     "iopub.execute_input": "2023-03-29T03:21:20.752600Z",
     "iopub.status.busy": "2023-03-29T03:21:20.752152Z",
     "iopub.status.idle": "2023-03-29T03:21:20.813535Z",
     "shell.execute_reply": "2023-03-29T03:21:20.812623Z"
    },
    "papermill": {
     "duration": 0.070488,
     "end_time": "2023-03-29T03:21:20.815962",
     "exception": false,
     "start_time": "2023-03-29T03:21:20.745474",
     "status": "completed"
    },
    "tags": []
   },
   "outputs": [],
   "source": [
    "import pandas as pd\n",
    "\n",
    "# data path\n",
    "data_path = \"/kaggle/input/aerial-cactus-identification/\"\n",
    "\n",
    "labels = pd.read_csv(data_path + 'train.csv')\n",
    "submission = pd.read_csv(data_path + 'sample_submission.csv')"
   ]
  },
  {
   "cell_type": "code",
   "execution_count": 3,
   "id": "888f1ccb",
   "metadata": {
    "execution": {
     "iopub.execute_input": "2023-03-29T03:21:20.828400Z",
     "iopub.status.busy": "2023-03-29T03:21:20.828114Z",
     "iopub.status.idle": "2023-03-29T03:21:23.795811Z",
     "shell.execute_reply": "2023-03-29T03:21:23.794628Z"
    },
    "papermill": {
     "duration": 2.977055,
     "end_time": "2023-03-29T03:21:23.798773",
     "exception": false,
     "start_time": "2023-03-29T03:21:20.821718",
     "status": "completed"
    },
    "tags": []
   },
   "outputs": [],
   "source": [
    "from zipfile import ZipFile\n",
    "\n",
    "# Unzip train image data\n",
    "with ZipFile(data_path + 'train.zip') as zipper:\n",
    "    zipper.extractall()\n",
    "\n",
    "# Unzip test image data\n",
    "with ZipFile(data_path + 'test.zip') as zipper:\n",
    "    zipper.extractall()"
   ]
  },
  {
   "cell_type": "markdown",
   "id": "104ab9e3",
   "metadata": {
    "papermill": {
     "duration": 0.005381,
     "end_time": "2023-03-29T03:21:23.809976",
     "exception": false,
     "start_time": "2023-03-29T03:21:23.804595",
     "status": "completed"
    },
    "tags": []
   },
   "source": [
    "##### Seperate train, validation"
   ]
  },
  {
   "cell_type": "code",
   "execution_count": 4,
   "id": "e474fcba",
   "metadata": {
    "execution": {
     "iopub.execute_input": "2023-03-29T03:21:23.821861Z",
     "iopub.status.busy": "2023-03-29T03:21:23.821563Z",
     "iopub.status.idle": "2023-03-29T03:21:25.465756Z",
     "shell.execute_reply": "2023-03-29T03:21:25.464746Z"
    },
    "papermill": {
     "duration": 1.653428,
     "end_time": "2023-03-29T03:21:25.468626",
     "exception": false,
     "start_time": "2023-03-29T03:21:23.815198",
     "status": "completed"
    },
    "tags": []
   },
   "outputs": [],
   "source": [
    "from sklearn.model_selection import train_test_split\n",
    "\n",
    "# Seperate train, valid\n",
    "train, valid = train_test_split(labels,\n",
    "                                test_size=0.1,  # train:valid = 9:1\n",
    "                                stratify = labels['has_cactus'], # target ratio 3:1 by lookaround dataset\n",
    "                                random_state=50\n",
    "                               )"
   ]
  },
  {
   "cell_type": "code",
   "execution_count": 5,
   "id": "66362aa7",
   "metadata": {
    "execution": {
     "iopub.execute_input": "2023-03-29T03:21:25.482957Z",
     "iopub.status.busy": "2023-03-29T03:21:25.481277Z",
     "iopub.status.idle": "2023-03-29T03:21:25.488359Z",
     "shell.execute_reply": "2023-03-29T03:21:25.486929Z"
    },
    "papermill": {
     "duration": 0.016223,
     "end_time": "2023-03-29T03:21:25.490660",
     "exception": false,
     "start_time": "2023-03-29T03:21:25.474437",
     "status": "completed"
    },
    "tags": []
   },
   "outputs": [
    {
     "name": "stdout",
     "output_type": "stream",
     "text": [
      "Number of train data: 15750\n",
      "Number of valid data: 1750\n"
     ]
    }
   ],
   "source": [
    "print(\"Number of train data:\", len(train))\n",
    "print(\"Number of valid data:\", len(valid))"
   ]
  },
  {
   "cell_type": "markdown",
   "id": "cfdc3b64",
   "metadata": {
    "papermill": {
     "duration": 0.005494,
     "end_time": "2023-03-29T03:21:25.501653",
     "exception": false,
     "start_time": "2023-03-29T03:21:25.496159",
     "status": "completed"
    },
    "tags": []
   },
   "source": [
    "##### Define dataset class"
   ]
  },
  {
   "cell_type": "code",
   "execution_count": 6,
   "id": "199512ef",
   "metadata": {
    "execution": {
     "iopub.execute_input": "2023-03-29T03:21:25.514606Z",
     "iopub.status.busy": "2023-03-29T03:21:25.513785Z",
     "iopub.status.idle": "2023-03-29T03:21:25.915591Z",
     "shell.execute_reply": "2023-03-29T03:21:25.914413Z"
    },
    "papermill": {
     "duration": 0.411178,
     "end_time": "2023-03-29T03:21:25.918347",
     "exception": false,
     "start_time": "2023-03-29T03:21:25.507169",
     "status": "completed"
    },
    "tags": []
   },
   "outputs": [],
   "source": [
    "import cv2\n",
    "from torch.utils.data import Dataset\n",
    "\n",
    "class ImageDataset(Dataset):\n",
    "    # Initialization constructor\n",
    "    def __init__(self, df, img_dir='./', transform=None):\n",
    "        super().__init__()  # Call Inherited Dataset constructor\n",
    "        # Saving passed arguments\n",
    "        self.df = df\n",
    "        self.img_dir = img_dir\n",
    "        self.transform = transform\n",
    "        \n",
    "    # Return Dataset Size Method\n",
    "    def __len__(self):\n",
    "        return len(self.df)\n",
    "    \n",
    "    # idx data return method\n",
    "    def __getitem__(self, idx):\n",
    "        img_id = self.df.iloc[idx, 0]  # image ID\n",
    "        img_path = self.img_dir + img_id  # image file path\n",
    "        image = cv2.imread(img_path)   # read image file\n",
    "        image = cv2.cvtColor(image, cv2.COLOR_BGR2RGB)  # convert img color\n",
    "        label = self.df.iloc[idx, 1]  # image label(target value)\n",
    "        \n",
    "        if self.transform is not None:\n",
    "            image = self.transform(image)  # if transform is TRUE transfrom img \n",
    "        return image, label"
   ]
  },
  {
   "cell_type": "markdown",
   "id": "1afc645f",
   "metadata": {
    "papermill": {
     "duration": 0.005516,
     "end_time": "2023-03-29T03:21:25.929716",
     "exception": false,
     "start_time": "2023-03-29T03:21:25.924200",
     "status": "completed"
    },
    "tags": []
   },
   "source": [
    "##### Image conversion and data augmentation\n",
    "\n",
    "![dataaugmentation](https://raw.githubusercontent.com/dmlc/web-data/master/mxnet/doc/tutorials/gluon/transforms/output_41_0.png)  \n",
    "(from MXNet documentation)  \n",
    "  \n",
    "##### Define image conversion \n",
    "Being too different from the original makes it unpredictable"
   ]
  },
  {
   "cell_type": "code",
   "execution_count": 7,
   "id": "b55777a1",
   "metadata": {
    "execution": {
     "iopub.execute_input": "2023-03-29T03:21:25.942134Z",
     "iopub.status.busy": "2023-03-29T03:21:25.941808Z",
     "iopub.status.idle": "2023-03-29T03:21:26.380983Z",
     "shell.execute_reply": "2023-03-29T03:21:26.379695Z"
    },
    "papermill": {
     "duration": 0.449194,
     "end_time": "2023-03-29T03:21:26.384364",
     "exception": false,
     "start_time": "2023-03-29T03:21:25.935170",
     "status": "completed"
    },
    "tags": []
   },
   "outputs": [],
   "source": [
    "from torchvision import transforms\n",
    "\n",
    "# Converter for train data\n",
    "transform_train = transforms.Compose([transforms.ToTensor(),\n",
    "                                     transforms.Pad(32, padding_mode='symmetric'),\n",
    "                                     transforms.RandomHorizontalFlip(),\n",
    "                                     transforms.RandomVerticalFlip(),\n",
    "                                     transforms.RandomRotation(10),\n",
    "                                     transforms.Normalize((0.485, 0.456, 0.406),\n",
    "                                                          (0.229, 0.224, 0.225))])\n",
    "\n",
    "# Converter for validaion and test data\n",
    "transform_test = transforms.Compose([transforms.ToTensor(),\n",
    "                                    transforms.Pad(32, padding_mode='symmetric'),\n",
    "                                    transforms.Normalize((0.485, 0.456, 0.406),\n",
    "                                                         (0.229, 0.224, 0.225))])"
   ]
  },
  {
   "cell_type": "markdown",
   "id": "fbb03cb9",
   "metadata": {
    "papermill": {
     "duration": 0.007585,
     "end_time": "2023-03-29T03:21:26.400843",
     "exception": false,
     "start_time": "2023-03-29T03:21:26.393258",
     "status": "completed"
    },
    "tags": []
   },
   "source": [
    "##### Create Dataset & Dataloader"
   ]
  },
  {
   "cell_type": "code",
   "execution_count": 8,
   "id": "68537630",
   "metadata": {
    "execution": {
     "iopub.execute_input": "2023-03-29T03:21:26.418218Z",
     "iopub.status.busy": "2023-03-29T03:21:26.417671Z",
     "iopub.status.idle": "2023-03-29T03:21:26.423340Z",
     "shell.execute_reply": "2023-03-29T03:21:26.422446Z"
    },
    "papermill": {
     "duration": 0.018978,
     "end_time": "2023-03-29T03:21:26.427734",
     "exception": false,
     "start_time": "2023-03-29T03:21:26.408756",
     "status": "completed"
    },
    "tags": []
   },
   "outputs": [],
   "source": [
    "dataset_train = ImageDataset(df = train, img_dir='train/',\n",
    "                             transform=transform_train)\n",
    "dataset_valid = ImageDataset(df=valid, img_dir='train/',\n",
    "                             transform=transform_test)"
   ]
  },
  {
   "cell_type": "code",
   "execution_count": 9,
   "id": "bc4876a3",
   "metadata": {
    "execution": {
     "iopub.execute_input": "2023-03-29T03:21:26.445215Z",
     "iopub.status.busy": "2023-03-29T03:21:26.444755Z",
     "iopub.status.idle": "2023-03-29T03:21:26.451122Z",
     "shell.execute_reply": "2023-03-29T03:21:26.450237Z"
    },
    "papermill": {
     "duration": 0.019799,
     "end_time": "2023-03-29T03:21:26.455443",
     "exception": false,
     "start_time": "2023-03-29T03:21:26.435644",
     "status": "completed"
    },
    "tags": []
   },
   "outputs": [],
   "source": [
    "from torch.utils.data import DataLoader\n",
    "\n",
    "loader_train = DataLoader(dataset=dataset_train, batch_size=32, shuffle=True)\n",
    "loader_valid = DataLoader(dataset=dataset_valid, batch_size=32, shuffle=False)"
   ]
  },
  {
   "cell_type": "markdown",
   "id": "be7ee744",
   "metadata": {
    "papermill": {
     "duration": 0.008728,
     "end_time": "2023-03-29T03:21:26.472218",
     "exception": false,
     "start_time": "2023-03-29T03:21:26.463490",
     "status": "completed"
    },
    "tags": []
   },
   "source": [
    "# Create Model  \n",
    "### $N_{out}=\\lfloor\\frac{N_{in}+2P-K}{S}\\rfloor+1$"
   ]
  },
  {
   "cell_type": "code",
   "execution_count": 10,
   "id": "789a753f",
   "metadata": {
    "execution": {
     "iopub.execute_input": "2023-03-29T03:21:26.490588Z",
     "iopub.status.busy": "2023-03-29T03:21:26.490133Z",
     "iopub.status.idle": "2023-03-29T03:21:26.507882Z",
     "shell.execute_reply": "2023-03-29T03:21:26.506942Z"
    },
    "papermill": {
     "duration": 0.03013,
     "end_time": "2023-03-29T03:21:26.510554",
     "exception": false,
     "start_time": "2023-03-29T03:21:26.480424",
     "status": "completed"
    },
    "tags": []
   },
   "outputs": [],
   "source": [
    "import torch.nn as nn\n",
    "import torch.nn.functional as F\n",
    "\n",
    "class Model(nn.Module):\n",
    "    def __init__(self):\n",
    "        super().__init__()\n",
    "        self.layer1 = nn.Sequential(nn.Conv2d(in_channels=3, out_channels=32,\n",
    "                                             kernel_size=3, padding=2),\n",
    "                                   nn.BatchNorm2d(32),\n",
    "                                   nn.LeakyReLU(),\n",
    "                                   nn.MaxPool2d(kernel_size=2))\n",
    "        \n",
    "        self.layer2 = nn.Sequential(nn.Conv2d(in_channels=32, out_channels=64,\n",
    "                                              kernel_size=3, padding=2),\n",
    "                                    nn.BatchNorm2d(64),\n",
    "                                    nn.LeakyReLU(),\n",
    "                                    nn.MaxPool2d(kernel_size=2))\n",
    "        \n",
    "        self.layer3 = nn.Sequential(nn.Conv2d(in_channels=64, out_channels=128,\n",
    "                                              kernel_size=3, padding=2),\n",
    "                                    nn.BatchNorm2d(128),\n",
    "                                    nn.LeakyReLU(),\n",
    "                                    nn.MaxPool2d(kernel_size=2))\n",
    "        \n",
    "        self.layer4 = nn.Sequential(nn.Conv2d(in_channels=128, out_channels=256,\n",
    "                                              kernel_size=3, padding=2),\n",
    "                                    nn.BatchNorm2d(256),\n",
    "                                    nn.LeakyReLU(),\n",
    "                                    nn.MaxPool2d(kernel_size=2))\n",
    "        \n",
    "        self.layer5 = nn.Sequential(nn.Conv2d(in_channels=256, out_channels=512,\n",
    "                                              kernel_size=3, padding=2),\n",
    "                                    nn.BatchNorm2d(512),\n",
    "                                    nn.LeakyReLU(),\n",
    "                                    nn.MaxPool2d(kernel_size=2))\n",
    "        \n",
    "        self.avg_pool = nn.AvgPool2d(kernel_size=4)\n",
    "        # fully-connected\n",
    "        self.fc1 = nn.Linear(in_features=512 * 1* 1, out_features=64)\n",
    "        self.fc2 = nn.Linear(in_features=64, out_features=2)\n",
    "        \n",
    "    def forward(self, x):\n",
    "        x = self.layer1(x)\n",
    "        x = self.layer2(x)\n",
    "        x = self.layer3(x)\n",
    "        x = self.layer4(x)\n",
    "        x = self.layer5(x)\n",
    "        x = self.avg_pool(x)\n",
    "        x = x.view(-1, 512 * 1* 1)\n",
    "        x = self.fc1(x)\n",
    "        x = self.fc2(x)\n",
    "        return x"
   ]
  },
  {
   "cell_type": "code",
   "execution_count": 11,
   "id": "c81fb4e0",
   "metadata": {
    "execution": {
     "iopub.execute_input": "2023-03-29T03:21:26.542920Z",
     "iopub.status.busy": "2023-03-29T03:21:26.542591Z",
     "iopub.status.idle": "2023-03-29T03:21:30.823406Z",
     "shell.execute_reply": "2023-03-29T03:21:30.822300Z"
    },
    "papermill": {
     "duration": 4.300287,
     "end_time": "2023-03-29T03:21:30.826463",
     "exception": false,
     "start_time": "2023-03-29T03:21:26.526176",
     "status": "completed"
    },
    "tags": []
   },
   "outputs": [],
   "source": [
    "model = Model().to(device)"
   ]
  },
  {
   "cell_type": "markdown",
   "id": "692c54a9",
   "metadata": {
    "papermill": {
     "duration": 0.005271,
     "end_time": "2023-03-29T03:21:30.837466",
     "exception": false,
     "start_time": "2023-03-29T03:21:30.832195",
     "status": "completed"
    },
    "tags": []
   },
   "source": [
    "# Model Train\n",
    "* Setting loss function & optimizer"
   ]
  },
  {
   "cell_type": "code",
   "execution_count": 12,
   "id": "92a3994f",
   "metadata": {
    "execution": {
     "iopub.execute_input": "2023-03-29T03:21:30.849853Z",
     "iopub.status.busy": "2023-03-29T03:21:30.849552Z",
     "iopub.status.idle": "2023-03-29T03:21:30.853921Z",
     "shell.execute_reply": "2023-03-29T03:21:30.852924Z"
    },
    "papermill": {
     "duration": 0.013128,
     "end_time": "2023-03-29T03:21:30.856047",
     "exception": false,
     "start_time": "2023-03-29T03:21:30.842919",
     "status": "completed"
    },
    "tags": []
   },
   "outputs": [],
   "source": [
    "# loss function\n",
    "criterion = nn.CrossEntropyLoss()"
   ]
  },
  {
   "cell_type": "code",
   "execution_count": 13,
   "id": "79205c4e",
   "metadata": {
    "execution": {
     "iopub.execute_input": "2023-03-29T03:21:30.868643Z",
     "iopub.status.busy": "2023-03-29T03:21:30.868368Z",
     "iopub.status.idle": "2023-03-29T03:21:30.872721Z",
     "shell.execute_reply": "2023-03-29T03:21:30.871763Z"
    },
    "papermill": {
     "duration": 0.012932,
     "end_time": "2023-03-29T03:21:30.874785",
     "exception": false,
     "start_time": "2023-03-29T03:21:30.861853",
     "status": "completed"
    },
    "tags": []
   },
   "outputs": [],
   "source": [
    "# Optimizer\n",
    "optimizer = torch.optim.Adamax(model.parameters(), lr=0.00006)"
   ]
  },
  {
   "cell_type": "code",
   "execution_count": 14,
   "id": "3bdbb301",
   "metadata": {
    "execution": {
     "iopub.execute_input": "2023-03-29T03:21:30.887203Z",
     "iopub.status.busy": "2023-03-29T03:21:30.886862Z",
     "iopub.status.idle": "2023-03-29T04:00:28.221700Z",
     "shell.execute_reply": "2023-03-29T04:00:28.217401Z"
    },
    "papermill": {
     "duration": 2337.350377,
     "end_time": "2023-03-29T04:00:28.230639",
     "exception": false,
     "start_time": "2023-03-29T03:21:30.880262",
     "status": "completed"
    },
    "tags": []
   },
   "outputs": [
    {
     "name": "stdout",
     "output_type": "stream",
     "text": [
      "epoch [1/70] - loss: 0.1309\n",
      "epoch [2/70] - loss: 0.0644\n",
      "epoch [3/70] - loss: 0.0504\n",
      "epoch [4/70] - loss: 0.0445\n",
      "epoch [5/70] - loss: 0.0401\n",
      "epoch [6/70] - loss: 0.0339\n",
      "epoch [7/70] - loss: 0.0308\n",
      "epoch [8/70] - loss: 0.0278\n",
      "epoch [9/70] - loss: 0.0266\n",
      "epoch [10/70] - loss: 0.0249\n",
      "epoch [11/70] - loss: 0.0236\n",
      "epoch [12/70] - loss: 0.0234\n",
      "epoch [13/70] - loss: 0.0219\n",
      "epoch [14/70] - loss: 0.0202\n",
      "epoch [15/70] - loss: 0.0206\n",
      "epoch [16/70] - loss: 0.0179\n",
      "epoch [17/70] - loss: 0.0191\n",
      "epoch [18/70] - loss: 0.0145\n",
      "epoch [19/70] - loss: 0.0170\n",
      "epoch [20/70] - loss: 0.0138\n",
      "epoch [21/70] - loss: 0.0159\n",
      "epoch [22/70] - loss: 0.0149\n",
      "epoch [23/70] - loss: 0.0150\n",
      "epoch [24/70] - loss: 0.0135\n",
      "epoch [25/70] - loss: 0.0146\n",
      "epoch [26/70] - loss: 0.0123\n",
      "epoch [27/70] - loss: 0.0128\n",
      "epoch [28/70] - loss: 0.0117\n",
      "epoch [29/70] - loss: 0.0102\n",
      "epoch [30/70] - loss: 0.0106\n",
      "epoch [31/70] - loss: 0.0094\n",
      "epoch [32/70] - loss: 0.0097\n",
      "epoch [33/70] - loss: 0.0090\n",
      "epoch [34/70] - loss: 0.0099\n",
      "epoch [35/70] - loss: 0.0098\n",
      "epoch [36/70] - loss: 0.0100\n",
      "epoch [37/70] - loss: 0.0101\n",
      "epoch [38/70] - loss: 0.0091\n",
      "epoch [39/70] - loss: 0.0086\n",
      "epoch [40/70] - loss: 0.0100\n",
      "epoch [41/70] - loss: 0.0081\n",
      "epoch [42/70] - loss: 0.0082\n",
      "epoch [43/70] - loss: 0.0080\n",
      "epoch [44/70] - loss: 0.0084\n",
      "epoch [45/70] - loss: 0.0078\n",
      "epoch [46/70] - loss: 0.0079\n",
      "epoch [47/70] - loss: 0.0066\n",
      "epoch [48/70] - loss: 0.0059\n",
      "epoch [49/70] - loss: 0.0071\n",
      "epoch [50/70] - loss: 0.0069\n",
      "epoch [51/70] - loss: 0.0069\n",
      "epoch [52/70] - loss: 0.0055\n",
      "epoch [53/70] - loss: 0.0058\n",
      "epoch [54/70] - loss: 0.0066\n",
      "epoch [55/70] - loss: 0.0052\n",
      "epoch [56/70] - loss: 0.0057\n",
      "epoch [57/70] - loss: 0.0048\n",
      "epoch [58/70] - loss: 0.0060\n",
      "epoch [59/70] - loss: 0.0050\n",
      "epoch [60/70] - loss: 0.0048\n",
      "epoch [61/70] - loss: 0.0055\n",
      "epoch [62/70] - loss: 0.0061\n",
      "epoch [63/70] - loss: 0.0047\n",
      "epoch [64/70] - loss: 0.0042\n",
      "epoch [65/70] - loss: 0.0161\n",
      "epoch [66/70] - loss: 0.0040\n",
      "epoch [67/70] - loss: 0.0033\n",
      "epoch [68/70] - loss: 0.0037\n",
      "epoch [69/70] - loss: 0.0035\n",
      "epoch [70/70] - loss: 0.0036\n"
     ]
    }
   ],
   "source": [
    "epochs = 70\n",
    "\n",
    "for epoch in range(epochs):\n",
    "    epoch_loss =0\n",
    "    \n",
    "    for images, labels in loader_train:\n",
    "        images = images.to(device)\n",
    "        labels = labels.to(device)\n",
    "        \n",
    "        optimizer.zero_grad()\n",
    "        outputs = model(images)\n",
    "        loss = criterion(outputs, labels)\n",
    "        epoch_loss += loss.item()\n",
    "        loss.backward()\n",
    "        optimizer.step()\n",
    "        \n",
    "    print(f\"epoch [{epoch+1}/{epochs}] - loss: {epoch_loss/len(loader_train):.4f}\")"
   ]
  },
  {
   "cell_type": "markdown",
   "id": "a6a56112",
   "metadata": {
    "papermill": {
     "duration": 0.008988,
     "end_time": "2023-03-29T04:00:28.249690",
     "exception": false,
     "start_time": "2023-03-29T04:00:28.240702",
     "status": "completed"
    },
    "tags": []
   },
   "source": [
    "# Performance Validation"
   ]
  },
  {
   "cell_type": "code",
   "execution_count": 15,
   "id": "3002f47a",
   "metadata": {
    "execution": {
     "iopub.execute_input": "2023-03-29T04:00:28.268897Z",
     "iopub.status.busy": "2023-03-29T04:00:28.268578Z",
     "iopub.status.idle": "2023-03-29T04:00:30.135215Z",
     "shell.execute_reply": "2023-03-29T04:00:30.133513Z"
    },
    "papermill": {
     "duration": 1.879796,
     "end_time": "2023-03-29T04:00:30.138327",
     "exception": false,
     "start_time": "2023-03-29T04:00:28.258531",
     "status": "completed"
    },
    "tags": []
   },
   "outputs": [
    {
     "name": "stdout",
     "output_type": "stream",
     "text": [
      "ROC AUC of validation : 0.9998\n"
     ]
    }
   ],
   "source": [
    "from sklearn.metrics import roc_auc_score\n",
    "\n",
    "true_list = []\n",
    "preds_list = []\n",
    "\n",
    "model.eval()\n",
    "\n",
    "with torch.no_grad():\n",
    "    for images, labels in loader_valid:\n",
    "        images = images.to(device)\n",
    "        labels = labels.to(device)\n",
    "        \n",
    "        outputs = model(images)\n",
    "        preds = torch.softmax(outputs.cpu(), dim=1)[:, 1]\n",
    "        true = labels.cpu()\n",
    "        preds_list.extend(preds)\n",
    "        true_list.extend(true)\n",
    "        \n",
    "print(f\"ROC AUC of validation : {roc_auc_score(true_list, preds_list):.4f}\")"
   ]
  },
  {
   "cell_type": "markdown",
   "id": "35f31094",
   "metadata": {
    "papermill": {
     "duration": 0.00917,
     "end_time": "2023-03-29T04:00:30.157086",
     "exception": false,
     "start_time": "2023-03-29T04:00:30.147916",
     "status": "completed"
    },
    "tags": []
   },
   "source": [
    "# Predict and Submit"
   ]
  },
  {
   "cell_type": "code",
   "execution_count": 16,
   "id": "f3c659e6",
   "metadata": {
    "execution": {
     "iopub.execute_input": "2023-03-29T04:00:30.176677Z",
     "iopub.status.busy": "2023-03-29T04:00:30.176373Z",
     "iopub.status.idle": "2023-03-29T04:00:34.989769Z",
     "shell.execute_reply": "2023-03-29T04:00:34.988734Z"
    },
    "papermill": {
     "duration": 4.826655,
     "end_time": "2023-03-29T04:00:34.992714",
     "exception": false,
     "start_time": "2023-03-29T04:00:30.166059",
     "status": "completed"
    },
    "tags": []
   },
   "outputs": [],
   "source": [
    "dataset_test = ImageDataset(df=submission, img_dir='test/',\n",
    "                            transform=transform_test)\n",
    "loader_test = DataLoader(dataset=dataset_test, batch_size=32, shuffle=False)\n",
    "\n",
    "model.eval()\n",
    "\n",
    "preds = []\n",
    "\n",
    "with torch.no_grad():\n",
    "    for images, _ in loader_test:\n",
    "        images = images.to(device)\n",
    "        \n",
    "        outputs = model(images)\n",
    "        preds_part = torch.softmax(outputs.cpu(), dim=1)[:, 1].tolist()\n",
    "        preds.extend(preds_part)"
   ]
  },
  {
   "cell_type": "code",
   "execution_count": 17,
   "id": "9af2b892",
   "metadata": {
    "execution": {
     "iopub.execute_input": "2023-03-29T04:00:35.014179Z",
     "iopub.status.busy": "2023-03-29T04:00:35.013786Z",
     "iopub.status.idle": "2023-03-29T04:00:35.036968Z",
     "shell.execute_reply": "2023-03-29T04:00:35.035910Z"
    },
    "papermill": {
     "duration": 0.037344,
     "end_time": "2023-03-29T04:00:35.039707",
     "exception": false,
     "start_time": "2023-03-29T04:00:35.002363",
     "status": "completed"
    },
    "tags": []
   },
   "outputs": [],
   "source": [
    "submission['has_cactus'] = preds\n",
    "submission.to_csv('submission.csv', index=False)"
   ]
  },
  {
   "cell_type": "markdown",
   "id": "a315c7c5",
   "metadata": {
    "papermill": {
     "duration": 0.009254,
     "end_time": "2023-03-29T04:00:35.059207",
     "exception": false,
     "start_time": "2023-03-29T04:00:35.049953",
     "status": "completed"
    },
    "tags": []
   },
   "source": [
    "## Delete unzip files"
   ]
  },
  {
   "cell_type": "code",
   "execution_count": 18,
   "id": "a02f7e7d",
   "metadata": {
    "execution": {
     "iopub.execute_input": "2023-03-29T04:00:35.079020Z",
     "iopub.status.busy": "2023-03-29T04:00:35.078075Z",
     "iopub.status.idle": "2023-03-29T04:00:35.701859Z",
     "shell.execute_reply": "2023-03-29T04:00:35.700695Z"
    },
    "papermill": {
     "duration": 0.636471,
     "end_time": "2023-03-29T04:00:35.704734",
     "exception": false,
     "start_time": "2023-03-29T04:00:35.068263",
     "status": "completed"
    },
    "tags": []
   },
   "outputs": [],
   "source": [
    "import shutil\n",
    "\n",
    "shutil.rmtree('./train')\n",
    "shutil.rmtree('./test')"
   ]
  }
 ],
 "metadata": {
  "kernelspec": {
   "display_name": "Python 3",
   "language": "python",
   "name": "python3"
  },
  "language_info": {
   "codemirror_mode": {
    "name": "ipython",
    "version": 3
   },
   "file_extension": ".py",
   "mimetype": "text/x-python",
   "name": "python",
   "nbconvert_exporter": "python",
   "pygments_lexer": "ipython3",
   "version": "3.7.12"
  },
  "papermill": {
   "default_parameters": {},
   "duration": 2375.14939,
   "end_time": "2023-03-29T04:00:39.015415",
   "environment_variables": {},
   "exception": null,
   "input_path": "__notebook__.ipynb",
   "output_path": "__notebook__.ipynb",
   "parameters": {},
   "start_time": "2023-03-29T03:21:03.866025",
   "version": "2.4.0"
  }
 },
 "nbformat": 4,
 "nbformat_minor": 5
}
