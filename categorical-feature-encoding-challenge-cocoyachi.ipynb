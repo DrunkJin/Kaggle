{
 "cells": [
  {
   "cell_type": "code",
   "execution_count": 1,
   "id": "8b8dc07e",
   "metadata": {
    "_cell_guid": "b1076dfc-b9ad-4769-8c92-a6c4dae69d19",
    "_uuid": "8f2839f25d086af736a60e9eeb907d3b93b6e0e5",
    "execution": {
     "iopub.execute_input": "2022-07-22T13:11:14.532210Z",
     "iopub.status.busy": "2022-07-22T13:11:14.531779Z",
     "iopub.status.idle": "2022-07-22T13:11:17.333725Z",
     "shell.execute_reply": "2022-07-22T13:11:17.332748Z"
    },
    "papermill": {
     "duration": 2.813823,
     "end_time": "2022-07-22T13:11:17.336520",
     "exception": false,
     "start_time": "2022-07-22T13:11:14.522697",
     "status": "completed"
    },
    "tags": []
   },
   "outputs": [],
   "source": [
    "import pandas as pd\n",
    "\n",
    "datapath = '/kaggle/input/cat-in-the-dat/'\n",
    "\n",
    "train = pd.read_csv(datapath + 'train.csv', index_col ='id')\n",
    "test = pd.read_csv(datapath + 'test.csv', index_col ='id')\n",
    "submission = pd.read_csv(datapath + 'sample_submission.csv', index_col ='id')"
   ]
  },
  {
   "cell_type": "code",
   "execution_count": 2,
   "id": "065e916e",
   "metadata": {
    "execution": {
     "iopub.execute_input": "2022-07-22T13:11:17.351991Z",
     "iopub.status.busy": "2022-07-22T13:11:17.350853Z",
     "iopub.status.idle": "2022-07-22T13:11:17.359690Z",
     "shell.execute_reply": "2022-07-22T13:11:17.358729Z"
    },
    "papermill": {
     "duration": 0.020295,
     "end_time": "2022-07-22T13:11:17.363384",
     "exception": false,
     "start_time": "2022-07-22T13:11:17.343089",
     "status": "completed"
    },
    "tags": []
   },
   "outputs": [
    {
     "data": {
      "text/plain": [
       "((300000, 24), (200000, 23))"
      ]
     },
     "execution_count": 2,
     "metadata": {},
     "output_type": "execute_result"
    }
   ],
   "source": [
    "train.shape, test.shape"
   ]
  },
  {
   "cell_type": "code",
   "execution_count": 3,
   "id": "99f5f75e",
   "metadata": {
    "execution": {
     "iopub.execute_input": "2022-07-22T13:11:17.378566Z",
     "iopub.status.busy": "2022-07-22T13:11:17.377857Z",
     "iopub.status.idle": "2022-07-22T13:11:17.398472Z",
     "shell.execute_reply": "2022-07-22T13:11:17.397192Z"
    },
    "papermill": {
     "duration": 0.031,
     "end_time": "2022-07-22T13:11:17.401037",
     "exception": false,
     "start_time": "2022-07-22T13:11:17.370037",
     "status": "completed"
    },
    "tags": []
   },
   "outputs": [
    {
     "data": {
      "text/html": [
       "<div>\n",
       "<style scoped>\n",
       "    .dataframe tbody tr th:only-of-type {\n",
       "        vertical-align: middle;\n",
       "    }\n",
       "\n",
       "    .dataframe tbody tr th {\n",
       "        vertical-align: top;\n",
       "    }\n",
       "\n",
       "    .dataframe thead th {\n",
       "        text-align: right;\n",
       "    }\n",
       "</style>\n",
       "<table border=\"1\" class=\"dataframe\">\n",
       "  <thead>\n",
       "    <tr style=\"text-align: right;\">\n",
       "      <th>id</th>\n",
       "      <th>0</th>\n",
       "      <th>1</th>\n",
       "      <th>2</th>\n",
       "      <th>3</th>\n",
       "      <th>4</th>\n",
       "    </tr>\n",
       "  </thead>\n",
       "  <tbody>\n",
       "    <tr>\n",
       "      <th>bin_0</th>\n",
       "      <td>0</td>\n",
       "      <td>0</td>\n",
       "      <td>0</td>\n",
       "      <td>0</td>\n",
       "      <td>0</td>\n",
       "    </tr>\n",
       "    <tr>\n",
       "      <th>bin_1</th>\n",
       "      <td>0</td>\n",
       "      <td>1</td>\n",
       "      <td>0</td>\n",
       "      <td>1</td>\n",
       "      <td>0</td>\n",
       "    </tr>\n",
       "    <tr>\n",
       "      <th>bin_2</th>\n",
       "      <td>0</td>\n",
       "      <td>0</td>\n",
       "      <td>0</td>\n",
       "      <td>0</td>\n",
       "      <td>0</td>\n",
       "    </tr>\n",
       "    <tr>\n",
       "      <th>bin_3</th>\n",
       "      <td>T</td>\n",
       "      <td>T</td>\n",
       "      <td>F</td>\n",
       "      <td>F</td>\n",
       "      <td>F</td>\n",
       "    </tr>\n",
       "    <tr>\n",
       "      <th>bin_4</th>\n",
       "      <td>Y</td>\n",
       "      <td>Y</td>\n",
       "      <td>Y</td>\n",
       "      <td>Y</td>\n",
       "      <td>N</td>\n",
       "    </tr>\n",
       "    <tr>\n",
       "      <th>nom_0</th>\n",
       "      <td>Green</td>\n",
       "      <td>Green</td>\n",
       "      <td>Blue</td>\n",
       "      <td>Red</td>\n",
       "      <td>Red</td>\n",
       "    </tr>\n",
       "    <tr>\n",
       "      <th>nom_1</th>\n",
       "      <td>Triangle</td>\n",
       "      <td>Trapezoid</td>\n",
       "      <td>Trapezoid</td>\n",
       "      <td>Trapezoid</td>\n",
       "      <td>Trapezoid</td>\n",
       "    </tr>\n",
       "    <tr>\n",
       "      <th>nom_2</th>\n",
       "      <td>Snake</td>\n",
       "      <td>Hamster</td>\n",
       "      <td>Lion</td>\n",
       "      <td>Snake</td>\n",
       "      <td>Lion</td>\n",
       "    </tr>\n",
       "    <tr>\n",
       "      <th>nom_3</th>\n",
       "      <td>Finland</td>\n",
       "      <td>Russia</td>\n",
       "      <td>Russia</td>\n",
       "      <td>Canada</td>\n",
       "      <td>Canada</td>\n",
       "    </tr>\n",
       "    <tr>\n",
       "      <th>nom_4</th>\n",
       "      <td>Bassoon</td>\n",
       "      <td>Piano</td>\n",
       "      <td>Theremin</td>\n",
       "      <td>Oboe</td>\n",
       "      <td>Oboe</td>\n",
       "    </tr>\n",
       "    <tr>\n",
       "      <th>nom_5</th>\n",
       "      <td>50f116bcf</td>\n",
       "      <td>b3b4d25d0</td>\n",
       "      <td>3263bdce5</td>\n",
       "      <td>f12246592</td>\n",
       "      <td>5b0f5acd5</td>\n",
       "    </tr>\n",
       "    <tr>\n",
       "      <th>nom_6</th>\n",
       "      <td>3ac1b8814</td>\n",
       "      <td>fbcb50fc1</td>\n",
       "      <td>0922e3cb8</td>\n",
       "      <td>50d7ad46a</td>\n",
       "      <td>1fe17a1fd</td>\n",
       "    </tr>\n",
       "    <tr>\n",
       "      <th>nom_7</th>\n",
       "      <td>68f6ad3e9</td>\n",
       "      <td>3b6dd5612</td>\n",
       "      <td>a6a36f527</td>\n",
       "      <td>ec69236eb</td>\n",
       "      <td>04ddac2be</td>\n",
       "    </tr>\n",
       "    <tr>\n",
       "      <th>nom_8</th>\n",
       "      <td>c389000ab</td>\n",
       "      <td>4cd920251</td>\n",
       "      <td>de9c9f684</td>\n",
       "      <td>4ade6ab69</td>\n",
       "      <td>cb43ab175</td>\n",
       "    </tr>\n",
       "    <tr>\n",
       "      <th>nom_9</th>\n",
       "      <td>2f4cb3d51</td>\n",
       "      <td>f83c56c21</td>\n",
       "      <td>ae6800dd0</td>\n",
       "      <td>8270f0d71</td>\n",
       "      <td>b164b72a7</td>\n",
       "    </tr>\n",
       "    <tr>\n",
       "      <th>ord_0</th>\n",
       "      <td>2</td>\n",
       "      <td>1</td>\n",
       "      <td>1</td>\n",
       "      <td>1</td>\n",
       "      <td>1</td>\n",
       "    </tr>\n",
       "    <tr>\n",
       "      <th>ord_1</th>\n",
       "      <td>Grandmaster</td>\n",
       "      <td>Grandmaster</td>\n",
       "      <td>Expert</td>\n",
       "      <td>Grandmaster</td>\n",
       "      <td>Grandmaster</td>\n",
       "    </tr>\n",
       "    <tr>\n",
       "      <th>ord_2</th>\n",
       "      <td>Cold</td>\n",
       "      <td>Hot</td>\n",
       "      <td>Lava Hot</td>\n",
       "      <td>Boiling Hot</td>\n",
       "      <td>Freezing</td>\n",
       "    </tr>\n",
       "    <tr>\n",
       "      <th>ord_3</th>\n",
       "      <td>h</td>\n",
       "      <td>a</td>\n",
       "      <td>h</td>\n",
       "      <td>i</td>\n",
       "      <td>a</td>\n",
       "    </tr>\n",
       "    <tr>\n",
       "      <th>ord_4</th>\n",
       "      <td>D</td>\n",
       "      <td>A</td>\n",
       "      <td>R</td>\n",
       "      <td>D</td>\n",
       "      <td>R</td>\n",
       "    </tr>\n",
       "    <tr>\n",
       "      <th>ord_5</th>\n",
       "      <td>kr</td>\n",
       "      <td>bF</td>\n",
       "      <td>Jc</td>\n",
       "      <td>kW</td>\n",
       "      <td>qP</td>\n",
       "    </tr>\n",
       "    <tr>\n",
       "      <th>day</th>\n",
       "      <td>2</td>\n",
       "      <td>7</td>\n",
       "      <td>7</td>\n",
       "      <td>2</td>\n",
       "      <td>7</td>\n",
       "    </tr>\n",
       "    <tr>\n",
       "      <th>month</th>\n",
       "      <td>2</td>\n",
       "      <td>8</td>\n",
       "      <td>2</td>\n",
       "      <td>1</td>\n",
       "      <td>8</td>\n",
       "    </tr>\n",
       "    <tr>\n",
       "      <th>target</th>\n",
       "      <td>0</td>\n",
       "      <td>0</td>\n",
       "      <td>0</td>\n",
       "      <td>1</td>\n",
       "      <td>0</td>\n",
       "    </tr>\n",
       "  </tbody>\n",
       "</table>\n",
       "</div>"
      ],
      "text/plain": [
       "id                0            1          2            3            4\n",
       "bin_0             0            0          0            0            0\n",
       "bin_1             0            1          0            1            0\n",
       "bin_2             0            0          0            0            0\n",
       "bin_3             T            T          F            F            F\n",
       "bin_4             Y            Y          Y            Y            N\n",
       "nom_0         Green        Green       Blue          Red          Red\n",
       "nom_1      Triangle    Trapezoid  Trapezoid    Trapezoid    Trapezoid\n",
       "nom_2         Snake      Hamster       Lion        Snake         Lion\n",
       "nom_3       Finland       Russia     Russia       Canada       Canada\n",
       "nom_4       Bassoon        Piano   Theremin         Oboe         Oboe\n",
       "nom_5     50f116bcf    b3b4d25d0  3263bdce5    f12246592    5b0f5acd5\n",
       "nom_6     3ac1b8814    fbcb50fc1  0922e3cb8    50d7ad46a    1fe17a1fd\n",
       "nom_7     68f6ad3e9    3b6dd5612  a6a36f527    ec69236eb    04ddac2be\n",
       "nom_8     c389000ab    4cd920251  de9c9f684    4ade6ab69    cb43ab175\n",
       "nom_9     2f4cb3d51    f83c56c21  ae6800dd0    8270f0d71    b164b72a7\n",
       "ord_0             2            1          1            1            1\n",
       "ord_1   Grandmaster  Grandmaster     Expert  Grandmaster  Grandmaster\n",
       "ord_2          Cold          Hot   Lava Hot  Boiling Hot     Freezing\n",
       "ord_3             h            a          h            i            a\n",
       "ord_4             D            A          R            D            R\n",
       "ord_5            kr           bF         Jc           kW           qP\n",
       "day               2            7          7            2            7\n",
       "month             2            8          2            1            8\n",
       "target            0            0          0            1            0"
      ]
     },
     "execution_count": 3,
     "metadata": {},
     "output_type": "execute_result"
    }
   ],
   "source": [
    "train.head().T"
   ]
  },
  {
   "cell_type": "code",
   "execution_count": 4,
   "id": "7944490d",
   "metadata": {
    "execution": {
     "iopub.execute_input": "2022-07-22T13:11:17.417383Z",
     "iopub.status.busy": "2022-07-22T13:11:17.416302Z",
     "iopub.status.idle": "2022-07-22T13:11:17.427341Z",
     "shell.execute_reply": "2022-07-22T13:11:17.426198Z"
    },
    "papermill": {
     "duration": 0.021673,
     "end_time": "2022-07-22T13:11:17.429670",
     "exception": false,
     "start_time": "2022-07-22T13:11:17.407997",
     "status": "completed"
    },
    "tags": []
   },
   "outputs": [
    {
     "data": {
      "text/html": [
       "<div>\n",
       "<style scoped>\n",
       "    .dataframe tbody tr th:only-of-type {\n",
       "        vertical-align: middle;\n",
       "    }\n",
       "\n",
       "    .dataframe tbody tr th {\n",
       "        vertical-align: top;\n",
       "    }\n",
       "\n",
       "    .dataframe thead th {\n",
       "        text-align: right;\n",
       "    }\n",
       "</style>\n",
       "<table border=\"1\" class=\"dataframe\">\n",
       "  <thead>\n",
       "    <tr style=\"text-align: right;\">\n",
       "      <th></th>\n",
       "      <th>target</th>\n",
       "    </tr>\n",
       "    <tr>\n",
       "      <th>id</th>\n",
       "      <th></th>\n",
       "    </tr>\n",
       "  </thead>\n",
       "  <tbody>\n",
       "    <tr>\n",
       "      <th>300000</th>\n",
       "      <td>0.5</td>\n",
       "    </tr>\n",
       "    <tr>\n",
       "      <th>300001</th>\n",
       "      <td>0.5</td>\n",
       "    </tr>\n",
       "    <tr>\n",
       "      <th>300002</th>\n",
       "      <td>0.5</td>\n",
       "    </tr>\n",
       "    <tr>\n",
       "      <th>300003</th>\n",
       "      <td>0.5</td>\n",
       "    </tr>\n",
       "    <tr>\n",
       "      <th>300004</th>\n",
       "      <td>0.5</td>\n",
       "    </tr>\n",
       "  </tbody>\n",
       "</table>\n",
       "</div>"
      ],
      "text/plain": [
       "        target\n",
       "id            \n",
       "300000     0.5\n",
       "300001     0.5\n",
       "300002     0.5\n",
       "300003     0.5\n",
       "300004     0.5"
      ]
     },
     "execution_count": 4,
     "metadata": {},
     "output_type": "execute_result"
    }
   ],
   "source": [
    "submission.head()"
   ]
  },
  {
   "cell_type": "code",
   "execution_count": 5,
   "id": "0fe3c12b",
   "metadata": {
    "execution": {
     "iopub.execute_input": "2022-07-22T13:11:17.446026Z",
     "iopub.status.busy": "2022-07-22T13:11:17.445334Z",
     "iopub.status.idle": "2022-07-22T13:11:17.470696Z",
     "shell.execute_reply": "2022-07-22T13:11:17.469595Z"
    },
    "papermill": {
     "duration": 0.036577,
     "end_time": "2022-07-22T13:11:17.473320",
     "exception": false,
     "start_time": "2022-07-22T13:11:17.436743",
     "status": "completed"
    },
    "tags": []
   },
   "outputs": [
    {
     "data": {
      "text/html": [
       "<div>\n",
       "<style scoped>\n",
       "    .dataframe tbody tr th:only-of-type {\n",
       "        vertical-align: middle;\n",
       "    }\n",
       "\n",
       "    .dataframe tbody tr th {\n",
       "        vertical-align: top;\n",
       "    }\n",
       "\n",
       "    .dataframe thead th {\n",
       "        text-align: right;\n",
       "    }\n",
       "</style>\n",
       "<table border=\"1\" class=\"dataframe\">\n",
       "  <thead>\n",
       "    <tr style=\"text-align: right;\">\n",
       "      <th></th>\n",
       "      <th>bin_0</th>\n",
       "      <th>bin_1</th>\n",
       "      <th>bin_2</th>\n",
       "      <th>bin_3</th>\n",
       "      <th>bin_4</th>\n",
       "      <th>nom_0</th>\n",
       "      <th>nom_1</th>\n",
       "      <th>nom_2</th>\n",
       "      <th>nom_3</th>\n",
       "      <th>nom_4</th>\n",
       "      <th>...</th>\n",
       "      <th>nom_8</th>\n",
       "      <th>nom_9</th>\n",
       "      <th>ord_0</th>\n",
       "      <th>ord_1</th>\n",
       "      <th>ord_2</th>\n",
       "      <th>ord_3</th>\n",
       "      <th>ord_4</th>\n",
       "      <th>ord_5</th>\n",
       "      <th>day</th>\n",
       "      <th>month</th>\n",
       "    </tr>\n",
       "    <tr>\n",
       "      <th>id</th>\n",
       "      <th></th>\n",
       "      <th></th>\n",
       "      <th></th>\n",
       "      <th></th>\n",
       "      <th></th>\n",
       "      <th></th>\n",
       "      <th></th>\n",
       "      <th></th>\n",
       "      <th></th>\n",
       "      <th></th>\n",
       "      <th></th>\n",
       "      <th></th>\n",
       "      <th></th>\n",
       "      <th></th>\n",
       "      <th></th>\n",
       "      <th></th>\n",
       "      <th></th>\n",
       "      <th></th>\n",
       "      <th></th>\n",
       "      <th></th>\n",
       "      <th></th>\n",
       "    </tr>\n",
       "  </thead>\n",
       "  <tbody>\n",
       "    <tr>\n",
       "      <th>300000</th>\n",
       "      <td>0</td>\n",
       "      <td>0</td>\n",
       "      <td>1</td>\n",
       "      <td>T</td>\n",
       "      <td>Y</td>\n",
       "      <td>Blue</td>\n",
       "      <td>Triangle</td>\n",
       "      <td>Axolotl</td>\n",
       "      <td>Finland</td>\n",
       "      <td>Piano</td>\n",
       "      <td>...</td>\n",
       "      <td>9d117320c</td>\n",
       "      <td>3c49b42b8</td>\n",
       "      <td>2</td>\n",
       "      <td>Novice</td>\n",
       "      <td>Warm</td>\n",
       "      <td>j</td>\n",
       "      <td>P</td>\n",
       "      <td>be</td>\n",
       "      <td>5</td>\n",
       "      <td>11</td>\n",
       "    </tr>\n",
       "    <tr>\n",
       "      <th>300001</th>\n",
       "      <td>0</td>\n",
       "      <td>0</td>\n",
       "      <td>0</td>\n",
       "      <td>T</td>\n",
       "      <td>N</td>\n",
       "      <td>Red</td>\n",
       "      <td>Square</td>\n",
       "      <td>Lion</td>\n",
       "      <td>Canada</td>\n",
       "      <td>Piano</td>\n",
       "      <td>...</td>\n",
       "      <td>46ae3059c</td>\n",
       "      <td>285771075</td>\n",
       "      <td>1</td>\n",
       "      <td>Master</td>\n",
       "      <td>Lava Hot</td>\n",
       "      <td>l</td>\n",
       "      <td>A</td>\n",
       "      <td>RP</td>\n",
       "      <td>7</td>\n",
       "      <td>5</td>\n",
       "    </tr>\n",
       "    <tr>\n",
       "      <th>300002</th>\n",
       "      <td>1</td>\n",
       "      <td>0</td>\n",
       "      <td>1</td>\n",
       "      <td>F</td>\n",
       "      <td>Y</td>\n",
       "      <td>Blue</td>\n",
       "      <td>Square</td>\n",
       "      <td>Dog</td>\n",
       "      <td>China</td>\n",
       "      <td>Piano</td>\n",
       "      <td>...</td>\n",
       "      <td>b759e21f0</td>\n",
       "      <td>6f323c53f</td>\n",
       "      <td>2</td>\n",
       "      <td>Expert</td>\n",
       "      <td>Freezing</td>\n",
       "      <td>a</td>\n",
       "      <td>G</td>\n",
       "      <td>tP</td>\n",
       "      <td>1</td>\n",
       "      <td>12</td>\n",
       "    </tr>\n",
       "    <tr>\n",
       "      <th>300003</th>\n",
       "      <td>0</td>\n",
       "      <td>0</td>\n",
       "      <td>1</td>\n",
       "      <td>T</td>\n",
       "      <td>Y</td>\n",
       "      <td>Red</td>\n",
       "      <td>Star</td>\n",
       "      <td>Cat</td>\n",
       "      <td>China</td>\n",
       "      <td>Piano</td>\n",
       "      <td>...</td>\n",
       "      <td>0b6ec68ff</td>\n",
       "      <td>b5de3dcc4</td>\n",
       "      <td>1</td>\n",
       "      <td>Contributor</td>\n",
       "      <td>Lava Hot</td>\n",
       "      <td>b</td>\n",
       "      <td>Q</td>\n",
       "      <td>ke</td>\n",
       "      <td>2</td>\n",
       "      <td>3</td>\n",
       "    </tr>\n",
       "    <tr>\n",
       "      <th>300004</th>\n",
       "      <td>0</td>\n",
       "      <td>1</td>\n",
       "      <td>1</td>\n",
       "      <td>F</td>\n",
       "      <td>N</td>\n",
       "      <td>Red</td>\n",
       "      <td>Trapezoid</td>\n",
       "      <td>Dog</td>\n",
       "      <td>China</td>\n",
       "      <td>Piano</td>\n",
       "      <td>...</td>\n",
       "      <td>f91f3b1ee</td>\n",
       "      <td>967cfa9c9</td>\n",
       "      <td>3</td>\n",
       "      <td>Grandmaster</td>\n",
       "      <td>Lava Hot</td>\n",
       "      <td>l</td>\n",
       "      <td>W</td>\n",
       "      <td>qK</td>\n",
       "      <td>4</td>\n",
       "      <td>11</td>\n",
       "    </tr>\n",
       "  </tbody>\n",
       "</table>\n",
       "<p>5 rows × 23 columns</p>\n",
       "</div>"
      ],
      "text/plain": [
       "        bin_0  bin_1  bin_2 bin_3 bin_4 nom_0      nom_1    nom_2    nom_3  \\\n",
       "id                                                                           \n",
       "300000      0      0      1     T     Y  Blue   Triangle  Axolotl  Finland   \n",
       "300001      0      0      0     T     N   Red     Square     Lion   Canada   \n",
       "300002      1      0      1     F     Y  Blue     Square      Dog    China   \n",
       "300003      0      0      1     T     Y   Red       Star      Cat    China   \n",
       "300004      0      1      1     F     N   Red  Trapezoid      Dog    China   \n",
       "\n",
       "        nom_4  ...      nom_8      nom_9 ord_0        ord_1     ord_2  ord_3  \\\n",
       "id             ...                                                             \n",
       "300000  Piano  ...  9d117320c  3c49b42b8     2       Novice      Warm      j   \n",
       "300001  Piano  ...  46ae3059c  285771075     1       Master  Lava Hot      l   \n",
       "300002  Piano  ...  b759e21f0  6f323c53f     2       Expert  Freezing      a   \n",
       "300003  Piano  ...  0b6ec68ff  b5de3dcc4     1  Contributor  Lava Hot      b   \n",
       "300004  Piano  ...  f91f3b1ee  967cfa9c9     3  Grandmaster  Lava Hot      l   \n",
       "\n",
       "       ord_4 ord_5 day month  \n",
       "id                            \n",
       "300000     P    be   5    11  \n",
       "300001     A    RP   7     5  \n",
       "300002     G    tP   1    12  \n",
       "300003     Q    ke   2     3  \n",
       "300004     W    qK   4    11  \n",
       "\n",
       "[5 rows x 23 columns]"
      ]
     },
     "execution_count": 5,
     "metadata": {},
     "output_type": "execute_result"
    }
   ],
   "source": [
    "test.head()"
   ]
  },
  {
   "cell_type": "markdown",
   "id": "61808228",
   "metadata": {
    "papermill": {
     "duration": 0.007304,
     "end_time": "2022-07-22T13:11:17.488112",
     "exception": false,
     "start_time": "2022-07-22T13:11:17.480808",
     "status": "completed"
    },
    "tags": []
   },
   "source": [
    "#### 피처 요약표 만들기"
   ]
  },
  {
   "cell_type": "code",
   "execution_count": 6,
   "id": "acb5e104",
   "metadata": {
    "execution": {
     "iopub.execute_input": "2022-07-22T13:11:17.505584Z",
     "iopub.status.busy": "2022-07-22T13:11:17.504949Z",
     "iopub.status.idle": "2022-07-22T13:11:18.492616Z",
     "shell.execute_reply": "2022-07-22T13:11:18.491594Z"
    },
    "papermill": {
     "duration": 0.999536,
     "end_time": "2022-07-22T13:11:18.495417",
     "exception": false,
     "start_time": "2022-07-22T13:11:17.495881",
     "status": "completed"
    },
    "tags": []
   },
   "outputs": [
    {
     "name": "stdout",
     "output_type": "stream",
     "text": [
      "데이터셋 형상 : (300000, 24)\n"
     ]
    },
    {
     "data": {
      "text/html": [
       "<div>\n",
       "<style scoped>\n",
       "    .dataframe tbody tr th:only-of-type {\n",
       "        vertical-align: middle;\n",
       "    }\n",
       "\n",
       "    .dataframe tbody tr th {\n",
       "        vertical-align: top;\n",
       "    }\n",
       "\n",
       "    .dataframe thead th {\n",
       "        text-align: right;\n",
       "    }\n",
       "</style>\n",
       "<table border=\"1\" class=\"dataframe\">\n",
       "  <thead>\n",
       "    <tr style=\"text-align: right;\">\n",
       "      <th></th>\n",
       "      <th>피처</th>\n",
       "      <th>데이터 타입</th>\n",
       "      <th>결측값 개수</th>\n",
       "      <th>고유값 개수</th>\n",
       "      <th>첫 번째 값</th>\n",
       "      <th>두 번째 값</th>\n",
       "      <th>세 번째 값</th>\n",
       "    </tr>\n",
       "  </thead>\n",
       "  <tbody>\n",
       "    <tr>\n",
       "      <th>0</th>\n",
       "      <td>bin_0</td>\n",
       "      <td>int64</td>\n",
       "      <td>0</td>\n",
       "      <td>2</td>\n",
       "      <td>0</td>\n",
       "      <td>0</td>\n",
       "      <td>0</td>\n",
       "    </tr>\n",
       "    <tr>\n",
       "      <th>1</th>\n",
       "      <td>bin_1</td>\n",
       "      <td>int64</td>\n",
       "      <td>0</td>\n",
       "      <td>2</td>\n",
       "      <td>0</td>\n",
       "      <td>1</td>\n",
       "      <td>0</td>\n",
       "    </tr>\n",
       "    <tr>\n",
       "      <th>2</th>\n",
       "      <td>bin_2</td>\n",
       "      <td>int64</td>\n",
       "      <td>0</td>\n",
       "      <td>2</td>\n",
       "      <td>0</td>\n",
       "      <td>0</td>\n",
       "      <td>0</td>\n",
       "    </tr>\n",
       "    <tr>\n",
       "      <th>3</th>\n",
       "      <td>bin_3</td>\n",
       "      <td>object</td>\n",
       "      <td>0</td>\n",
       "      <td>2</td>\n",
       "      <td>T</td>\n",
       "      <td>T</td>\n",
       "      <td>F</td>\n",
       "    </tr>\n",
       "    <tr>\n",
       "      <th>4</th>\n",
       "      <td>bin_4</td>\n",
       "      <td>object</td>\n",
       "      <td>0</td>\n",
       "      <td>2</td>\n",
       "      <td>Y</td>\n",
       "      <td>Y</td>\n",
       "      <td>Y</td>\n",
       "    </tr>\n",
       "    <tr>\n",
       "      <th>5</th>\n",
       "      <td>nom_0</td>\n",
       "      <td>object</td>\n",
       "      <td>0</td>\n",
       "      <td>3</td>\n",
       "      <td>Green</td>\n",
       "      <td>Green</td>\n",
       "      <td>Blue</td>\n",
       "    </tr>\n",
       "    <tr>\n",
       "      <th>6</th>\n",
       "      <td>nom_1</td>\n",
       "      <td>object</td>\n",
       "      <td>0</td>\n",
       "      <td>6</td>\n",
       "      <td>Triangle</td>\n",
       "      <td>Trapezoid</td>\n",
       "      <td>Trapezoid</td>\n",
       "    </tr>\n",
       "    <tr>\n",
       "      <th>7</th>\n",
       "      <td>nom_2</td>\n",
       "      <td>object</td>\n",
       "      <td>0</td>\n",
       "      <td>6</td>\n",
       "      <td>Snake</td>\n",
       "      <td>Hamster</td>\n",
       "      <td>Lion</td>\n",
       "    </tr>\n",
       "    <tr>\n",
       "      <th>8</th>\n",
       "      <td>nom_3</td>\n",
       "      <td>object</td>\n",
       "      <td>0</td>\n",
       "      <td>6</td>\n",
       "      <td>Finland</td>\n",
       "      <td>Russia</td>\n",
       "      <td>Russia</td>\n",
       "    </tr>\n",
       "    <tr>\n",
       "      <th>9</th>\n",
       "      <td>nom_4</td>\n",
       "      <td>object</td>\n",
       "      <td>0</td>\n",
       "      <td>4</td>\n",
       "      <td>Bassoon</td>\n",
       "      <td>Piano</td>\n",
       "      <td>Theremin</td>\n",
       "    </tr>\n",
       "    <tr>\n",
       "      <th>10</th>\n",
       "      <td>nom_5</td>\n",
       "      <td>object</td>\n",
       "      <td>0</td>\n",
       "      <td>222</td>\n",
       "      <td>50f116bcf</td>\n",
       "      <td>b3b4d25d0</td>\n",
       "      <td>3263bdce5</td>\n",
       "    </tr>\n",
       "    <tr>\n",
       "      <th>11</th>\n",
       "      <td>nom_6</td>\n",
       "      <td>object</td>\n",
       "      <td>0</td>\n",
       "      <td>522</td>\n",
       "      <td>3ac1b8814</td>\n",
       "      <td>fbcb50fc1</td>\n",
       "      <td>0922e3cb8</td>\n",
       "    </tr>\n",
       "    <tr>\n",
       "      <th>12</th>\n",
       "      <td>nom_7</td>\n",
       "      <td>object</td>\n",
       "      <td>0</td>\n",
       "      <td>1220</td>\n",
       "      <td>68f6ad3e9</td>\n",
       "      <td>3b6dd5612</td>\n",
       "      <td>a6a36f527</td>\n",
       "    </tr>\n",
       "    <tr>\n",
       "      <th>13</th>\n",
       "      <td>nom_8</td>\n",
       "      <td>object</td>\n",
       "      <td>0</td>\n",
       "      <td>2215</td>\n",
       "      <td>c389000ab</td>\n",
       "      <td>4cd920251</td>\n",
       "      <td>de9c9f684</td>\n",
       "    </tr>\n",
       "    <tr>\n",
       "      <th>14</th>\n",
       "      <td>nom_9</td>\n",
       "      <td>object</td>\n",
       "      <td>0</td>\n",
       "      <td>11981</td>\n",
       "      <td>2f4cb3d51</td>\n",
       "      <td>f83c56c21</td>\n",
       "      <td>ae6800dd0</td>\n",
       "    </tr>\n",
       "    <tr>\n",
       "      <th>15</th>\n",
       "      <td>ord_0</td>\n",
       "      <td>int64</td>\n",
       "      <td>0</td>\n",
       "      <td>3</td>\n",
       "      <td>2</td>\n",
       "      <td>1</td>\n",
       "      <td>1</td>\n",
       "    </tr>\n",
       "    <tr>\n",
       "      <th>16</th>\n",
       "      <td>ord_1</td>\n",
       "      <td>object</td>\n",
       "      <td>0</td>\n",
       "      <td>5</td>\n",
       "      <td>Grandmaster</td>\n",
       "      <td>Grandmaster</td>\n",
       "      <td>Expert</td>\n",
       "    </tr>\n",
       "    <tr>\n",
       "      <th>17</th>\n",
       "      <td>ord_2</td>\n",
       "      <td>object</td>\n",
       "      <td>0</td>\n",
       "      <td>6</td>\n",
       "      <td>Cold</td>\n",
       "      <td>Hot</td>\n",
       "      <td>Lava Hot</td>\n",
       "    </tr>\n",
       "    <tr>\n",
       "      <th>18</th>\n",
       "      <td>ord_3</td>\n",
       "      <td>object</td>\n",
       "      <td>0</td>\n",
       "      <td>15</td>\n",
       "      <td>h</td>\n",
       "      <td>a</td>\n",
       "      <td>h</td>\n",
       "    </tr>\n",
       "    <tr>\n",
       "      <th>19</th>\n",
       "      <td>ord_4</td>\n",
       "      <td>object</td>\n",
       "      <td>0</td>\n",
       "      <td>26</td>\n",
       "      <td>D</td>\n",
       "      <td>A</td>\n",
       "      <td>R</td>\n",
       "    </tr>\n",
       "    <tr>\n",
       "      <th>20</th>\n",
       "      <td>ord_5</td>\n",
       "      <td>object</td>\n",
       "      <td>0</td>\n",
       "      <td>192</td>\n",
       "      <td>kr</td>\n",
       "      <td>bF</td>\n",
       "      <td>Jc</td>\n",
       "    </tr>\n",
       "    <tr>\n",
       "      <th>21</th>\n",
       "      <td>day</td>\n",
       "      <td>int64</td>\n",
       "      <td>0</td>\n",
       "      <td>7</td>\n",
       "      <td>2</td>\n",
       "      <td>7</td>\n",
       "      <td>7</td>\n",
       "    </tr>\n",
       "    <tr>\n",
       "      <th>22</th>\n",
       "      <td>month</td>\n",
       "      <td>int64</td>\n",
       "      <td>0</td>\n",
       "      <td>12</td>\n",
       "      <td>2</td>\n",
       "      <td>8</td>\n",
       "      <td>2</td>\n",
       "    </tr>\n",
       "    <tr>\n",
       "      <th>23</th>\n",
       "      <td>target</td>\n",
       "      <td>int64</td>\n",
       "      <td>0</td>\n",
       "      <td>2</td>\n",
       "      <td>0</td>\n",
       "      <td>0</td>\n",
       "      <td>0</td>\n",
       "    </tr>\n",
       "  </tbody>\n",
       "</table>\n",
       "</div>"
      ],
      "text/plain": [
       "        피처  데이터 타입  결측값 개수  고유값 개수       첫 번째 값       두 번째 값     세 번째 값\n",
       "0    bin_0   int64       0       2            0            0          0\n",
       "1    bin_1   int64       0       2            0            1          0\n",
       "2    bin_2   int64       0       2            0            0          0\n",
       "3    bin_3  object       0       2            T            T          F\n",
       "4    bin_4  object       0       2            Y            Y          Y\n",
       "5    nom_0  object       0       3        Green        Green       Blue\n",
       "6    nom_1  object       0       6     Triangle    Trapezoid  Trapezoid\n",
       "7    nom_2  object       0       6        Snake      Hamster       Lion\n",
       "8    nom_3  object       0       6      Finland       Russia     Russia\n",
       "9    nom_4  object       0       4      Bassoon        Piano   Theremin\n",
       "10   nom_5  object       0     222    50f116bcf    b3b4d25d0  3263bdce5\n",
       "11   nom_6  object       0     522    3ac1b8814    fbcb50fc1  0922e3cb8\n",
       "12   nom_7  object       0    1220    68f6ad3e9    3b6dd5612  a6a36f527\n",
       "13   nom_8  object       0    2215    c389000ab    4cd920251  de9c9f684\n",
       "14   nom_9  object       0   11981    2f4cb3d51    f83c56c21  ae6800dd0\n",
       "15   ord_0   int64       0       3            2            1          1\n",
       "16   ord_1  object       0       5  Grandmaster  Grandmaster     Expert\n",
       "17   ord_2  object       0       6         Cold          Hot   Lava Hot\n",
       "18   ord_3  object       0      15            h            a          h\n",
       "19   ord_4  object       0      26            D            A          R\n",
       "20   ord_5  object       0     192           kr           bF         Jc\n",
       "21     day   int64       0       7            2            7          7\n",
       "22   month   int64       0      12            2            8          2\n",
       "23  target   int64       0       2            0            0          0"
      ]
     },
     "execution_count": 6,
     "metadata": {},
     "output_type": "execute_result"
    }
   ],
   "source": [
    "def resumetable(df):\n",
    "    print(f'데이터셋 형상 : {df.shape}')\n",
    "    summary = pd.DataFrame(df.dtypes, columns=['데이터 타입'])\n",
    "    summary = summary.reset_index()\n",
    "    summary = summary.rename(columns={'index':'피처'})\n",
    "    summary['결측값 개수'] = df.isnull().sum().values\n",
    "    summary['고유값 개수'] = df.nunique().values\n",
    "    summary['첫 번째 값'] = df.loc[0].values\n",
    "    summary['두 번째 값'] = df.loc[1].values\n",
    "    summary['세 번째 값'] = df.loc[2].values\n",
    "    \n",
    "    return summary\n",
    "\n",
    "resumetable(train)"
   ]
  },
  {
   "cell_type": "code",
   "execution_count": 7,
   "id": "12008a2d",
   "metadata": {
    "execution": {
     "iopub.execute_input": "2022-07-22T13:11:18.513592Z",
     "iopub.status.busy": "2022-07-22T13:11:18.513174Z",
     "iopub.status.idle": "2022-07-22T13:11:18.570623Z",
     "shell.execute_reply": "2022-07-22T13:11:18.568911Z"
    },
    "papermill": {
     "duration": 0.069713,
     "end_time": "2022-07-22T13:11:18.573328",
     "exception": false,
     "start_time": "2022-07-22T13:11:18.503615",
     "status": "completed"
    },
    "tags": []
   },
   "outputs": [
    {
     "name": "stdout",
     "output_type": "stream",
     "text": [
      "ord_0 고윳값: [2 1 3]\n",
      "ord_1 고윳값: ['Grandmaster' 'Expert' 'Novice' 'Contributor' 'Master']\n",
      "ord_2 고윳값: ['Cold' 'Hot' 'Lava Hot' 'Boiling Hot' 'Freezing' 'Warm']\n"
     ]
    }
   ],
   "source": [
    "for i in range(3):\n",
    "    feature = 'ord_' + str(i)\n",
    "    print(f'{feature} 고윳값: {train[feature].unique()}')"
   ]
  },
  {
   "cell_type": "code",
   "execution_count": 8,
   "id": "4db9b24f",
   "metadata": {
    "execution": {
     "iopub.execute_input": "2022-07-22T13:11:18.592026Z",
     "iopub.status.busy": "2022-07-22T13:11:18.591039Z",
     "iopub.status.idle": "2022-07-22T13:11:18.661834Z",
     "shell.execute_reply": "2022-07-22T13:11:18.660245Z"
    },
    "papermill": {
     "duration": 0.083298,
     "end_time": "2022-07-22T13:11:18.664856",
     "exception": false,
     "start_time": "2022-07-22T13:11:18.581558",
     "status": "completed"
    },
    "tags": []
   },
   "outputs": [
    {
     "name": "stdout",
     "output_type": "stream",
     "text": [
      "ord_3 고윳값: ['h' 'a' 'i' 'j' 'g' 'e' 'd' 'b' 'k' 'f' 'l' 'n' 'o' 'c' 'm']\n",
      "ord_4 고윳값: ['D' 'A' 'R' 'E' 'P' 'K' 'V' 'Q' 'Z' 'L' 'F' 'T' 'U' 'S' 'Y' 'B' 'H' 'J'\n",
      " 'N' 'G' 'W' 'I' 'O' 'C' 'X' 'M']\n",
      "ord_5 고윳값: ['kr' 'bF' 'Jc' 'kW' 'qP' 'PZ' 'wy' 'Ed' 'qo' 'CZ' 'qX' 'su' 'dP' 'aP'\n",
      " 'MV' 'oC' 'RL' 'fh' 'gJ' 'Hj' 'TR' 'CL' 'Sc' 'eQ' 'kC' 'qK' 'dh' 'gM'\n",
      " 'Jf' 'fO' 'Eg' 'KZ' 'Vx' 'Fo' 'sV' 'eb' 'YC' 'RG' 'Ye' 'qA' 'lL' 'Qh'\n",
      " 'Bd' 'be' 'hT' 'lF' 'nX' 'kK' 'av' 'uS' 'Jt' 'PA' 'Er' 'Qb' 'od' 'ut'\n",
      " 'Dx' 'Xi' 'on' 'Dc' 'sD' 'rZ' 'Uu' 'sn' 'yc' 'Gb' 'Kq' 'dQ' 'hp' 'kL'\n",
      " 'je' 'CU' 'Fd' 'PQ' 'Bn' 'ex' 'hh' 'ac' 'rp' 'dE' 'oG' 'oK' 'cp' 'mm'\n",
      " 'vK' 'ek' 'dO' 'XI' 'CM' 'Vf' 'aO' 'qv' 'jp' 'Zq' 'Qo' 'DN' 'TZ' 'ke'\n",
      " 'cG' 'tP' 'ud' 'tv' 'aM' 'xy' 'lx' 'To' 'uy' 'ZS' 'vy' 'ZR' 'AP' 'GJ'\n",
      " 'Wv' 'ri' 'qw' 'Xh' 'FI' 'nh' 'KR' 'dB' 'BE' 'Bb' 'mc' 'MC' 'tM' 'NV'\n",
      " 'ih' 'IK' 'Ob' 'RP' 'dN' 'us' 'dZ' 'yN' 'Nf' 'QM' 'jV' 'sY' 'wu' 'SB'\n",
      " 'UO' 'Mx' 'JX' 'Ry' 'Uk' 'uJ' 'LE' 'ps' 'kE' 'MO' 'kw' 'yY' 'zU' 'bJ'\n",
      " 'Kf' 'ck' 'mb' 'Os' 'Ps' 'Ml' 'Ai' 'Wc' 'GD' 'll' 'aF' 'iT' 'cA' 'WE'\n",
      " 'Gx' 'Nk' 'OR' 'Rm' 'BA' 'eG' 'cW' 'jS' 'DH' 'hL' 'Mf' 'Yb' 'Aj' 'oH'\n",
      " 'Zc' 'qJ' 'eg' 'xP' 'vq' 'Id' 'pa' 'ux' 'kU' 'Cl']\n"
     ]
    }
   ],
   "source": [
    "for i in range(3, 6):\n",
    "    feature = 'ord_' + str(i)\n",
    "    print(f'{feature} 고윳값: {train[feature].unique()}')"
   ]
  },
  {
   "cell_type": "code",
   "execution_count": 9,
   "id": "05ff9213",
   "metadata": {
    "execution": {
     "iopub.execute_input": "2022-07-22T13:11:18.683110Z",
     "iopub.status.busy": "2022-07-22T13:11:18.682716Z",
     "iopub.status.idle": "2022-07-22T13:11:18.695820Z",
     "shell.execute_reply": "2022-07-22T13:11:18.694412Z"
    },
    "papermill": {
     "duration": 0.025841,
     "end_time": "2022-07-22T13:11:18.699017",
     "exception": false,
     "start_time": "2022-07-22T13:11:18.673176",
     "status": "completed"
    },
    "tags": []
   },
   "outputs": [
    {
     "name": "stdout",
     "output_type": "stream",
     "text": [
      "day 고윳값: [2 7 5 4 3 1 6]\n",
      "month 고윳값: [ 2  8  1  4 10  3  7  9 12 11  5  6]\n",
      "target 고윳값: [0 1]\n"
     ]
    }
   ],
   "source": [
    "print('day 고윳값:',train['day'].unique())\n",
    "print('month 고윳값:', train['month'].unique())\n",
    "print('target 고윳값:', train['target'].unique())"
   ]
  },
  {
   "cell_type": "markdown",
   "id": "1f57dae6",
   "metadata": {
    "papermill": {
     "duration": 0.008112,
     "end_time": "2022-07-22T13:11:18.715893",
     "exception": false,
     "start_time": "2022-07-22T13:11:18.707781",
     "status": "completed"
    },
    "tags": []
   },
   "source": [
    "### 데이터 시각화"
   ]
  },
  {
   "cell_type": "code",
   "execution_count": 10,
   "id": "c9015208",
   "metadata": {
    "execution": {
     "iopub.execute_input": "2022-07-22T13:11:18.734878Z",
     "iopub.status.busy": "2022-07-22T13:11:18.733641Z",
     "iopub.status.idle": "2022-07-22T13:11:19.719075Z",
     "shell.execute_reply": "2022-07-22T13:11:19.717859Z"
    },
    "papermill": {
     "duration": 0.997704,
     "end_time": "2022-07-22T13:11:19.721942",
     "exception": false,
     "start_time": "2022-07-22T13:11:18.724238",
     "status": "completed"
    },
    "tags": []
   },
   "outputs": [],
   "source": [
    "import seaborn as sns\n",
    "import matplotlib as mpl\n",
    "import matplotlib.pyplot as plt\n",
    "%matplotlib inline"
   ]
  },
  {
   "cell_type": "markdown",
   "id": "86f9ddc9",
   "metadata": {
    "papermill": {
     "duration": 0.009434,
     "end_time": "2022-07-22T13:11:19.740528",
     "exception": false,
     "start_time": "2022-07-22T13:11:19.731094",
     "status": "completed"
    },
    "tags": []
   },
   "source": [
    "* 수치형 데이터의 분포를 파악할 땐 주로 displot()을 사용하고 범주형 데이터의 분포를 파악할 땐 countplot()을 사용"
   ]
  },
  {
   "cell_type": "markdown",
   "id": "c880d5ee",
   "metadata": {
    "papermill": {
     "duration": 0.008298,
     "end_time": "2022-07-22T13:11:19.757561",
     "exception": false,
     "start_time": "2022-07-22T13:11:19.749263",
     "status": "completed"
    },
    "tags": []
   },
   "source": [
    "타겟값 분포\n"
   ]
  },
  {
   "cell_type": "code",
   "execution_count": 11,
   "id": "ac6244ff",
   "metadata": {
    "execution": {
     "iopub.execute_input": "2022-07-22T13:11:19.776592Z",
     "iopub.status.busy": "2022-07-22T13:11:19.776177Z",
     "iopub.status.idle": "2022-07-22T13:11:19.961306Z",
     "shell.execute_reply": "2022-07-22T13:11:19.959887Z"
    },
    "papermill": {
     "duration": 0.197995,
     "end_time": "2022-07-22T13:11:19.963852",
     "exception": false,
     "start_time": "2022-07-22T13:11:19.765857",
     "status": "completed"
    },
    "tags": []
   },
   "outputs": [
    {
     "data": {
      "image/png": "[encoded data removed]",
      "text/plain": [
       "<Figure size 504x432 with 1 Axes>"
      ]
     },
     "metadata": {
      "needs_background": "light"
     },
     "output_type": "display_data"
    }
   ],
   "source": [
    "mpl.rc('font', size=15) # 폰트 크기 설정\n",
    "plt.figure(figsize=(7, 6)) # Figure 크기 설정\n",
    "\n",
    "# 타겟값 분포 카운트플롯\n",
    "ax = sns.countplot(x='target', data=train)\n",
    "ax.set_title('Target Distribution');"
   ]
  },
  {
   "cell_type": "code",
   "execution_count": 12,
   "id": "1abc2091",
   "metadata": {
    "execution": {
     "iopub.execute_input": "2022-07-22T13:11:19.984317Z",
     "iopub.status.busy": "2022-07-22T13:11:19.983636Z",
     "iopub.status.idle": "2022-07-22T13:11:19.989470Z",
     "shell.execute_reply": "2022-07-22T13:11:19.988504Z"
    },
    "papermill": {
     "duration": 0.01889,
     "end_time": "2022-07-22T13:11:19.991942",
     "exception": false,
     "start_time": "2022-07-22T13:11:19.973052",
     "status": "completed"
    },
    "tags": []
   },
   "outputs": [
    {
     "name": "stdout",
     "output_type": "stream",
     "text": [
      "<Axes.ArtistList of 2 patches>\n"
     ]
    }
   ],
   "source": [
    "print(ax.patches)"
   ]
  },
  {
   "cell_type": "code",
   "execution_count": 13,
   "id": "0605acbc",
   "metadata": {
    "execution": {
     "iopub.execute_input": "2022-07-22T13:11:20.012359Z",
     "iopub.status.busy": "2022-07-22T13:11:20.011543Z",
     "iopub.status.idle": "2022-07-22T13:11:20.017984Z",
     "shell.execute_reply": "2022-07-22T13:11:20.016802Z"
    },
    "papermill": {
     "duration": 0.020427,
     "end_time": "2022-07-22T13:11:20.021953",
     "exception": false,
     "start_time": "2022-07-22T13:11:20.001526",
     "status": "completed"
    },
    "tags": []
   },
   "outputs": [
    {
     "name": "stdout",
     "output_type": "stream",
     "text": [
      "사각형의 높이: 208236\n",
      "사각형의 너비: 0.8\n",
      "사각형 왼쪽 테두리의 x축 위치: -0.4\n"
     ]
    }
   ],
   "source": [
    "rectangle = ax.patches[0] # 첫번째 Rectangle 객체\n",
    "print('사각형의 높이:', rectangle.get_height())\n",
    "print('사각형의 너비:', rectangle.get_width())\n",
    "print('사각형 왼쪽 테두리의 x축 위치:', rectangle.get_x())"
   ]
  },
  {
   "cell_type": "code",
   "execution_count": 14,
   "id": "ee2b109e",
   "metadata": {
    "execution": {
     "iopub.execute_input": "2022-07-22T13:11:20.042562Z",
     "iopub.status.busy": "2022-07-22T13:11:20.041557Z",
     "iopub.status.idle": "2022-07-22T13:11:20.047901Z",
     "shell.execute_reply": "2022-07-22T13:11:20.046542Z"
    },
    "papermill": {
     "duration": 0.019093,
     "end_time": "2022-07-22T13:11:20.050555",
     "exception": false,
     "start_time": "2022-07-22T13:11:20.031462",
     "status": "completed"
    },
    "tags": []
   },
   "outputs": [
    {
     "name": "stdout",
     "output_type": "stream",
     "text": [
      "텍스트 위치의 x좌표: 0.0\n",
      "텍스트 위치의 y좌표: 208536.0\n"
     ]
    }
   ],
   "source": [
    "print('텍스트 위치의 x좌표:', rectangle.get_x() + rectangle.get_width() / 2.0)\n",
    "print('텍스트 위치의 y좌표:', rectangle.get_height() + len(train) * 0.001)"
   ]
  },
  {
   "cell_type": "code",
   "execution_count": 15,
   "id": "f43364b1",
   "metadata": {
    "execution": {
     "iopub.execute_input": "2022-07-22T13:11:20.071329Z",
     "iopub.status.busy": "2022-07-22T13:11:20.070416Z",
     "iopub.status.idle": "2022-07-22T13:11:20.230683Z",
     "shell.execute_reply": "2022-07-22T13:11:20.229594Z"
    },
    "papermill": {
     "duration": 0.173052,
     "end_time": "2022-07-22T13:11:20.233163",
     "exception": false,
     "start_time": "2022-07-22T13:11:20.060111",
     "status": "completed"
    },
    "tags": []
   },
   "outputs": [
    {
     "data": {
      "image/png": "[encoded data removed]",
      "text/plain": [
       "<Figure size 504x432 with 1 Axes>"
      ]
     },
     "metadata": {
      "needs_background": "light"
     },
     "output_type": "display_data"
    }
   ],
   "source": [
    "def write_percent(ax, total_size):\n",
    "    '''도형 객체를 순회하며 막대 상단에 타겟값 비율 표시'''\n",
    "    for patch in ax.patches:\n",
    "        height = patch.get_height()     # 도형 높이(데이터 개수)\n",
    "        width = patch.get_width()       # 도형 너비\n",
    "        left_coord = patch.get_x()      # 도형 왼쪽 테두리의 x축 위치\n",
    "        percent = height/total_size*100 # 타겟값 비율\n",
    "        \n",
    "        # (x, y) 좌표에 텍스트 입력\n",
    "        ax.text(x=left_coord + width/2.0,    # x축 위치\n",
    "                y=height + total_size*0.001, # y축 위치\n",
    "                s=f'{percent:1.1f}%',        # 입력 텍스트\n",
    "                ha='center')                 # 가운데 정렬\n",
    "        \n",
    "plt.figure(figsize=(7, 6))\n",
    "\n",
    "ax = sns.countplot(x='target', data=train)\n",
    "write_percent(ax, len(train))  # 비율 표시\n",
    "ax.set_title('Target Distribution');"
   ]
  },
  {
   "cell_type": "markdown",
   "id": "2e96447a",
   "metadata": {
    "papermill": {
     "duration": 0.009731,
     "end_time": "2022-07-22T13:11:20.252370",
     "exception": false,
     "start_time": "2022-07-22T13:11:20.242639",
     "status": "completed"
    },
    "tags": []
   },
   "source": [
    "이진 피처 분포"
   ]
  },
  {
   "cell_type": "code",
   "execution_count": 16,
   "id": "6af12259",
   "metadata": {
    "execution": {
     "iopub.execute_input": "2022-07-22T13:11:20.273484Z",
     "iopub.status.busy": "2022-07-22T13:11:20.272669Z",
     "iopub.status.idle": "2022-07-22T13:11:21.960278Z",
     "shell.execute_reply": "2022-07-22T13:11:21.959397Z"
    },
    "papermill": {
     "duration": 1.700952,
     "end_time": "2022-07-22T13:11:21.962782",
     "exception": false,
     "start_time": "2022-07-22T13:11:20.261830",
     "status": "completed"
    },
    "tags": []
   },
   "outputs": [
    {
     "data": {
      "image/png": "[encoded data removed]",
      "text/plain": [
       "<Figure size 720x1152 with 5 Axes>"
      ]
     },
     "metadata": {
      "needs_background": "light"
     },
     "output_type": "display_data"
    }
   ],
   "source": [
    "import matplotlib.gridspec as gridspec # 여러 그래프를 격자 형태로 배치\n",
    "# 3행 2열 Figure(틀) 준비\n",
    "mpl.rc('font', size=12)\n",
    "grid = gridspec.GridSpec(3, 2) # 그래프(서브플롯)를 3행 2열로 배치\n",
    "plt.figure(figsize=(10, 16))   # 전체 Figure 크기 설정\n",
    "plt.subplots_adjust(wspace=0.4, hspace=0.3) # 서브플롯 간 좌우/상하 여백 설정\n",
    "\n",
    "# 서브플롯 그리기\n",
    "bin_features = ['bin_0','bin_1', 'bin_2', 'bin_3', 'bin_4']  # 피처 목록\n",
    "\n",
    "for idx, feature in enumerate(bin_features):\n",
    "    ax = plt.subplot(grid[idx])\n",
    "    \n",
    "    # ax축에 타겟값 분포 카운트플롯 그리기\n",
    "    sns.countplot(x=feature,\n",
    "                  data=train,\n",
    "                  hue='target',\n",
    "                  palette='pastel', # 그래프 색상 설정\n",
    "                  ax=ax)\n",
    "    \n",
    "    ax.set_title(f'{feature} Distribution by Target')  # 그래프 제목 설정\n",
    "    write_percent(ax, len(train))                      # 비율 표시"
   ]
  },
  {
   "cell_type": "markdown",
   "id": "ac36d7af",
   "metadata": {
    "papermill": {
     "duration": 0.010127,
     "end_time": "2022-07-22T13:11:21.983410",
     "exception": false,
     "start_time": "2022-07-22T13:11:21.973283",
     "status": "completed"
    },
    "tags": []
   },
   "source": [
    "위의 결과로 이진 피처는 특정 타겟값에 치우치지 않았음을 확인가능"
   ]
  },
  {
   "cell_type": "code",
   "execution_count": null,
   "id": "3fc8a9b5",
   "metadata": {
    "papermill": {
     "duration": 0.010114,
     "end_time": "2022-07-22T13:11:22.003869",
     "exception": false,
     "start_time": "2022-07-22T13:11:21.993755",
     "status": "completed"
    },
    "tags": []
   },
   "outputs": [],
   "source": []
  }
 ],
 "metadata": {
  "kernelspec": {
   "display_name": "Python 3",
   "language": "python",
   "name": "python3"
  },
  "language_info": {
   "codemirror_mode": {
    "name": "ipython",
    "version": 3
   },
   "file_extension": ".py",
   "mimetype": "text/x-python",
   "name": "python",
   "nbconvert_exporter": "python",
   "pygments_lexer": "ipython3",
   "version": "3.7.12"
  },
  "papermill": {
   "default_parameters": {},
   "duration": 17.892652,
   "end_time": "2022-07-22T13:11:22.736280",
   "environment_variables": {},
   "exception": null,
   "input_path": "__notebook__.ipynb",
   "output_path": "__notebook__.ipynb",
   "parameters": {},
   "start_time": "2022-07-22T13:11:04.843628",
   "version": "2.3.4"
  }
 },
 "nbformat": 4,
 "nbformat_minor": 5
}
