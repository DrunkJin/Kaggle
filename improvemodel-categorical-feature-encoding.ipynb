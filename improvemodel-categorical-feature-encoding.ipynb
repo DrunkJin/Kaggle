{
 "cells": [
  {
   "cell_type": "code",
   "execution_count": 1,
   "id": "59579639",
   "metadata": {
    "_cell_guid": "b1076dfc-b9ad-4769-8c92-a6c4dae69d19",
    "_uuid": "8f2839f25d086af736a60e9eeb907d3b93b6e0e5",
    "execution": {
     "iopub.execute_input": "2022-08-03T13:43:12.392975Z",
     "iopub.status.busy": "2022-08-03T13:43:12.392203Z",
     "iopub.status.idle": "2022-08-03T13:43:14.943793Z",
     "shell.execute_reply": "2022-08-03T13:43:14.942716Z"
    },
    "papermill": {
     "duration": 2.564919,
     "end_time": "2022-08-03T13:43:14.946977",
     "exception": false,
     "start_time": "2022-08-03T13:43:12.382058",
     "status": "completed"
    },
    "tags": []
   },
   "outputs": [],
   "source": [
    "import pandas as pd\n",
    "# 데이터 경로\n",
    "data_path = '/kaggle/input/cat-in-the-dat/'\n",
    "\n",
    "train = pd.read_csv(data_path + 'train.csv', index_col='id')\n",
    "test = pd.read_csv(data_path + 'test.csv', index_col='id')\n",
    "submission = pd.read_csv(data_path + 'sample_submission.csv', index_col='id')"
   ]
  },
  {
   "cell_type": "markdown",
   "id": "48ce5808",
   "metadata": {
    "papermill": {
     "duration": 0.006981,
     "end_time": "2022-08-03T13:43:14.961205",
     "exception": false,
     "start_time": "2022-08-03T13:43:14.954224",
     "status": "completed"
    },
    "tags": []
   },
   "source": [
    "데이터 합치기"
   ]
  },
  {
   "cell_type": "code",
   "execution_count": 2,
   "id": "6828ca94",
   "metadata": {
    "execution": {
     "iopub.execute_input": "2022-08-03T13:43:14.977260Z",
     "iopub.status.busy": "2022-08-03T13:43:14.976145Z",
     "iopub.status.idle": "2022-08-03T13:43:15.766105Z",
     "shell.execute_reply": "2022-08-03T13:43:15.765052Z"
    },
    "papermill": {
     "duration": 0.80065,
     "end_time": "2022-08-03T13:43:15.768833",
     "exception": false,
     "start_time": "2022-08-03T13:43:14.968183",
     "status": "completed"
    },
    "tags": []
   },
   "outputs": [],
   "source": [
    "# 훈련 데이터와 테스트 데이터 합치기\n",
    "all_data = pd.concat([train, test])\n",
    "all_data = all_data.drop('target', axis=1) # 타겟값 제거"
   ]
  },
  {
   "cell_type": "markdown",
   "id": "45d551ef",
   "metadata": {
    "papermill": {
     "duration": 0.006344,
     "end_time": "2022-08-03T13:43:15.782160",
     "exception": false,
     "start_time": "2022-08-03T13:43:15.775816",
     "status": "completed"
    },
    "tags": []
   },
   "source": [
    "이진 피처 인코딩"
   ]
  },
  {
   "cell_type": "code",
   "execution_count": 3,
   "id": "2bf5a53a",
   "metadata": {
    "execution": {
     "iopub.execute_input": "2022-08-03T13:43:15.797135Z",
     "iopub.status.busy": "2022-08-03T13:43:15.796702Z",
     "iopub.status.idle": "2022-08-03T13:43:16.138433Z",
     "shell.execute_reply": "2022-08-03T13:43:16.137331Z"
    },
    "papermill": {
     "duration": 0.352504,
     "end_time": "2022-08-03T13:43:16.141174",
     "exception": false,
     "start_time": "2022-08-03T13:43:15.788670",
     "status": "completed"
    },
    "tags": []
   },
   "outputs": [],
   "source": [
    "all_data['bin_3'] = all_data['bin_3'].map({'F':0, 'T':1})\n",
    "all_data['bin_4'] = all_data['bin_4'].map({'N':0, 'Y':1})"
   ]
  },
  {
   "cell_type": "markdown",
   "id": "1d0cf6a9",
   "metadata": {
    "papermill": {
     "duration": 0.006278,
     "end_time": "2022-08-03T13:43:16.155448",
     "exception": false,
     "start_time": "2022-08-03T13:43:16.149170",
     "status": "completed"
    },
    "tags": []
   },
   "source": [
    "순서형 피처 인코딩"
   ]
  },
  {
   "cell_type": "code",
   "execution_count": 4,
   "id": "57a397ff",
   "metadata": {
    "execution": {
     "iopub.execute_input": "2022-08-03T13:43:16.170641Z",
     "iopub.status.busy": "2022-08-03T13:43:16.169914Z",
     "iopub.status.idle": "2022-08-03T13:43:16.507787Z",
     "shell.execute_reply": "2022-08-03T13:43:16.506713Z"
    },
    "papermill": {
     "duration": 0.34851,
     "end_time": "2022-08-03T13:43:16.510529",
     "exception": false,
     "start_time": "2022-08-03T13:43:16.162019",
     "status": "completed"
    },
    "tags": []
   },
   "outputs": [],
   "source": [
    "ord1dict = {'Novice':0, 'Contributor':1,\n",
    "            'Expert':2, 'Master':3, 'Grandmaster':4}\n",
    "ord2dict = {'Freezing':0, 'Cold':1, 'Warm':2,\n",
    "            'Hot':3, 'Boiling Hot':4, 'Lava Hot':5}\n",
    "\n",
    "all_data['ord_1'] = all_data['ord_1'].map(ord1dict)\n",
    "all_data['ord_2'] = all_data['ord_2'].map(ord2dict)"
   ]
  },
  {
   "cell_type": "code",
   "execution_count": 5,
   "id": "f4beac7c",
   "metadata": {
    "execution": {
     "iopub.execute_input": "2022-08-03T13:43:16.525502Z",
     "iopub.status.busy": "2022-08-03T13:43:16.525116Z",
     "iopub.status.idle": "2022-08-03T13:43:18.155577Z",
     "shell.execute_reply": "2022-08-03T13:43:18.154192Z"
    },
    "papermill": {
     "duration": 1.641843,
     "end_time": "2022-08-03T13:43:18.159052",
     "exception": false,
     "start_time": "2022-08-03T13:43:16.517209",
     "status": "completed"
    },
    "tags": []
   },
   "outputs": [
    {
     "name": "stdout",
     "output_type": "stream",
     "text": [
      "ord_3\n",
      "['a' 'b' 'c' 'd' 'e' 'f' 'g' 'h' 'i' 'j' 'k' 'l' 'm' 'n' 'o']\n",
      "ord_4\n",
      "['A' 'B' 'C' 'D' 'E' 'F' 'G' 'H' 'I' 'J' 'K' 'L' 'M' 'N' 'O' 'P' 'Q' 'R'\n",
      " 'S' 'T' 'U' 'V' 'W' 'X' 'Y' 'Z']\n",
      "ord_5\n",
      "['AP' 'Ai' 'Aj' 'BA' 'BE' 'Bb' 'Bd' 'Bn' 'CL' 'CM' 'CU' 'CZ' 'Cl' 'DH'\n",
      " 'DN' 'Dc' 'Dx' 'Ed' 'Eg' 'Er' 'FI' 'Fd' 'Fo' 'GD' 'GJ' 'Gb' 'Gx' 'Hj'\n",
      " 'IK' 'Id' 'JX' 'Jc' 'Jf' 'Jt' 'KR' 'KZ' 'Kf' 'Kq' 'LE' 'MC' 'MO' 'MV'\n",
      " 'Mf' 'Ml' 'Mx' 'NV' 'Nf' 'Nk' 'OR' 'Ob' 'Os' 'PA' 'PQ' 'PZ' 'Ps' 'QM'\n",
      " 'Qb' 'Qh' 'Qo' 'RG' 'RL' 'RP' 'Rm' 'Ry' 'SB' 'Sc' 'TR' 'TZ' 'To' 'UO'\n",
      " 'Uk' 'Uu' 'Vf' 'Vx' 'WE' 'Wc' 'Wv' 'XI' 'Xh' 'Xi' 'YC' 'Yb' 'Ye' 'ZR'\n",
      " 'ZS' 'Zc' 'Zq' 'aF' 'aM' 'aO' 'aP' 'ac' 'av' 'bF' 'bJ' 'be' 'cA' 'cG'\n",
      " 'cW' 'ck' 'cp' 'dB' 'dE' 'dN' 'dO' 'dP' 'dQ' 'dZ' 'dh' 'eG' 'eQ' 'eb'\n",
      " 'eg' 'ek' 'ex' 'fO' 'fh' 'gJ' 'gM' 'hL' 'hT' 'hh' 'hp' 'iT' 'ih' 'jS'\n",
      " 'jV' 'je' 'jp' 'kC' 'kE' 'kK' 'kL' 'kU' 'kW' 'ke' 'kr' 'kw' 'lF' 'lL'\n",
      " 'll' 'lx' 'mb' 'mc' 'mm' 'nX' 'nh' 'oC' 'oG' 'oH' 'oK' 'od' 'on' 'pa'\n",
      " 'ps' 'qA' 'qJ' 'qK' 'qP' 'qX' 'qo' 'qv' 'qw' 'rZ' 'ri' 'rp' 'sD' 'sV'\n",
      " 'sY' 'sn' 'su' 'tM' 'tP' 'tv' 'uJ' 'uS' 'ud' 'us' 'ut' 'ux' 'uy' 'vK'\n",
      " 'vq' 'vy' 'wu' 'wy' 'xP' 'xy' 'yN' 'yY' 'yc' 'zU']\n"
     ]
    }
   ],
   "source": [
    "from sklearn.preprocessing import OrdinalEncoder\n",
    "\n",
    "ord_345 = ['ord_3', 'ord_4', 'ord_5']\n",
    "ord_encoder = OrdinalEncoder() # OrdinalEncoder 객체 생성\n",
    "# ordinal 인코딩 적용\n",
    "all_data[ord_345] = ord_encoder.fit_transform(all_data[ord_345])\n",
    "\n",
    "# 피처별 인코딩 순서 출력\n",
    "for feature, categories in zip(ord_345, ord_encoder.categories_):\n",
    "    print(feature)\n",
    "    print(categories)"
   ]
  },
  {
   "cell_type": "markdown",
   "id": "fcf1df4b",
   "metadata": {
    "papermill": {
     "duration": 0.008003,
     "end_time": "2022-08-03T13:43:18.174215",
     "exception": false,
     "start_time": "2022-08-03T13:43:18.166212",
     "status": "completed"
    },
    "tags": []
   },
   "source": [
    "명목형 피처 인코딩"
   ]
  },
  {
   "cell_type": "code",
   "execution_count": 6,
   "id": "ce72bbd7",
   "metadata": {
    "execution": {
     "iopub.execute_input": "2022-08-03T13:43:18.191010Z",
     "iopub.status.busy": "2022-08-03T13:43:18.190061Z",
     "iopub.status.idle": "2022-08-03T13:43:18.195997Z",
     "shell.execute_reply": "2022-08-03T13:43:18.194792Z"
    },
    "papermill": {
     "duration": 0.016725,
     "end_time": "2022-08-03T13:43:18.198171",
     "exception": false,
     "start_time": "2022-08-03T13:43:18.181446",
     "status": "completed"
    },
    "tags": []
   },
   "outputs": [],
   "source": [
    "nom_features = ['nom_' + str(i) for i in range(10)] # 명목형 피처"
   ]
  },
  {
   "cell_type": "markdown",
   "id": "7c194816",
   "metadata": {
    "papermill": {
     "duration": 0.006745,
     "end_time": "2022-08-03T13:43:18.212015",
     "exception": false,
     "start_time": "2022-08-03T13:43:18.205270",
     "status": "completed"
    },
    "tags": []
   },
   "source": [
    "```python\n",
    "# 정상 실행되지 않는 코드(오류 발생) => 열갯수가 많이 늘어나서\n",
    "from sklearn.preprocessing import OneHotEncoder\n",
    "\n",
    "onehot_encoder = OneHotEncoder()\n",
    "all_data[nom_features] = onehot_encoder.fit_transform(all_data[nom_features])\n",
    "```"
   ]
  },
  {
   "cell_type": "code",
   "execution_count": 7,
   "id": "f9755289",
   "metadata": {
    "execution": {
     "iopub.execute_input": "2022-08-03T13:43:18.228117Z",
     "iopub.status.busy": "2022-08-03T13:43:18.227073Z",
     "iopub.status.idle": "2022-08-03T13:43:20.051562Z",
     "shell.execute_reply": "2022-08-03T13:43:20.050769Z"
    },
    "papermill": {
     "duration": 1.834917,
     "end_time": "2022-08-03T13:43:20.053743",
     "exception": false,
     "start_time": "2022-08-03T13:43:18.218826",
     "status": "completed"
    },
    "tags": []
   },
   "outputs": [
    {
     "data": {
      "text/plain": [
       "<500000x16276 sparse matrix of type '<class 'numpy.float64'>'\n",
       "\twith 5000000 stored elements in Compressed Sparse Row format>"
      ]
     },
     "execution_count": 7,
     "metadata": {},
     "output_type": "execute_result"
    }
   ],
   "source": [
    "from sklearn.preprocessing import OneHotEncoder\n",
    "\n",
    "onehot_encoder = OneHotEncoder() # OneHotEncoder 객체 생성\n",
    "\n",
    "# 원-핫 인코딩 적용\n",
    "encoded_nom_matrix = onehot_encoder.fit_transform(all_data[nom_features])\n",
    "\n",
    "encoded_nom_matrix"
   ]
  },
  {
   "cell_type": "code",
   "execution_count": 8,
   "id": "cfc0b505",
   "metadata": {
    "execution": {
     "iopub.execute_input": "2022-08-03T13:43:20.070885Z",
     "iopub.status.busy": "2022-08-03T13:43:20.070251Z",
     "iopub.status.idle": "2022-08-03T13:43:20.111102Z",
     "shell.execute_reply": "2022-08-03T13:43:20.109640Z"
    },
    "papermill": {
     "duration": 0.052924,
     "end_time": "2022-08-03T13:43:20.113920",
     "exception": false,
     "start_time": "2022-08-03T13:43:20.060996",
     "status": "completed"
    },
    "tags": []
   },
   "outputs": [],
   "source": [
    "all_data = all_data.drop(nom_features, axis=1) # 기존 명목형 피처 삭제"
   ]
  },
  {
   "cell_type": "markdown",
   "id": "fa76bac6",
   "metadata": {
    "papermill": {
     "duration": 0.006849,
     "end_time": "2022-08-03T13:43:20.127756",
     "exception": false,
     "start_time": "2022-08-03T13:43:20.120907",
     "status": "completed"
    },
    "tags": []
   },
   "source": [
    "날짜 피처 인코딩"
   ]
  },
  {
   "cell_type": "code",
   "execution_count": 9,
   "id": "2a5da84a",
   "metadata": {
    "execution": {
     "iopub.execute_input": "2022-08-03T13:43:20.143312Z",
     "iopub.status.busy": "2022-08-03T13:43:20.142868Z",
     "iopub.status.idle": "2022-08-03T13:43:20.294990Z",
     "shell.execute_reply": "2022-08-03T13:43:20.294141Z"
    },
    "papermill": {
     "duration": 0.162552,
     "end_time": "2022-08-03T13:43:20.297079",
     "exception": false,
     "start_time": "2022-08-03T13:43:20.134527",
     "status": "completed"
    },
    "tags": []
   },
   "outputs": [
    {
     "data": {
      "text/plain": [
       "<500000x19 sparse matrix of type '<class 'numpy.float64'>'\n",
       "\twith 1000000 stored elements in Compressed Sparse Row format>"
      ]
     },
     "execution_count": 9,
     "metadata": {},
     "output_type": "execute_result"
    }
   ],
   "source": [
    "date_features = ['day', 'month'] # 날짜 피처\n",
    "\n",
    "# 원-핫 인코딩 적용\n",
    "encoded_date_matrix = onehot_encoder.fit_transform(all_data[date_features])\n",
    "\n",
    "all_data = all_data.drop(date_features, axis=1) # 기존 날짜 피처 삭제\n",
    "\n",
    "encoded_date_matrix"
   ]
  },
  {
   "cell_type": "markdown",
   "id": "bed6daaa",
   "metadata": {
    "papermill": {
     "duration": 0.006762,
     "end_time": "2022-08-03T13:43:20.310935",
     "exception": false,
     "start_time": "2022-08-03T13:43:20.304173",
     "status": "completed"
    },
    "tags": []
   },
   "source": [
    "#### 피처 스케일링\n",
    "순서형 피처 스케일링\n",
    "* min-max 스케일링을 통해 피처값을 0~1로 조정"
   ]
  },
  {
   "cell_type": "code",
   "execution_count": 10,
   "id": "4a670028",
   "metadata": {
    "execution": {
     "iopub.execute_input": "2022-08-03T13:43:20.327371Z",
     "iopub.status.busy": "2022-08-03T13:43:20.326343Z",
     "iopub.status.idle": "2022-08-03T13:43:20.411258Z",
     "shell.execute_reply": "2022-08-03T13:43:20.409829Z"
    },
    "papermill": {
     "duration": 0.096481,
     "end_time": "2022-08-03T13:43:20.414413",
     "exception": false,
     "start_time": "2022-08-03T13:43:20.317932",
     "status": "completed"
    },
    "tags": []
   },
   "outputs": [],
   "source": [
    "from sklearn.preprocessing import MinMaxScaler\n",
    "\n",
    "ord_features = ['ord_' + str(i) for i in range(6)] # 순서형 피처\n",
    "# min-max 정규화\n",
    "all_data[ord_features] = MinMaxScaler().fit_transform(all_data[ord_features])"
   ]
  },
  {
   "cell_type": "markdown",
   "id": "139b35aa",
   "metadata": {
    "papermill": {
     "duration": 0.006997,
     "end_time": "2022-08-03T13:43:20.428878",
     "exception": false,
     "start_time": "2022-08-03T13:43:20.421881",
     "status": "completed"
    },
    "tags": []
   },
   "source": [
    "인코딩 및 스케일링된 피처 합치기"
   ]
  },
  {
   "cell_type": "code",
   "execution_count": 11,
   "id": "84eefcc9",
   "metadata": {
    "execution": {
     "iopub.execute_input": "2022-08-03T13:43:20.445662Z",
     "iopub.status.busy": "2022-08-03T13:43:20.444929Z",
     "iopub.status.idle": "2022-08-03T13:43:21.075253Z",
     "shell.execute_reply": "2022-08-03T13:43:21.074209Z"
    },
    "papermill": {
     "duration": 0.641885,
     "end_time": "2022-08-03T13:43:21.078066",
     "exception": false,
     "start_time": "2022-08-03T13:43:20.436181",
     "status": "completed"
    },
    "tags": []
   },
   "outputs": [],
   "source": [
    "from scipy import sparse\n",
    "\n",
    "# 인코딩 및 스케일링된 피처 합치기\n",
    "all_data_sprs = sparse.hstack([sparse.csr_matrix(all_data),\n",
    "                               encoded_nom_matrix, \n",
    "                               encoded_date_matrix], \n",
    "                               format='csr')"
   ]
  },
  {
   "cell_type": "code",
   "execution_count": 12,
   "id": "06e47116",
   "metadata": {
    "execution": {
     "iopub.execute_input": "2022-08-03T13:43:21.094234Z",
     "iopub.status.busy": "2022-08-03T13:43:21.093821Z",
     "iopub.status.idle": "2022-08-03T13:43:21.100848Z",
     "shell.execute_reply": "2022-08-03T13:43:21.099746Z"
    },
    "papermill": {
     "duration": 0.018191,
     "end_time": "2022-08-03T13:43:21.103504",
     "exception": false,
     "start_time": "2022-08-03T13:43:21.085313",
     "status": "completed"
    },
    "tags": []
   },
   "outputs": [
    {
     "data": {
      "text/plain": [
       "<500000x16306 sparse matrix of type '<class 'numpy.float64'>'\n",
       "\twith 9163718 stored elements in Compressed Sparse Row format>"
      ]
     },
     "execution_count": 12,
     "metadata": {},
     "output_type": "execute_result"
    }
   ],
   "source": [
    "all_data_sprs"
   ]
  },
  {
   "cell_type": "markdown",
   "id": "726549c3",
   "metadata": {
    "papermill": {
     "duration": 0.006883,
     "end_time": "2022-08-03T13:43:21.117650",
     "exception": false,
     "start_time": "2022-08-03T13:43:21.110767",
     "status": "completed"
    },
    "tags": []
   },
   "source": [
    "데이터 나누기"
   ]
  },
  {
   "cell_type": "code",
   "execution_count": 13,
   "id": "9a9462bc",
   "metadata": {
    "execution": {
     "iopub.execute_input": "2022-08-03T13:43:21.134872Z",
     "iopub.status.busy": "2022-08-03T13:43:21.134049Z",
     "iopub.status.idle": "2022-08-03T13:43:21.258139Z",
     "shell.execute_reply": "2022-08-03T13:43:21.256692Z"
    },
    "papermill": {
     "duration": 0.135868,
     "end_time": "2022-08-03T13:43:21.260926",
     "exception": false,
     "start_time": "2022-08-03T13:43:21.125058",
     "status": "completed"
    },
    "tags": []
   },
   "outputs": [],
   "source": [
    "num_train = len(train) # 훈련 데이터 개수\n",
    "\n",
    "# 훈련 데이터와 테스트 데이터 나누기\n",
    "X_train = all_data_sprs[:num_train] # 0~num_train - 1행\n",
    "X_test = all_data_sprs[num_train:] # num_train ~ 마지막 행\n",
    "\n",
    "y = train['target']"
   ]
  },
  {
   "cell_type": "code",
   "execution_count": 14,
   "id": "6c029412",
   "metadata": {
    "execution": {
     "iopub.execute_input": "2022-08-03T13:43:21.278180Z",
     "iopub.status.busy": "2022-08-03T13:43:21.277694Z",
     "iopub.status.idle": "2022-08-03T13:43:21.484185Z",
     "shell.execute_reply": "2022-08-03T13:43:21.483078Z"
    },
    "papermill": {
     "duration": 0.217674,
     "end_time": "2022-08-03T13:43:21.486871",
     "exception": false,
     "start_time": "2022-08-03T13:43:21.269197",
     "status": "completed"
    },
    "tags": []
   },
   "outputs": [],
   "source": [
    "from sklearn.model_selection import train_test_split\n",
    "\n",
    "# 훈련 데이터, 검증 데이터 분리\n",
    "X_train, X_valid, y_train, y_valid = train_test_split(X_train, y,\n",
    "                                                      test_size=0.1,\n",
    "                                                      stratify=y,\n",
    "                                                      random_state=10)"
   ]
  },
  {
   "cell_type": "markdown",
   "id": "0b56b5cf",
   "metadata": {
    "papermill": {
     "duration": 0.006891,
     "end_time": "2022-08-03T13:43:21.501030",
     "exception": false,
     "start_time": "2022-08-03T13:43:21.494139",
     "status": "completed"
    },
    "tags": []
   },
   "source": [
    "### 하이퍼파라미터 최적화"
   ]
  },
  {
   "cell_type": "code",
   "execution_count": 15,
   "id": "af2e72cc",
   "metadata": {
    "execution": {
     "iopub.execute_input": "2022-08-03T13:43:21.516947Z",
     "iopub.status.busy": "2022-08-03T13:43:21.516545Z",
     "iopub.status.idle": "2022-08-03T13:52:22.082342Z",
     "shell.execute_reply": "2022-08-03T13:52:22.080803Z"
    },
    "papermill": {
     "duration": 540.58617,
     "end_time": "2022-08-03T13:52:22.094329",
     "exception": false,
     "start_time": "2022-08-03T13:43:21.508159",
     "status": "completed"
    },
    "tags": []
   },
   "outputs": [
    {
     "name": "stdout",
     "output_type": "stream",
     "text": [
      "최적 하이퍼파라미터: {'C': 0.125, 'max_iter': 800, 'random_state': 42, 'solver': 'liblinear'}\n",
      "CPU times: user 18min 35s, sys: 16min 19s, total: 34min 55s\n",
      "Wall time: 9min\n"
     ]
    }
   ],
   "source": [
    "%%time\n",
    "\n",
    "from sklearn.model_selection import GridSearchCV\n",
    "from sklearn.linear_model import LogisticRegression\n",
    "\n",
    "# 로지스틱 회귀 모델 생성\n",
    "logistic_model = LogisticRegression()\n",
    "\n",
    "# 하이퍼파라미터 값 목록 =====> C는 규제강도를 조절하는 파라미터로 값이 작을수록 규제 강도가 세짐\n",
    "lr_params = {'C':[0.1, 0.125, 0.2], 'max_iter':[800, 900, 1000],\n",
    "            'solver':['liblinear'], 'random_state':[42]}\n",
    "\n",
    "# 그리드서치 객체 생성\n",
    "gridsearch_logistic_model = GridSearchCV(estimator=logistic_model,\n",
    "                                         param_grid=lr_params,\n",
    "                                         scoring='roc_auc', # 평가지표\n",
    "                                         cv=5)\n",
    "\n",
    "# 그리드서치 수행\n",
    "gridsearch_logistic_model.fit(X_train, y_train)\n",
    "\n",
    "print('최적 하이퍼파라미터:', gridsearch_logistic_model.best_params_)"
   ]
  },
  {
   "cell_type": "markdown",
   "id": "fcae73c8",
   "metadata": {
    "papermill": {
     "duration": 0.007026,
     "end_time": "2022-08-03T13:52:22.108662",
     "exception": false,
     "start_time": "2022-08-03T13:52:22.101636",
     "status": "completed"
    },
    "tags": []
   },
   "source": [
    "### 모델 성능 검증"
   ]
  },
  {
   "cell_type": "code",
   "execution_count": 16,
   "id": "e51efd0f",
   "metadata": {
    "execution": {
     "iopub.execute_input": "2022-08-03T13:52:22.125725Z",
     "iopub.status.busy": "2022-08-03T13:52:22.124989Z",
     "iopub.status.idle": "2022-08-03T13:52:22.131826Z",
     "shell.execute_reply": "2022-08-03T13:52:22.131024Z"
    },
    "papermill": {
     "duration": 0.017532,
     "end_time": "2022-08-03T13:52:22.133807",
     "exception": false,
     "start_time": "2022-08-03T13:52:22.116275",
     "status": "completed"
    },
    "tags": []
   },
   "outputs": [],
   "source": [
    "y_valid_preds = gridsearch_logistic_model.predict_proba(X_valid)[:, 1]"
   ]
  },
  {
   "cell_type": "code",
   "execution_count": 17,
   "id": "fc8a5c09",
   "metadata": {
    "execution": {
     "iopub.execute_input": "2022-08-03T13:52:22.149931Z",
     "iopub.status.busy": "2022-08-03T13:52:22.149536Z",
     "iopub.status.idle": "2022-08-03T13:52:22.166851Z",
     "shell.execute_reply": "2022-08-03T13:52:22.165689Z"
    },
    "papermill": {
     "duration": 0.027827,
     "end_time": "2022-08-03T13:52:22.168980",
     "exception": false,
     "start_time": "2022-08-03T13:52:22.141153",
     "status": "completed"
    },
    "tags": []
   },
   "outputs": [
    {
     "name": "stdout",
     "output_type": "stream",
     "text": [
      "검증 데이터 ROC AUC : 0.8045\n"
     ]
    }
   ],
   "source": [
    "from sklearn.metrics import roc_auc_score # ROC AUC 점수 계산 함수\n",
    "\n",
    "# 검증 데이터 ROC AUC\n",
    "roc_auc = roc_auc_score(y_valid, y_valid_preds)\n",
    "\n",
    "print(f'검증 데이터 ROC AUC : {roc_auc:.4f}')"
   ]
  },
  {
   "cell_type": "markdown",
   "id": "cb25ccd9",
   "metadata": {
    "papermill": {
     "duration": 0.006935,
     "end_time": "2022-08-03T13:52:22.183238",
     "exception": false,
     "start_time": "2022-08-03T13:52:22.176303",
     "status": "completed"
    },
    "tags": []
   },
   "source": [
    "### 예측 및 결과 제출"
   ]
  },
  {
   "cell_type": "code",
   "execution_count": 18,
   "id": "2450060b",
   "metadata": {
    "execution": {
     "iopub.execute_input": "2022-08-03T13:52:22.200272Z",
     "iopub.status.busy": "2022-08-03T13:52:22.199067Z",
     "iopub.status.idle": "2022-08-03T13:52:22.710403Z",
     "shell.execute_reply": "2022-08-03T13:52:22.709414Z"
    },
    "papermill": {
     "duration": 0.522742,
     "end_time": "2022-08-03T13:52:22.713263",
     "exception": false,
     "start_time": "2022-08-03T13:52:22.190521",
     "status": "completed"
    },
    "tags": []
   },
   "outputs": [],
   "source": [
    "# 타겟값 1일 확률 예측\n",
    "y_preds = gridsearch_logistic_model.best_estimator_.predict_proba(X_test)[:,1]\n",
    "\n",
    "# 제출 파일 생성\n",
    "submission['target'] = y_preds\n",
    "submission.to_csv('submission.csv')"
   ]
  },
  {
   "cell_type": "code",
   "execution_count": null,
   "id": "3450e33d",
   "metadata": {
    "papermill": {
     "duration": 0.007001,
     "end_time": "2022-08-03T13:52:22.727854",
     "exception": false,
     "start_time": "2022-08-03T13:52:22.720853",
     "status": "completed"
    },
    "tags": []
   },
   "outputs": [],
   "source": []
  }
 ],
 "metadata": {
  "kernelspec": {
   "display_name": "Python 3",
   "language": "python",
   "name": "python3"
  },
  "language_info": {
   "codemirror_mode": {
    "name": "ipython",
    "version": 3
   },
   "file_extension": ".py",
   "mimetype": "text/x-python",
   "name": "python",
   "nbconvert_exporter": "python",
   "pygments_lexer": "ipython3",
   "version": "3.7.12"
  },
  "papermill": {
   "default_parameters": {},
   "duration": 560.383943,
   "end_time": "2022-08-03T13:52:23.460103",
   "environment_variables": {},
   "exception": null,
   "input_path": "__notebook__.ipynb",
   "output_path": "__notebook__.ipynb",
   "parameters": {},
   "start_time": "2022-08-03T13:43:03.076160",
   "version": "2.3.4"
  }
 },
 "nbformat": 4,
 "nbformat_minor": 5
}
