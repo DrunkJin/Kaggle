{
 "cells": [
  {
   "cell_type": "markdown",
   "id": "be3cdad6",
   "metadata": {
    "papermill": {
     "duration": 0.006538,
     "end_time": "2022-07-29T12:50:28.696200",
     "exception": false,
     "start_time": "2022-07-29T12:50:28.689662",
     "status": "completed"
    },
    "tags": []
   },
   "source": [
    "# 매우 단순하게 처리하고 Logistic모델 적용한 경우"
   ]
  },
  {
   "cell_type": "code",
   "execution_count": 1,
   "id": "796b3c8d",
   "metadata": {
    "_cell_guid": "b1076dfc-b9ad-4769-8c92-a6c4dae69d19",
    "_uuid": "8f2839f25d086af736a60e9eeb907d3b93b6e0e5",
    "execution": {
     "iopub.execute_input": "2022-07-29T12:50:28.709682Z",
     "iopub.status.busy": "2022-07-29T12:50:28.709216Z",
     "iopub.status.idle": "2022-07-29T12:50:31.964160Z",
     "shell.execute_reply": "2022-07-29T12:50:31.962631Z"
    },
    "papermill": {
     "duration": 3.265342,
     "end_time": "2022-07-29T12:50:31.967299",
     "exception": false,
     "start_time": "2022-07-29T12:50:28.701957",
     "status": "completed"
    },
    "tags": []
   },
   "outputs": [],
   "source": [
    "import pandas as pd\n",
    "# 데이터 경로\n",
    "data_path = '/kaggle/input/cat-in-the-dat/'\n",
    "\n",
    "train = pd.read_csv(data_path + 'train.csv', index_col='id')\n",
    "test = pd.read_csv(data_path + 'test.csv', index_col='id')\n",
    "submission = pd.read_csv(data_path + 'sample_submission.csv', index_col='id')"
   ]
  },
  {
   "cell_type": "markdown",
   "id": "de80e49b",
   "metadata": {
    "papermill": {
     "duration": 0.006221,
     "end_time": "2022-07-29T12:50:31.979542",
     "exception": false,
     "start_time": "2022-07-29T12:50:31.973321",
     "status": "completed"
    },
    "tags": []
   },
   "source": [
    "### 피처 엔지니어링\n",
    "* 데이터 합치기"
   ]
  },
  {
   "cell_type": "code",
   "execution_count": 2,
   "id": "84e59c5c",
   "metadata": {
    "execution": {
     "iopub.execute_input": "2022-07-29T12:50:31.993746Z",
     "iopub.status.busy": "2022-07-29T12:50:31.993331Z",
     "iopub.status.idle": "2022-07-29T12:50:33.056616Z",
     "shell.execute_reply": "2022-07-29T12:50:33.054845Z"
    },
    "papermill": {
     "duration": 1.073738,
     "end_time": "2022-07-29T12:50:33.059611",
     "exception": false,
     "start_time": "2022-07-29T12:50:31.985873",
     "status": "completed"
    },
    "tags": []
   },
   "outputs": [
    {
     "data": {
      "text/html": [
       "<div>\n",
       "<style scoped>\n",
       "    .dataframe tbody tr th:only-of-type {\n",
       "        vertical-align: middle;\n",
       "    }\n",
       "\n",
       "    .dataframe tbody tr th {\n",
       "        vertical-align: top;\n",
       "    }\n",
       "\n",
       "    .dataframe thead th {\n",
       "        text-align: right;\n",
       "    }\n",
       "</style>\n",
       "<table border=\"1\" class=\"dataframe\">\n",
       "  <thead>\n",
       "    <tr style=\"text-align: right;\">\n",
       "      <th></th>\n",
       "      <th>bin_0</th>\n",
       "      <th>bin_1</th>\n",
       "      <th>bin_2</th>\n",
       "      <th>bin_3</th>\n",
       "      <th>bin_4</th>\n",
       "      <th>nom_0</th>\n",
       "      <th>nom_1</th>\n",
       "      <th>nom_2</th>\n",
       "      <th>nom_3</th>\n",
       "      <th>nom_4</th>\n",
       "      <th>...</th>\n",
       "      <th>nom_8</th>\n",
       "      <th>nom_9</th>\n",
       "      <th>ord_0</th>\n",
       "      <th>ord_1</th>\n",
       "      <th>ord_2</th>\n",
       "      <th>ord_3</th>\n",
       "      <th>ord_4</th>\n",
       "      <th>ord_5</th>\n",
       "      <th>day</th>\n",
       "      <th>month</th>\n",
       "    </tr>\n",
       "    <tr>\n",
       "      <th>id</th>\n",
       "      <th></th>\n",
       "      <th></th>\n",
       "      <th></th>\n",
       "      <th></th>\n",
       "      <th></th>\n",
       "      <th></th>\n",
       "      <th></th>\n",
       "      <th></th>\n",
       "      <th></th>\n",
       "      <th></th>\n",
       "      <th></th>\n",
       "      <th></th>\n",
       "      <th></th>\n",
       "      <th></th>\n",
       "      <th></th>\n",
       "      <th></th>\n",
       "      <th></th>\n",
       "      <th></th>\n",
       "      <th></th>\n",
       "      <th></th>\n",
       "      <th></th>\n",
       "    </tr>\n",
       "  </thead>\n",
       "  <tbody>\n",
       "    <tr>\n",
       "      <th>0</th>\n",
       "      <td>0</td>\n",
       "      <td>0</td>\n",
       "      <td>0</td>\n",
       "      <td>T</td>\n",
       "      <td>Y</td>\n",
       "      <td>Green</td>\n",
       "      <td>Triangle</td>\n",
       "      <td>Snake</td>\n",
       "      <td>Finland</td>\n",
       "      <td>Bassoon</td>\n",
       "      <td>...</td>\n",
       "      <td>c389000ab</td>\n",
       "      <td>2f4cb3d51</td>\n",
       "      <td>2</td>\n",
       "      <td>Grandmaster</td>\n",
       "      <td>Cold</td>\n",
       "      <td>h</td>\n",
       "      <td>D</td>\n",
       "      <td>kr</td>\n",
       "      <td>2</td>\n",
       "      <td>2</td>\n",
       "    </tr>\n",
       "    <tr>\n",
       "      <th>1</th>\n",
       "      <td>0</td>\n",
       "      <td>1</td>\n",
       "      <td>0</td>\n",
       "      <td>T</td>\n",
       "      <td>Y</td>\n",
       "      <td>Green</td>\n",
       "      <td>Trapezoid</td>\n",
       "      <td>Hamster</td>\n",
       "      <td>Russia</td>\n",
       "      <td>Piano</td>\n",
       "      <td>...</td>\n",
       "      <td>4cd920251</td>\n",
       "      <td>f83c56c21</td>\n",
       "      <td>1</td>\n",
       "      <td>Grandmaster</td>\n",
       "      <td>Hot</td>\n",
       "      <td>a</td>\n",
       "      <td>A</td>\n",
       "      <td>bF</td>\n",
       "      <td>7</td>\n",
       "      <td>8</td>\n",
       "    </tr>\n",
       "    <tr>\n",
       "      <th>2</th>\n",
       "      <td>0</td>\n",
       "      <td>0</td>\n",
       "      <td>0</td>\n",
       "      <td>F</td>\n",
       "      <td>Y</td>\n",
       "      <td>Blue</td>\n",
       "      <td>Trapezoid</td>\n",
       "      <td>Lion</td>\n",
       "      <td>Russia</td>\n",
       "      <td>Theremin</td>\n",
       "      <td>...</td>\n",
       "      <td>de9c9f684</td>\n",
       "      <td>ae6800dd0</td>\n",
       "      <td>1</td>\n",
       "      <td>Expert</td>\n",
       "      <td>Lava Hot</td>\n",
       "      <td>h</td>\n",
       "      <td>R</td>\n",
       "      <td>Jc</td>\n",
       "      <td>7</td>\n",
       "      <td>2</td>\n",
       "    </tr>\n",
       "    <tr>\n",
       "      <th>3</th>\n",
       "      <td>0</td>\n",
       "      <td>1</td>\n",
       "      <td>0</td>\n",
       "      <td>F</td>\n",
       "      <td>Y</td>\n",
       "      <td>Red</td>\n",
       "      <td>Trapezoid</td>\n",
       "      <td>Snake</td>\n",
       "      <td>Canada</td>\n",
       "      <td>Oboe</td>\n",
       "      <td>...</td>\n",
       "      <td>4ade6ab69</td>\n",
       "      <td>8270f0d71</td>\n",
       "      <td>1</td>\n",
       "      <td>Grandmaster</td>\n",
       "      <td>Boiling Hot</td>\n",
       "      <td>i</td>\n",
       "      <td>D</td>\n",
       "      <td>kW</td>\n",
       "      <td>2</td>\n",
       "      <td>1</td>\n",
       "    </tr>\n",
       "    <tr>\n",
       "      <th>4</th>\n",
       "      <td>0</td>\n",
       "      <td>0</td>\n",
       "      <td>0</td>\n",
       "      <td>F</td>\n",
       "      <td>N</td>\n",
       "      <td>Red</td>\n",
       "      <td>Trapezoid</td>\n",
       "      <td>Lion</td>\n",
       "      <td>Canada</td>\n",
       "      <td>Oboe</td>\n",
       "      <td>...</td>\n",
       "      <td>cb43ab175</td>\n",
       "      <td>b164b72a7</td>\n",
       "      <td>1</td>\n",
       "      <td>Grandmaster</td>\n",
       "      <td>Freezing</td>\n",
       "      <td>a</td>\n",
       "      <td>R</td>\n",
       "      <td>qP</td>\n",
       "      <td>7</td>\n",
       "      <td>8</td>\n",
       "    </tr>\n",
       "    <tr>\n",
       "      <th>...</th>\n",
       "      <td>...</td>\n",
       "      <td>...</td>\n",
       "      <td>...</td>\n",
       "      <td>...</td>\n",
       "      <td>...</td>\n",
       "      <td>...</td>\n",
       "      <td>...</td>\n",
       "      <td>...</td>\n",
       "      <td>...</td>\n",
       "      <td>...</td>\n",
       "      <td>...</td>\n",
       "      <td>...</td>\n",
       "      <td>...</td>\n",
       "      <td>...</td>\n",
       "      <td>...</td>\n",
       "      <td>...</td>\n",
       "      <td>...</td>\n",
       "      <td>...</td>\n",
       "      <td>...</td>\n",
       "      <td>...</td>\n",
       "      <td>...</td>\n",
       "    </tr>\n",
       "    <tr>\n",
       "      <th>499995</th>\n",
       "      <td>0</td>\n",
       "      <td>0</td>\n",
       "      <td>0</td>\n",
       "      <td>F</td>\n",
       "      <td>N</td>\n",
       "      <td>Green</td>\n",
       "      <td>Square</td>\n",
       "      <td>Lion</td>\n",
       "      <td>Canada</td>\n",
       "      <td>Theremin</td>\n",
       "      <td>...</td>\n",
       "      <td>9e4b23160</td>\n",
       "      <td>acc31291f</td>\n",
       "      <td>1</td>\n",
       "      <td>Novice</td>\n",
       "      <td>Lava Hot</td>\n",
       "      <td>j</td>\n",
       "      <td>A</td>\n",
       "      <td>Gb</td>\n",
       "      <td>1</td>\n",
       "      <td>3</td>\n",
       "    </tr>\n",
       "    <tr>\n",
       "      <th>499996</th>\n",
       "      <td>1</td>\n",
       "      <td>0</td>\n",
       "      <td>0</td>\n",
       "      <td>F</td>\n",
       "      <td>Y</td>\n",
       "      <td>Green</td>\n",
       "      <td>Trapezoid</td>\n",
       "      <td>Lion</td>\n",
       "      <td>China</td>\n",
       "      <td>Piano</td>\n",
       "      <td>...</td>\n",
       "      <td>cfbd87ed0</td>\n",
       "      <td>eae3446d0</td>\n",
       "      <td>1</td>\n",
       "      <td>Contributor</td>\n",
       "      <td>Lava Hot</td>\n",
       "      <td>f</td>\n",
       "      <td>S</td>\n",
       "      <td>Ed</td>\n",
       "      <td>2</td>\n",
       "      <td>2</td>\n",
       "    </tr>\n",
       "    <tr>\n",
       "      <th>499997</th>\n",
       "      <td>0</td>\n",
       "      <td>1</td>\n",
       "      <td>1</td>\n",
       "      <td>T</td>\n",
       "      <td>Y</td>\n",
       "      <td>Green</td>\n",
       "      <td>Trapezoid</td>\n",
       "      <td>Lion</td>\n",
       "      <td>Canada</td>\n",
       "      <td>Oboe</td>\n",
       "      <td>...</td>\n",
       "      <td>1108bcd6c</td>\n",
       "      <td>33dd3cf4b</td>\n",
       "      <td>1</td>\n",
       "      <td>Novice</td>\n",
       "      <td>Boiling Hot</td>\n",
       "      <td>g</td>\n",
       "      <td>V</td>\n",
       "      <td>TR</td>\n",
       "      <td>3</td>\n",
       "      <td>1</td>\n",
       "    </tr>\n",
       "    <tr>\n",
       "      <th>499998</th>\n",
       "      <td>1</td>\n",
       "      <td>0</td>\n",
       "      <td>0</td>\n",
       "      <td>T</td>\n",
       "      <td>Y</td>\n",
       "      <td>Blue</td>\n",
       "      <td>Star</td>\n",
       "      <td>Hamster</td>\n",
       "      <td>Costa Rica</td>\n",
       "      <td>Bassoon</td>\n",
       "      <td>...</td>\n",
       "      <td>606ac930b</td>\n",
       "      <td>d4cf587dd</td>\n",
       "      <td>2</td>\n",
       "      <td>Grandmaster</td>\n",
       "      <td>Boiling Hot</td>\n",
       "      <td>g</td>\n",
       "      <td>X</td>\n",
       "      <td>Ye</td>\n",
       "      <td>2</td>\n",
       "      <td>1</td>\n",
       "    </tr>\n",
       "    <tr>\n",
       "      <th>499999</th>\n",
       "      <td>0</td>\n",
       "      <td>0</td>\n",
       "      <td>0</td>\n",
       "      <td>T</td>\n",
       "      <td>Y</td>\n",
       "      <td>Green</td>\n",
       "      <td>Star</td>\n",
       "      <td>Lion</td>\n",
       "      <td>India</td>\n",
       "      <td>Piano</td>\n",
       "      <td>...</td>\n",
       "      <td>4ea576eb6</td>\n",
       "      <td>2d610f52c</td>\n",
       "      <td>2</td>\n",
       "      <td>Novice</td>\n",
       "      <td>Freezing</td>\n",
       "      <td>l</td>\n",
       "      <td>J</td>\n",
       "      <td>ex</td>\n",
       "      <td>2</td>\n",
       "      <td>2</td>\n",
       "    </tr>\n",
       "  </tbody>\n",
       "</table>\n",
       "<p>500000 rows × 23 columns</p>\n",
       "</div>"
      ],
      "text/plain": [
       "        bin_0  bin_1  bin_2 bin_3 bin_4  nom_0      nom_1    nom_2  \\\n",
       "id                                                                   \n",
       "0           0      0      0     T     Y  Green   Triangle    Snake   \n",
       "1           0      1      0     T     Y  Green  Trapezoid  Hamster   \n",
       "2           0      0      0     F     Y   Blue  Trapezoid     Lion   \n",
       "3           0      1      0     F     Y    Red  Trapezoid    Snake   \n",
       "4           0      0      0     F     N    Red  Trapezoid     Lion   \n",
       "...       ...    ...    ...   ...   ...    ...        ...      ...   \n",
       "499995      0      0      0     F     N  Green     Square     Lion   \n",
       "499996      1      0      0     F     Y  Green  Trapezoid     Lion   \n",
       "499997      0      1      1     T     Y  Green  Trapezoid     Lion   \n",
       "499998      1      0      0     T     Y   Blue       Star  Hamster   \n",
       "499999      0      0      0     T     Y  Green       Star     Lion   \n",
       "\n",
       "             nom_3     nom_4  ...      nom_8      nom_9 ord_0        ord_1  \\\n",
       "id                            ...                                            \n",
       "0          Finland   Bassoon  ...  c389000ab  2f4cb3d51     2  Grandmaster   \n",
       "1           Russia     Piano  ...  4cd920251  f83c56c21     1  Grandmaster   \n",
       "2           Russia  Theremin  ...  de9c9f684  ae6800dd0     1       Expert   \n",
       "3           Canada      Oboe  ...  4ade6ab69  8270f0d71     1  Grandmaster   \n",
       "4           Canada      Oboe  ...  cb43ab175  b164b72a7     1  Grandmaster   \n",
       "...            ...       ...  ...        ...        ...   ...          ...   \n",
       "499995      Canada  Theremin  ...  9e4b23160  acc31291f     1       Novice   \n",
       "499996       China     Piano  ...  cfbd87ed0  eae3446d0     1  Contributor   \n",
       "499997      Canada      Oboe  ...  1108bcd6c  33dd3cf4b     1       Novice   \n",
       "499998  Costa Rica   Bassoon  ...  606ac930b  d4cf587dd     2  Grandmaster   \n",
       "499999       India     Piano  ...  4ea576eb6  2d610f52c     2       Novice   \n",
       "\n",
       "              ord_2  ord_3 ord_4 ord_5 day month  \n",
       "id                                                \n",
       "0              Cold      h     D    kr   2     2  \n",
       "1               Hot      a     A    bF   7     8  \n",
       "2          Lava Hot      h     R    Jc   7     2  \n",
       "3       Boiling Hot      i     D    kW   2     1  \n",
       "4          Freezing      a     R    qP   7     8  \n",
       "...             ...    ...   ...   ...  ..   ...  \n",
       "499995     Lava Hot      j     A    Gb   1     3  \n",
       "499996     Lava Hot      f     S    Ed   2     2  \n",
       "499997  Boiling Hot      g     V    TR   3     1  \n",
       "499998  Boiling Hot      g     X    Ye   2     1  \n",
       "499999     Freezing      l     J    ex   2     2  \n",
       "\n",
       "[500000 rows x 23 columns]"
      ]
     },
     "execution_count": 2,
     "metadata": {},
     "output_type": "execute_result"
    }
   ],
   "source": [
    "all_data = pd.concat([train, test]) # 훈련 데이터와 테스트 데이터 합치기\n",
    "all_data = all_data.drop('target', axis=1) # 타깃값 제거\n",
    "all_data"
   ]
  },
  {
   "cell_type": "markdown",
   "id": "9903e24c",
   "metadata": {
    "papermill": {
     "duration": 0.005894,
     "end_time": "2022-07-29T12:50:33.072431",
     "exception": false,
     "start_time": "2022-07-29T12:50:33.066537",
     "status": "completed"
    },
    "tags": []
   },
   "source": [
    "* 원-핫 인코딩"
   ]
  },
  {
   "cell_type": "code",
   "execution_count": 3,
   "id": "254de174",
   "metadata": {
    "execution": {
     "iopub.execute_input": "2022-07-29T12:50:33.088295Z",
     "iopub.status.busy": "2022-07-29T12:50:33.087862Z",
     "iopub.status.idle": "2022-07-29T12:50:38.088168Z",
     "shell.execute_reply": "2022-07-29T12:50:38.086780Z"
    },
    "papermill": {
     "duration": 5.012057,
     "end_time": "2022-07-29T12:50:38.091312",
     "exception": false,
     "start_time": "2022-07-29T12:50:33.079255",
     "status": "completed"
    },
    "tags": []
   },
   "outputs": [],
   "source": [
    "from sklearn.preprocessing import OneHotEncoder\n",
    "\n",
    "encoder = OneHotEncoder() # 원-핫 인코더 생성\n",
    "all_data_encoded = encoder.fit_transform(all_data) # 원-핫 인코딩 적용"
   ]
  },
  {
   "cell_type": "markdown",
   "id": "557b7b23",
   "metadata": {
    "papermill": {
     "duration": 0.005925,
     "end_time": "2022-07-29T12:50:38.103780",
     "exception": false,
     "start_time": "2022-07-29T12:50:38.097855",
     "status": "completed"
    },
    "tags": []
   },
   "source": [
    "데이터 나누기"
   ]
  },
  {
   "cell_type": "code",
   "execution_count": 4,
   "id": "f27b258c",
   "metadata": {
    "execution": {
     "iopub.execute_input": "2022-07-29T12:50:38.118284Z",
     "iopub.status.busy": "2022-07-29T12:50:38.117829Z",
     "iopub.status.idle": "2022-07-29T12:50:38.311426Z",
     "shell.execute_reply": "2022-07-29T12:50:38.310280Z"
    },
    "papermill": {
     "duration": 0.204122,
     "end_time": "2022-07-29T12:50:38.314150",
     "exception": false,
     "start_time": "2022-07-29T12:50:38.110028",
     "status": "completed"
    },
    "tags": []
   },
   "outputs": [],
   "source": [
    "num_train = len(train) # 훈련 데이터 개수\n",
    "\n",
    "# 훈련 데이터와 테스트 데이터 나누기\n",
    "X_train = all_data_encoded[:num_train] # 0~num_train - 1행\n",
    "X_test = all_data_encoded[num_train:]  # num_train ~ 마지막 행\n",
    "\n",
    "y = train['target']"
   ]
  },
  {
   "cell_type": "code",
   "execution_count": 5,
   "id": "c3da0fbe",
   "metadata": {
    "execution": {
     "iopub.execute_input": "2022-07-29T12:50:38.328479Z",
     "iopub.status.busy": "2022-07-29T12:50:38.328034Z",
     "iopub.status.idle": "2022-07-29T12:50:38.585953Z",
     "shell.execute_reply": "2022-07-29T12:50:38.584595Z"
    },
    "papermill": {
     "duration": 0.268348,
     "end_time": "2022-07-29T12:50:38.588889",
     "exception": false,
     "start_time": "2022-07-29T12:50:38.320541",
     "status": "completed"
    },
    "tags": []
   },
   "outputs": [],
   "source": [
    "from sklearn.model_selection import train_test_split\n",
    "\n",
    "# 훈련데이터, 검증 데이터 분리\n",
    "X_train, X_valid, y_train, y_valid = train_test_split(X_train, y,\n",
    "                                                      test_size=0.1,\n",
    "                                                      stratify=y,      # 파라미터로 지정한 값을 각 그룹에 공정하게 배분한다는 뜻. 지정안하면 타겟값이 불균형하게 분포될 수 있음.\n",
    "                                                      random_state=10)"
   ]
  },
  {
   "cell_type": "markdown",
   "id": "05f53d1d",
   "metadata": {
    "papermill": {
     "duration": 0.0062,
     "end_time": "2022-07-29T12:50:38.601601",
     "exception": false,
     "start_time": "2022-07-29T12:50:38.595401",
     "status": "completed"
    },
    "tags": []
   },
   "source": [
    "### 모델 훈련"
   ]
  },
  {
   "cell_type": "code",
   "execution_count": 6,
   "id": "00174bbc",
   "metadata": {
    "execution": {
     "iopub.execute_input": "2022-07-29T12:50:38.615995Z",
     "iopub.status.busy": "2022-07-29T12:50:38.615606Z",
     "iopub.status.idle": "2022-07-29T12:51:51.141899Z",
     "shell.execute_reply": "2022-07-29T12:51:51.140250Z"
    },
    "papermill": {
     "duration": 72.548937,
     "end_time": "2022-07-29T12:51:51.156885",
     "exception": false,
     "start_time": "2022-07-29T12:50:38.607948",
     "status": "completed"
    },
    "tags": []
   },
   "outputs": [
    {
     "data": {
      "text/plain": [
       "LogisticRegression(max_iter=1000, random_state=42)"
      ]
     },
     "execution_count": 6,
     "metadata": {},
     "output_type": "execute_result"
    }
   ],
   "source": [
    "from sklearn.linear_model import LogisticRegression\n",
    "\n",
    "logistic_model = LogisticRegression(max_iter=1000, random_state=42) # 모델 생성\n",
    "logistic_model.fit(X_train, y_train) # 모델 훈련"
   ]
  },
  {
   "cell_type": "markdown",
   "id": "8ee3eb47",
   "metadata": {
    "papermill": {
     "duration": 0.02789,
     "end_time": "2022-07-29T12:51:51.224575",
     "exception": false,
     "start_time": "2022-07-29T12:51:51.196685",
     "status": "completed"
    },
    "tags": []
   },
   "source": [
    "### 모델 성능 검증"
   ]
  },
  {
   "cell_type": "code",
   "execution_count": 7,
   "id": "235d5f2f",
   "metadata": {
    "execution": {
     "iopub.execute_input": "2022-07-29T12:51:51.253031Z",
     "iopub.status.busy": "2022-07-29T12:51:51.252637Z",
     "iopub.status.idle": "2022-07-29T12:51:51.262953Z",
     "shell.execute_reply": "2022-07-29T12:51:51.262140Z"
    },
    "papermill": {
     "duration": 0.025613,
     "end_time": "2022-07-29T12:51:51.265355",
     "exception": false,
     "start_time": "2022-07-29T12:51:51.239742",
     "status": "completed"
    },
    "tags": []
   },
   "outputs": [
    {
     "data": {
      "text/plain": [
       "array([[0.23265324, 0.76734676],\n",
       "       [0.91403908, 0.08596092],\n",
       "       [0.8303673 , 0.1696327 ],\n",
       "       ...,\n",
       "       [0.24860685, 0.75139315],\n",
       "       [0.49451672, 0.50548328],\n",
       "       [0.95655532, 0.04344468]])"
      ]
     },
     "execution_count": 7,
     "metadata": {},
     "output_type": "execute_result"
    }
   ],
   "source": [
    "# predict() -> 타겟값(0 or 1) 예측\n",
    "# predict_proba() -> 타겟값이 0 또는 1일 확률 예측\n",
    "logistic_model.predict_proba(X_valid)"
   ]
  },
  {
   "cell_type": "code",
   "execution_count": 8,
   "id": "518c9879",
   "metadata": {
    "execution": {
     "iopub.execute_input": "2022-07-29T12:51:51.280468Z",
     "iopub.status.busy": "2022-07-29T12:51:51.279689Z",
     "iopub.status.idle": "2022-07-29T12:51:51.289234Z",
     "shell.execute_reply": "2022-07-29T12:51:51.288017Z"
    },
    "papermill": {
     "duration": 0.019813,
     "end_time": "2022-07-29T12:51:51.291666",
     "exception": false,
     "start_time": "2022-07-29T12:51:51.271853",
     "status": "completed"
    },
    "tags": []
   },
   "outputs": [
    {
     "data": {
      "text/plain": [
       "array([1, 0, 0, ..., 1, 1, 0])"
      ]
     },
     "execution_count": 8,
     "metadata": {},
     "output_type": "execute_result"
    }
   ],
   "source": [
    "logistic_model.predict(X_valid)"
   ]
  },
  {
   "cell_type": "code",
   "execution_count": 9,
   "id": "c4da8b93",
   "metadata": {
    "execution": {
     "iopub.execute_input": "2022-07-29T12:51:51.307167Z",
     "iopub.status.busy": "2022-07-29T12:51:51.306406Z",
     "iopub.status.idle": "2022-07-29T12:51:51.313828Z",
     "shell.execute_reply": "2022-07-29T12:51:51.312767Z"
    },
    "papermill": {
     "duration": 0.017702,
     "end_time": "2022-07-29T12:51:51.316178",
     "exception": false,
     "start_time": "2022-07-29T12:51:51.298476",
     "status": "completed"
    },
    "tags": []
   },
   "outputs": [],
   "source": [
    "# 검증 데이터를 활용한 타겟 예측\n",
    "y_valid_preds = logistic_model.predict_proba(X_valid)[:, 1]"
   ]
  },
  {
   "cell_type": "code",
   "execution_count": 10,
   "id": "27e16467",
   "metadata": {
    "execution": {
     "iopub.execute_input": "2022-07-29T12:51:51.332641Z",
     "iopub.status.busy": "2022-07-29T12:51:51.331511Z",
     "iopub.status.idle": "2022-07-29T12:51:51.350061Z",
     "shell.execute_reply": "2022-07-29T12:51:51.349202Z"
    },
    "papermill": {
     "duration": 0.029609,
     "end_time": "2022-07-29T12:51:51.352400",
     "exception": false,
     "start_time": "2022-07-29T12:51:51.322791",
     "status": "completed"
    },
    "tags": []
   },
   "outputs": [
    {
     "name": "stdout",
     "output_type": "stream",
     "text": [
      "검증 데이터 ROC AUC : 0.7965\n"
     ]
    }
   ],
   "source": [
    "from sklearn.metrics import roc_auc_score # ROC AUC 점수 계산 함수\n",
    "\n",
    "# 검증데이터 ROC AUC\n",
    "roc_auc = roc_auc_score(y_valid, y_valid_preds)\n",
    "\n",
    "print(f\"검증 데이터 ROC AUC : {roc_auc:.4f}\")"
   ]
  },
  {
   "cell_type": "markdown",
   "id": "141c6a70",
   "metadata": {
    "papermill": {
     "duration": 0.006164,
     "end_time": "2022-07-29T12:51:51.365269",
     "exception": false,
     "start_time": "2022-07-29T12:51:51.359105",
     "status": "completed"
    },
    "tags": []
   },
   "source": [
    "### 예측 및 결과 제출"
   ]
  },
  {
   "cell_type": "code",
   "execution_count": 11,
   "id": "dac5010c",
   "metadata": {
    "execution": {
     "iopub.execute_input": "2022-07-29T12:51:51.380221Z",
     "iopub.status.busy": "2022-07-29T12:51:51.379824Z",
     "iopub.status.idle": "2022-07-29T12:51:51.399164Z",
     "shell.execute_reply": "2022-07-29T12:51:51.397977Z"
    },
    "papermill": {
     "duration": 0.030025,
     "end_time": "2022-07-29T12:51:51.401760",
     "exception": false,
     "start_time": "2022-07-29T12:51:51.371735",
     "status": "completed"
    },
    "tags": []
   },
   "outputs": [],
   "source": [
    "# 타겟값 1일 확률 예측\n",
    "y_preds = logistic_model.predict_proba(X_test)[:, 1]"
   ]
  },
  {
   "cell_type": "code",
   "execution_count": 12,
   "id": "2e7ac451",
   "metadata": {
    "execution": {
     "iopub.execute_input": "2022-07-29T12:51:51.416905Z",
     "iopub.status.busy": "2022-07-29T12:51:51.416526Z",
     "iopub.status.idle": "2022-07-29T12:51:52.190648Z",
     "shell.execute_reply": "2022-07-29T12:51:52.189674Z"
    },
    "papermill": {
     "duration": 0.784787,
     "end_time": "2022-07-29T12:51:52.193263",
     "exception": false,
     "start_time": "2022-07-29T12:51:51.408476",
     "status": "completed"
    },
    "tags": []
   },
   "outputs": [],
   "source": [
    "# 제출 파일 생성\n",
    "submission['target'] = y_preds\n",
    "submission.to_csv('submission.csv')"
   ]
  },
  {
   "cell_type": "code",
   "execution_count": null,
   "id": "ca2e028a",
   "metadata": {
    "papermill": {
     "duration": 0.006502,
     "end_time": "2022-07-29T12:51:52.206401",
     "exception": false,
     "start_time": "2022-07-29T12:51:52.199899",
     "status": "completed"
    },
    "tags": []
   },
   "outputs": [],
   "source": []
  }
 ],
 "metadata": {
  "kernelspec": {
   "display_name": "Python 3",
   "language": "python",
   "name": "python3"
  },
  "language_info": {
   "codemirror_mode": {
    "name": "ipython",
    "version": 3
   },
   "file_extension": ".py",
   "mimetype": "text/x-python",
   "name": "python",
   "nbconvert_exporter": "python",
   "pygments_lexer": "ipython3",
   "version": "3.7.12"
  },
  "papermill": {
   "default_parameters": {},
   "duration": 95.385509,
   "end_time": "2022-07-29T12:51:53.037667",
   "environment_variables": {},
   "exception": null,
   "input_path": "__notebook__.ipynb",
   "output_path": "__notebook__.ipynb",
   "parameters": {},
   "start_time": "2022-07-29T12:50:17.652158",
   "version": "2.3.4"
  }
 },
 "nbformat": 4,
 "nbformat_minor": 5
}
