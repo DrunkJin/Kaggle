{
 "cells": [
  {
   "cell_type": "code",
   "execution_count": 1,
   "id": "133097b0",
   "metadata": {
    "_cell_guid": "b1076dfc-b9ad-4769-8c92-a6c4dae69d19",
    "_uuid": "8f2839f25d086af736a60e9eeb907d3b93b6e0e5",
    "execution": {
     "iopub.execute_input": "2022-08-24T12:43:32.115556Z",
     "iopub.status.busy": "2022-08-24T12:43:32.115025Z",
     "iopub.status.idle": "2022-08-24T12:43:43.277040Z",
     "shell.execute_reply": "2022-08-24T12:43:43.276027Z"
    },
    "papermill": {
     "duration": 11.170748,
     "end_time": "2022-08-24T12:43:43.280009",
     "exception": false,
     "start_time": "2022-08-24T12:43:32.109261",
     "status": "completed"
    },
    "tags": []
   },
   "outputs": [],
   "source": [
    "import pandas as pd\n",
    "\n",
    "# 데이터 경로\n",
    "data_path = '/kaggle/input/porto-seguro-safe-driver-prediction/'\n",
    "\n",
    "train = pd.read_csv(data_path + 'train.csv', index_col='id')\n",
    "test = pd.read_csv(data_path + 'test.csv', index_col='id')\n",
    "submission = pd.read_csv(data_path + 'sample_submission.csv', index_col='id')"
   ]
  },
  {
   "cell_type": "markdown",
   "id": "876613b0",
   "metadata": {
    "papermill": {
     "duration": 0.003201,
     "end_time": "2022-08-24T12:43:43.286820",
     "exception": false,
     "start_time": "2022-08-24T12:43:43.283619",
     "status": "completed"
    },
    "tags": []
   },
   "source": [
    "#### 데이터 합치기"
   ]
  },
  {
   "cell_type": "code",
   "execution_count": 2,
   "id": "bcdc2469",
   "metadata": {
    "execution": {
     "iopub.execute_input": "2022-08-24T12:43:43.295256Z",
     "iopub.status.busy": "2022-08-24T12:43:43.294633Z",
     "iopub.status.idle": "2022-08-24T12:43:44.641482Z",
     "shell.execute_reply": "2022-08-24T12:43:44.640182Z"
    },
    "papermill": {
     "duration": 1.354719,
     "end_time": "2022-08-24T12:43:44.644738",
     "exception": false,
     "start_time": "2022-08-24T12:43:43.290019",
     "status": "completed"
    },
    "tags": []
   },
   "outputs": [],
   "source": [
    "all_data = pd.concat([train, test], ignore_index=True)\n",
    "all_data = all_data.drop('target', axis=1)  # 타겟값 제거"
   ]
  },
  {
   "cell_type": "code",
   "execution_count": 3,
   "id": "8844b436",
   "metadata": {
    "execution": {
     "iopub.execute_input": "2022-08-24T12:43:44.652954Z",
     "iopub.status.busy": "2022-08-24T12:43:44.652540Z",
     "iopub.status.idle": "2022-08-24T12:43:44.662355Z",
     "shell.execute_reply": "2022-08-24T12:43:44.661182Z"
    },
    "papermill": {
     "duration": 0.018199,
     "end_time": "2022-08-24T12:43:44.666211",
     "exception": false,
     "start_time": "2022-08-24T12:43:44.648012",
     "status": "completed"
    },
    "tags": []
   },
   "outputs": [
    {
     "data": {
      "text/plain": [
       "Index(['ps_ind_01', 'ps_ind_02_cat', 'ps_ind_03', 'ps_ind_04_cat',\n",
       "       'ps_ind_05_cat', 'ps_ind_06_bin', 'ps_ind_07_bin', 'ps_ind_08_bin',\n",
       "       'ps_ind_09_bin', 'ps_ind_10_bin', 'ps_ind_11_bin', 'ps_ind_12_bin',\n",
       "       'ps_ind_13_bin', 'ps_ind_14', 'ps_ind_15', 'ps_ind_16_bin',\n",
       "       'ps_ind_17_bin', 'ps_ind_18_bin', 'ps_reg_01', 'ps_reg_02', 'ps_reg_03',\n",
       "       'ps_car_01_cat', 'ps_car_02_cat', 'ps_car_03_cat', 'ps_car_04_cat',\n",
       "       'ps_car_05_cat', 'ps_car_06_cat', 'ps_car_07_cat', 'ps_car_08_cat',\n",
       "       'ps_car_09_cat', 'ps_car_10_cat', 'ps_car_11_cat', 'ps_car_11',\n",
       "       'ps_car_12', 'ps_car_13', 'ps_car_14', 'ps_car_15', 'ps_calc_01',\n",
       "       'ps_calc_02', 'ps_calc_03', 'ps_calc_04', 'ps_calc_05', 'ps_calc_06',\n",
       "       'ps_calc_07', 'ps_calc_08', 'ps_calc_09', 'ps_calc_10', 'ps_calc_11',\n",
       "       'ps_calc_12', 'ps_calc_13', 'ps_calc_14', 'ps_calc_15_bin',\n",
       "       'ps_calc_16_bin', 'ps_calc_17_bin', 'ps_calc_18_bin', 'ps_calc_19_bin',\n",
       "       'ps_calc_20_bin'],\n",
       "      dtype='object')"
      ]
     },
     "execution_count": 3,
     "metadata": {},
     "output_type": "execute_result"
    }
   ],
   "source": [
    "all_features = all_data.columns # 전체 피처\n",
    "all_features"
   ]
  },
  {
   "cell_type": "markdown",
   "id": "1b449826",
   "metadata": {
    "papermill": {
     "duration": 0.002994,
     "end_time": "2022-08-24T12:43:44.672539",
     "exception": false,
     "start_time": "2022-08-24T12:43:44.669545",
     "status": "completed"
    },
    "tags": []
   },
   "source": [
    "**명목형 원-핫 인코딩**"
   ]
  },
  {
   "cell_type": "code",
   "execution_count": 4,
   "id": "d9bc53a5",
   "metadata": {
    "execution": {
     "iopub.execute_input": "2022-08-24T12:43:44.681434Z",
     "iopub.status.busy": "2022-08-24T12:43:44.680717Z",
     "iopub.status.idle": "2022-08-24T12:43:48.206970Z",
     "shell.execute_reply": "2022-08-24T12:43:48.205251Z"
    },
    "papermill": {
     "duration": 3.534811,
     "end_time": "2022-08-24T12:43:48.210656",
     "exception": false,
     "start_time": "2022-08-24T12:43:44.675845",
     "status": "completed"
    },
    "tags": []
   },
   "outputs": [
    {
     "data": {
      "text/plain": [
       "<1488028x184 sparse matrix of type '<class 'numpy.float64'>'\n",
       "\twith 20832392 stored elements in Compressed Sparse Row format>"
      ]
     },
     "execution_count": 4,
     "metadata": {},
     "output_type": "execute_result"
    }
   ],
   "source": [
    "from sklearn.preprocessing import OneHotEncoder\n",
    "# 명목형 피처 추출\n",
    "cat_features = [feature for feature in all_features if 'cat' in feature]\n",
    "\n",
    "onehot_encoder = OneHotEncoder()  # 원-핫 인코더 객체 생성\n",
    "# 인코딩\n",
    "encoded_cat_matrix = onehot_encoder.fit_transform(all_data[cat_features])\n",
    "\n",
    "encoded_cat_matrix"
   ]
  },
  {
   "cell_type": "markdown",
   "id": "7ca4cb2e",
   "metadata": {
    "papermill": {
     "duration": 0.003879,
     "end_time": "2022-08-24T12:43:48.218558",
     "exception": false,
     "start_time": "2022-08-24T12:43:48.214679",
     "status": "completed"
    },
    "tags": []
   },
   "source": [
    "**필요없는 피처 제거**"
   ]
  },
  {
   "cell_type": "code",
   "execution_count": 5,
   "id": "c3a0f7bb",
   "metadata": {
    "execution": {
     "iopub.execute_input": "2022-08-24T12:43:48.227803Z",
     "iopub.status.busy": "2022-08-24T12:43:48.227356Z",
     "iopub.status.idle": "2022-08-24T12:43:48.236172Z",
     "shell.execute_reply": "2022-08-24T12:43:48.234523Z"
    },
    "papermill": {
     "duration": 0.016589,
     "end_time": "2022-08-24T12:43:48.238826",
     "exception": false,
     "start_time": "2022-08-24T12:43:48.222237",
     "status": "completed"
    },
    "tags": []
   },
   "outputs": [],
   "source": [
    "# 추가로 제거할 피처\n",
    "drop_features = ['ps_ind_14', 'ps_ind_10_bin', 'ps_ind_11_bin',\n",
    "                 'ps_ind_12_bin', 'ps_ind_13_bin', 'ps_car_14']\n",
    "\n",
    "# '1) 명목형 피처, 2) calc 분류의 피처, 3) 추가 제거할 피처'를 제외한 피처\n",
    "remaining_features = [feature for feature in all_features\n",
    "                      if ('cat' not in feature and\n",
    "                          'calc' not in feature and\n",
    "                          feature not in drop_features)]"
   ]
  },
  {
   "cell_type": "code",
   "execution_count": 6,
   "id": "890548c4",
   "metadata": {
    "execution": {
     "iopub.execute_input": "2022-08-24T12:43:48.247449Z",
     "iopub.status.busy": "2022-08-24T12:43:48.247017Z",
     "iopub.status.idle": "2022-08-24T12:43:51.055799Z",
     "shell.execute_reply": "2022-08-24T12:43:51.054493Z"
    },
    "papermill": {
     "duration": 2.816619,
     "end_time": "2022-08-24T12:43:51.058894",
     "exception": false,
     "start_time": "2022-08-24T12:43:48.242275",
     "status": "completed"
    },
    "tags": []
   },
   "outputs": [],
   "source": [
    "from scipy import sparse\n",
    "\n",
    "all_data_sprs = sparse.hstack([sparse.csr_matrix(all_data[remaining_features]),\n",
    "                               encoded_cat_matrix],\n",
    "                              format='csr')"
   ]
  },
  {
   "cell_type": "code",
   "execution_count": null,
   "id": "684a9769",
   "metadata": {
    "papermill": {
     "duration": 0.003265,
     "end_time": "2022-08-24T12:43:51.065808",
     "exception": false,
     "start_time": "2022-08-24T12:43:51.062543",
     "status": "completed"
    },
    "tags": []
   },
   "outputs": [],
   "source": []
  }
 ],
 "metadata": {
  "kernelspec": {
   "display_name": "Python 3",
   "language": "python",
   "name": "python3"
  },
  "language_info": {
   "codemirror_mode": {
    "name": "ipython",
    "version": 3
   },
   "file_extension": ".py",
   "mimetype": "text/x-python",
   "name": "python",
   "nbconvert_exporter": "python",
   "pygments_lexer": "ipython3",
   "version": "3.7.12"
  },
  "papermill": {
   "default_parameters": {},
   "duration": 30.249681,
   "end_time": "2022-08-24T12:43:51.792750",
   "environment_variables": {},
   "exception": null,
   "input_path": "__notebook__.ipynb",
   "output_path": "__notebook__.ipynb",
   "parameters": {},
   "start_time": "2022-08-24T12:43:21.543069",
   "version": "2.3.4"
  }
 },
 "nbformat": 4,
 "nbformat_minor": 5
}
