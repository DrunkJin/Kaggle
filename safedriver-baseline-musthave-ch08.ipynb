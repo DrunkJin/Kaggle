{
 "cells": [
  {
   "cell_type": "code",
   "execution_count": 1,
   "id": "814f351f",
   "metadata": {
    "_cell_guid": "b1076dfc-b9ad-4769-8c92-a6c4dae69d19",
    "_uuid": "8f2839f25d086af736a60e9eeb907d3b93b6e0e5",
    "execution": {
     "iopub.execute_input": "2022-08-26T14:37:54.166693Z",
     "iopub.status.busy": "2022-08-26T14:37:54.166177Z",
     "iopub.status.idle": "2022-08-26T14:38:05.006304Z",
     "shell.execute_reply": "2022-08-26T14:38:05.005367Z"
    },
    "papermill": {
     "duration": 10.853689,
     "end_time": "2022-08-26T14:38:05.009372",
     "exception": false,
     "start_time": "2022-08-26T14:37:54.155683",
     "status": "completed"
    },
    "tags": []
   },
   "outputs": [],
   "source": [
    "import pandas as pd\n",
    "\n",
    "# 데이터 경로\n",
    "data_path = '/kaggle/input/porto-seguro-safe-driver-prediction/'\n",
    "\n",
    "train = pd.read_csv(data_path + 'train.csv', index_col='id')\n",
    "test = pd.read_csv(data_path + 'test.csv', index_col='id')\n",
    "submission = pd.read_csv(data_path + 'sample_submission.csv', index_col='id')"
   ]
  },
  {
   "cell_type": "markdown",
   "id": "a4075521",
   "metadata": {
    "papermill": {
     "duration": 0.006279,
     "end_time": "2022-08-26T14:38:05.022319",
     "exception": false,
     "start_time": "2022-08-26T14:38:05.016040",
     "status": "completed"
    },
    "tags": []
   },
   "source": [
    "#### 데이터 합치기"
   ]
  },
  {
   "cell_type": "code",
   "execution_count": 2,
   "id": "c1fe955d",
   "metadata": {
    "execution": {
     "iopub.execute_input": "2022-08-26T14:38:05.037574Z",
     "iopub.status.busy": "2022-08-26T14:38:05.037103Z",
     "iopub.status.idle": "2022-08-26T14:38:06.508200Z",
     "shell.execute_reply": "2022-08-26T14:38:06.506589Z"
    },
    "papermill": {
     "duration": 1.482185,
     "end_time": "2022-08-26T14:38:06.511237",
     "exception": false,
     "start_time": "2022-08-26T14:38:05.029052",
     "status": "completed"
    },
    "tags": []
   },
   "outputs": [],
   "source": [
    "all_data = pd.concat([train, test], ignore_index=True)\n",
    "all_data = all_data.drop('target', axis=1)  # 타겟값 제거"
   ]
  },
  {
   "cell_type": "code",
   "execution_count": 3,
   "id": "ac09145d",
   "metadata": {
    "execution": {
     "iopub.execute_input": "2022-08-26T14:38:06.526013Z",
     "iopub.status.busy": "2022-08-26T14:38:06.525602Z",
     "iopub.status.idle": "2022-08-26T14:38:06.535661Z",
     "shell.execute_reply": "2022-08-26T14:38:06.534445Z"
    },
    "papermill": {
     "duration": 0.020817,
     "end_time": "2022-08-26T14:38:06.538686",
     "exception": false,
     "start_time": "2022-08-26T14:38:06.517869",
     "status": "completed"
    },
    "tags": []
   },
   "outputs": [
    {
     "data": {
      "text/plain": [
       "Index(['ps_ind_01', 'ps_ind_02_cat', 'ps_ind_03', 'ps_ind_04_cat',\n",
       "       'ps_ind_05_cat', 'ps_ind_06_bin', 'ps_ind_07_bin', 'ps_ind_08_bin',\n",
       "       'ps_ind_09_bin', 'ps_ind_10_bin', 'ps_ind_11_bin', 'ps_ind_12_bin',\n",
       "       'ps_ind_13_bin', 'ps_ind_14', 'ps_ind_15', 'ps_ind_16_bin',\n",
       "       'ps_ind_17_bin', 'ps_ind_18_bin', 'ps_reg_01', 'ps_reg_02', 'ps_reg_03',\n",
       "       'ps_car_01_cat', 'ps_car_02_cat', 'ps_car_03_cat', 'ps_car_04_cat',\n",
       "       'ps_car_05_cat', 'ps_car_06_cat', 'ps_car_07_cat', 'ps_car_08_cat',\n",
       "       'ps_car_09_cat', 'ps_car_10_cat', 'ps_car_11_cat', 'ps_car_11',\n",
       "       'ps_car_12', 'ps_car_13', 'ps_car_14', 'ps_car_15', 'ps_calc_01',\n",
       "       'ps_calc_02', 'ps_calc_03', 'ps_calc_04', 'ps_calc_05', 'ps_calc_06',\n",
       "       'ps_calc_07', 'ps_calc_08', 'ps_calc_09', 'ps_calc_10', 'ps_calc_11',\n",
       "       'ps_calc_12', 'ps_calc_13', 'ps_calc_14', 'ps_calc_15_bin',\n",
       "       'ps_calc_16_bin', 'ps_calc_17_bin', 'ps_calc_18_bin', 'ps_calc_19_bin',\n",
       "       'ps_calc_20_bin'],\n",
       "      dtype='object')"
      ]
     },
     "execution_count": 3,
     "metadata": {},
     "output_type": "execute_result"
    }
   ],
   "source": [
    "all_features = all_data.columns # 전체 피처\n",
    "all_features"
   ]
  },
  {
   "cell_type": "markdown",
   "id": "66668124",
   "metadata": {
    "papermill": {
     "duration": 0.006642,
     "end_time": "2022-08-26T14:38:06.552369",
     "exception": false,
     "start_time": "2022-08-26T14:38:06.545727",
     "status": "completed"
    },
    "tags": []
   },
   "source": [
    "**명목형 원-핫 인코딩**"
   ]
  },
  {
   "cell_type": "code",
   "execution_count": 4,
   "id": "6c52378c",
   "metadata": {
    "execution": {
     "iopub.execute_input": "2022-08-26T14:38:06.568294Z",
     "iopub.status.busy": "2022-08-26T14:38:06.567200Z",
     "iopub.status.idle": "2022-08-26T14:38:10.135406Z",
     "shell.execute_reply": "2022-08-26T14:38:10.134068Z"
    },
    "papermill": {
     "duration": 3.579009,
     "end_time": "2022-08-26T14:38:10.138080",
     "exception": false,
     "start_time": "2022-08-26T14:38:06.559071",
     "status": "completed"
    },
    "tags": []
   },
   "outputs": [
    {
     "data": {
      "text/plain": [
       "<1488028x184 sparse matrix of type '<class 'numpy.float64'>'\n",
       "\twith 20832392 stored elements in Compressed Sparse Row format>"
      ]
     },
     "execution_count": 4,
     "metadata": {},
     "output_type": "execute_result"
    }
   ],
   "source": [
    "from sklearn.preprocessing import OneHotEncoder\n",
    "# 명목형 피처 추출\n",
    "cat_features = [feature for feature in all_features if 'cat' in feature]\n",
    "\n",
    "onehot_encoder = OneHotEncoder()  # 원-핫 인코더 객체 생성\n",
    "# 인코딩\n",
    "encoded_cat_matrix = onehot_encoder.fit_transform(all_data[cat_features])\n",
    "\n",
    "encoded_cat_matrix"
   ]
  },
  {
   "cell_type": "markdown",
   "id": "2974a196",
   "metadata": {
    "papermill": {
     "duration": 0.007,
     "end_time": "2022-08-26T14:38:10.152154",
     "exception": false,
     "start_time": "2022-08-26T14:38:10.145154",
     "status": "completed"
    },
    "tags": []
   },
   "source": [
    "**필요없는 피처 제거**"
   ]
  },
  {
   "cell_type": "code",
   "execution_count": 5,
   "id": "391a87b7",
   "metadata": {
    "execution": {
     "iopub.execute_input": "2022-08-26T14:38:10.168376Z",
     "iopub.status.busy": "2022-08-26T14:38:10.167949Z",
     "iopub.status.idle": "2022-08-26T14:38:10.174296Z",
     "shell.execute_reply": "2022-08-26T14:38:10.173311Z"
    },
    "papermill": {
     "duration": 0.017189,
     "end_time": "2022-08-26T14:38:10.176588",
     "exception": false,
     "start_time": "2022-08-26T14:38:10.159399",
     "status": "completed"
    },
    "tags": []
   },
   "outputs": [],
   "source": [
    "# 추가로 제거할 피처\n",
    "drop_features = ['ps_ind_14', 'ps_ind_10_bin', 'ps_ind_11_bin',\n",
    "                 'ps_ind_12_bin', 'ps_ind_13_bin', 'ps_car_14']\n",
    "\n",
    "# '1) 명목형 피처, 2) calc 분류의 피처, 3) 추가 제거할 피처'를 제외한 피처\n",
    "remaining_features = [feature for feature in all_features\n",
    "                      if ('cat' not in feature and\n",
    "                          'calc' not in feature and\n",
    "                          feature not in drop_features)]"
   ]
  },
  {
   "cell_type": "code",
   "execution_count": 6,
   "id": "4e8813b7",
   "metadata": {
    "execution": {
     "iopub.execute_input": "2022-08-26T14:38:10.193281Z",
     "iopub.status.busy": "2022-08-26T14:38:10.192231Z",
     "iopub.status.idle": "2022-08-26T14:38:13.312276Z",
     "shell.execute_reply": "2022-08-26T14:38:13.310517Z"
    },
    "papermill": {
     "duration": 3.131597,
     "end_time": "2022-08-26T14:38:13.315321",
     "exception": false,
     "start_time": "2022-08-26T14:38:10.183724",
     "status": "completed"
    },
    "tags": []
   },
   "outputs": [],
   "source": [
    "from scipy import sparse\n",
    "\n",
    "all_data_sprs = sparse.hstack([sparse.csr_matrix(all_data[remaining_features]),\n",
    "                               encoded_cat_matrix],\n",
    "                              format='csr')"
   ]
  },
  {
   "cell_type": "markdown",
   "id": "7637d53e",
   "metadata": {
    "papermill": {
     "duration": 0.006439,
     "end_time": "2022-08-26T14:38:13.328660",
     "exception": false,
     "start_time": "2022-08-26T14:38:13.322221",
     "status": "completed"
    },
    "tags": []
   },
   "source": [
    "**데이터 나누기**"
   ]
  },
  {
   "cell_type": "code",
   "execution_count": 7,
   "id": "aee49479",
   "metadata": {
    "execution": {
     "iopub.execute_input": "2022-08-26T14:38:13.344346Z",
     "iopub.status.busy": "2022-08-26T14:38:13.343589Z",
     "iopub.status.idle": "2022-08-26T14:38:14.133914Z",
     "shell.execute_reply": "2022-08-26T14:38:14.132575Z"
    },
    "papermill": {
     "duration": 0.801249,
     "end_time": "2022-08-26T14:38:14.136758",
     "exception": false,
     "start_time": "2022-08-26T14:38:13.335509",
     "status": "completed"
    },
    "tags": []
   },
   "outputs": [],
   "source": [
    "num_train = len(train) # 훈련데이터 갯수\n",
    "\n",
    "# 훈련 데이터와 테스트 데이터 나누기\n",
    "X = all_data_sprs[:num_train]\n",
    "X_test = all_data_sprs[num_train:]\n",
    "\n",
    "y = train['target'].values"
   ]
  },
  {
   "cell_type": "markdown",
   "id": "d5135ba1",
   "metadata": {
    "papermill": {
     "duration": 0.006315,
     "end_time": "2022-08-26T14:38:14.149832",
     "exception": false,
     "start_time": "2022-08-26T14:38:14.143517",
     "status": "completed"
    },
    "tags": []
   },
   "source": [
    "#### 평가지표 계산 함수 작성\n",
    "* 이 대회는 정규화된 지니계수\n",
    "* 정규화 지니계수 = (예측 값에 대한 지니계수) / (예측이 완벽할 때의 지니계수)"
   ]
  },
  {
   "cell_type": "code",
   "execution_count": 8,
   "id": "2ee15aee",
   "metadata": {
    "execution": {
     "iopub.execute_input": "2022-08-26T14:38:14.166704Z",
     "iopub.status.busy": "2022-08-26T14:38:14.166242Z",
     "iopub.status.idle": "2022-08-26T14:38:14.174970Z",
     "shell.execute_reply": "2022-08-26T14:38:14.173565Z"
    },
    "papermill": {
     "duration": 0.01936,
     "end_time": "2022-08-26T14:38:14.177416",
     "exception": false,
     "start_time": "2022-08-26T14:38:14.158056",
     "status": "completed"
    },
    "tags": []
   },
   "outputs": [],
   "source": [
    "import numpy as np\n",
    "\n",
    "def eval_gini(y_true, y_pred):\n",
    "    # 실제값과 예측값의 크기가 서로 같은지 확인 (값이 다르면 오류 발생)\n",
    "    assert y_true.shape == y_pred.shape\n",
    "    \n",
    "    n_samples = y_train.shape[0]        # 데이터 개수\n",
    "    L_mid = np.linspace(1 / n_samples, 1, n_samples) # 대각선 값\n",
    "    \n",
    "    # 1) 예측값에 대한 지니계수\n",
    "    pred_order = y_true[y_pred.argsort()] # y_pred 크기 순으로 y_true 값 정렬\n",
    "    L_pred = np.cumsum(pred_order) / np.sum(pred_order) # 로렌츠 곡선\n",
    "    G_pred = np.sum(L_mid - L_pred)       # 예측값에 대한 지니계수\n",
    "    \n",
    "    # 2) 예측이 완벽할 때 지니계수\n",
    "    true_order = y_true[y_true.argsort()]  # y_true 크기 순으로 y_true값 정렬\n",
    "    L_true = np.cumsum(true_order) / np.sum(true_order)  # 로렌츠 곡선\n",
    "    G_true = np.sum(L_mid - L_true)     # 예측이 완벽할 때 지니계수\n",
    "    \n",
    "    # 정규화된 지니계수\n",
    "    return G_pred / G_true"
   ]
  },
  {
   "cell_type": "code",
   "execution_count": 9,
   "id": "4fbe5c2c",
   "metadata": {
    "execution": {
     "iopub.execute_input": "2022-08-26T14:38:14.192480Z",
     "iopub.status.busy": "2022-08-26T14:38:14.192021Z",
     "iopub.status.idle": "2022-08-26T14:38:14.198241Z",
     "shell.execute_reply": "2022-08-26T14:38:14.197106Z"
    },
    "papermill": {
     "duration": 0.016632,
     "end_time": "2022-08-26T14:38:14.200749",
     "exception": false,
     "start_time": "2022-08-26T14:38:14.184117",
     "status": "completed"
    },
    "tags": []
   },
   "outputs": [],
   "source": [
    "# LightGBM용 gini() 함수\n",
    "def gini(preds, dtrain):\n",
    "    labels = dtrain.get_label() # 데이터셋의 타겟값을 반환함\n",
    "    return 'gini', eval_gini(labels, preds), True    # 평가지표 이름, 평가점수, 평가점수가 높을수록 좋은지 여부"
   ]
  },
  {
   "cell_type": "markdown",
   "id": "6153f08c",
   "metadata": {
    "papermill": {
     "duration": 0.00661,
     "end_time": "2022-08-26T14:38:14.214044",
     "exception": false,
     "start_time": "2022-08-26T14:38:14.207434",
     "status": "completed"
    },
    "tags": []
   },
   "source": [
    "### 모델 훈련 및 성능 검증\n",
    "* OOF 예측 방식 -> Out of Fold prediction"
   ]
  },
  {
   "cell_type": "code",
   "execution_count": 10,
   "id": "b6976d09",
   "metadata": {
    "execution": {
     "iopub.execute_input": "2022-08-26T14:38:14.229722Z",
     "iopub.status.busy": "2022-08-26T14:38:14.229229Z",
     "iopub.status.idle": "2022-08-26T14:38:14.297987Z",
     "shell.execute_reply": "2022-08-26T14:38:14.296660Z"
    },
    "papermill": {
     "duration": 0.079935,
     "end_time": "2022-08-26T14:38:14.300852",
     "exception": false,
     "start_time": "2022-08-26T14:38:14.220917",
     "status": "completed"
    },
    "tags": []
   },
   "outputs": [],
   "source": [
    "from sklearn.model_selection import StratifiedKFold\n",
    "\n",
    "# 층화 K 폴드 교차 검증기\n",
    "folds = StratifiedKFold(n_splits=5, shuffle=True, random_state=1991)"
   ]
  },
  {
   "cell_type": "code",
   "execution_count": 11,
   "id": "eaea3bd3",
   "metadata": {
    "execution": {
     "iopub.execute_input": "2022-08-26T14:38:14.316407Z",
     "iopub.status.busy": "2022-08-26T14:38:14.315578Z",
     "iopub.status.idle": "2022-08-26T14:38:14.321854Z",
     "shell.execute_reply": "2022-08-26T14:38:14.320553Z"
    },
    "papermill": {
     "duration": 0.016621,
     "end_time": "2022-08-26T14:38:14.324257",
     "exception": false,
     "start_time": "2022-08-26T14:38:14.307636",
     "status": "completed"
    },
    "tags": []
   },
   "outputs": [],
   "source": [
    "# LightGGBM  하이퍼파라미터 \n",
    "params = {'objective':'binary',\n",
    "          'learning_rate':0.01,\n",
    "          'force_row_wise':True,    # 경고 문구를 없애려구 추가함\n",
    "          'random_state':0}"
   ]
  },
  {
   "cell_type": "code",
   "execution_count": 12,
   "id": "b43ef6ee",
   "metadata": {
    "execution": {
     "iopub.execute_input": "2022-08-26T14:38:14.339671Z",
     "iopub.status.busy": "2022-08-26T14:38:14.339202Z",
     "iopub.status.idle": "2022-08-26T14:38:14.346565Z",
     "shell.execute_reply": "2022-08-26T14:38:14.345395Z"
    },
    "papermill": {
     "duration": 0.018245,
     "end_time": "2022-08-26T14:38:14.349169",
     "exception": false,
     "start_time": "2022-08-26T14:38:14.330924",
     "status": "completed"
    },
    "tags": []
   },
   "outputs": [],
   "source": [
    "# OOF 방식으로 훈련된 모델로 검증 데이터 타겟값을 예측한 확률을 담을 1차원 배열\n",
    "oof_val_pred = np.zeros(X.shape[0])\n",
    "\n",
    "# OOF 방식으로 훈련된 모델로 테스트 데이터 타겟값을 예측한 확률을 담을 1차원 배열\n",
    "oof_test_preds = np.zeros(X_test.shape[0])"
   ]
  },
  {
   "cell_type": "markdown",
   "id": "c7dbbde4",
   "metadata": {
    "papermill": {
     "duration": 0.006279,
     "end_time": "2022-08-26T14:38:14.362239",
     "exception": false,
     "start_time": "2022-08-26T14:38:14.355960",
     "status": "completed"
    },
    "tags": []
   },
   "source": [
    "### LightGBM 훈련"
   ]
  },
  {
   "cell_type": "markdown",
   "id": "db41f2fa",
   "metadata": {
    "execution": {
     "iopub.execute_input": "2022-08-26T14:35:38.855167Z",
     "iopub.status.busy": "2022-08-26T14:35:38.853678Z",
     "iopub.status.idle": "2022-08-26T14:35:40.174496Z",
     "shell.execute_reply": "2022-08-26T14:35:40.172971Z",
     "shell.execute_reply.started": "2022-08-26T14:35:38.855099Z"
    },
    "papermill": {
     "duration": 0.006288,
     "end_time": "2022-08-26T14:38:14.375270",
     "exception": false,
     "start_time": "2022-08-26T14:38:14.368982",
     "status": "completed"
    },
    "tags": []
   },
   "source": [
    "import lightgbm as lgb\n",
    "\n",
    "# OOF 방식으로 모델 훈련, 검증, 예측\n",
    "for idx, (train_idx, valid_idx) in enumerate(folds.split(X, y)):\n",
    "    # 각 폴드를 구분하는 문구 출력\n",
    "    print('#'*40, f'폴드 {idx+1} / 폴드 {folds.n_splits}', '#'*40)\n",
    "    \n",
    "    # 훈련용 데이터, 검증용 데이터 설정\n",
    "    X_train, y_train = X[train_idx], y[train_idx]   # 훈련용 데이터\n",
    "    X_valid, y_valid = X[valid_idx], y[valid_idx]   # 검증용 데이터\n",
    "    \n",
    "    # LightGBM 전용 데이터셋 설정\n",
    "    dtrain = lgb.Dataset(X_train, y_train)          # LightGBM 전용 훈련 데이터셋\n",
    "    dvalid = lgb.Dataset(X_valid, y_valid)          # LightGBM 전용 검증 데이터셋\n",
    "    \n",
    "    # LightGBM 모델 훈련\n",
    "    lgb_model = lgb.train(params=params,                # 훈련용 하이퍼파라미터\n",
    "                          train_set=dtrain,             # 훈련 데이터셋\n",
    "                          num_boost_round=1000,         # 부스팅 반복 횟수\n",
    "                          valid_sets=dvalid,            # 성능 평가용 검증 데이터셋\n",
    "                          feval=gini,                   # 검증용 평가지표\n",
    "                          early_stopping_rounds=100,    # 조기종료 조건\n",
    "                          verbose_eval=100)             # 100번째마다 점수 출력\n",
    "    \n",
    "    # 테스트 데이터를 활용해 OOF 예측\n",
    "    oof_test_preds += lgb_model.predict(X_test)/folds.n_splits\n",
    "    # 모델 성능 평가를 위한 검증 데이터 타겟값 예측\n",
    "    oof_val_preds[valid_idx] += lgb_model.predict(X_valid)\n",
    "    \n",
    "    # 검증 데이터 예측 확률에 대한 정규화 지니계수\n",
    "    gini_score = eval_gini(y_valid, oof_val_preds[valid_idx])\n",
    "    print(f'폴드 {idx+1} 지니계수: {gini_score}\\n')   "
   ]
  },
  {
   "cell_type": "code",
   "execution_count": null,
   "id": "1dfa9059",
   "metadata": {
    "papermill": {
     "duration": 0.006715,
     "end_time": "2022-08-26T14:38:14.390214",
     "exception": false,
     "start_time": "2022-08-26T14:38:14.383499",
     "status": "completed"
    },
    "tags": []
   },
   "outputs": [],
   "source": []
  },
  {
   "cell_type": "code",
   "execution_count": null,
   "id": "9af077f6",
   "metadata": {
    "papermill": {
     "duration": 0.007179,
     "end_time": "2022-08-26T14:38:14.404107",
     "exception": false,
     "start_time": "2022-08-26T14:38:14.396928",
     "status": "completed"
    },
    "tags": []
   },
   "outputs": [],
   "source": []
  },
  {
   "cell_type": "code",
   "execution_count": null,
   "id": "69beb922",
   "metadata": {
    "papermill": {
     "duration": 0.00925,
     "end_time": "2022-08-26T14:38:14.421810",
     "exception": false,
     "start_time": "2022-08-26T14:38:14.412560",
     "status": "completed"
    },
    "tags": []
   },
   "outputs": [],
   "source": []
  },
  {
   "cell_type": "code",
   "execution_count": null,
   "id": "ee828287",
   "metadata": {
    "papermill": {
     "duration": 0.008022,
     "end_time": "2022-08-26T14:38:14.447402",
     "exception": false,
     "start_time": "2022-08-26T14:38:14.439380",
     "status": "completed"
    },
    "tags": []
   },
   "outputs": [],
   "source": []
  },
  {
   "cell_type": "code",
   "execution_count": null,
   "id": "dac10bc4",
   "metadata": {
    "papermill": {
     "duration": 0.00708,
     "end_time": "2022-08-26T14:38:14.461491",
     "exception": false,
     "start_time": "2022-08-26T14:38:14.454411",
     "status": "completed"
    },
    "tags": []
   },
   "outputs": [],
   "source": []
  },
  {
   "cell_type": "code",
   "execution_count": null,
   "id": "a3774f3c",
   "metadata": {
    "papermill": {
     "duration": 0.008175,
     "end_time": "2022-08-26T14:38:14.476937",
     "exception": false,
     "start_time": "2022-08-26T14:38:14.468762",
     "status": "completed"
    },
    "tags": []
   },
   "outputs": [],
   "source": []
  },
  {
   "cell_type": "code",
   "execution_count": null,
   "id": "1e20d726",
   "metadata": {
    "papermill": {
     "duration": 0.00806,
     "end_time": "2022-08-26T14:38:14.493778",
     "exception": false,
     "start_time": "2022-08-26T14:38:14.485718",
     "status": "completed"
    },
    "tags": []
   },
   "outputs": [],
   "source": []
  },
  {
   "cell_type": "code",
   "execution_count": null,
   "id": "92529a1b",
   "metadata": {
    "papermill": {
     "duration": 0.00694,
     "end_time": "2022-08-26T14:38:14.507830",
     "exception": false,
     "start_time": "2022-08-26T14:38:14.500890",
     "status": "completed"
    },
    "tags": []
   },
   "outputs": [],
   "source": [
    " "
   ]
  }
 ],
 "metadata": {
  "kernelspec": {
   "display_name": "Python 3",
   "language": "python",
   "name": "python3"
  },
  "language_info": {
   "codemirror_mode": {
    "name": "ipython",
    "version": 3
   },
   "file_extension": ".py",
   "mimetype": "text/x-python",
   "name": "python",
   "nbconvert_exporter": "python",
   "pygments_lexer": "ipython3",
   "version": "3.7.12"
  },
  "papermill": {
   "default_parameters": {},
   "duration": 31.718685,
   "end_time": "2022-08-26T14:38:15.337834",
   "environment_variables": {},
   "exception": null,
   "input_path": "__notebook__.ipynb",
   "output_path": "__notebook__.ipynb",
   "parameters": {},
   "start_time": "2022-08-26T14:37:43.619149",
   "version": "2.3.4"
  }
 },
 "nbformat": 4,
 "nbformat_minor": 5
}
