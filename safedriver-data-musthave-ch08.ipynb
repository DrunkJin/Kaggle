{
 "cells": [
  {
   "cell_type": "code",
   "execution_count": 1,
   "id": "fe2b355d",
   "metadata": {
    "_cell_guid": "b1076dfc-b9ad-4769-8c92-a6c4dae69d19",
    "_uuid": "8f2839f25d086af736a60e9eeb907d3b93b6e0e5",
    "execution": {
     "iopub.execute_input": "2022-08-22T13:49:23.274606Z",
     "iopub.status.busy": "2022-08-22T13:49:23.273773Z",
     "iopub.status.idle": "2022-08-22T13:49:38.661458Z",
     "shell.execute_reply": "2022-08-22T13:49:38.657336Z"
    },
    "papermill": {
     "duration": 15.403198,
     "end_time": "2022-08-22T13:49:38.667453",
     "exception": false,
     "start_time": "2022-08-22T13:49:23.264255",
     "status": "completed"
    },
    "tags": []
   },
   "outputs": [],
   "source": [
    "import pandas as pd\n",
    "\n",
    "# 데이터 경로\n",
    "data_path = '/kaggle/input/porto-seguro-safe-driver-prediction/'\n",
    "\n",
    "train = pd.read_csv(data_path + 'train.csv', index_col='id')\n",
    "test = pd.read_csv(data_path + 'test.csv', index_col='id')\n",
    "submission = pd.read_csv(data_path + 'sample_submission.csv', index_col='id')"
   ]
  },
  {
   "cell_type": "code",
   "execution_count": 2,
   "id": "19d32ba8",
   "metadata": {
    "execution": {
     "iopub.execute_input": "2022-08-22T13:49:38.727617Z",
     "iopub.status.busy": "2022-08-22T13:49:38.724254Z",
     "iopub.status.idle": "2022-08-22T13:49:38.770451Z",
     "shell.execute_reply": "2022-08-22T13:49:38.764537Z"
    },
    "papermill": {
     "duration": 0.08645,
     "end_time": "2022-08-22T13:49:38.784116",
     "exception": false,
     "start_time": "2022-08-22T13:49:38.697666",
     "status": "completed"
    },
    "tags": []
   },
   "outputs": [
    {
     "data": {
      "text/plain": [
       "((595212, 58), (892816, 57))"
      ]
     },
     "execution_count": 2,
     "metadata": {},
     "output_type": "execute_result"
    }
   ],
   "source": [
    "train.shape, test.shape"
   ]
  },
  {
   "cell_type": "code",
   "execution_count": 3,
   "id": "bff4fc44",
   "metadata": {
    "execution": {
     "iopub.execute_input": "2022-08-22T13:49:38.815553Z",
     "iopub.status.busy": "2022-08-22T13:49:38.815058Z",
     "iopub.status.idle": "2022-08-22T13:49:38.843365Z",
     "shell.execute_reply": "2022-08-22T13:49:38.841702Z"
    },
    "papermill": {
     "duration": 0.040866,
     "end_time": "2022-08-22T13:49:38.846412",
     "exception": false,
     "start_time": "2022-08-22T13:49:38.805546",
     "status": "completed"
    },
    "tags": []
   },
   "outputs": [
    {
     "data": {
      "text/html": [
       "<div>\n",
       "<style scoped>\n",
       "    .dataframe tbody tr th:only-of-type {\n",
       "        vertical-align: middle;\n",
       "    }\n",
       "\n",
       "    .dataframe tbody tr th {\n",
       "        vertical-align: top;\n",
       "    }\n",
       "\n",
       "    .dataframe thead th {\n",
       "        text-align: right;\n",
       "    }\n",
       "</style>\n",
       "<table border=\"1\" class=\"dataframe\">\n",
       "  <thead>\n",
       "    <tr style=\"text-align: right;\">\n",
       "      <th></th>\n",
       "      <th>target</th>\n",
       "      <th>ps_ind_01</th>\n",
       "      <th>ps_ind_02_cat</th>\n",
       "      <th>ps_ind_03</th>\n",
       "      <th>ps_ind_04_cat</th>\n",
       "      <th>ps_ind_05_cat</th>\n",
       "      <th>ps_ind_06_bin</th>\n",
       "      <th>ps_ind_07_bin</th>\n",
       "      <th>ps_ind_08_bin</th>\n",
       "      <th>ps_ind_09_bin</th>\n",
       "      <th>...</th>\n",
       "      <th>ps_calc_11</th>\n",
       "      <th>ps_calc_12</th>\n",
       "      <th>ps_calc_13</th>\n",
       "      <th>ps_calc_14</th>\n",
       "      <th>ps_calc_15_bin</th>\n",
       "      <th>ps_calc_16_bin</th>\n",
       "      <th>ps_calc_17_bin</th>\n",
       "      <th>ps_calc_18_bin</th>\n",
       "      <th>ps_calc_19_bin</th>\n",
       "      <th>ps_calc_20_bin</th>\n",
       "    </tr>\n",
       "    <tr>\n",
       "      <th>id</th>\n",
       "      <th></th>\n",
       "      <th></th>\n",
       "      <th></th>\n",
       "      <th></th>\n",
       "      <th></th>\n",
       "      <th></th>\n",
       "      <th></th>\n",
       "      <th></th>\n",
       "      <th></th>\n",
       "      <th></th>\n",
       "      <th></th>\n",
       "      <th></th>\n",
       "      <th></th>\n",
       "      <th></th>\n",
       "      <th></th>\n",
       "      <th></th>\n",
       "      <th></th>\n",
       "      <th></th>\n",
       "      <th></th>\n",
       "      <th></th>\n",
       "      <th></th>\n",
       "    </tr>\n",
       "  </thead>\n",
       "  <tbody>\n",
       "    <tr>\n",
       "      <th>7</th>\n",
       "      <td>0</td>\n",
       "      <td>2</td>\n",
       "      <td>2</td>\n",
       "      <td>5</td>\n",
       "      <td>1</td>\n",
       "      <td>0</td>\n",
       "      <td>0</td>\n",
       "      <td>1</td>\n",
       "      <td>0</td>\n",
       "      <td>0</td>\n",
       "      <td>...</td>\n",
       "      <td>9</td>\n",
       "      <td>1</td>\n",
       "      <td>5</td>\n",
       "      <td>8</td>\n",
       "      <td>0</td>\n",
       "      <td>1</td>\n",
       "      <td>1</td>\n",
       "      <td>0</td>\n",
       "      <td>0</td>\n",
       "      <td>1</td>\n",
       "    </tr>\n",
       "    <tr>\n",
       "      <th>9</th>\n",
       "      <td>0</td>\n",
       "      <td>1</td>\n",
       "      <td>1</td>\n",
       "      <td>7</td>\n",
       "      <td>0</td>\n",
       "      <td>0</td>\n",
       "      <td>0</td>\n",
       "      <td>0</td>\n",
       "      <td>1</td>\n",
       "      <td>0</td>\n",
       "      <td>...</td>\n",
       "      <td>3</td>\n",
       "      <td>1</td>\n",
       "      <td>1</td>\n",
       "      <td>9</td>\n",
       "      <td>0</td>\n",
       "      <td>1</td>\n",
       "      <td>1</td>\n",
       "      <td>0</td>\n",
       "      <td>1</td>\n",
       "      <td>0</td>\n",
       "    </tr>\n",
       "    <tr>\n",
       "      <th>13</th>\n",
       "      <td>0</td>\n",
       "      <td>5</td>\n",
       "      <td>4</td>\n",
       "      <td>9</td>\n",
       "      <td>1</td>\n",
       "      <td>0</td>\n",
       "      <td>0</td>\n",
       "      <td>0</td>\n",
       "      <td>1</td>\n",
       "      <td>0</td>\n",
       "      <td>...</td>\n",
       "      <td>4</td>\n",
       "      <td>2</td>\n",
       "      <td>7</td>\n",
       "      <td>7</td>\n",
       "      <td>0</td>\n",
       "      <td>1</td>\n",
       "      <td>1</td>\n",
       "      <td>0</td>\n",
       "      <td>1</td>\n",
       "      <td>0</td>\n",
       "    </tr>\n",
       "    <tr>\n",
       "      <th>16</th>\n",
       "      <td>0</td>\n",
       "      <td>0</td>\n",
       "      <td>1</td>\n",
       "      <td>2</td>\n",
       "      <td>0</td>\n",
       "      <td>0</td>\n",
       "      <td>1</td>\n",
       "      <td>0</td>\n",
       "      <td>0</td>\n",
       "      <td>0</td>\n",
       "      <td>...</td>\n",
       "      <td>2</td>\n",
       "      <td>2</td>\n",
       "      <td>4</td>\n",
       "      <td>9</td>\n",
       "      <td>0</td>\n",
       "      <td>0</td>\n",
       "      <td>0</td>\n",
       "      <td>0</td>\n",
       "      <td>0</td>\n",
       "      <td>0</td>\n",
       "    </tr>\n",
       "    <tr>\n",
       "      <th>17</th>\n",
       "      <td>0</td>\n",
       "      <td>0</td>\n",
       "      <td>2</td>\n",
       "      <td>0</td>\n",
       "      <td>1</td>\n",
       "      <td>0</td>\n",
       "      <td>1</td>\n",
       "      <td>0</td>\n",
       "      <td>0</td>\n",
       "      <td>0</td>\n",
       "      <td>...</td>\n",
       "      <td>3</td>\n",
       "      <td>1</td>\n",
       "      <td>1</td>\n",
       "      <td>3</td>\n",
       "      <td>0</td>\n",
       "      <td>0</td>\n",
       "      <td>0</td>\n",
       "      <td>1</td>\n",
       "      <td>1</td>\n",
       "      <td>0</td>\n",
       "    </tr>\n",
       "  </tbody>\n",
       "</table>\n",
       "<p>5 rows × 58 columns</p>\n",
       "</div>"
      ],
      "text/plain": [
       "    target  ps_ind_01  ps_ind_02_cat  ps_ind_03  ps_ind_04_cat  ps_ind_05_cat  \\\n",
       "id                                                                              \n",
       "7        0          2              2          5              1              0   \n",
       "9        0          1              1          7              0              0   \n",
       "13       0          5              4          9              1              0   \n",
       "16       0          0              1          2              0              0   \n",
       "17       0          0              2          0              1              0   \n",
       "\n",
       "    ps_ind_06_bin  ps_ind_07_bin  ps_ind_08_bin  ps_ind_09_bin  ...  \\\n",
       "id                                                              ...   \n",
       "7               0              1              0              0  ...   \n",
       "9               0              0              1              0  ...   \n",
       "13              0              0              1              0  ...   \n",
       "16              1              0              0              0  ...   \n",
       "17              1              0              0              0  ...   \n",
       "\n",
       "    ps_calc_11  ps_calc_12  ps_calc_13  ps_calc_14  ps_calc_15_bin  \\\n",
       "id                                                                   \n",
       "7            9           1           5           8               0   \n",
       "9            3           1           1           9               0   \n",
       "13           4           2           7           7               0   \n",
       "16           2           2           4           9               0   \n",
       "17           3           1           1           3               0   \n",
       "\n",
       "    ps_calc_16_bin  ps_calc_17_bin  ps_calc_18_bin  ps_calc_19_bin  \\\n",
       "id                                                                   \n",
       "7                1               1               0               0   \n",
       "9                1               1               0               1   \n",
       "13               1               1               0               1   \n",
       "16               0               0               0               0   \n",
       "17               0               0               1               1   \n",
       "\n",
       "    ps_calc_20_bin  \n",
       "id                  \n",
       "7                1  \n",
       "9                0  \n",
       "13               0  \n",
       "16               0  \n",
       "17               0  \n",
       "\n",
       "[5 rows x 58 columns]"
      ]
     },
     "execution_count": 3,
     "metadata": {},
     "output_type": "execute_result"
    }
   ],
   "source": [
    "train.head()"
   ]
  },
  {
   "cell_type": "code",
   "execution_count": 4,
   "id": "7d730a43",
   "metadata": {
    "execution": {
     "iopub.execute_input": "2022-08-22T13:49:38.865916Z",
     "iopub.status.busy": "2022-08-22T13:49:38.865469Z",
     "iopub.status.idle": "2022-08-22T13:49:38.888427Z",
     "shell.execute_reply": "2022-08-22T13:49:38.887235Z"
    },
    "papermill": {
     "duration": 0.036052,
     "end_time": "2022-08-22T13:49:38.890845",
     "exception": false,
     "start_time": "2022-08-22T13:49:38.854793",
     "status": "completed"
    },
    "tags": []
   },
   "outputs": [
    {
     "data": {
      "text/html": [
       "<div>\n",
       "<style scoped>\n",
       "    .dataframe tbody tr th:only-of-type {\n",
       "        vertical-align: middle;\n",
       "    }\n",
       "\n",
       "    .dataframe tbody tr th {\n",
       "        vertical-align: top;\n",
       "    }\n",
       "\n",
       "    .dataframe thead th {\n",
       "        text-align: right;\n",
       "    }\n",
       "</style>\n",
       "<table border=\"1\" class=\"dataframe\">\n",
       "  <thead>\n",
       "    <tr style=\"text-align: right;\">\n",
       "      <th></th>\n",
       "      <th>ps_ind_01</th>\n",
       "      <th>ps_ind_02_cat</th>\n",
       "      <th>ps_ind_03</th>\n",
       "      <th>ps_ind_04_cat</th>\n",
       "      <th>ps_ind_05_cat</th>\n",
       "      <th>ps_ind_06_bin</th>\n",
       "      <th>ps_ind_07_bin</th>\n",
       "      <th>ps_ind_08_bin</th>\n",
       "      <th>ps_ind_09_bin</th>\n",
       "      <th>ps_ind_10_bin</th>\n",
       "      <th>...</th>\n",
       "      <th>ps_calc_11</th>\n",
       "      <th>ps_calc_12</th>\n",
       "      <th>ps_calc_13</th>\n",
       "      <th>ps_calc_14</th>\n",
       "      <th>ps_calc_15_bin</th>\n",
       "      <th>ps_calc_16_bin</th>\n",
       "      <th>ps_calc_17_bin</th>\n",
       "      <th>ps_calc_18_bin</th>\n",
       "      <th>ps_calc_19_bin</th>\n",
       "      <th>ps_calc_20_bin</th>\n",
       "    </tr>\n",
       "    <tr>\n",
       "      <th>id</th>\n",
       "      <th></th>\n",
       "      <th></th>\n",
       "      <th></th>\n",
       "      <th></th>\n",
       "      <th></th>\n",
       "      <th></th>\n",
       "      <th></th>\n",
       "      <th></th>\n",
       "      <th></th>\n",
       "      <th></th>\n",
       "      <th></th>\n",
       "      <th></th>\n",
       "      <th></th>\n",
       "      <th></th>\n",
       "      <th></th>\n",
       "      <th></th>\n",
       "      <th></th>\n",
       "      <th></th>\n",
       "      <th></th>\n",
       "      <th></th>\n",
       "      <th></th>\n",
       "    </tr>\n",
       "  </thead>\n",
       "  <tbody>\n",
       "    <tr>\n",
       "      <th>0</th>\n",
       "      <td>0</td>\n",
       "      <td>1</td>\n",
       "      <td>8</td>\n",
       "      <td>1</td>\n",
       "      <td>0</td>\n",
       "      <td>0</td>\n",
       "      <td>1</td>\n",
       "      <td>0</td>\n",
       "      <td>0</td>\n",
       "      <td>0</td>\n",
       "      <td>...</td>\n",
       "      <td>1</td>\n",
       "      <td>1</td>\n",
       "      <td>1</td>\n",
       "      <td>12</td>\n",
       "      <td>0</td>\n",
       "      <td>1</td>\n",
       "      <td>1</td>\n",
       "      <td>0</td>\n",
       "      <td>0</td>\n",
       "      <td>1</td>\n",
       "    </tr>\n",
       "    <tr>\n",
       "      <th>1</th>\n",
       "      <td>4</td>\n",
       "      <td>2</td>\n",
       "      <td>5</td>\n",
       "      <td>1</td>\n",
       "      <td>0</td>\n",
       "      <td>0</td>\n",
       "      <td>0</td>\n",
       "      <td>0</td>\n",
       "      <td>1</td>\n",
       "      <td>0</td>\n",
       "      <td>...</td>\n",
       "      <td>2</td>\n",
       "      <td>0</td>\n",
       "      <td>3</td>\n",
       "      <td>10</td>\n",
       "      <td>0</td>\n",
       "      <td>0</td>\n",
       "      <td>1</td>\n",
       "      <td>1</td>\n",
       "      <td>0</td>\n",
       "      <td>1</td>\n",
       "    </tr>\n",
       "    <tr>\n",
       "      <th>2</th>\n",
       "      <td>5</td>\n",
       "      <td>1</td>\n",
       "      <td>3</td>\n",
       "      <td>0</td>\n",
       "      <td>0</td>\n",
       "      <td>0</td>\n",
       "      <td>0</td>\n",
       "      <td>0</td>\n",
       "      <td>1</td>\n",
       "      <td>0</td>\n",
       "      <td>...</td>\n",
       "      <td>4</td>\n",
       "      <td>0</td>\n",
       "      <td>2</td>\n",
       "      <td>4</td>\n",
       "      <td>0</td>\n",
       "      <td>0</td>\n",
       "      <td>0</td>\n",
       "      <td>0</td>\n",
       "      <td>0</td>\n",
       "      <td>0</td>\n",
       "    </tr>\n",
       "    <tr>\n",
       "      <th>3</th>\n",
       "      <td>0</td>\n",
       "      <td>1</td>\n",
       "      <td>6</td>\n",
       "      <td>0</td>\n",
       "      <td>0</td>\n",
       "      <td>1</td>\n",
       "      <td>0</td>\n",
       "      <td>0</td>\n",
       "      <td>0</td>\n",
       "      <td>0</td>\n",
       "      <td>...</td>\n",
       "      <td>5</td>\n",
       "      <td>1</td>\n",
       "      <td>0</td>\n",
       "      <td>5</td>\n",
       "      <td>1</td>\n",
       "      <td>0</td>\n",
       "      <td>1</td>\n",
       "      <td>0</td>\n",
       "      <td>0</td>\n",
       "      <td>0</td>\n",
       "    </tr>\n",
       "    <tr>\n",
       "      <th>4</th>\n",
       "      <td>5</td>\n",
       "      <td>1</td>\n",
       "      <td>7</td>\n",
       "      <td>0</td>\n",
       "      <td>0</td>\n",
       "      <td>0</td>\n",
       "      <td>0</td>\n",
       "      <td>0</td>\n",
       "      <td>1</td>\n",
       "      <td>0</td>\n",
       "      <td>...</td>\n",
       "      <td>4</td>\n",
       "      <td>0</td>\n",
       "      <td>0</td>\n",
       "      <td>4</td>\n",
       "      <td>0</td>\n",
       "      <td>1</td>\n",
       "      <td>1</td>\n",
       "      <td>0</td>\n",
       "      <td>0</td>\n",
       "      <td>1</td>\n",
       "    </tr>\n",
       "  </tbody>\n",
       "</table>\n",
       "<p>5 rows × 57 columns</p>\n",
       "</div>"
      ],
      "text/plain": [
       "    ps_ind_01  ps_ind_02_cat  ps_ind_03  ps_ind_04_cat  ps_ind_05_cat  \\\n",
       "id                                                                      \n",
       "0           0              1          8              1              0   \n",
       "1           4              2          5              1              0   \n",
       "2           5              1          3              0              0   \n",
       "3           0              1          6              0              0   \n",
       "4           5              1          7              0              0   \n",
       "\n",
       "    ps_ind_06_bin  ps_ind_07_bin  ps_ind_08_bin  ps_ind_09_bin  ps_ind_10_bin  \\\n",
       "id                                                                              \n",
       "0               0              1              0              0              0   \n",
       "1               0              0              0              1              0   \n",
       "2               0              0              0              1              0   \n",
       "3               1              0              0              0              0   \n",
       "4               0              0              0              1              0   \n",
       "\n",
       "    ...  ps_calc_11  ps_calc_12  ps_calc_13  ps_calc_14  ps_calc_15_bin  \\\n",
       "id  ...                                                                   \n",
       "0   ...           1           1           1          12               0   \n",
       "1   ...           2           0           3          10               0   \n",
       "2   ...           4           0           2           4               0   \n",
       "3   ...           5           1           0           5               1   \n",
       "4   ...           4           0           0           4               0   \n",
       "\n",
       "    ps_calc_16_bin  ps_calc_17_bin  ps_calc_18_bin  ps_calc_19_bin  \\\n",
       "id                                                                   \n",
       "0                1               1               0               0   \n",
       "1                0               1               1               0   \n",
       "2                0               0               0               0   \n",
       "3                0               1               0               0   \n",
       "4                1               1               0               0   \n",
       "\n",
       "    ps_calc_20_bin  \n",
       "id                  \n",
       "0                1  \n",
       "1                1  \n",
       "2                0  \n",
       "3                0  \n",
       "4                1  \n",
       "\n",
       "[5 rows x 57 columns]"
      ]
     },
     "execution_count": 4,
     "metadata": {},
     "output_type": "execute_result"
    }
   ],
   "source": [
    "test.head()"
   ]
  },
  {
   "cell_type": "code",
   "execution_count": 5,
   "id": "6cfb9b5b",
   "metadata": {
    "execution": {
     "iopub.execute_input": "2022-08-22T13:49:38.908641Z",
     "iopub.status.busy": "2022-08-22T13:49:38.908049Z",
     "iopub.status.idle": "2022-08-22T13:49:38.920761Z",
     "shell.execute_reply": "2022-08-22T13:49:38.919746Z"
    },
    "papermill": {
     "duration": 0.024258,
     "end_time": "2022-08-22T13:49:38.923066",
     "exception": false,
     "start_time": "2022-08-22T13:49:38.898808",
     "status": "completed"
    },
    "tags": []
   },
   "outputs": [
    {
     "data": {
      "text/html": [
       "<div>\n",
       "<style scoped>\n",
       "    .dataframe tbody tr th:only-of-type {\n",
       "        vertical-align: middle;\n",
       "    }\n",
       "\n",
       "    .dataframe tbody tr th {\n",
       "        vertical-align: top;\n",
       "    }\n",
       "\n",
       "    .dataframe thead th {\n",
       "        text-align: right;\n",
       "    }\n",
       "</style>\n",
       "<table border=\"1\" class=\"dataframe\">\n",
       "  <thead>\n",
       "    <tr style=\"text-align: right;\">\n",
       "      <th></th>\n",
       "      <th>target</th>\n",
       "    </tr>\n",
       "    <tr>\n",
       "      <th>id</th>\n",
       "      <th></th>\n",
       "    </tr>\n",
       "  </thead>\n",
       "  <tbody>\n",
       "    <tr>\n",
       "      <th>0</th>\n",
       "      <td>0.0364</td>\n",
       "    </tr>\n",
       "    <tr>\n",
       "      <th>1</th>\n",
       "      <td>0.0364</td>\n",
       "    </tr>\n",
       "    <tr>\n",
       "      <th>2</th>\n",
       "      <td>0.0364</td>\n",
       "    </tr>\n",
       "    <tr>\n",
       "      <th>3</th>\n",
       "      <td>0.0364</td>\n",
       "    </tr>\n",
       "    <tr>\n",
       "      <th>4</th>\n",
       "      <td>0.0364</td>\n",
       "    </tr>\n",
       "  </tbody>\n",
       "</table>\n",
       "</div>"
      ],
      "text/plain": [
       "    target\n",
       "id        \n",
       "0   0.0364\n",
       "1   0.0364\n",
       "2   0.0364\n",
       "3   0.0364\n",
       "4   0.0364"
      ]
     },
     "execution_count": 5,
     "metadata": {},
     "output_type": "execute_result"
    }
   ],
   "source": [
    "submission.head()"
   ]
  },
  {
   "cell_type": "code",
   "execution_count": 6,
   "id": "7aa26d27",
   "metadata": {
    "execution": {
     "iopub.execute_input": "2022-08-22T13:49:38.941229Z",
     "iopub.status.busy": "2022-08-22T13:49:38.940427Z",
     "iopub.status.idle": "2022-08-22T13:49:39.051977Z",
     "shell.execute_reply": "2022-08-22T13:49:39.048103Z"
    },
    "papermill": {
     "duration": 0.130806,
     "end_time": "2022-08-22T13:49:39.061677",
     "exception": false,
     "start_time": "2022-08-22T13:49:38.930871",
     "status": "completed"
    },
    "tags": []
   },
   "outputs": [
    {
     "name": "stdout",
     "output_type": "stream",
     "text": [
      "<class 'pandas.core.frame.DataFrame'>\n",
      "Int64Index: 595212 entries, 7 to 1488027\n",
      "Data columns (total 58 columns):\n",
      " #   Column          Non-Null Count   Dtype  \n",
      "---  ------          --------------   -----  \n",
      " 0   target          595212 non-null  int64  \n",
      " 1   ps_ind_01       595212 non-null  int64  \n",
      " 2   ps_ind_02_cat   595212 non-null  int64  \n",
      " 3   ps_ind_03       595212 non-null  int64  \n",
      " 4   ps_ind_04_cat   595212 non-null  int64  \n",
      " 5   ps_ind_05_cat   595212 non-null  int64  \n",
      " 6   ps_ind_06_bin   595212 non-null  int64  \n",
      " 7   ps_ind_07_bin   595212 non-null  int64  \n",
      " 8   ps_ind_08_bin   595212 non-null  int64  \n",
      " 9   ps_ind_09_bin   595212 non-null  int64  \n",
      " 10  ps_ind_10_bin   595212 non-null  int64  \n",
      " 11  ps_ind_11_bin   595212 non-null  int64  \n",
      " 12  ps_ind_12_bin   595212 non-null  int64  \n",
      " 13  ps_ind_13_bin   595212 non-null  int64  \n",
      " 14  ps_ind_14       595212 non-null  int64  \n",
      " 15  ps_ind_15       595212 non-null  int64  \n",
      " 16  ps_ind_16_bin   595212 non-null  int64  \n",
      " 17  ps_ind_17_bin   595212 non-null  int64  \n",
      " 18  ps_ind_18_bin   595212 non-null  int64  \n",
      " 19  ps_reg_01       595212 non-null  float64\n",
      " 20  ps_reg_02       595212 non-null  float64\n",
      " 21  ps_reg_03       595212 non-null  float64\n",
      " 22  ps_car_01_cat   595212 non-null  int64  \n",
      " 23  ps_car_02_cat   595212 non-null  int64  \n",
      " 24  ps_car_03_cat   595212 non-null  int64  \n",
      " 25  ps_car_04_cat   595212 non-null  int64  \n",
      " 26  ps_car_05_cat   595212 non-null  int64  \n",
      " 27  ps_car_06_cat   595212 non-null  int64  \n",
      " 28  ps_car_07_cat   595212 non-null  int64  \n",
      " 29  ps_car_08_cat   595212 non-null  int64  \n",
      " 30  ps_car_09_cat   595212 non-null  int64  \n",
      " 31  ps_car_10_cat   595212 non-null  int64  \n",
      " 32  ps_car_11_cat   595212 non-null  int64  \n",
      " 33  ps_car_11       595212 non-null  int64  \n",
      " 34  ps_car_12       595212 non-null  float64\n",
      " 35  ps_car_13       595212 non-null  float64\n",
      " 36  ps_car_14       595212 non-null  float64\n",
      " 37  ps_car_15       595212 non-null  float64\n",
      " 38  ps_calc_01      595212 non-null  float64\n",
      " 39  ps_calc_02      595212 non-null  float64\n",
      " 40  ps_calc_03      595212 non-null  float64\n",
      " 41  ps_calc_04      595212 non-null  int64  \n",
      " 42  ps_calc_05      595212 non-null  int64  \n",
      " 43  ps_calc_06      595212 non-null  int64  \n",
      " 44  ps_calc_07      595212 non-null  int64  \n",
      " 45  ps_calc_08      595212 non-null  int64  \n",
      " 46  ps_calc_09      595212 non-null  int64  \n",
      " 47  ps_calc_10      595212 non-null  int64  \n",
      " 48  ps_calc_11      595212 non-null  int64  \n",
      " 49  ps_calc_12      595212 non-null  int64  \n",
      " 50  ps_calc_13      595212 non-null  int64  \n",
      " 51  ps_calc_14      595212 non-null  int64  \n",
      " 52  ps_calc_15_bin  595212 non-null  int64  \n",
      " 53  ps_calc_16_bin  595212 non-null  int64  \n",
      " 54  ps_calc_17_bin  595212 non-null  int64  \n",
      " 55  ps_calc_18_bin  595212 non-null  int64  \n",
      " 56  ps_calc_19_bin  595212 non-null  int64  \n",
      " 57  ps_calc_20_bin  595212 non-null  int64  \n",
      "dtypes: float64(10), int64(48)\n",
      "memory usage: 267.9 MB\n"
     ]
    }
   ],
   "source": [
    "train.info()"
   ]
  },
  {
   "cell_type": "code",
   "execution_count": 7,
   "id": "123d38f6",
   "metadata": {
    "execution": {
     "iopub.execute_input": "2022-08-22T13:49:39.084997Z",
     "iopub.status.busy": "2022-08-22T13:49:39.084050Z",
     "iopub.status.idle": "2022-08-22T13:49:45.061906Z",
     "shell.execute_reply": "2022-08-22T13:49:45.060562Z"
    },
    "papermill": {
     "duration": 5.994647,
     "end_time": "2022-08-22T13:49:45.068837",
     "exception": false,
     "start_time": "2022-08-22T13:49:39.074190",
     "status": "completed"
    },
    "tags": []
   },
   "outputs": [
    {
     "data": {
      "image/png": "[encoded data removed]",
      "text/plain": [
       "<Figure size 936x432 with 3 Axes>"
      ]
     },
     "metadata": {
      "needs_background": "light"
     },
     "output_type": "display_data"
    }
   ],
   "source": [
    "import numpy as np\n",
    "import missingno as msno\n",
    "\n",
    "# 훈련 데이터 복사본에서 -1을 np.NaN로 변환\n",
    "train_copy = train.copy().replace(-1, np.NaN)\n",
    "\n",
    "# 결측값 시각화 (처음 28개만)\n",
    "msno.bar(df=train_copy.iloc[:,1:29], figsize=(13,6));"
   ]
  },
  {
   "cell_type": "code",
   "execution_count": 8,
   "id": "42111b7e",
   "metadata": {
    "execution": {
     "iopub.execute_input": "2022-08-22T13:49:45.091112Z",
     "iopub.status.busy": "2022-08-22T13:49:45.090296Z",
     "iopub.status.idle": "2022-08-22T13:49:47.433280Z",
     "shell.execute_reply": "2022-08-22T13:49:47.432040Z"
    },
    "papermill": {
     "duration": 2.356255,
     "end_time": "2022-08-22T13:49:47.435930",
     "exception": false,
     "start_time": "2022-08-22T13:49:45.079675",
     "status": "completed"
    },
    "tags": []
   },
   "outputs": [
    {
     "data": {
      "image/png": "[encoded data removed]",
      "text/plain": [
       "<Figure size 936x432 with 3 Axes>"
      ]
     },
     "metadata": {
      "needs_background": "light"
     },
     "output_type": "display_data"
    }
   ],
   "source": [
    "msno.bar(df=train_copy.iloc[:,29:], figsize=(13,6));"
   ]
  },
  {
   "cell_type": "code",
   "execution_count": 9,
   "id": "36fbfe04",
   "metadata": {
    "execution": {
     "iopub.execute_input": "2022-08-22T13:49:47.457042Z",
     "iopub.status.busy": "2022-08-22T13:49:47.456626Z",
     "iopub.status.idle": "2022-08-22T13:49:54.022181Z",
     "shell.execute_reply": "2022-08-22T13:49:54.021012Z"
    },
    "papermill": {
     "duration": 6.579274,
     "end_time": "2022-08-22T13:49:54.024795",
     "exception": false,
     "start_time": "2022-08-22T13:49:47.445521",
     "status": "completed"
    },
    "tags": []
   },
   "outputs": [
    {
     "data": {
      "image/png": "[encoded data removed]",
      "text/plain": [
       "<Figure size 936x432 with 2 Axes>"
      ]
     },
     "metadata": {
      "needs_background": "light"
     },
     "output_type": "display_data"
    }
   ],
   "source": [
    "# 결측값 매트릭스 형태로 시각화하기\n",
    "msno.matrix(df=train_copy.iloc[:, 1:29], figsize=(13, 6));"
   ]
  },
  {
   "cell_type": "code",
   "execution_count": 10,
   "id": "0993e634",
   "metadata": {
    "execution": {
     "iopub.execute_input": "2022-08-22T13:49:54.051300Z",
     "iopub.status.busy": "2022-08-22T13:49:54.049843Z",
     "iopub.status.idle": "2022-08-22T13:49:54.059208Z",
     "shell.execute_reply": "2022-08-22T13:49:54.058252Z"
    },
    "papermill": {
     "duration": 0.026617,
     "end_time": "2022-08-22T13:49:54.061639",
     "exception": false,
     "start_time": "2022-08-22T13:49:54.035022",
     "status": "completed"
    },
    "tags": []
   },
   "outputs": [],
   "source": [
    "def resumetable(df):\n",
    "    print(f'데이터셋 형상:{df.shape}')\n",
    "    summary = pd.DataFrame(df.dtypes, columns=['데이터 타입'])\n",
    "    summary['결측값 개수'] = (df == -1).sum().values # 피처별 -1의 개수\n",
    "    summary['고윳값 개수'] = df.nunique().values\n",
    "    summary['데이터 종류'] = None\n",
    "    for col in df.columns:\n",
    "        if 'bin' in col or col=='target':\n",
    "            summary.loc[col, '데이터 종류'] = '이진형'\n",
    "        elif 'cat' in col:\n",
    "            summary.loc[col, '데이터 종류'] = '명목형'\n",
    "        elif df[col].dtype == float:\n",
    "            summary.loc[col, '데이터 종류'] = '연속형'\n",
    "        elif df[col].dtype == int:\n",
    "            summary.loc[col, '데이터 종류'] = '순서형'\n",
    "            \n",
    "    return summary"
   ]
  },
  {
   "cell_type": "code",
   "execution_count": 11,
   "id": "f6e251dd",
   "metadata": {
    "execution": {
     "iopub.execute_input": "2022-08-22T13:49:54.084293Z",
     "iopub.status.busy": "2022-08-22T13:49:54.083477Z",
     "iopub.status.idle": "2022-08-22T13:49:54.441600Z",
     "shell.execute_reply": "2022-08-22T13:49:54.440375Z"
    },
    "papermill": {
     "duration": 0.372445,
     "end_time": "2022-08-22T13:49:54.444185",
     "exception": false,
     "start_time": "2022-08-22T13:49:54.071740",
     "status": "completed"
    },
    "tags": []
   },
   "outputs": [
    {
     "name": "stdout",
     "output_type": "stream",
     "text": [
      "데이터셋 형상:(595212, 58)\n"
     ]
    },
    {
     "data": {
      "text/html": [
       "<div>\n",
       "<style scoped>\n",
       "    .dataframe tbody tr th:only-of-type {\n",
       "        vertical-align: middle;\n",
       "    }\n",
       "\n",
       "    .dataframe tbody tr th {\n",
       "        vertical-align: top;\n",
       "    }\n",
       "\n",
       "    .dataframe thead th {\n",
       "        text-align: right;\n",
       "    }\n",
       "</style>\n",
       "<table border=\"1\" class=\"dataframe\">\n",
       "  <thead>\n",
       "    <tr style=\"text-align: right;\">\n",
       "      <th></th>\n",
       "      <th>데이터 타입</th>\n",
       "      <th>결측값 개수</th>\n",
       "      <th>고윳값 개수</th>\n",
       "      <th>데이터 종류</th>\n",
       "    </tr>\n",
       "  </thead>\n",
       "  <tbody>\n",
       "    <tr>\n",
       "      <th>target</th>\n",
       "      <td>int64</td>\n",
       "      <td>0</td>\n",
       "      <td>2</td>\n",
       "      <td>이진형</td>\n",
       "    </tr>\n",
       "    <tr>\n",
       "      <th>ps_ind_01</th>\n",
       "      <td>int64</td>\n",
       "      <td>0</td>\n",
       "      <td>8</td>\n",
       "      <td>순서형</td>\n",
       "    </tr>\n",
       "    <tr>\n",
       "      <th>ps_ind_02_cat</th>\n",
       "      <td>int64</td>\n",
       "      <td>216</td>\n",
       "      <td>5</td>\n",
       "      <td>명목형</td>\n",
       "    </tr>\n",
       "    <tr>\n",
       "      <th>ps_ind_03</th>\n",
       "      <td>int64</td>\n",
       "      <td>0</td>\n",
       "      <td>12</td>\n",
       "      <td>순서형</td>\n",
       "    </tr>\n",
       "    <tr>\n",
       "      <th>ps_ind_04_cat</th>\n",
       "      <td>int64</td>\n",
       "      <td>83</td>\n",
       "      <td>3</td>\n",
       "      <td>명목형</td>\n",
       "    </tr>\n",
       "    <tr>\n",
       "      <th>ps_ind_05_cat</th>\n",
       "      <td>int64</td>\n",
       "      <td>5809</td>\n",
       "      <td>8</td>\n",
       "      <td>명목형</td>\n",
       "    </tr>\n",
       "    <tr>\n",
       "      <th>ps_ind_06_bin</th>\n",
       "      <td>int64</td>\n",
       "      <td>0</td>\n",
       "      <td>2</td>\n",
       "      <td>이진형</td>\n",
       "    </tr>\n",
       "    <tr>\n",
       "      <th>ps_ind_07_bin</th>\n",
       "      <td>int64</td>\n",
       "      <td>0</td>\n",
       "      <td>2</td>\n",
       "      <td>이진형</td>\n",
       "    </tr>\n",
       "    <tr>\n",
       "      <th>ps_ind_08_bin</th>\n",
       "      <td>int64</td>\n",
       "      <td>0</td>\n",
       "      <td>2</td>\n",
       "      <td>이진형</td>\n",
       "    </tr>\n",
       "    <tr>\n",
       "      <th>ps_ind_09_bin</th>\n",
       "      <td>int64</td>\n",
       "      <td>0</td>\n",
       "      <td>2</td>\n",
       "      <td>이진형</td>\n",
       "    </tr>\n",
       "    <tr>\n",
       "      <th>ps_ind_10_bin</th>\n",
       "      <td>int64</td>\n",
       "      <td>0</td>\n",
       "      <td>2</td>\n",
       "      <td>이진형</td>\n",
       "    </tr>\n",
       "    <tr>\n",
       "      <th>ps_ind_11_bin</th>\n",
       "      <td>int64</td>\n",
       "      <td>0</td>\n",
       "      <td>2</td>\n",
       "      <td>이진형</td>\n",
       "    </tr>\n",
       "    <tr>\n",
       "      <th>ps_ind_12_bin</th>\n",
       "      <td>int64</td>\n",
       "      <td>0</td>\n",
       "      <td>2</td>\n",
       "      <td>이진형</td>\n",
       "    </tr>\n",
       "    <tr>\n",
       "      <th>ps_ind_13_bin</th>\n",
       "      <td>int64</td>\n",
       "      <td>0</td>\n",
       "      <td>2</td>\n",
       "      <td>이진형</td>\n",
       "    </tr>\n",
       "    <tr>\n",
       "      <th>ps_ind_14</th>\n",
       "      <td>int64</td>\n",
       "      <td>0</td>\n",
       "      <td>5</td>\n",
       "      <td>순서형</td>\n",
       "    </tr>\n",
       "    <tr>\n",
       "      <th>ps_ind_15</th>\n",
       "      <td>int64</td>\n",
       "      <td>0</td>\n",
       "      <td>14</td>\n",
       "      <td>순서형</td>\n",
       "    </tr>\n",
       "    <tr>\n",
       "      <th>ps_ind_16_bin</th>\n",
       "      <td>int64</td>\n",
       "      <td>0</td>\n",
       "      <td>2</td>\n",
       "      <td>이진형</td>\n",
       "    </tr>\n",
       "    <tr>\n",
       "      <th>ps_ind_17_bin</th>\n",
       "      <td>int64</td>\n",
       "      <td>0</td>\n",
       "      <td>2</td>\n",
       "      <td>이진형</td>\n",
       "    </tr>\n",
       "    <tr>\n",
       "      <th>ps_ind_18_bin</th>\n",
       "      <td>int64</td>\n",
       "      <td>0</td>\n",
       "      <td>2</td>\n",
       "      <td>이진형</td>\n",
       "    </tr>\n",
       "    <tr>\n",
       "      <th>ps_reg_01</th>\n",
       "      <td>float64</td>\n",
       "      <td>0</td>\n",
       "      <td>10</td>\n",
       "      <td>연속형</td>\n",
       "    </tr>\n",
       "    <tr>\n",
       "      <th>ps_reg_02</th>\n",
       "      <td>float64</td>\n",
       "      <td>0</td>\n",
       "      <td>19</td>\n",
       "      <td>연속형</td>\n",
       "    </tr>\n",
       "    <tr>\n",
       "      <th>ps_reg_03</th>\n",
       "      <td>float64</td>\n",
       "      <td>107772</td>\n",
       "      <td>5013</td>\n",
       "      <td>연속형</td>\n",
       "    </tr>\n",
       "    <tr>\n",
       "      <th>ps_car_01_cat</th>\n",
       "      <td>int64</td>\n",
       "      <td>107</td>\n",
       "      <td>13</td>\n",
       "      <td>명목형</td>\n",
       "    </tr>\n",
       "    <tr>\n",
       "      <th>ps_car_02_cat</th>\n",
       "      <td>int64</td>\n",
       "      <td>5</td>\n",
       "      <td>3</td>\n",
       "      <td>명목형</td>\n",
       "    </tr>\n",
       "    <tr>\n",
       "      <th>ps_car_03_cat</th>\n",
       "      <td>int64</td>\n",
       "      <td>411231</td>\n",
       "      <td>3</td>\n",
       "      <td>명목형</td>\n",
       "    </tr>\n",
       "    <tr>\n",
       "      <th>ps_car_04_cat</th>\n",
       "      <td>int64</td>\n",
       "      <td>0</td>\n",
       "      <td>10</td>\n",
       "      <td>명목형</td>\n",
       "    </tr>\n",
       "    <tr>\n",
       "      <th>ps_car_05_cat</th>\n",
       "      <td>int64</td>\n",
       "      <td>266551</td>\n",
       "      <td>3</td>\n",
       "      <td>명목형</td>\n",
       "    </tr>\n",
       "    <tr>\n",
       "      <th>ps_car_06_cat</th>\n",
       "      <td>int64</td>\n",
       "      <td>0</td>\n",
       "      <td>18</td>\n",
       "      <td>명목형</td>\n",
       "    </tr>\n",
       "    <tr>\n",
       "      <th>ps_car_07_cat</th>\n",
       "      <td>int64</td>\n",
       "      <td>11489</td>\n",
       "      <td>3</td>\n",
       "      <td>명목형</td>\n",
       "    </tr>\n",
       "    <tr>\n",
       "      <th>ps_car_08_cat</th>\n",
       "      <td>int64</td>\n",
       "      <td>0</td>\n",
       "      <td>2</td>\n",
       "      <td>명목형</td>\n",
       "    </tr>\n",
       "    <tr>\n",
       "      <th>ps_car_09_cat</th>\n",
       "      <td>int64</td>\n",
       "      <td>569</td>\n",
       "      <td>6</td>\n",
       "      <td>명목형</td>\n",
       "    </tr>\n",
       "    <tr>\n",
       "      <th>ps_car_10_cat</th>\n",
       "      <td>int64</td>\n",
       "      <td>0</td>\n",
       "      <td>3</td>\n",
       "      <td>명목형</td>\n",
       "    </tr>\n",
       "    <tr>\n",
       "      <th>ps_car_11_cat</th>\n",
       "      <td>int64</td>\n",
       "      <td>0</td>\n",
       "      <td>104</td>\n",
       "      <td>명목형</td>\n",
       "    </tr>\n",
       "    <tr>\n",
       "      <th>ps_car_11</th>\n",
       "      <td>int64</td>\n",
       "      <td>5</td>\n",
       "      <td>5</td>\n",
       "      <td>순서형</td>\n",
       "    </tr>\n",
       "    <tr>\n",
       "      <th>ps_car_12</th>\n",
       "      <td>float64</td>\n",
       "      <td>1</td>\n",
       "      <td>184</td>\n",
       "      <td>연속형</td>\n",
       "    </tr>\n",
       "    <tr>\n",
       "      <th>ps_car_13</th>\n",
       "      <td>float64</td>\n",
       "      <td>0</td>\n",
       "      <td>70482</td>\n",
       "      <td>연속형</td>\n",
       "    </tr>\n",
       "    <tr>\n",
       "      <th>ps_car_14</th>\n",
       "      <td>float64</td>\n",
       "      <td>42620</td>\n",
       "      <td>850</td>\n",
       "      <td>연속형</td>\n",
       "    </tr>\n",
       "    <tr>\n",
       "      <th>ps_car_15</th>\n",
       "      <td>float64</td>\n",
       "      <td>0</td>\n",
       "      <td>15</td>\n",
       "      <td>연속형</td>\n",
       "    </tr>\n",
       "    <tr>\n",
       "      <th>ps_calc_01</th>\n",
       "      <td>float64</td>\n",
       "      <td>0</td>\n",
       "      <td>10</td>\n",
       "      <td>연속형</td>\n",
       "    </tr>\n",
       "    <tr>\n",
       "      <th>ps_calc_02</th>\n",
       "      <td>float64</td>\n",
       "      <td>0</td>\n",
       "      <td>10</td>\n",
       "      <td>연속형</td>\n",
       "    </tr>\n",
       "    <tr>\n",
       "      <th>ps_calc_03</th>\n",
       "      <td>float64</td>\n",
       "      <td>0</td>\n",
       "      <td>10</td>\n",
       "      <td>연속형</td>\n",
       "    </tr>\n",
       "    <tr>\n",
       "      <th>ps_calc_04</th>\n",
       "      <td>int64</td>\n",
       "      <td>0</td>\n",
       "      <td>6</td>\n",
       "      <td>순서형</td>\n",
       "    </tr>\n",
       "    <tr>\n",
       "      <th>ps_calc_05</th>\n",
       "      <td>int64</td>\n",
       "      <td>0</td>\n",
       "      <td>7</td>\n",
       "      <td>순서형</td>\n",
       "    </tr>\n",
       "    <tr>\n",
       "      <th>ps_calc_06</th>\n",
       "      <td>int64</td>\n",
       "      <td>0</td>\n",
       "      <td>11</td>\n",
       "      <td>순서형</td>\n",
       "    </tr>\n",
       "    <tr>\n",
       "      <th>ps_calc_07</th>\n",
       "      <td>int64</td>\n",
       "      <td>0</td>\n",
       "      <td>10</td>\n",
       "      <td>순서형</td>\n",
       "    </tr>\n",
       "    <tr>\n",
       "      <th>ps_calc_08</th>\n",
       "      <td>int64</td>\n",
       "      <td>0</td>\n",
       "      <td>11</td>\n",
       "      <td>순서형</td>\n",
       "    </tr>\n",
       "    <tr>\n",
       "      <th>ps_calc_09</th>\n",
       "      <td>int64</td>\n",
       "      <td>0</td>\n",
       "      <td>8</td>\n",
       "      <td>순서형</td>\n",
       "    </tr>\n",
       "    <tr>\n",
       "      <th>ps_calc_10</th>\n",
       "      <td>int64</td>\n",
       "      <td>0</td>\n",
       "      <td>26</td>\n",
       "      <td>순서형</td>\n",
       "    </tr>\n",
       "    <tr>\n",
       "      <th>ps_calc_11</th>\n",
       "      <td>int64</td>\n",
       "      <td>0</td>\n",
       "      <td>20</td>\n",
       "      <td>순서형</td>\n",
       "    </tr>\n",
       "    <tr>\n",
       "      <th>ps_calc_12</th>\n",
       "      <td>int64</td>\n",
       "      <td>0</td>\n",
       "      <td>11</td>\n",
       "      <td>순서형</td>\n",
       "    </tr>\n",
       "    <tr>\n",
       "      <th>ps_calc_13</th>\n",
       "      <td>int64</td>\n",
       "      <td>0</td>\n",
       "      <td>14</td>\n",
       "      <td>순서형</td>\n",
       "    </tr>\n",
       "    <tr>\n",
       "      <th>ps_calc_14</th>\n",
       "      <td>int64</td>\n",
       "      <td>0</td>\n",
       "      <td>24</td>\n",
       "      <td>순서형</td>\n",
       "    </tr>\n",
       "    <tr>\n",
       "      <th>ps_calc_15_bin</th>\n",
       "      <td>int64</td>\n",
       "      <td>0</td>\n",
       "      <td>2</td>\n",
       "      <td>이진형</td>\n",
       "    </tr>\n",
       "    <tr>\n",
       "      <th>ps_calc_16_bin</th>\n",
       "      <td>int64</td>\n",
       "      <td>0</td>\n",
       "      <td>2</td>\n",
       "      <td>이진형</td>\n",
       "    </tr>\n",
       "    <tr>\n",
       "      <th>ps_calc_17_bin</th>\n",
       "      <td>int64</td>\n",
       "      <td>0</td>\n",
       "      <td>2</td>\n",
       "      <td>이진형</td>\n",
       "    </tr>\n",
       "    <tr>\n",
       "      <th>ps_calc_18_bin</th>\n",
       "      <td>int64</td>\n",
       "      <td>0</td>\n",
       "      <td>2</td>\n",
       "      <td>이진형</td>\n",
       "    </tr>\n",
       "    <tr>\n",
       "      <th>ps_calc_19_bin</th>\n",
       "      <td>int64</td>\n",
       "      <td>0</td>\n",
       "      <td>2</td>\n",
       "      <td>이진형</td>\n",
       "    </tr>\n",
       "    <tr>\n",
       "      <th>ps_calc_20_bin</th>\n",
       "      <td>int64</td>\n",
       "      <td>0</td>\n",
       "      <td>2</td>\n",
       "      <td>이진형</td>\n",
       "    </tr>\n",
       "  </tbody>\n",
       "</table>\n",
       "</div>"
      ],
      "text/plain": [
       "                 데이터 타입  결측값 개수  고윳값 개수 데이터 종류\n",
       "target            int64       0       2    이진형\n",
       "ps_ind_01         int64       0       8    순서형\n",
       "ps_ind_02_cat     int64     216       5    명목형\n",
       "ps_ind_03         int64       0      12    순서형\n",
       "ps_ind_04_cat     int64      83       3    명목형\n",
       "ps_ind_05_cat     int64    5809       8    명목형\n",
       "ps_ind_06_bin     int64       0       2    이진형\n",
       "ps_ind_07_bin     int64       0       2    이진형\n",
       "ps_ind_08_bin     int64       0       2    이진형\n",
       "ps_ind_09_bin     int64       0       2    이진형\n",
       "ps_ind_10_bin     int64       0       2    이진형\n",
       "ps_ind_11_bin     int64       0       2    이진형\n",
       "ps_ind_12_bin     int64       0       2    이진형\n",
       "ps_ind_13_bin     int64       0       2    이진형\n",
       "ps_ind_14         int64       0       5    순서형\n",
       "ps_ind_15         int64       0      14    순서형\n",
       "ps_ind_16_bin     int64       0       2    이진형\n",
       "ps_ind_17_bin     int64       0       2    이진형\n",
       "ps_ind_18_bin     int64       0       2    이진형\n",
       "ps_reg_01       float64       0      10    연속형\n",
       "ps_reg_02       float64       0      19    연속형\n",
       "ps_reg_03       float64  107772    5013    연속형\n",
       "ps_car_01_cat     int64     107      13    명목형\n",
       "ps_car_02_cat     int64       5       3    명목형\n",
       "ps_car_03_cat     int64  411231       3    명목형\n",
       "ps_car_04_cat     int64       0      10    명목형\n",
       "ps_car_05_cat     int64  266551       3    명목형\n",
       "ps_car_06_cat     int64       0      18    명목형\n",
       "ps_car_07_cat     int64   11489       3    명목형\n",
       "ps_car_08_cat     int64       0       2    명목형\n",
       "ps_car_09_cat     int64     569       6    명목형\n",
       "ps_car_10_cat     int64       0       3    명목형\n",
       "ps_car_11_cat     int64       0     104    명목형\n",
       "ps_car_11         int64       5       5    순서형\n",
       "ps_car_12       float64       1     184    연속형\n",
       "ps_car_13       float64       0   70482    연속형\n",
       "ps_car_14       float64   42620     850    연속형\n",
       "ps_car_15       float64       0      15    연속형\n",
       "ps_calc_01      float64       0      10    연속형\n",
       "ps_calc_02      float64       0      10    연속형\n",
       "ps_calc_03      float64       0      10    연속형\n",
       "ps_calc_04        int64       0       6    순서형\n",
       "ps_calc_05        int64       0       7    순서형\n",
       "ps_calc_06        int64       0      11    순서형\n",
       "ps_calc_07        int64       0      10    순서형\n",
       "ps_calc_08        int64       0      11    순서형\n",
       "ps_calc_09        int64       0       8    순서형\n",
       "ps_calc_10        int64       0      26    순서형\n",
       "ps_calc_11        int64       0      20    순서형\n",
       "ps_calc_12        int64       0      11    순서형\n",
       "ps_calc_13        int64       0      14    순서형\n",
       "ps_calc_14        int64       0      24    순서형\n",
       "ps_calc_15_bin    int64       0       2    이진형\n",
       "ps_calc_16_bin    int64       0       2    이진형\n",
       "ps_calc_17_bin    int64       0       2    이진형\n",
       "ps_calc_18_bin    int64       0       2    이진형\n",
       "ps_calc_19_bin    int64       0       2    이진형\n",
       "ps_calc_20_bin    int64       0       2    이진형"
      ]
     },
     "execution_count": 11,
     "metadata": {},
     "output_type": "execute_result"
    }
   ],
   "source": [
    "summary = resumetable(train)\n",
    "summary"
   ]
  },
  {
   "cell_type": "code",
   "execution_count": 12,
   "id": "d3ed05c3",
   "metadata": {
    "execution": {
     "iopub.execute_input": "2022-08-22T13:49:54.469355Z",
     "iopub.status.busy": "2022-08-22T13:49:54.467790Z",
     "iopub.status.idle": "2022-08-22T13:49:54.480396Z",
     "shell.execute_reply": "2022-08-22T13:49:54.479125Z"
    },
    "papermill": {
     "duration": 0.027899,
     "end_time": "2022-08-22T13:49:54.483111",
     "exception": false,
     "start_time": "2022-08-22T13:49:54.455212",
     "status": "completed"
    },
    "tags": []
   },
   "outputs": [
    {
     "data": {
      "text/plain": [
       "Index(['ps_ind_02_cat', 'ps_ind_04_cat', 'ps_ind_05_cat', 'ps_car_01_cat',\n",
       "       'ps_car_02_cat', 'ps_car_03_cat', 'ps_car_04_cat', 'ps_car_05_cat',\n",
       "       'ps_car_06_cat', 'ps_car_07_cat', 'ps_car_08_cat', 'ps_car_09_cat',\n",
       "       'ps_car_10_cat', 'ps_car_11_cat'],\n",
       "      dtype='object')"
      ]
     },
     "execution_count": 12,
     "metadata": {},
     "output_type": "execute_result"
    }
   ],
   "source": [
    "summary[summary['데이터 종류']=='명목형'].index"
   ]
  },
  {
   "cell_type": "code",
   "execution_count": 13,
   "id": "55e6a607",
   "metadata": {
    "execution": {
     "iopub.execute_input": "2022-08-22T13:49:54.506780Z",
     "iopub.status.busy": "2022-08-22T13:49:54.506056Z",
     "iopub.status.idle": "2022-08-22T13:49:54.513583Z",
     "shell.execute_reply": "2022-08-22T13:49:54.512532Z"
    },
    "papermill": {
     "duration": 0.021729,
     "end_time": "2022-08-22T13:49:54.515709",
     "exception": false,
     "start_time": "2022-08-22T13:49:54.493980",
     "status": "completed"
    },
    "tags": []
   },
   "outputs": [
    {
     "data": {
      "text/plain": [
       "Index(['ps_reg_01', 'ps_reg_02', 'ps_reg_03', 'ps_car_12', 'ps_car_13',\n",
       "       'ps_car_14', 'ps_car_15', 'ps_calc_01', 'ps_calc_02', 'ps_calc_03'],\n",
       "      dtype='object')"
      ]
     },
     "execution_count": 13,
     "metadata": {},
     "output_type": "execute_result"
    }
   ],
   "source": [
    "summary[summary['데이터 타입'] =='float64'].index"
   ]
  },
  {
   "cell_type": "markdown",
   "id": "577f3a59",
   "metadata": {
    "papermill": {
     "duration": 0.010438,
     "end_time": "2022-08-22T13:49:54.537152",
     "exception": false,
     "start_time": "2022-08-22T13:49:54.526714",
     "status": "completed"
    },
    "tags": []
   },
   "source": [
    "## 데이터 시각화"
   ]
  },
  {
   "cell_type": "code",
   "execution_count": 14,
   "id": "47a35df5",
   "metadata": {
    "execution": {
     "iopub.execute_input": "2022-08-22T13:49:54.562183Z",
     "iopub.status.busy": "2022-08-22T13:49:54.561380Z",
     "iopub.status.idle": "2022-08-22T13:49:54.568690Z",
     "shell.execute_reply": "2022-08-22T13:49:54.567675Z"
    },
    "papermill": {
     "duration": 0.022379,
     "end_time": "2022-08-22T13:49:54.571117",
     "exception": false,
     "start_time": "2022-08-22T13:49:54.548738",
     "status": "completed"
    },
    "tags": []
   },
   "outputs": [],
   "source": [
    "import seaborn as sns\n",
    "import matplotlib as mpl\n",
    "import matplotlib.pyplot as plt\n",
    "%matplotlib inline"
   ]
  },
  {
   "cell_type": "markdown",
   "id": "b6851f53",
   "metadata": {
    "papermill": {
     "duration": 0.010908,
     "end_time": "2022-08-22T13:49:54.593409",
     "exception": false,
     "start_time": "2022-08-22T13:49:54.582501",
     "status": "completed"
    },
    "tags": []
   },
   "source": [
    "* 타겟값 분포"
   ]
  },
  {
   "cell_type": "code",
   "execution_count": 15,
   "id": "574228be",
   "metadata": {
    "execution": {
     "iopub.execute_input": "2022-08-22T13:49:54.618265Z",
     "iopub.status.busy": "2022-08-22T13:49:54.617472Z",
     "iopub.status.idle": "2022-08-22T13:49:54.910463Z",
     "shell.execute_reply": "2022-08-22T13:49:54.908952Z"
    },
    "papermill": {
     "duration": 0.308562,
     "end_time": "2022-08-22T13:49:54.913243",
     "exception": false,
     "start_time": "2022-08-22T13:49:54.604681",
     "status": "completed"
    },
    "tags": []
   },
   "outputs": [
    {
     "data": {
      "image/png": "[encoded data removed]",
      "text/plain": [
       "<Figure size 504x432 with 1 Axes>"
      ]
     },
     "metadata": {
      "needs_background": "light"
     },
     "output_type": "display_data"
    }
   ],
   "source": [
    "def write_percent(ax, total_size):\n",
    "    '''도형 객체를 순회하며 막대 그래프 상단에 타겟값 비율 표시'''\n",
    "    for patch in ax.patches:\n",
    "        height = patch.get_height()     # 도형 높이(데이터 개수)\n",
    "        width = patch.get_width()       # 도형 너비\n",
    "        left_coord = patch.get_x()      # 도형 왼쪽 테두리의 x축 위치\n",
    "        percent = height/total_size*100 # 타겟값 비율\n",
    "        \n",
    "        # (x, y) 좌표에 텍스트 입력\n",
    "        ax.text(left_coord + width/2.0,     # x축 위치\n",
    "                height + total_size*0.001,  # y축 위치\n",
    "                '{:1.1f}%'.format(percent), # 입력 텍스트\n",
    "                ha='center')                # 가운데 정렬\n",
    "\n",
    "mpl.rc('font', size=15)\n",
    "plt.figure(figsize=(7, 6))\n",
    "\n",
    "ax = sns.countplot(x='target', data=train)\n",
    "write_percent(ax, len(train)) # 비율 표시\n",
    "ax.set_title('Target Distribution');"
   ]
  },
  {
   "cell_type": "markdown",
   "id": "f17edbe7",
   "metadata": {
    "papermill": {
     "duration": 0.011531,
     "end_time": "2022-08-22T13:49:54.937532",
     "exception": false,
     "start_time": "2022-08-22T13:49:54.926001",
     "status": "completed"
    },
    "tags": []
   },
   "source": [
    "### 이진 피처"
   ]
  },
  {
   "cell_type": "code",
   "execution_count": 16,
   "id": "369b0943",
   "metadata": {
    "execution": {
     "iopub.execute_input": "2022-08-22T13:49:54.962884Z",
     "iopub.status.busy": "2022-08-22T13:49:54.962485Z",
     "iopub.status.idle": "2022-08-22T13:49:54.970371Z",
     "shell.execute_reply": "2022-08-22T13:49:54.969276Z"
    },
    "papermill": {
     "duration": 0.023556,
     "end_time": "2022-08-22T13:49:54.972700",
     "exception": false,
     "start_time": "2022-08-22T13:49:54.949144",
     "status": "completed"
    },
    "tags": []
   },
   "outputs": [],
   "source": [
    "import matplotlib.gridspec as gridspec\n",
    "\n",
    "def plot_target_ratio_by_features(df, features, num_rows, num_cols, size=(12, 18)):\n",
    "    mpl.rc('font', size=9)\n",
    "    plt.figure(figsize=size)                           # 전체 Figure 크기 설정\n",
    "    grid = gridspec.GridSpec(num_rows, num_cols)       # 서브플롯 배치\n",
    "    plt.subplots_adjust(wspace=0.3, hspace=0.3)        # 서브플롯 좌우/상하 여백 설정\n",
    "    \n",
    "    for idx, feature in enumerate(features):\n",
    "        ax = plt.subplot(grid[idx])\n",
    "        # ax축에 고윳값별 타깃값 1 비율을 막대 그래프로 그리기\n",
    "        sns.barplot(x=feature, y='target', data=df, palette='Set2', ax=ax)"
   ]
  },
  {
   "cell_type": "code",
   "execution_count": 17,
   "id": "ac99cf9a",
   "metadata": {
    "execution": {
     "iopub.execute_input": "2022-08-22T13:49:54.998823Z",
     "iopub.status.busy": "2022-08-22T13:49:54.998142Z",
     "iopub.status.idle": "2022-08-22T13:53:29.667481Z",
     "shell.execute_reply": "2022-08-22T13:53:29.666273Z"
    },
    "papermill": {
     "duration": 214.699013,
     "end_time": "2022-08-22T13:53:29.683638",
     "exception": false,
     "start_time": "2022-08-22T13:49:54.984625",
     "status": "completed"
    },
    "tags": []
   },
   "outputs": [
    {
     "data": {
      "image/png": "[encoded data removed]",
      "text/plain": [
       "<Figure size 864x1296 with 18 Axes>"
      ]
     },
     "metadata": {
      "needs_background": "light"
     },
     "output_type": "display_data"
    }
   ],
   "source": [
    "bin_features = summary[summary['데이터 종류'] == '이진형'].index  # 이진 피처\n",
    "# 이진 피처 고윳값별 타겟값 1 비율을 막대 그래프로 그리기\n",
    "plot_target_ratio_by_features(train, bin_features, 6, 3)  # 6행 3열 배치"
   ]
  },
  {
   "cell_type": "markdown",
   "id": "20fe12ff",
   "metadata": {
    "papermill": {
     "duration": 0.011862,
     "end_time": "2022-08-22T13:53:29.707509",
     "exception": false,
     "start_time": "2022-08-22T13:53:29.695647",
     "status": "completed"
    },
    "tags": []
   },
   "source": [
    "* ps_ind_10_bin ~ 13 : 신뢰구간이 넓어서 통계적 유효성이 떨어짐\n",
    "* ps_calc_15_bin ~ 20 : 고윳값별 타겟값 비율 차이가 없어 타겟값 예측력이 없음"
   ]
  },
  {
   "cell_type": "markdown",
   "id": "fc7f5fb9",
   "metadata": {
    "papermill": {
     "duration": 0.012053,
     "end_time": "2022-08-22T13:53:29.732140",
     "exception": false,
     "start_time": "2022-08-22T13:53:29.720087",
     "status": "completed"
    },
    "tags": []
   },
   "source": [
    "### 명목형 피처"
   ]
  },
  {
   "cell_type": "code",
   "execution_count": 18,
   "id": "ce527076",
   "metadata": {
    "execution": {
     "iopub.execute_input": "2022-08-22T13:53:29.759972Z",
     "iopub.status.busy": "2022-08-22T13:53:29.759197Z",
     "iopub.status.idle": "2022-08-22T13:56:00.940031Z",
     "shell.execute_reply": "2022-08-22T13:56:00.938720Z"
    },
    "papermill": {
     "duration": 151.213569,
     "end_time": "2022-08-22T13:56:00.958724",
     "exception": false,
     "start_time": "2022-08-22T13:53:29.745155",
     "status": "completed"
    },
    "tags": []
   },
   "outputs": [
    {
     "data": {
      "image/png": "[encoded data removed]",
      "text/plain": [
       "<Figure size 864x1296 with 14 Axes>"
      ]
     },
     "metadata": {
      "needs_background": "light"
     },
     "output_type": "display_data"
    }
   ],
   "source": [
    "nom_features = summary[summary['데이터 종류'] == '명목형'].index   # 명목형 피처\n",
    "\n",
    "plot_target_ratio_by_features(train, nom_features, 7,2 )  # 7행 2열"
   ]
  },
  {
   "cell_type": "markdown",
   "id": "90dd463b",
   "metadata": {
    "papermill": {
     "duration": 0.013227,
     "end_time": "2022-08-22T13:56:00.985167",
     "exception": false,
     "start_time": "2022-08-22T13:56:00.971940",
     "status": "completed"
    },
    "tags": []
   },
   "source": [
    "* ps_ind_02_cat의 경우 결측값 -1이 다른 고윳값보다 타겟값 1의 비율이 큼. 신뢰구간이 넓다해도 비율이 크기 때문에 다른 값으로 대체하지않고 진행\n",
    "* ps_car_02_cat : -1일때 타겟값 1비율은 0. 이경우 -1이면 0이라고 판단 가능."
   ]
  },
  {
   "cell_type": "markdown",
   "id": "7f97830e",
   "metadata": {
    "papermill": {
     "duration": 0.012666,
     "end_time": "2022-08-22T13:56:01.010932",
     "exception": false,
     "start_time": "2022-08-22T13:56:00.998266",
     "status": "completed"
    },
    "tags": []
   },
   "source": [
    "### 순서형 피처"
   ]
  },
  {
   "cell_type": "code",
   "execution_count": 19,
   "id": "48250564",
   "metadata": {
    "execution": {
     "iopub.execute_input": "2022-08-22T13:56:01.039816Z",
     "iopub.status.busy": "2022-08-22T13:56:01.039042Z",
     "iopub.status.idle": "2022-08-22T13:58:17.209460Z",
     "shell.execute_reply": "2022-08-22T13:58:17.208233Z"
    },
    "papermill": {
     "duration": 136.203543,
     "end_time": "2022-08-22T13:58:17.227809",
     "exception": false,
     "start_time": "2022-08-22T13:56:01.024266",
     "status": "completed"
    },
    "tags": []
   },
   "outputs": [
    {
     "data": {
      "image/png": "[encoded data removed]",
      "text/plain": [
       "<Figure size 864x1440 with 16 Axes>"
      ]
     },
     "metadata": {
      "needs_background": "light"
     },
     "output_type": "display_data"
    }
   ],
   "source": [
    "ord_features = summary[summary['데이터 종류'] == '순서형'].index    # 순서형 피처\n",
    "plot_target_ratio_by_features(train, ord_features, 8, 2, (12, 20))  # 8행 2열"
   ]
  },
  {
   "cell_type": "markdown",
   "id": "4caf8513",
   "metadata": {
    "papermill": {
     "duration": 0.0139,
     "end_time": "2022-08-22T13:58:17.255978",
     "exception": false,
     "start_time": "2022-08-22T13:58:17.242078",
     "status": "completed"
    },
    "tags": []
   },
   "source": [
    "* ps_ind_14 : 고윳값 4의 신뢰구간이 상당히 넓어 통계적 유효성 떨어짐. 제거\n",
    "* ps_calc_4 ~ 14 : 고윳값별 타겟값 비율이 거의 비슷함. 다르더라도 신뢰구간이 넓어서 통계적 유효성이 떨어지므로 제거."
   ]
  },
  {
   "cell_type": "code",
   "execution_count": null,
   "id": "e83f3259",
   "metadata": {
    "papermill": {
     "duration": 0.013782,
     "end_time": "2022-08-22T13:58:17.283927",
     "exception": false,
     "start_time": "2022-08-22T13:58:17.270145",
     "status": "completed"
    },
    "tags": []
   },
   "outputs": [],
   "source": []
  }
 ],
 "metadata": {
  "kernelspec": {
   "display_name": "Python 3",
   "language": "python",
   "name": "python3"
  },
  "language_info": {
   "codemirror_mode": {
    "name": "ipython",
    "version": 3
   },
   "file_extension": ".py",
   "mimetype": "text/x-python",
   "name": "python",
   "nbconvert_exporter": "python",
   "pygments_lexer": "ipython3",
   "version": "3.7.12"
  },
  "papermill": {
   "default_parameters": {},
   "duration": 544.977107,
   "end_time": "2022-08-22T13:58:18.224927",
   "environment_variables": {},
   "exception": null,
   "input_path": "__notebook__.ipynb",
   "output_path": "__notebook__.ipynb",
   "parameters": {},
   "start_time": "2022-08-22T13:49:13.247820",
   "version": "2.3.4"
  }
 },
 "nbformat": 4,
 "nbformat_minor": 5
}
