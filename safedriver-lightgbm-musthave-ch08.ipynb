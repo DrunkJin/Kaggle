{
 "cells": [
  {
   "cell_type": "code",
   "execution_count": 1,
   "id": "6823aeef",
   "metadata": {
    "_cell_guid": "b1076dfc-b9ad-4769-8c92-a6c4dae69d19",
    "_uuid": "8f2839f25d086af736a60e9eeb907d3b93b6e0e5",
    "execution": {
     "iopub.execute_input": "2022-08-30T15:21:35.192202Z",
     "iopub.status.busy": "2022-08-30T15:21:35.191165Z",
     "iopub.status.idle": "2022-08-30T15:21:47.820640Z",
     "shell.execute_reply": "2022-08-30T15:21:47.817325Z"
    },
    "papermill": {
     "duration": 12.649091,
     "end_time": "2022-08-30T15:21:47.825855",
     "exception": false,
     "start_time": "2022-08-30T15:21:35.176764",
     "status": "completed"
    },
    "tags": []
   },
   "outputs": [],
   "source": [
    "import pandas as pd\n",
    "\n",
    "# 데이터 경로\n",
    "data_path = '/kaggle/input/porto-seguro-safe-driver-prediction/'\n",
    "\n",
    "train = pd.read_csv(data_path + 'train.csv', index_col='id')\n",
    "test = pd.read_csv(data_path + 'test.csv', index_col='id')\n",
    "submission = pd.read_csv(data_path + 'sample_submission.csv', index_col='id')"
   ]
  },
  {
   "cell_type": "markdown",
   "id": "c819e1de",
   "metadata": {
    "papermill": {
     "duration": 0.009775,
     "end_time": "2022-08-30T15:21:47.861208",
     "exception": false,
     "start_time": "2022-08-30T15:21:47.851433",
     "status": "completed"
    },
    "tags": []
   },
   "source": [
    "## 8.4.1 피처 엔지니어링\n",
    "* 데이터 합치기"
   ]
  },
  {
   "cell_type": "code",
   "execution_count": 2,
   "id": "1f1245f7",
   "metadata": {
    "execution": {
     "iopub.execute_input": "2022-08-30T15:21:47.883364Z",
     "iopub.status.busy": "2022-08-30T15:21:47.882951Z",
     "iopub.status.idle": "2022-08-30T15:21:50.448248Z",
     "shell.execute_reply": "2022-08-30T15:21:50.446460Z"
    },
    "papermill": {
     "duration": 2.581574,
     "end_time": "2022-08-30T15:21:50.453088",
     "exception": false,
     "start_time": "2022-08-30T15:21:47.871514",
     "status": "completed"
    },
    "tags": []
   },
   "outputs": [],
   "source": [
    "all_data = pd.concat([train, test], ignore_index=True)\n",
    "all_data = all_data.drop('target', axis=1) # 타겟값 제거\n",
    "\n",
    "all_features = all_data.columns # 전체 피처"
   ]
  },
  {
   "cell_type": "markdown",
   "id": "61a878e7",
   "metadata": {
    "papermill": {
     "duration": 0.009807,
     "end_time": "2022-08-30T15:21:50.473949",
     "exception": false,
     "start_time": "2022-08-30T15:21:50.464142",
     "status": "completed"
    },
    "tags": []
   },
   "source": [
    "* 명목형 피처 원-핫 인코딩"
   ]
  },
  {
   "cell_type": "code",
   "execution_count": 3,
   "id": "3ac5bb03",
   "metadata": {
    "execution": {
     "iopub.execute_input": "2022-08-30T15:21:50.496202Z",
     "iopub.status.busy": "2022-08-30T15:21:50.495773Z",
     "iopub.status.idle": "2022-08-30T15:21:56.863897Z",
     "shell.execute_reply": "2022-08-30T15:21:56.856216Z"
    },
    "papermill": {
     "duration": 6.396574,
     "end_time": "2022-08-30T15:21:56.880809",
     "exception": false,
     "start_time": "2022-08-30T15:21:50.484235",
     "status": "completed"
    },
    "tags": []
   },
   "outputs": [],
   "source": [
    "from sklearn.preprocessing import OneHotEncoder\n",
    "\n",
    "# 명목형 피처\n",
    "cat_features = [feature for feature in all_features if 'cat' in feature]\n",
    "\n",
    "# 원-핫 인코딩 적용\n",
    "onehot_encoder = OneHotEncoder()\n",
    "encoded_cat_matrix = onehot_encoder.fit_transform(all_data[cat_features])"
   ]
  },
  {
   "cell_type": "code",
   "execution_count": 4,
   "id": "a8b14b29",
   "metadata": {
    "execution": {
     "iopub.execute_input": "2022-08-30T15:21:56.955022Z",
     "iopub.status.busy": "2022-08-30T15:21:56.952697Z",
     "iopub.status.idle": "2022-08-30T15:21:57.707153Z",
     "shell.execute_reply": "2022-08-30T15:21:57.703746Z"
    },
    "papermill": {
     "duration": 0.805862,
     "end_time": "2022-08-30T15:21:57.719161",
     "exception": false,
     "start_time": "2022-08-30T15:21:56.913299",
     "status": "completed"
    },
    "tags": []
   },
   "outputs": [],
   "source": [
    "# '데이터 하나당 결측값 개수'를 파생 피처로 추가\n",
    "all_data['num_missing'] = (all_data==-1).sum(axis=1)"
   ]
  },
  {
   "cell_type": "code",
   "execution_count": 5,
   "id": "b45d2ce3",
   "metadata": {
    "execution": {
     "iopub.execute_input": "2022-08-30T15:21:57.785271Z",
     "iopub.status.busy": "2022-08-30T15:21:57.784197Z",
     "iopub.status.idle": "2022-08-30T15:21:57.805712Z",
     "shell.execute_reply": "2022-08-30T15:21:57.802819Z"
    },
    "papermill": {
     "duration": 0.068717,
     "end_time": "2022-08-30T15:21:57.816985",
     "exception": false,
     "start_time": "2022-08-30T15:21:57.748268",
     "status": "completed"
    },
    "tags": []
   },
   "outputs": [],
   "source": [
    "# 명목형 피처, calc 분류의 피처를 제외한 피처\n",
    "remaining_features = [feature for feature in all_features\n",
    "                      if ('cat' not in feature and 'calc' not in feature)]\n",
    "\n",
    "# num_missing을 remaining_features에 추가\n",
    "remaining_features.append('num_missing')"
   ]
  },
  {
   "cell_type": "markdown",
   "id": "05bb524c",
   "metadata": {
    "papermill": {
     "duration": 0.022153,
     "end_time": "2022-08-30T15:21:57.886352",
     "exception": false,
     "start_time": "2022-08-30T15:21:57.864199",
     "status": "completed"
    },
    "tags": []
   },
   "source": [
    "* 파생 피처 만들기"
   ]
  },
  {
   "cell_type": "code",
   "execution_count": 6,
   "id": "b9b1c150",
   "metadata": {
    "execution": {
     "iopub.execute_input": "2022-08-30T15:21:57.916408Z",
     "iopub.status.busy": "2022-08-30T15:21:57.915974Z",
     "iopub.status.idle": "2022-08-30T15:22:22.592941Z",
     "shell.execute_reply": "2022-08-30T15:22:22.591638Z"
    },
    "papermill": {
     "duration": 24.699276,
     "end_time": "2022-08-30T15:22:22.596162",
     "exception": false,
     "start_time": "2022-08-30T15:21:57.896886",
     "status": "completed"
    },
    "tags": []
   },
   "outputs": [],
   "source": [
    "# mix_ind 만들기 -> ind 피처들을 하나로 뭉치기\n",
    "\n",
    "# 분류가 ind인 피처\n",
    "ind_features = [feature for feature in all_features if 'ind' in feature]\n",
    "\n",
    "is_first_feature = True\n",
    "for ind_feature in ind_features:\n",
    "    if is_first_feature:\n",
    "        all_data['mix_ind'] = all_data[ind_feature].astype(str) + '_'\n",
    "        is_first_feature = False\n",
    "    else:\n",
    "        all_data['mix_ind'] += all_data[ind_feature].astype(str) + '_'"
   ]
  },
  {
   "cell_type": "markdown",
   "id": "bee66b11",
   "metadata": {
    "papermill": {
     "duration": 0.008575,
     "end_time": "2022-08-30T15:22:22.614004",
     "exception": false,
     "start_time": "2022-08-30T15:22:22.605429",
     "status": "completed"
    },
    "tags": []
   },
   "source": [
    "* 고윳값별 개수를 새로운 피처로 추가"
   ]
  },
  {
   "cell_type": "code",
   "execution_count": 7,
   "id": "64fe74a4",
   "metadata": {
    "execution": {
     "iopub.execute_input": "2022-08-30T15:22:22.634375Z",
     "iopub.status.busy": "2022-08-30T15:22:22.633293Z",
     "iopub.status.idle": "2022-08-30T15:22:22.660907Z",
     "shell.execute_reply": "2022-08-30T15:22:22.659742Z"
    },
    "papermill": {
     "duration": 0.042084,
     "end_time": "2022-08-30T15:22:22.664870",
     "exception": false,
     "start_time": "2022-08-30T15:22:22.622786",
     "status": "completed"
    },
    "tags": []
   },
   "outputs": [
    {
     "data": {
      "text/plain": [
       "{1: 1079327, 2: 309747, 3: 70172, 4: 28259, -1: 523}"
      ]
     },
     "execution_count": 7,
     "metadata": {},
     "output_type": "execute_result"
    }
   ],
   "source": [
    "all_data['ps_ind_02_cat'].value_counts().to_dict()"
   ]
  },
  {
   "cell_type": "code",
   "execution_count": 8,
   "id": "9b744053",
   "metadata": {
    "execution": {
     "iopub.execute_input": "2022-08-30T15:22:22.685134Z",
     "iopub.status.busy": "2022-08-30T15:22:22.684556Z",
     "iopub.status.idle": "2022-08-30T15:22:33.349287Z",
     "shell.execute_reply": "2022-08-30T15:22:33.347909Z"
    },
    "papermill": {
     "duration": 10.678723,
     "end_time": "2022-08-30T15:22:33.352763",
     "exception": false,
     "start_time": "2022-08-30T15:22:22.674040",
     "status": "completed"
    },
    "tags": []
   },
   "outputs": [],
   "source": [
    "cat_count_features = []\n",
    "for feature in cat_features+['mix_ind']:\n",
    "    val_counts_dict = all_data[feature].value_counts().to_dict()\n",
    "    all_data[f'{feature}_count'] = all_data[feature].apply(lambda x:\n",
    "                                                           val_counts_dict[x])\n",
    "    cat_count_features.append(f'{feature}_count')"
   ]
  },
  {
   "cell_type": "code",
   "execution_count": 9,
   "id": "8b949877",
   "metadata": {
    "execution": {
     "iopub.execute_input": "2022-08-30T15:22:33.373408Z",
     "iopub.status.busy": "2022-08-30T15:22:33.372531Z",
     "iopub.status.idle": "2022-08-30T15:22:33.380225Z",
     "shell.execute_reply": "2022-08-30T15:22:33.379269Z"
    },
    "papermill": {
     "duration": 0.020443,
     "end_time": "2022-08-30T15:22:33.382498",
     "exception": false,
     "start_time": "2022-08-30T15:22:33.362055",
     "status": "completed"
    },
    "tags": []
   },
   "outputs": [
    {
     "data": {
      "text/plain": [
       "['ps_ind_02_cat_count',\n",
       " 'ps_ind_04_cat_count',\n",
       " 'ps_ind_05_cat_count',\n",
       " 'ps_car_01_cat_count',\n",
       " 'ps_car_02_cat_count',\n",
       " 'ps_car_03_cat_count',\n",
       " 'ps_car_04_cat_count',\n",
       " 'ps_car_05_cat_count',\n",
       " 'ps_car_06_cat_count',\n",
       " 'ps_car_07_cat_count',\n",
       " 'ps_car_08_cat_count',\n",
       " 'ps_car_09_cat_count',\n",
       " 'ps_car_10_cat_count',\n",
       " 'ps_car_11_cat_count',\n",
       " 'mix_ind_count']"
      ]
     },
     "execution_count": 9,
     "metadata": {},
     "output_type": "execute_result"
    }
   ],
   "source": [
    "cat_count_features"
   ]
  },
  {
   "cell_type": "markdown",
   "id": "aa7e6cfa",
   "metadata": {
    "papermill": {
     "duration": 0.008666,
     "end_time": "2022-08-30T15:22:33.400345",
     "exception": false,
     "start_time": "2022-08-30T15:22:33.391679",
     "status": "completed"
    },
    "tags": []
   },
   "source": [
    "* 필요없는 피처 제거  \n",
    "지금까지 만든 피처들   \n",
    " encoded_cat_matrix : 원-핫 인코딩된 명목형 피처  \n",
    " remaining_features : 명목형 피처와 calc 분류의 피처를 제외한 피처들 (+num_missing)  \n",
    " cat_count_features : mix_ind를 포함한 명목형 피처의 고윳값별 개수 파생 피처"
   ]
  },
  {
   "cell_type": "code",
   "execution_count": 10,
   "id": "328ccf39",
   "metadata": {
    "execution": {
     "iopub.execute_input": "2022-08-30T15:22:33.421185Z",
     "iopub.status.busy": "2022-08-30T15:22:33.420305Z",
     "iopub.status.idle": "2022-08-30T15:22:42.394875Z",
     "shell.execute_reply": "2022-08-30T15:22:42.393788Z"
    },
    "papermill": {
     "duration": 8.988125,
     "end_time": "2022-08-30T15:22:42.397666",
     "exception": false,
     "start_time": "2022-08-30T15:22:33.409541",
     "status": "completed"
    },
    "tags": []
   },
   "outputs": [],
   "source": [
    "from scipy import sparse\n",
    "# 필요없는 피처들\n",
    "drop_features = ['ps_ind_14', 'ps_ind_10_bin', 'ps_ind_11_bin',\n",
    "                 'ps_ind_12_bin', 'ps_ind_13_bin', 'ps_car_14']\n",
    "\n",
    "# remaining_features, cat_count_features에서 drop_features를 제거한 데이터\n",
    "all_data_remaining = all_data[remaining_features+cat_count_features].drop(drop_features, axis=1)\n",
    "\n",
    "# 데이터 합치기\n",
    "all_data_sprs = sparse.hstack([sparse.csr_matrix(all_data_remaining),\n",
    "                               encoded_cat_matrix],\n",
    "                              format='csr')"
   ]
  },
  {
   "cell_type": "markdown",
   "id": "123d8dd1",
   "metadata": {
    "papermill": {
     "duration": 0.008956,
     "end_time": "2022-08-30T15:22:42.415877",
     "exception": false,
     "start_time": "2022-08-30T15:22:42.406921",
     "status": "completed"
    },
    "tags": []
   },
   "source": [
    "* 데이터 나누기"
   ]
  },
  {
   "cell_type": "code",
   "execution_count": 11,
   "id": "e35dfd55",
   "metadata": {
    "execution": {
     "iopub.execute_input": "2022-08-30T15:22:42.436857Z",
     "iopub.status.busy": "2022-08-30T15:22:42.435514Z",
     "iopub.status.idle": "2022-08-30T15:22:44.140916Z",
     "shell.execute_reply": "2022-08-30T15:22:44.138460Z"
    },
    "papermill": {
     "duration": 1.719125,
     "end_time": "2022-08-30T15:22:44.144115",
     "exception": false,
     "start_time": "2022-08-30T15:22:42.424990",
     "status": "completed"
    },
    "tags": []
   },
   "outputs": [],
   "source": [
    "num_train = len(train)  # 훈련 데이터 개수\n",
    "\n",
    "# 훈련 데이터와 테스트 데이터 나누기\n",
    "X = all_data_sprs[:num_train]\n",
    "X_test = all_data_sprs[num_train:]\n",
    "\n",
    "y = train['target'].values"
   ]
  },
  {
   "cell_type": "markdown",
   "id": "5597802a",
   "metadata": {
    "papermill": {
     "duration": 0.008909,
     "end_time": "2022-08-30T15:22:44.162634",
     "exception": false,
     "start_time": "2022-08-30T15:22:44.153725",
     "status": "completed"
    },
    "tags": []
   },
   "source": [
    "## 8.4.2 하이퍼파라미터 최적화"
   ]
  },
  {
   "cell_type": "markdown",
   "id": "02d20b16",
   "metadata": {
    "papermill": {
     "duration": 0.008759,
     "end_time": "2022-08-30T15:22:44.180570",
     "exception": false,
     "start_time": "2022-08-30T15:22:44.171811",
     "status": "completed"
    },
    "tags": []
   },
   "source": [
    "* 데이터셋"
   ]
  },
  {
   "cell_type": "code",
   "execution_count": 12,
   "id": "b4c4d1fd",
   "metadata": {
    "execution": {
     "iopub.execute_input": "2022-08-30T15:22:44.201580Z",
     "iopub.status.busy": "2022-08-30T15:22:44.200789Z",
     "iopub.status.idle": "2022-08-30T15:22:45.611406Z",
     "shell.execute_reply": "2022-08-30T15:22:45.610116Z"
    },
    "papermill": {
     "duration": 1.425446,
     "end_time": "2022-08-30T15:22:45.615188",
     "exception": false,
     "start_time": "2022-08-30T15:22:44.189742",
     "status": "completed"
    },
    "tags": []
   },
   "outputs": [
    {
     "data": {
      "text/html": [
       "<style type='text/css'>\n",
       ".datatable table.frame { margin-bottom: 0; }\n",
       ".datatable table.frame thead { border-bottom: none; }\n",
       ".datatable table.frame tr.coltypes td {  color: #FFFFFF;  line-height: 6px;  padding: 0 0.5em;}\n",
       ".datatable .bool    { background: #DDDD99; }\n",
       ".datatable .object  { background: #565656; }\n",
       ".datatable .int     { background: #5D9E5D; }\n",
       ".datatable .float   { background: #4040CC; }\n",
       ".datatable .str     { background: #CC4040; }\n",
       ".datatable .time    { background: #40CC40; }\n",
       ".datatable .row_index {  background: var(--jp-border-color3);  border-right: 1px solid var(--jp-border-color0);  color: var(--jp-ui-font-color3);  font-size: 9px;}\n",
       ".datatable .frame tbody td { text-align: left; }\n",
       ".datatable .frame tr.coltypes .row_index {  background: var(--jp-border-color0);}\n",
       ".datatable th:nth-child(2) { padding-left: 12px; }\n",
       ".datatable .hellipsis {  color: var(--jp-cell-editor-border-color);}\n",
       ".datatable .vellipsis {  background: var(--jp-layout-color0);  color: var(--jp-cell-editor-border-color);}\n",
       ".datatable .na {  color: var(--jp-cell-editor-border-color);  font-size: 80%;}\n",
       ".datatable .sp {  opacity: 0.25;}\n",
       ".datatable .footer { font-size: 9px; }\n",
       ".datatable .frame_dimensions {  background: var(--jp-border-color3);  border-top: 1px solid var(--jp-border-color0);  color: var(--jp-ui-font-color3);  display: inline-block;  opacity: 0.6;  padding: 1px 10px 1px 5px;}\n",
       "</style>\n"
      ],
      "text/plain": [
       "<IPython.core.display.HTML object>"
      ]
     },
     "metadata": {},
     "output_type": "display_data"
    }
   ],
   "source": [
    "import lightgbm as lgb\n",
    "from sklearn.model_selection import train_test_split\n",
    "\n",
    "# 8:2 비율로 훈련 데이터, 검증 데이터 분리 (베이지안 최적화 수행용)\n",
    "X_train, X_valid, y_train, y_valid = train_test_split(X, y,\n",
    "                                                      test_size=0.2,\n",
    "                                                      random_state=0)\n",
    "\n",
    "# 베이지안 최적화용 데이터셋\n",
    "bayes_dtrain = lgb.Dataset(X_train, y_train)\n",
    "bayes_dvalid = lgb.Dataset(X_valid, y_valid)"
   ]
  },
  {
   "cell_type": "markdown",
   "id": "6e484d35",
   "metadata": {
    "papermill": {
     "duration": 0.009071,
     "end_time": "2022-08-30T15:22:45.634038",
     "exception": false,
     "start_time": "2022-08-30T15:22:45.624967",
     "status": "completed"
    },
    "tags": []
   },
   "source": [
    "* 하이퍼파라미터 범위설정"
   ]
  },
  {
   "cell_type": "code",
   "execution_count": 13,
   "id": "521474ed",
   "metadata": {
    "execution": {
     "iopub.execute_input": "2022-08-30T15:22:45.656189Z",
     "iopub.status.busy": "2022-08-30T15:22:45.655399Z",
     "iopub.status.idle": "2022-08-30T15:22:45.662172Z",
     "shell.execute_reply": "2022-08-30T15:22:45.661296Z"
    },
    "papermill": {
     "duration": 0.02153,
     "end_time": "2022-08-30T15:22:45.664868",
     "exception": false,
     "start_time": "2022-08-30T15:22:45.643338",
     "status": "completed"
    },
    "tags": []
   },
   "outputs": [],
   "source": [
    "# 베이지안 최적화를 위한 하이퍼파라미터 범위\n",
    "param_bounds = {'num_leaves': (30, 40),\n",
    "                'lambda_l1': (0.7, 0.9),\n",
    "                'lambda_l2': (0.9, 1),\n",
    "                'feature_fraction': (0.6, 0.7),\n",
    "                'bagging_fraction': (0.6, 0.9),\n",
    "                'min_child_samples': (6, 10),\n",
    "                'min_child_weight': (10, 40)}\n",
    "\n",
    "# 값이 고정된 하이퍼파라미터\n",
    "fixed_params = {'objective': 'binary',     # 이진분류 문제기 때문에 binary설정\n",
    "                   'learning_rate': 0.005,    # 학습률은 보통 0.01 ~ 0.001 사이의 값으로 설정함\n",
    "                   'bagging_freq': 1,         # learning_rate, bagging_freq는 범위로 해도되고 변경하면서 최적을 찾아도 됨\n",
    "                   'force_row_wise': True,    # 경고문구 제거를 위해\n",
    "                   'random_state': 1993}      # 동일한 결과를 위해 값 고정"
   ]
  },
  {
   "cell_type": "code",
   "execution_count": 14,
   "id": "46d17793",
   "metadata": {
    "execution": {
     "iopub.execute_input": "2022-08-30T15:22:45.686276Z",
     "iopub.status.busy": "2022-08-30T15:22:45.685638Z",
     "iopub.status.idle": "2022-08-30T15:22:45.692920Z",
     "shell.execute_reply": "2022-08-30T15:22:45.692037Z"
    },
    "papermill": {
     "duration": 0.020919,
     "end_time": "2022-08-30T15:22:45.695463",
     "exception": false,
     "start_time": "2022-08-30T15:22:45.674544",
     "status": "completed"
    },
    "tags": []
   },
   "outputs": [],
   "source": [
    "import numpy as np\n",
    "\n",
    "def eval_gini(y_true, y_pred):\n",
    "    # 실제값과 예측값의 크기가 서로 같은지 확인 (값이 다르면 오류 발생)\n",
    "    assert y_true.shape == y_pred.shape\n",
    "    \n",
    "    n_samples = y_true.shape[0]        # 데이터 개수\n",
    "    L_mid = np.linspace(1 / n_samples, 1, n_samples) # 대각선 값\n",
    "    \n",
    "    # 1) 예측값에 대한 지니계수\n",
    "    pred_order = y_true[y_pred.argsort()] # y_pred 크기 순으로 y_true 값 정렬\n",
    "    L_pred = np.cumsum(pred_order) / np.sum(pred_order) # 로렌츠 곡선\n",
    "    G_pred = np.sum(L_mid - L_pred)       # 예측값에 대한 지니계수\n",
    "    \n",
    "    # 2) 예측이 완벽할 때 지니계수\n",
    "    true_order = y_true[y_true.argsort()]  # y_true 크기 순으로 y_true값 정렬\n",
    "    L_true = np.cumsum(true_order) / np.sum(true_order)  # 로렌츠 곡선\n",
    "    G_true = np.sum(L_mid - L_true)     # 예측이 완벽할 때 지니계수\n",
    "    \n",
    "    # 정규화된 지니계수\n",
    "    return G_pred / G_true"
   ]
  },
  {
   "cell_type": "code",
   "execution_count": 15,
   "id": "e170d47e",
   "metadata": {
    "execution": {
     "iopub.execute_input": "2022-08-30T15:22:45.717021Z",
     "iopub.status.busy": "2022-08-30T15:22:45.716190Z",
     "iopub.status.idle": "2022-08-30T15:22:45.721202Z",
     "shell.execute_reply": "2022-08-30T15:22:45.720405Z"
    },
    "papermill": {
     "duration": 0.018535,
     "end_time": "2022-08-30T15:22:45.723506",
     "exception": false,
     "start_time": "2022-08-30T15:22:45.704971",
     "status": "completed"
    },
    "tags": []
   },
   "outputs": [],
   "source": [
    "# LightGBM용 gini() 함수\n",
    "def gini(preds, dtrain):\n",
    "    labels = dtrain.get_label() # 데이터셋의 타겟값을 반환함\n",
    "    return 'gini', eval_gini(labels, preds), True    # 평가지표 이름, 평가점수, 평가점수가 높을수록 좋은지 여부"
   ]
  },
  {
   "cell_type": "markdown",
   "id": "1249ed7b",
   "metadata": {
    "papermill": {
     "duration": 0.009055,
     "end_time": "2022-08-30T15:22:45.742271",
     "exception": false,
     "start_time": "2022-08-30T15:22:45.733216",
     "status": "completed"
    },
    "tags": []
   },
   "source": [
    "베이지안 최적화용 평가지표 계산 함수 작성"
   ]
  },
  {
   "cell_type": "code",
   "execution_count": 16,
   "id": "44f666e8",
   "metadata": {
    "execution": {
     "iopub.execute_input": "2022-08-30T15:22:45.763910Z",
     "iopub.status.busy": "2022-08-30T15:22:45.763024Z",
     "iopub.status.idle": "2022-08-30T15:22:45.772034Z",
     "shell.execute_reply": "2022-08-30T15:22:45.771081Z"
    },
    "papermill": {
     "duration": 0.023212,
     "end_time": "2022-08-30T15:22:45.774942",
     "exception": false,
     "start_time": "2022-08-30T15:22:45.751730",
     "status": "completed"
    },
    "tags": []
   },
   "outputs": [],
   "source": [
    "def eval_function(num_leaves, lambda_l1, lambda_l2, feature_fraction, \n",
    "                  bagging_fraction, min_child_samples, min_child_weight):\n",
    "    '''최적화하려는 평가지표(지니계수) 계산 함수'''\n",
    "    \n",
    "    # 베이지안 최적화를 수행할 하이퍼파라미터\n",
    "    params = {'num_leaves': int(round(num_leaves)),\n",
    "              'lambda_l1': lambda_l1,\n",
    "              'lambda_l2': lambda_l2,\n",
    "              'feature_fraction': feature_fraction,\n",
    "              'bagging_fraction': bagging_fraction,\n",
    "              'min_child_samples': int(round(min_child_samples)),\n",
    "              'min_child_weight': min_child_weight,\n",
    "              'feature_pre_filter': False}\n",
    "    \n",
    "    # 고정된 하이퍼파라미터도 추가\n",
    "    params.update(fixed_params)\n",
    "    \n",
    "    print('하이퍼파라미터:', params)\n",
    "    \n",
    "    # LightGBM 모델 훈련\n",
    "    lgb_model = lgb.train(params=params,\n",
    "                          train_set=bayes_dtrain,\n",
    "                          num_boost_round=2500,\n",
    "                          valid_sets=bayes_dvalid,\n",
    "                          feval=gini,\n",
    "                          early_stopping_rounds=300,\n",
    "                          verbose_eval=False)\n",
    "    # 검증 데이터로 예측 수행\n",
    "    preds = lgb_model.predict(X_valid)\n",
    "    # 지니계수 계산\n",
    "    gini_score = eval_gini(y_valid, preds)\n",
    "    print(f'지니계수 : {gini_score}\\n')\n",
    "    \n",
    "    return gini_score"
   ]
  },
  {
   "cell_type": "markdown",
   "id": "b21ed8ab",
   "metadata": {
    "papermill": {
     "duration": 0.009738,
     "end_time": "2022-08-30T15:22:45.794197",
     "exception": false,
     "start_time": "2022-08-30T15:22:45.784459",
     "status": "completed"
    },
    "tags": []
   },
   "source": [
    "* 최적화 수행"
   ]
  },
  {
   "cell_type": "code",
   "execution_count": 17,
   "id": "878ef2d5",
   "metadata": {
    "execution": {
     "iopub.execute_input": "2022-08-30T15:22:45.815378Z",
     "iopub.status.busy": "2022-08-30T15:22:45.814629Z",
     "iopub.status.idle": "2022-08-30T15:22:45.844313Z",
     "shell.execute_reply": "2022-08-30T15:22:45.842934Z"
    },
    "papermill": {
     "duration": 0.043731,
     "end_time": "2022-08-30T15:22:45.847377",
     "exception": false,
     "start_time": "2022-08-30T15:22:45.803646",
     "status": "completed"
    },
    "tags": []
   },
   "outputs": [],
   "source": [
    "from bayes_opt import BayesianOptimization\n",
    "\n",
    "# 베이지안 최적화 객체 생성\n",
    "optimizer = BayesianOptimization(f=eval_function,      # 평가지표 계산 함수\n",
    "                                 pbounds=param_bounds, # 하이퍼파라미터 범위\n",
    "                                 random_state=0)"
   ]
  },
  {
   "cell_type": "code",
   "execution_count": 18,
   "id": "1fa5fb58",
   "metadata": {
    "execution": {
     "iopub.execute_input": "2022-08-30T15:22:45.868942Z",
     "iopub.status.busy": "2022-08-30T15:22:45.867712Z",
     "iopub.status.idle": "2022-08-30T15:54:36.998297Z",
     "shell.execute_reply": "2022-08-30T15:54:36.996691Z"
    },
    "papermill": {
     "duration": 1911.155789,
     "end_time": "2022-08-30T15:54:37.012674",
     "exception": false,
     "start_time": "2022-08-30T15:22:45.856885",
     "status": "completed"
    },
    "tags": []
   },
   "outputs": [
    {
     "name": "stdout",
     "output_type": "stream",
     "text": [
      "|   iter    |  target   | baggin... | featur... | lambda_l1 | lambda_l2 | min_ch... | min_ch... | num_le... |\n",
      "-------------------------------------------------------------------------------------------------------------\n",
      "하이퍼파라미터: {'num_leaves': 34, 'lambda_l1': 0.8205526752143287, 'lambda_l2': 0.9544883182996897, 'feature_fraction': 0.6715189366372419, 'bagging_fraction': 0.7646440511781974, 'min_child_samples': 8, 'min_child_weight': 29.376823391999682, 'feature_pre_filter': False, 'objective': 'binary', 'learning_rate': 0.005, 'bagging_freq': 1, 'force_row_wise': True, 'random_state': 1993}\n"
     ]
    },
    {
     "name": "stderr",
     "output_type": "stream",
     "text": [
      "/opt/conda/lib/python3.7/site-packages/lightgbm/engine.py:181: UserWarning: 'early_stopping_rounds' argument is deprecated and will be removed in a future release of LightGBM. Pass 'early_stopping()' callback via 'callbacks' argument instead.\n",
      "  _log_warning(\"'early_stopping_rounds' argument is deprecated and will be removed in a future release of LightGBM. \"\n",
      "/opt/conda/lib/python3.7/site-packages/lightgbm/engine.py:239: UserWarning: 'verbose_eval' argument is deprecated and will be removed in a future release of LightGBM. Pass 'log_evaluation()' callback via 'callbacks' argument instead.\n",
      "  _log_warning(\"'verbose_eval' argument is deprecated and will be removed in a future release of LightGBM. \"\n"
     ]
    },
    {
     "name": "stdout",
     "output_type": "stream",
     "text": [
      "[LightGBM] [Info] Number of positive: 17383, number of negative: 458786\n",
      "[LightGBM] [Info] Total Bins 1557\n",
      "[LightGBM] [Info] Number of data points in the train set: 476169, number of used features: 217\n",
      "[LightGBM] [Info] [binary:BoostFromScore]: pavg=0.036506 -> initscore=-3.273091\n",
      "[LightGBM] [Info] Start training from score -3.273091\n",
      "지니계수 : 0.2853830357519995\n",
      "\n",
      "| \u001b[0m 1       \u001b[0m | \u001b[0m 0.2854  \u001b[0m | \u001b[0m 0.7646  \u001b[0m | \u001b[0m 0.6715  \u001b[0m | \u001b[0m 0.8206  \u001b[0m | \u001b[0m 0.9545  \u001b[0m | \u001b[0m 7.695   \u001b[0m | \u001b[0m 29.38   \u001b[0m | \u001b[0m 34.38   \u001b[0m |\n",
      "하이퍼파라미터: {'num_leaves': 39, 'lambda_l1': 0.7766883037651555, 'lambda_l2': 0.9791725038082665, 'feature_fraction': 0.6963662760501029, 'bagging_fraction': 0.867531900234624, 'min_child_samples': 8, 'min_child_weight': 27.04133683281797, 'feature_pre_filter': False, 'objective': 'binary', 'learning_rate': 0.005, 'bagging_freq': 1, 'force_row_wise': True, 'random_state': 1993}\n",
      "[LightGBM] [Info] Number of positive: 17383, number of negative: 458786\n",
      "[LightGBM] [Info] Total Bins 1557\n",
      "[LightGBM] [Info] Number of data points in the train set: 476169, number of used features: 217\n",
      "[LightGBM] [Info] [binary:BoostFromScore]: pavg=0.036506 -> initscore=-3.273091\n",
      "[LightGBM] [Info] Start training from score -3.273091\n",
      "지니계수 : 0.28448955136848003\n",
      "\n",
      "| \u001b[0m 2       \u001b[0m | \u001b[0m 0.2845  \u001b[0m | \u001b[0m 0.8675  \u001b[0m | \u001b[0m 0.6964  \u001b[0m | \u001b[0m 0.7767  \u001b[0m | \u001b[0m 0.9792  \u001b[0m | \u001b[0m 8.116   \u001b[0m | \u001b[0m 27.04   \u001b[0m | \u001b[0m 39.26   \u001b[0m |\n",
      "하이퍼파라미터: {'num_leaves': 40, 'lambda_l1': 0.7040436794880651, 'lambda_l2': 0.9832619845547939, 'feature_fraction': 0.608712929970154, 'bagging_fraction': 0.6213108174593661, 'min_child_samples': 9, 'min_child_weight': 36.10036444740457, 'feature_pre_filter': False, 'objective': 'binary', 'learning_rate': 0.005, 'bagging_freq': 1, 'force_row_wise': True, 'random_state': 1993}\n",
      "[LightGBM] [Info] Number of positive: 17383, number of negative: 458786\n",
      "[LightGBM] [Info] Total Bins 1557\n",
      "[LightGBM] [Info] Number of data points in the train set: 476169, number of used features: 217\n",
      "[LightGBM] [Info] [binary:BoostFromScore]: pavg=0.036506 -> initscore=-3.273091\n",
      "[LightGBM] [Info] Start training from score -3.273091\n",
      "지니계수 : 0.2861976215538957\n",
      "\n",
      "| \u001b[95m 3       \u001b[0m | \u001b[95m 0.2862  \u001b[0m | \u001b[95m 0.6213  \u001b[0m | \u001b[95m 0.6087  \u001b[0m | \u001b[95m 0.704   \u001b[0m | \u001b[95m 0.9833  \u001b[0m | \u001b[95m 9.113   \u001b[0m | \u001b[95m 36.1    \u001b[0m | \u001b[95m 39.79   \u001b[0m |\n",
      "하이퍼파라미터: {'num_leaves': 30, 'lambda_l1': 0.8444997594874222, 'lambda_l2': 0.9234023852202012, 'feature_fraction': 0.6593983245038058, 'bagging_fraction': 0.8977977822397395, 'min_child_samples': 9, 'min_child_weight': 10.549362495448534, 'feature_pre_filter': False, 'objective': 'binary', 'learning_rate': 0.005, 'bagging_freq': 1, 'force_row_wise': True, 'random_state': 1993}\n",
      "[LightGBM] [Info] Number of positive: 17383, number of negative: 458786\n"
     ]
    },
    {
     "name": "stderr",
     "output_type": "stream",
     "text": [
      "/opt/conda/lib/python3.7/site-packages/lightgbm/engine.py:181: UserWarning: 'early_stopping_rounds' argument is deprecated and will be removed in a future release of LightGBM. Pass 'early_stopping()' callback via 'callbacks' argument instead.\n",
      "  _log_warning(\"'early_stopping_rounds' argument is deprecated and will be removed in a future release of LightGBM. \"\n",
      "/opt/conda/lib/python3.7/site-packages/lightgbm/engine.py:239: UserWarning: 'verbose_eval' argument is deprecated and will be removed in a future release of LightGBM. Pass 'log_evaluation()' callback via 'callbacks' argument instead.\n",
      "  _log_warning(\"'verbose_eval' argument is deprecated and will be removed in a future release of LightGBM. \"\n"
     ]
    },
    {
     "name": "stdout",
     "output_type": "stream",
     "text": [
      "[LightGBM] [Info] Total Bins 1557\n",
      "[LightGBM] [Info] Number of data points in the train set: 476169, number of used features: 217\n",
      "[LightGBM] [Info] [binary:BoostFromScore]: pavg=0.036506 -> initscore=-3.273091\n",
      "[LightGBM] [Info] Start training from score -3.273091\n",
      "지니계수 : 0.2833674422512079\n",
      "\n",
      "| \u001b[0m 4       \u001b[0m | \u001b[0m 0.2834  \u001b[0m | \u001b[0m 0.8978  \u001b[0m | \u001b[0m 0.6594  \u001b[0m | \u001b[0m 0.8445  \u001b[0m | \u001b[0m 0.9234  \u001b[0m | \u001b[0m 8.619   \u001b[0m | \u001b[0m 10.55   \u001b[0m | \u001b[0m 30.09   \u001b[0m |\n",
      "하이퍼파라미터: {'num_leaves': 34, 'lambda_l1': 0.8439576755399246, 'lambda_l2': 0.9071389562807886, 'feature_fraction': 0.6141666844038982, 'bagging_fraction': 0.780941422121342, 'min_child_samples': 9, 'min_child_weight': 38.792062858582554, 'feature_pre_filter': False, 'objective': 'binary', 'learning_rate': 0.005, 'bagging_freq': 1, 'force_row_wise': True, 'random_state': 1993}\n",
      "[LightGBM] [Info] Number of positive: 17383, number of negative: 458786\n"
     ]
    },
    {
     "name": "stderr",
     "output_type": "stream",
     "text": [
      "/opt/conda/lib/python3.7/site-packages/lightgbm/engine.py:181: UserWarning: 'early_stopping_rounds' argument is deprecated and will be removed in a future release of LightGBM. Pass 'early_stopping()' callback via 'callbacks' argument instead.\n",
      "  _log_warning(\"'early_stopping_rounds' argument is deprecated and will be removed in a future release of LightGBM. \"\n",
      "/opt/conda/lib/python3.7/site-packages/lightgbm/engine.py:239: UserWarning: 'verbose_eval' argument is deprecated and will be removed in a future release of LightGBM. Pass 'log_evaluation()' callback via 'callbacks' argument instead.\n",
      "  _log_warning(\"'verbose_eval' argument is deprecated and will be removed in a future release of LightGBM. \"\n"
     ]
    },
    {
     "name": "stdout",
     "output_type": "stream",
     "text": [
      "[LightGBM] [Info] Total Bins 1557\n",
      "[LightGBM] [Info] Number of data points in the train set: 476169, number of used features: 217\n",
      "[LightGBM] [Info] [binary:BoostFromScore]: pavg=0.036506 -> initscore=-3.273091\n",
      "[LightGBM] [Info] Start training from score -3.273091\n",
      "지니계수 : 0.2857146952724652\n",
      "\n",
      "| \u001b[0m 5       \u001b[0m | \u001b[0m 0.2857  \u001b[0m | \u001b[0m 0.7809  \u001b[0m | \u001b[0m 0.6142  \u001b[0m | \u001b[0m 0.844   \u001b[0m | \u001b[0m 0.9071  \u001b[0m | \u001b[0m 8.837   \u001b[0m | \u001b[0m 38.79   \u001b[0m | \u001b[0m 33.75   \u001b[0m |\n",
      "하이퍼파라미터: {'num_leaves': 40, 'lambda_l1': 0.7113567244294035, 'lambda_l2': 0.9992148463611682, 'feature_fraction': 0.6823972673568225, 'bagging_fraction': 0.6452323984860321, 'min_child_samples': 9, 'min_child_weight': 36.23198396337493, 'feature_pre_filter': False, 'objective': 'binary', 'learning_rate': 0.005, 'bagging_freq': 1, 'force_row_wise': True, 'random_state': 1993}\n",
      "[LightGBM] [Info] Number of positive: 17383, number of negative: 458786\n"
     ]
    },
    {
     "name": "stderr",
     "output_type": "stream",
     "text": [
      "/opt/conda/lib/python3.7/site-packages/lightgbm/engine.py:181: UserWarning: 'early_stopping_rounds' argument is deprecated and will be removed in a future release of LightGBM. Pass 'early_stopping()' callback via 'callbacks' argument instead.\n",
      "  _log_warning(\"'early_stopping_rounds' argument is deprecated and will be removed in a future release of LightGBM. \"\n",
      "/opt/conda/lib/python3.7/site-packages/lightgbm/engine.py:239: UserWarning: 'verbose_eval' argument is deprecated and will be removed in a future release of LightGBM. Pass 'log_evaluation()' callback via 'callbacks' argument instead.\n",
      "  _log_warning(\"'verbose_eval' argument is deprecated and will be removed in a future release of LightGBM. \"\n"
     ]
    },
    {
     "name": "stdout",
     "output_type": "stream",
     "text": [
      "[LightGBM] [Info] Total Bins 1557\n",
      "[LightGBM] [Info] Number of data points in the train set: 476169, number of used features: 217\n",
      "[LightGBM] [Info] [binary:BoostFromScore]: pavg=0.036506 -> initscore=-3.273091\n",
      "[LightGBM] [Info] Start training from score -3.273091\n",
      "지니계수 : 0.2859932988125352\n",
      "\n",
      "| \u001b[0m 6       \u001b[0m | \u001b[0m 0.286   \u001b[0m | \u001b[0m 0.6452  \u001b[0m | \u001b[0m 0.6824  \u001b[0m | \u001b[0m 0.7114  \u001b[0m | \u001b[0m 0.9992  \u001b[0m | \u001b[0m 9.083   \u001b[0m | \u001b[0m 36.23   \u001b[0m | \u001b[0m 39.59   \u001b[0m |\n",
      "하이퍼파라미터: {'num_leaves': 40, 'lambda_l1': 0.8329533491733405, 'lambda_l2': 0.9070423594822995, 'feature_fraction': 0.643096339913785, 'bagging_fraction': 0.8810601650808936, 'min_child_samples': 9, 'min_child_weight': 34.00813892373257, 'feature_pre_filter': False, 'objective': 'binary', 'learning_rate': 0.005, 'bagging_freq': 1, 'force_row_wise': True, 'random_state': 1993}\n",
      "[LightGBM] [Info] Number of positive: 17383, number of negative: 458786\n"
     ]
    },
    {
     "name": "stderr",
     "output_type": "stream",
     "text": [
      "/opt/conda/lib/python3.7/site-packages/lightgbm/engine.py:181: UserWarning: 'early_stopping_rounds' argument is deprecated and will be removed in a future release of LightGBM. Pass 'early_stopping()' callback via 'callbacks' argument instead.\n",
      "  _log_warning(\"'early_stopping_rounds' argument is deprecated and will be removed in a future release of LightGBM. \"\n",
      "/opt/conda/lib/python3.7/site-packages/lightgbm/engine.py:239: UserWarning: 'verbose_eval' argument is deprecated and will be removed in a future release of LightGBM. Pass 'log_evaluation()' callback via 'callbacks' argument instead.\n",
      "  _log_warning(\"'verbose_eval' argument is deprecated and will be removed in a future release of LightGBM. \"\n"
     ]
    },
    {
     "name": "stdout",
     "output_type": "stream",
     "text": [
      "[LightGBM] [Info] Total Bins 1557\n",
      "[LightGBM] [Info] Number of data points in the train set: 476169, number of used features: 217\n",
      "[LightGBM] [Info] [binary:BoostFromScore]: pavg=0.036506 -> initscore=-3.273091\n",
      "[LightGBM] [Info] Start training from score -3.273091\n",
      "지니계수 : 0.2853460692271328\n",
      "\n",
      "| \u001b[0m 7       \u001b[0m | \u001b[0m 0.2853  \u001b[0m | \u001b[0m 0.8811  \u001b[0m | \u001b[0m 0.6431  \u001b[0m | \u001b[0m 0.833   \u001b[0m | \u001b[0m 0.907   \u001b[0m | \u001b[0m 9.16    \u001b[0m | \u001b[0m 34.01   \u001b[0m | \u001b[0m 39.91   \u001b[0m |\n",
      "하이퍼파라미터: {'num_leaves': 40, 'lambda_l1': 0.7375143924554232, 'lambda_l2': 0.9447377797391991, 'feature_fraction': 0.6749422364975074, 'bagging_fraction': 0.7037668349812904, 'min_child_samples': 7, 'min_child_weight': 36.336982968130606, 'feature_pre_filter': False, 'objective': 'binary', 'learning_rate': 0.005, 'bagging_freq': 1, 'force_row_wise': True, 'random_state': 1993}\n",
      "[LightGBM] [Info] Number of positive: 17383, number of negative: 458786\n"
     ]
    },
    {
     "name": "stderr",
     "output_type": "stream",
     "text": [
      "/opt/conda/lib/python3.7/site-packages/lightgbm/engine.py:181: UserWarning: 'early_stopping_rounds' argument is deprecated and will be removed in a future release of LightGBM. Pass 'early_stopping()' callback via 'callbacks' argument instead.\n",
      "  _log_warning(\"'early_stopping_rounds' argument is deprecated and will be removed in a future release of LightGBM. \"\n",
      "/opt/conda/lib/python3.7/site-packages/lightgbm/engine.py:239: UserWarning: 'verbose_eval' argument is deprecated and will be removed in a future release of LightGBM. Pass 'log_evaluation()' callback via 'callbacks' argument instead.\n",
      "  _log_warning(\"'verbose_eval' argument is deprecated and will be removed in a future release of LightGBM. \"\n"
     ]
    },
    {
     "name": "stdout",
     "output_type": "stream",
     "text": [
      "[LightGBM] [Info] Total Bins 1557\n",
      "[LightGBM] [Info] Number of data points in the train set: 476169, number of used features: 217\n",
      "[LightGBM] [Info] [binary:BoostFromScore]: pavg=0.036506 -> initscore=-3.273091\n",
      "[LightGBM] [Info] Start training from score -3.273091\n",
      "지니계수 : 0.2850006897964863\n",
      "\n",
      "| \u001b[0m 8       \u001b[0m | \u001b[0m 0.285   \u001b[0m | \u001b[0m 0.7038  \u001b[0m | \u001b[0m 0.6749  \u001b[0m | \u001b[0m 0.7375  \u001b[0m | \u001b[0m 0.9447  \u001b[0m | \u001b[0m 7.172   \u001b[0m | \u001b[0m 36.34   \u001b[0m | \u001b[0m 39.95   \u001b[0m |\n",
      "하이퍼파라미터: {'num_leaves': 40, 'lambda_l1': 0.7309829153275589, 'lambda_l2': 0.9606913515746498, 'feature_fraction': 0.6312923791828471, 'bagging_fraction': 0.8515224104845123, 'min_child_samples': 10, 'min_child_weight': 35.29426485484539, 'feature_pre_filter': False, 'objective': 'binary', 'learning_rate': 0.005, 'bagging_freq': 1, 'force_row_wise': True, 'random_state': 1993}\n",
      "[LightGBM] [Info] Number of positive: 17383, number of negative: 458786\n"
     ]
    },
    {
     "name": "stderr",
     "output_type": "stream",
     "text": [
      "/opt/conda/lib/python3.7/site-packages/lightgbm/engine.py:181: UserWarning: 'early_stopping_rounds' argument is deprecated and will be removed in a future release of LightGBM. Pass 'early_stopping()' callback via 'callbacks' argument instead.\n",
      "  _log_warning(\"'early_stopping_rounds' argument is deprecated and will be removed in a future release of LightGBM. \"\n",
      "/opt/conda/lib/python3.7/site-packages/lightgbm/engine.py:239: UserWarning: 'verbose_eval' argument is deprecated and will be removed in a future release of LightGBM. Pass 'log_evaluation()' callback via 'callbacks' argument instead.\n",
      "  _log_warning(\"'verbose_eval' argument is deprecated and will be removed in a future release of LightGBM. \"\n"
     ]
    },
    {
     "name": "stdout",
     "output_type": "stream",
     "text": [
      "[LightGBM] [Info] Total Bins 1557\n",
      "[LightGBM] [Info] Number of data points in the train set: 476169, number of used features: 217\n",
      "[LightGBM] [Info] [binary:BoostFromScore]: pavg=0.036506 -> initscore=-3.273091\n",
      "[LightGBM] [Info] Start training from score -3.273091\n",
      "지니계수 : 0.2856048470319783\n",
      "\n",
      "| \u001b[0m 9       \u001b[0m | \u001b[0m 0.2856  \u001b[0m | \u001b[0m 0.8515  \u001b[0m | \u001b[0m 0.6313  \u001b[0m | \u001b[0m 0.731   \u001b[0m | \u001b[0m 0.9607  \u001b[0m | \u001b[0m 9.864   \u001b[0m | \u001b[0m 35.29   \u001b[0m | \u001b[0m 39.77   \u001b[0m |\n",
      "=============================================================================================================\n"
     ]
    }
   ],
   "source": [
    "# 베이지안 최적화 수행\n",
    "'''init_points와 n_iter를 더한 값만큼 반복함'''\n",
    "optimizer.maximize(init_points=3, # 무작위로 하이퍼파라미터를 탐색하는 횟수 \n",
    "                   n_iter=6)      # 베이지안 최적화 반복횟수"
   ]
  },
  {
   "cell_type": "markdown",
   "id": "5f3ec0a5",
   "metadata": {
    "papermill": {
     "duration": 0.010899,
     "end_time": "2022-08-30T15:54:37.035098",
     "exception": false,
     "start_time": "2022-08-30T15:54:37.024199",
     "status": "completed"
    },
    "tags": []
   },
   "source": [
    "* 결과 확인"
   ]
  },
  {
   "cell_type": "code",
   "execution_count": 19,
   "id": "0d321aa5",
   "metadata": {
    "execution": {
     "iopub.execute_input": "2022-08-30T15:54:37.059948Z",
     "iopub.status.busy": "2022-08-30T15:54:37.059479Z",
     "iopub.status.idle": "2022-08-30T15:54:37.068779Z",
     "shell.execute_reply": "2022-08-30T15:54:37.067646Z"
    },
    "papermill": {
     "duration": 0.024445,
     "end_time": "2022-08-30T15:54:37.071101",
     "exception": false,
     "start_time": "2022-08-30T15:54:37.046656",
     "status": "completed"
    },
    "tags": []
   },
   "outputs": [
    {
     "data": {
      "text/plain": [
       "{'bagging_fraction': 0.6213108174593661,\n",
       " 'feature_fraction': 0.608712929970154,\n",
       " 'lambda_l1': 0.7040436794880651,\n",
       " 'lambda_l2': 0.9832619845547939,\n",
       " 'min_child_samples': 9.112627003799401,\n",
       " 'min_child_weight': 36.10036444740457,\n",
       " 'num_leaves': 39.78618342232764}"
      ]
     },
     "execution_count": 19,
     "metadata": {},
     "output_type": "execute_result"
    }
   ],
   "source": [
    "# 평가함수 점수가 최대일 때 하이퍼파라미터\n",
    "max_params = optimizer.max['params']\n",
    "max_params"
   ]
  },
  {
   "cell_type": "code",
   "execution_count": 20,
   "id": "209c8542",
   "metadata": {
    "execution": {
     "iopub.execute_input": "2022-08-30T15:54:37.096236Z",
     "iopub.status.busy": "2022-08-30T15:54:37.095459Z",
     "iopub.status.idle": "2022-08-30T15:54:37.101782Z",
     "shell.execute_reply": "2022-08-30T15:54:37.100513Z"
    },
    "papermill": {
     "duration": 0.021767,
     "end_time": "2022-08-30T15:54:37.104341",
     "exception": false,
     "start_time": "2022-08-30T15:54:37.082574",
     "status": "completed"
    },
    "tags": []
   },
   "outputs": [],
   "source": [
    "# 정수형 하이퍼파라미터 변환\n",
    "max_params['num_leaves'] = int(round(max_params['num_leaves']))\n",
    "max_params['min_child_samples'] = int(round(max_params['min_child_samples']))"
   ]
  },
  {
   "cell_type": "code",
   "execution_count": 21,
   "id": "a8369ce3",
   "metadata": {
    "execution": {
     "iopub.execute_input": "2022-08-30T15:54:37.129730Z",
     "iopub.status.busy": "2022-08-30T15:54:37.129302Z",
     "iopub.status.idle": "2022-08-30T15:54:37.134934Z",
     "shell.execute_reply": "2022-08-30T15:54:37.133491Z"
    },
    "papermill": {
     "duration": 0.021151,
     "end_time": "2022-08-30T15:54:37.137388",
     "exception": false,
     "start_time": "2022-08-30T15:54:37.116237",
     "status": "completed"
    },
    "tags": []
   },
   "outputs": [],
   "source": [
    "# 값이 고정된 하이퍼파라미터 추가\n",
    "max_params.update(fixed_params)"
   ]
  },
  {
   "cell_type": "code",
   "execution_count": 22,
   "id": "0ef0dcfe",
   "metadata": {
    "execution": {
     "iopub.execute_input": "2022-08-30T15:54:37.162256Z",
     "iopub.status.busy": "2022-08-30T15:54:37.161433Z",
     "iopub.status.idle": "2022-08-30T15:54:37.168652Z",
     "shell.execute_reply": "2022-08-30T15:54:37.167684Z"
    },
    "papermill": {
     "duration": 0.021801,
     "end_time": "2022-08-30T15:54:37.170738",
     "exception": false,
     "start_time": "2022-08-30T15:54:37.148937",
     "status": "completed"
    },
    "tags": []
   },
   "outputs": [
    {
     "data": {
      "text/plain": [
       "{'bagging_fraction': 0.6213108174593661,\n",
       " 'feature_fraction': 0.608712929970154,\n",
       " 'lambda_l1': 0.7040436794880651,\n",
       " 'lambda_l2': 0.9832619845547939,\n",
       " 'min_child_samples': 9,\n",
       " 'min_child_weight': 36.10036444740457,\n",
       " 'num_leaves': 40,\n",
       " 'objective': 'binary',\n",
       " 'learning_rate': 0.005,\n",
       " 'bagging_freq': 1,\n",
       " 'force_row_wise': True,\n",
       " 'random_state': 1993}"
      ]
     },
     "execution_count": 22,
     "metadata": {},
     "output_type": "execute_result"
    }
   ],
   "source": [
    "max_params"
   ]
  },
  {
   "cell_type": "markdown",
   "id": "b8b62815",
   "metadata": {
    "papermill": {
     "duration": 0.011055,
     "end_time": "2022-08-30T15:54:37.193940",
     "exception": false,
     "start_time": "2022-08-30T15:54:37.182885",
     "status": "completed"
    },
    "tags": []
   },
   "source": [
    "## 8.4.3 모델 훈련 및 성능 검증"
   ]
  },
  {
   "cell_type": "code",
   "execution_count": 23,
   "id": "3cf287f4",
   "metadata": {
    "execution": {
     "iopub.execute_input": "2022-08-30T15:54:37.219194Z",
     "iopub.status.busy": "2022-08-30T15:54:37.218801Z",
     "iopub.status.idle": "2022-08-30T16:16:37.960844Z",
     "shell.execute_reply": "2022-08-30T16:16:37.959417Z"
    },
    "papermill": {
     "duration": 1320.774782,
     "end_time": "2022-08-30T16:16:37.980577",
     "exception": false,
     "start_time": "2022-08-30T15:54:37.205795",
     "status": "completed"
    },
    "tags": []
   },
   "outputs": [
    {
     "name": "stdout",
     "output_type": "stream",
     "text": [
      "######################################## 폴드 1 / 폴드 5 ########################################\n"
     ]
    },
    {
     "name": "stderr",
     "output_type": "stream",
     "text": [
      "/opt/conda/lib/python3.7/site-packages/lightgbm/engine.py:181: UserWarning: 'early_stopping_rounds' argument is deprecated and will be removed in a future release of LightGBM. Pass 'early_stopping()' callback via 'callbacks' argument instead.\n",
      "  _log_warning(\"'early_stopping_rounds' argument is deprecated and will be removed in a future release of LightGBM. \"\n",
      "/opt/conda/lib/python3.7/site-packages/lightgbm/engine.py:239: UserWarning: 'verbose_eval' argument is deprecated and will be removed in a future release of LightGBM. Pass 'log_evaluation()' callback via 'callbacks' argument instead.\n",
      "  _log_warning(\"'verbose_eval' argument is deprecated and will be removed in a future release of LightGBM. \"\n"
     ]
    },
    {
     "name": "stdout",
     "output_type": "stream",
     "text": [
      "[LightGBM] [Info] Number of positive: 17355, number of negative: 458814\n",
      "[LightGBM] [Info] Total Bins 1554\n",
      "[LightGBM] [Info] Number of data points in the train set: 476169, number of used features: 216\n",
      "[LightGBM] [Info] [binary:BoostFromScore]: pavg=0.036447 -> initscore=-3.274764\n",
      "[LightGBM] [Info] Start training from score -3.274764\n",
      "Training until validation scores don't improve for 300 rounds\n",
      "[100]\tvalid_0's binary_logloss: 0.154337\tvalid_0's gini: 0.267675\n",
      "[200]\tvalid_0's binary_logloss: 0.153289\tvalid_0's gini: 0.273861\n",
      "[300]\tvalid_0's binary_logloss: 0.152714\tvalid_0's gini: 0.278004\n",
      "[400]\tvalid_0's binary_logloss: 0.152358\tvalid_0's gini: 0.281999\n",
      "[500]\tvalid_0's binary_logloss: 0.15212\tvalid_0's gini: 0.285636\n",
      "[600]\tvalid_0's binary_logloss: 0.151965\tvalid_0's gini: 0.288149\n",
      "[700]\tvalid_0's binary_logloss: 0.151855\tvalid_0's gini: 0.290202\n",
      "[800]\tvalid_0's binary_logloss: 0.15176\tvalid_0's gini: 0.292275\n",
      "[900]\tvalid_0's binary_logloss: 0.151696\tvalid_0's gini: 0.293651\n",
      "[1000]\tvalid_0's binary_logloss: 0.151651\tvalid_0's gini: 0.294611\n",
      "[1100]\tvalid_0's binary_logloss: 0.15161\tvalid_0's gini: 0.295554\n",
      "[1200]\tvalid_0's binary_logloss: 0.151582\tvalid_0's gini: 0.296155\n",
      "[1300]\tvalid_0's binary_logloss: 0.151557\tvalid_0's gini: 0.296689\n",
      "[1400]\tvalid_0's binary_logloss: 0.151537\tvalid_0's gini: 0.297267\n",
      "[1500]\tvalid_0's binary_logloss: 0.151523\tvalid_0's gini: 0.297592\n",
      "[1600]\tvalid_0's binary_logloss: 0.151508\tvalid_0's gini: 0.297931\n",
      "[1700]\tvalid_0's binary_logloss: 0.151502\tvalid_0's gini: 0.298065\n",
      "[1800]\tvalid_0's binary_logloss: 0.151503\tvalid_0's gini: 0.297993\n",
      "[1900]\tvalid_0's binary_logloss: 0.151495\tvalid_0's gini: 0.29823\n",
      "[2000]\tvalid_0's binary_logloss: 0.151494\tvalid_0's gini: 0.298143\n",
      "[2100]\tvalid_0's binary_logloss: 0.151495\tvalid_0's gini: 0.298062\n",
      "[2200]\tvalid_0's binary_logloss: 0.151501\tvalid_0's gini: 0.297906\n",
      "Early stopping, best iteration is:\n",
      "[1917]\tvalid_0's binary_logloss: 0.151492\tvalid_0's gini: 0.298319\n",
      "폴드 1 지니계수 : 0.29831853386184815\n",
      "\n",
      "######################################## 폴드 2 / 폴드 5 ########################################\n",
      "[LightGBM] [Info] Number of positive: 17355, number of negative: 458814\n",
      "[LightGBM] [Info] Total Bins 1552\n",
      "[LightGBM] [Info] Number of data points in the train set: 476169, number of used features: 216\n",
      "[LightGBM] [Info] [binary:BoostFromScore]: pavg=0.036447 -> initscore=-3.274764\n",
      "[LightGBM] [Info] Start training from score -3.274764\n",
      "Training until validation scores don't improve for 300 rounds\n",
      "[100]\tvalid_0's binary_logloss: 0.154366\tvalid_0's gini: 0.256405\n",
      "[200]\tvalid_0's binary_logloss: 0.153352\tvalid_0's gini: 0.261797\n",
      "[300]\tvalid_0's binary_logloss: 0.152807\tvalid_0's gini: 0.265962\n",
      "[400]\tvalid_0's binary_logloss: 0.152477\tvalid_0's gini: 0.269393\n",
      "[500]\tvalid_0's binary_logloss: 0.152265\tvalid_0's gini: 0.272713\n",
      "[600]\tvalid_0's binary_logloss: 0.152121\tvalid_0's gini: 0.275336\n",
      "[700]\tvalid_0's binary_logloss: 0.152024\tvalid_0's gini: 0.277265\n",
      "[800]\tvalid_0's binary_logloss: 0.151948\tvalid_0's gini: 0.278959\n",
      "[900]\tvalid_0's binary_logloss: 0.151889\tvalid_0's gini: 0.280344\n",
      "[1000]\tvalid_0's binary_logloss: 0.151841\tvalid_0's gini: 0.281573\n",
      "[1100]\tvalid_0's binary_logloss: 0.151803\tvalid_0's gini: 0.282569\n",
      "[1200]\tvalid_0's binary_logloss: 0.151775\tvalid_0's gini: 0.283354\n",
      "[1300]\tvalid_0's binary_logloss: 0.151752\tvalid_0's gini: 0.284023\n",
      "[1400]\tvalid_0's binary_logloss: 0.151738\tvalid_0's gini: 0.284435\n",
      "[1500]\tvalid_0's binary_logloss: 0.151724\tvalid_0's gini: 0.284823\n",
      "[1600]\tvalid_0's binary_logloss: 0.151712\tvalid_0's gini: 0.285231\n",
      "[1700]\tvalid_0's binary_logloss: 0.151713\tvalid_0's gini: 0.285172\n",
      "[1800]\tvalid_0's binary_logloss: 0.151707\tvalid_0's gini: 0.285315\n",
      "[1900]\tvalid_0's binary_logloss: 0.151704\tvalid_0's gini: 0.285436\n",
      "[2000]\tvalid_0's binary_logloss: 0.151708\tvalid_0's gini: 0.285348\n",
      "[2100]\tvalid_0's binary_logloss: 0.151714\tvalid_0's gini: 0.2852\n",
      "[2200]\tvalid_0's binary_logloss: 0.151718\tvalid_0's gini: 0.285153\n",
      "Early stopping, best iteration is:\n",
      "[1916]\tvalid_0's binary_logloss: 0.151702\tvalid_0's gini: 0.285511\n",
      "폴드 2 지니계수 : 0.2855107749747472\n",
      "\n",
      "######################################## 폴드 3 / 폴드 5 ########################################\n",
      "[LightGBM] [Info] Number of positive: 17356, number of negative: 458814\n",
      "[LightGBM] [Info] Total Bins 1555\n",
      "[LightGBM] [Info] Number of data points in the train set: 476170, number of used features: 216\n",
      "[LightGBM] [Info] [binary:BoostFromScore]: pavg=0.036449 -> initscore=-3.274707\n",
      "[LightGBM] [Info] Start training from score -3.274707\n",
      "Training until validation scores don't improve for 300 rounds\n",
      "[100]\tvalid_0's binary_logloss: 0.15417\tvalid_0's gini: 0.272785\n",
      "[200]\tvalid_0's binary_logloss: 0.153074\tvalid_0's gini: 0.27694\n",
      "[300]\tvalid_0's binary_logloss: 0.152465\tvalid_0's gini: 0.280858\n",
      "[400]\tvalid_0's binary_logloss: 0.152109\tvalid_0's gini: 0.283201\n",
      "[500]\tvalid_0's binary_logloss: 0.151884\tvalid_0's gini: 0.285309\n",
      "[600]\tvalid_0's binary_logloss: 0.151736\tvalid_0's gini: 0.286986\n",
      "[700]\tvalid_0's binary_logloss: 0.151627\tvalid_0's gini: 0.288554\n",
      "[800]\tvalid_0's binary_logloss: 0.151556\tvalid_0's gini: 0.289553\n",
      "[900]\tvalid_0's binary_logloss: 0.151507\tvalid_0's gini: 0.290372\n",
      "[1000]\tvalid_0's binary_logloss: 0.151474\tvalid_0's gini: 0.290772\n",
      "[1100]\tvalid_0's binary_logloss: 0.151451\tvalid_0's gini: 0.291112\n",
      "[1200]\tvalid_0's binary_logloss: 0.151438\tvalid_0's gini: 0.291296\n",
      "[1300]\tvalid_0's binary_logloss: 0.15143\tvalid_0's gini: 0.291411\n",
      "[1400]\tvalid_0's binary_logloss: 0.151429\tvalid_0's gini: 0.291398\n",
      "[1500]\tvalid_0's binary_logloss: 0.151424\tvalid_0's gini: 0.291472\n",
      "[1600]\tvalid_0's binary_logloss: 0.151428\tvalid_0's gini: 0.291285\n",
      "Early stopping, best iteration is:\n",
      "[1358]\tvalid_0's binary_logloss: 0.151425\tvalid_0's gini: 0.291529\n",
      "폴드 3 지니계수 : 0.2915293557162162\n",
      "\n",
      "######################################## 폴드 4 / 폴드 5 ########################################\n",
      "[LightGBM] [Info] Number of positive: 17355, number of negative: 458815\n",
      "[LightGBM] [Info] Total Bins 1552\n",
      "[LightGBM] [Info] Number of data points in the train set: 476170, number of used features: 216\n",
      "[LightGBM] [Info] [binary:BoostFromScore]: pavg=0.036447 -> initscore=-3.274766\n",
      "[LightGBM] [Info] Start training from score -3.274766\n",
      "Training until validation scores don't improve for 300 rounds\n",
      "[100]\tvalid_0's binary_logloss: 0.154236\tvalid_0's gini: 0.27221\n",
      "[200]\tvalid_0's binary_logloss: 0.153137\tvalid_0's gini: 0.276452\n",
      "[300]\tvalid_0's binary_logloss: 0.152548\tvalid_0's gini: 0.279219\n",
      "[400]\tvalid_0's binary_logloss: 0.152203\tvalid_0's gini: 0.281618\n",
      "[500]\tvalid_0's binary_logloss: 0.151971\tvalid_0's gini: 0.283905\n",
      "[600]\tvalid_0's binary_logloss: 0.151828\tvalid_0's gini: 0.285605\n",
      "[700]\tvalid_0's binary_logloss: 0.15172\tvalid_0's gini: 0.287311\n",
      "[800]\tvalid_0's binary_logloss: 0.151649\tvalid_0's gini: 0.288422\n",
      "[900]\tvalid_0's binary_logloss: 0.151599\tvalid_0's gini: 0.289256\n",
      "[1000]\tvalid_0's binary_logloss: 0.151569\tvalid_0's gini: 0.289764\n",
      "[1100]\tvalid_0's binary_logloss: 0.151548\tvalid_0's gini: 0.290212\n",
      "[1200]\tvalid_0's binary_logloss: 0.151528\tvalid_0's gini: 0.290688\n",
      "[1300]\tvalid_0's binary_logloss: 0.151513\tvalid_0's gini: 0.291011\n",
      "[1400]\tvalid_0's binary_logloss: 0.151506\tvalid_0's gini: 0.291182\n",
      "[1500]\tvalid_0's binary_logloss: 0.151502\tvalid_0's gini: 0.291249\n",
      "[1600]\tvalid_0's binary_logloss: 0.151502\tvalid_0's gini: 0.291254\n",
      "[1700]\tvalid_0's binary_logloss: 0.151507\tvalid_0's gini: 0.291077\n",
      "[1800]\tvalid_0's binary_logloss: 0.151507\tvalid_0's gini: 0.291058\n",
      "Early stopping, best iteration is:\n",
      "[1594]\tvalid_0's binary_logloss: 0.151501\tvalid_0's gini: 0.29126\n",
      "폴드 4 지니계수 : 0.2912604695847087\n",
      "\n",
      "######################################## 폴드 5 / 폴드 5 ########################################\n",
      "[LightGBM] [Info] Number of positive: 17355, number of negative: 458815\n",
      "[LightGBM] [Info] Total Bins 1555\n",
      "[LightGBM] [Info] Number of data points in the train set: 476170, number of used features: 217\n",
      "[LightGBM] [Info] [binary:BoostFromScore]: pavg=0.036447 -> initscore=-3.274766\n",
      "[LightGBM] [Info] Start training from score -3.274766\n",
      "Training until validation scores don't improve for 300 rounds\n",
      "[100]\tvalid_0's binary_logloss: 0.154476\tvalid_0's gini: 0.247458\n",
      "[200]\tvalid_0's binary_logloss: 0.153533\tvalid_0's gini: 0.253654\n",
      "[300]\tvalid_0's binary_logloss: 0.153041\tvalid_0's gini: 0.258472\n",
      "[400]\tvalid_0's binary_logloss: 0.15275\tvalid_0's gini: 0.262361\n",
      "[500]\tvalid_0's binary_logloss: 0.152574\tvalid_0's gini: 0.265244\n",
      "[600]\tvalid_0's binary_logloss: 0.152448\tvalid_0's gini: 0.26791\n",
      "[700]\tvalid_0's binary_logloss: 0.152362\tvalid_0's gini: 0.269841\n",
      "[800]\tvalid_0's binary_logloss: 0.152296\tvalid_0's gini: 0.271478\n",
      "[900]\tvalid_0's binary_logloss: 0.152247\tvalid_0's gini: 0.272689\n",
      "[1000]\tvalid_0's binary_logloss: 0.152202\tvalid_0's gini: 0.273932\n",
      "[1100]\tvalid_0's binary_logloss: 0.152169\tvalid_0's gini: 0.274915\n",
      "[1200]\tvalid_0's binary_logloss: 0.152149\tvalid_0's gini: 0.275481\n",
      "[1300]\tvalid_0's binary_logloss: 0.15213\tvalid_0's gini: 0.27603\n",
      "[1400]\tvalid_0's binary_logloss: 0.152122\tvalid_0's gini: 0.276296\n",
      "[1500]\tvalid_0's binary_logloss: 0.152116\tvalid_0's gini: 0.27656\n",
      "[1600]\tvalid_0's binary_logloss: 0.152105\tvalid_0's gini: 0.277047\n",
      "[1700]\tvalid_0's binary_logloss: 0.152099\tvalid_0's gini: 0.277323\n",
      "[1800]\tvalid_0's binary_logloss: 0.152097\tvalid_0's gini: 0.277546\n",
      "[1900]\tvalid_0's binary_logloss: 0.152093\tvalid_0's gini: 0.277884\n",
      "[2000]\tvalid_0's binary_logloss: 0.152098\tvalid_0's gini: 0.277822\n",
      "[2100]\tvalid_0's binary_logloss: 0.152104\tvalid_0's gini: 0.277843\n",
      "[2200]\tvalid_0's binary_logloss: 0.152108\tvalid_0's gini: 0.277896\n",
      "Early stopping, best iteration is:\n",
      "[1943]\tvalid_0's binary_logloss: 0.152092\tvalid_0's gini: 0.277925\n",
      "폴드 5 지니계수 : 0.2779246666597295\n",
      "\n"
     ]
    }
   ],
   "source": [
    "from sklearn.model_selection import StratifiedKFold\n",
    "\n",
    "# 층화 K폴드 교차 검증기 생성\n",
    "folds = StratifiedKFold(n_splits=5, shuffle=True, random_state=1993)\n",
    "\n",
    "# OOF 방식으로 훈련된 모델로 검증 데이터 타겟값을 예측한 확률을 담을 1차원 배열\n",
    "oof_val_preds = np.zeros(X.shape[0])\n",
    "# OOF 방식으로 훈련된 모델로 테스트 데이터 타겟값을 예측한 확률을 담을 1차원 배열\n",
    "oof_test_preds = np.zeros(X_test.shape[0])\n",
    "\n",
    "# OOF 방식으로 모델 훈련, 검증, 예측\n",
    "for idx, (train_idx, valid_idx) in enumerate(folds.split(X, y)):\n",
    "    # 각 폴드를 구분하는 문구 출력\n",
    "    print('#'*40, f'폴드 {idx+1} / 폴드 {folds.n_splits}', '#'*40)\n",
    "    \n",
    "    # 훈련용 데이터, 검증용 데이터 설정\n",
    "    X_train, y_train = X[train_idx], y[train_idx]  # 훈련용 데이터\n",
    "    X_valid, y_valid = X[valid_idx], y[valid_idx]  # 검증용 데이터\n",
    "    \n",
    "    # LightGBM 전용 데이터셋 생성\n",
    "    dtrain = lgb.Dataset(X_train, y_train)  # LightGBM 전용 훈련 데이터셋\n",
    "    dvalid = lgb.Dataset(X_valid, y_valid)  # LightGBM 전용 검증 데이터셋\n",
    "    \n",
    "    # LightGBM 모델 훈련\n",
    "    lgb_model = lgb.train(params=max_params,           # 최적 하이퍼파라미터\n",
    "                          train_set=dtrain,            # 훈련 데이터셋\n",
    "                          num_boost_round=2500,        # 부스팅 반복 횟수\n",
    "                          valid_sets=dvalid,           # 성능 평가용 검증 데이터\n",
    "                          feval=gini,                  # 검증용 평가지표\n",
    "                          early_stopping_rounds=300,   # 조기종료 조건\n",
    "                          verbose_eval=100)            # 100번째마다 점수 출력\n",
    "    \n",
    "    # 테스트 데이터를 활용해 OOF 예측\n",
    "    oof_test_preds += lgb_model.predict(X_test)/folds.n_splits\n",
    "    # 모델 성능 평가를 위한 검증 데이터 타겟값 예측\n",
    "    oof_val_preds[valid_idx] += lgb_model.predict(X_valid)\n",
    "    \n",
    "    # 검증 데이터 예측 확률에 대한 정규화 지니계수\n",
    "    gini_score = eval_gini(y_valid, oof_val_preds[valid_idx])\n",
    "    print(f'폴드 {idx+1} 지니계수 : {gini_score}\\n')"
   ]
  },
  {
   "cell_type": "code",
   "execution_count": 24,
   "id": "0cf62663",
   "metadata": {
    "execution": {
     "iopub.execute_input": "2022-08-30T16:16:38.021792Z",
     "iopub.status.busy": "2022-08-30T16:16:38.020569Z",
     "iopub.status.idle": "2022-08-30T16:16:38.142484Z",
     "shell.execute_reply": "2022-08-30T16:16:38.140966Z"
    },
    "papermill": {
     "duration": 0.145227,
     "end_time": "2022-08-30T16:16:38.145286",
     "exception": false,
     "start_time": "2022-08-30T16:16:38.000059",
     "status": "completed"
    },
    "tags": []
   },
   "outputs": [
    {
     "name": "stdout",
     "output_type": "stream",
     "text": [
      "OOF 검증 데이터 지니계수 : 0.28881695534596913\n"
     ]
    }
   ],
   "source": [
    "print('OOF 검증 데이터 지니계수 :', eval_gini(y, oof_val_preds))"
   ]
  },
  {
   "cell_type": "markdown",
   "id": "202825fa",
   "metadata": {
    "papermill": {
     "duration": 0.019134,
     "end_time": "2022-08-30T16:16:38.183795",
     "exception": false,
     "start_time": "2022-08-30T16:16:38.164661",
     "status": "completed"
    },
    "tags": []
   },
   "source": [
    "## 8.4.4 예측 및 결과 제출"
   ]
  },
  {
   "cell_type": "code",
   "execution_count": 25,
   "id": "014e2656",
   "metadata": {
    "execution": {
     "iopub.execute_input": "2022-08-30T16:16:38.224585Z",
     "iopub.status.busy": "2022-08-30T16:16:38.224187Z",
     "iopub.status.idle": "2022-08-30T16:16:40.518385Z",
     "shell.execute_reply": "2022-08-30T16:16:40.517330Z"
    },
    "papermill": {
     "duration": 2.318637,
     "end_time": "2022-08-30T16:16:40.521623",
     "exception": false,
     "start_time": "2022-08-30T16:16:38.202986",
     "status": "completed"
    },
    "tags": []
   },
   "outputs": [],
   "source": [
    "submission['target'] = oof_test_preds\n",
    "submission.to_csv('submission.csv')"
   ]
  },
  {
   "cell_type": "code",
   "execution_count": null,
   "id": "1e3e3fd6",
   "metadata": {
    "papermill": {
     "duration": 0.019019,
     "end_time": "2022-08-30T16:16:40.560267",
     "exception": false,
     "start_time": "2022-08-30T16:16:40.541248",
     "status": "completed"
    },
    "tags": []
   },
   "outputs": [],
   "source": []
  }
 ],
 "metadata": {
  "kernelspec": {
   "display_name": "Python 3",
   "language": "python",
   "name": "python3"
  },
  "language_info": {
   "codemirror_mode": {
    "name": "ipython",
    "version": 3
   },
   "file_extension": ".py",
   "mimetype": "text/x-python",
   "name": "python",
   "nbconvert_exporter": "python",
   "pygments_lexer": "ipython3",
   "version": "3.7.12"
  },
  "papermill": {
   "default_parameters": {},
   "duration": 3316.758791,
   "end_time": "2022-08-30T16:16:41.915886",
   "environment_variables": {},
   "exception": null,
   "input_path": "__notebook__.ipynb",
   "output_path": "__notebook__.ipynb",
   "parameters": {},
   "start_time": "2022-08-30T15:21:25.157095",
   "version": "2.3.4"
  }
 },
 "nbformat": 4,
 "nbformat_minor": 5
}
