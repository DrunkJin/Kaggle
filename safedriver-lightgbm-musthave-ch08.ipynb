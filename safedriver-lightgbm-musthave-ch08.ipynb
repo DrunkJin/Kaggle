{
 "cells": [
  {
   "cell_type": "code",
   "execution_count": 1,
   "id": "ba5e76cd",
   "metadata": {
    "_cell_guid": "b1076dfc-b9ad-4769-8c92-a6c4dae69d19",
    "_uuid": "8f2839f25d086af736a60e9eeb907d3b93b6e0e5",
    "execution": {
     "iopub.execute_input": "2022-08-30T13:01:00.793547Z",
     "iopub.status.busy": "2022-08-30T13:01:00.792144Z",
     "iopub.status.idle": "2022-08-30T13:01:10.619008Z",
     "shell.execute_reply": "2022-08-30T13:01:10.617865Z"
    },
    "papermill": {
     "duration": 9.840488,
     "end_time": "2022-08-30T13:01:10.621968",
     "exception": false,
     "start_time": "2022-08-30T13:01:00.781480",
     "status": "completed"
    },
    "tags": []
   },
   "outputs": [],
   "source": [
    "import pandas as pd\n",
    "\n",
    "# 데이터 경로\n",
    "data_path = '/kaggle/input/porto-seguro-safe-driver-prediction/'\n",
    "\n",
    "train = pd.read_csv(data_path + 'train.csv', index_col='id')\n",
    "test = pd.read_csv(data_path + 'test.csv', index_col='id')\n",
    "submission = pd.read_csv(data_path + 'sample_submission.csv', index_col='id')"
   ]
  },
  {
   "cell_type": "markdown",
   "id": "bc04dd2e",
   "metadata": {
    "papermill": {
     "duration": 0.00714,
     "end_time": "2022-08-30T13:01:10.636718",
     "exception": false,
     "start_time": "2022-08-30T13:01:10.629578",
     "status": "completed"
    },
    "tags": []
   },
   "source": [
    "## 8.4.1 피처 엔지니어링\n",
    "* 데이터 합치기"
   ]
  },
  {
   "cell_type": "code",
   "execution_count": 2,
   "id": "eb74c729",
   "metadata": {
    "execution": {
     "iopub.execute_input": "2022-08-30T13:01:10.653286Z",
     "iopub.status.busy": "2022-08-30T13:01:10.652930Z",
     "iopub.status.idle": "2022-08-30T13:01:11.930925Z",
     "shell.execute_reply": "2022-08-30T13:01:11.929673Z"
    },
    "papermill": {
     "duration": 1.289528,
     "end_time": "2022-08-30T13:01:11.933650",
     "exception": false,
     "start_time": "2022-08-30T13:01:10.644122",
     "status": "completed"
    },
    "tags": []
   },
   "outputs": [],
   "source": [
    "all_data = pd.concat([train, test], ignore_index=True)\n",
    "all_data = all_data.drop('target', axis=1) # 타겟값 제거\n",
    "\n",
    "all_features = all_data.columns # 전체 피처"
   ]
  },
  {
   "cell_type": "markdown",
   "id": "60d33dc5",
   "metadata": {
    "papermill": {
     "duration": 0.006858,
     "end_time": "2022-08-30T13:01:11.947878",
     "exception": false,
     "start_time": "2022-08-30T13:01:11.941020",
     "status": "completed"
    },
    "tags": []
   },
   "source": [
    "* 명목형 피처 원-핫 인코딩"
   ]
  },
  {
   "cell_type": "code",
   "execution_count": 3,
   "id": "65a07823",
   "metadata": {
    "execution": {
     "iopub.execute_input": "2022-08-30T13:01:11.964192Z",
     "iopub.status.busy": "2022-08-30T13:01:11.963769Z",
     "iopub.status.idle": "2022-08-30T13:01:15.185379Z",
     "shell.execute_reply": "2022-08-30T13:01:15.184495Z"
    },
    "papermill": {
     "duration": 3.2327,
     "end_time": "2022-08-30T13:01:15.187915",
     "exception": false,
     "start_time": "2022-08-30T13:01:11.955215",
     "status": "completed"
    },
    "tags": []
   },
   "outputs": [],
   "source": [
    "from sklearn.preprocessing import OneHotEncoder\n",
    "\n",
    "# 명목형 피처\n",
    "cat_features = [feature for feature in all_features if 'cat' in feature]\n",
    "\n",
    "# 원-핫 인코딩 적용\n",
    "onehot_encoder = OneHotEncoder()\n",
    "encoded_cat_matrix = onehot_encoder.fit_transform(all_data[cat_features])"
   ]
  },
  {
   "cell_type": "code",
   "execution_count": 4,
   "id": "9b4ad804",
   "metadata": {
    "execution": {
     "iopub.execute_input": "2022-08-30T13:01:15.204779Z",
     "iopub.status.busy": "2022-08-30T13:01:15.203827Z",
     "iopub.status.idle": "2022-08-30T13:01:15.410274Z",
     "shell.execute_reply": "2022-08-30T13:01:15.408942Z"
    },
    "papermill": {
     "duration": 0.217303,
     "end_time": "2022-08-30T13:01:15.412864",
     "exception": false,
     "start_time": "2022-08-30T13:01:15.195561",
     "status": "completed"
    },
    "tags": []
   },
   "outputs": [],
   "source": [
    "# '데이터 하나당 결측값 개수'를 파생 피처로 추가\n",
    "all_data['num_missing'] = (all_data==-1).sum(axis=1)"
   ]
  },
  {
   "cell_type": "code",
   "execution_count": 5,
   "id": "36a437ff",
   "metadata": {
    "execution": {
     "iopub.execute_input": "2022-08-30T13:01:15.428828Z",
     "iopub.status.busy": "2022-08-30T13:01:15.428395Z",
     "iopub.status.idle": "2022-08-30T13:01:15.433943Z",
     "shell.execute_reply": "2022-08-30T13:01:15.432919Z"
    },
    "papermill": {
     "duration": 0.016003,
     "end_time": "2022-08-30T13:01:15.436147",
     "exception": false,
     "start_time": "2022-08-30T13:01:15.420144",
     "status": "completed"
    },
    "tags": []
   },
   "outputs": [],
   "source": [
    "# 명목형 피처, calc 분류의 피처를 제외한 피처\n",
    "remaining_features = [feature for feature in all_features\n",
    "                      if ('cat' not in feature and 'calc' not in feature)]\n",
    "\n",
    "# num_missing을 remaining_features에 추가\n",
    "remaining_features.append('num_missing')"
   ]
  },
  {
   "cell_type": "markdown",
   "id": "53f26e7b",
   "metadata": {
    "papermill": {
     "duration": 0.006773,
     "end_time": "2022-08-30T13:01:15.449991",
     "exception": false,
     "start_time": "2022-08-30T13:01:15.443218",
     "status": "completed"
    },
    "tags": []
   },
   "source": [
    "* 파생 피처 만들기"
   ]
  },
  {
   "cell_type": "code",
   "execution_count": 6,
   "id": "ebc1c62a",
   "metadata": {
    "execution": {
     "iopub.execute_input": "2022-08-30T13:01:15.466321Z",
     "iopub.status.busy": "2022-08-30T13:01:15.465947Z",
     "iopub.status.idle": "2022-08-30T13:01:36.739150Z",
     "shell.execute_reply": "2022-08-30T13:01:36.737673Z"
    },
    "papermill": {
     "duration": 21.284416,
     "end_time": "2022-08-30T13:01:36.742027",
     "exception": false,
     "start_time": "2022-08-30T13:01:15.457611",
     "status": "completed"
    },
    "tags": []
   },
   "outputs": [],
   "source": [
    "# mix_ind 만들기 -> ind 피처들을 하나로 뭉치기\n",
    "\n",
    "# 분류가 ind인 피처\n",
    "ind_features = [feature for feature in all_features if 'ind' in feature]\n",
    "\n",
    "is_first_feature = True\n",
    "for ind_feature in ind_features:\n",
    "    if is_first_feature:\n",
    "        all_data['mix_ind'] = all_data[ind_feature].astype(str) + '_'\n",
    "        is_first_feature = False\n",
    "    else:\n",
    "        all_data['mix_ind'] += all_data[ind_feature].astype(str) + '_'"
   ]
  },
  {
   "cell_type": "markdown",
   "id": "7f759c80",
   "metadata": {
    "papermill": {
     "duration": 0.006914,
     "end_time": "2022-08-30T13:01:36.756340",
     "exception": false,
     "start_time": "2022-08-30T13:01:36.749426",
     "status": "completed"
    },
    "tags": []
   },
   "source": [
    "* 고윳값별 개수를 새로운 피처로 추가"
   ]
  },
  {
   "cell_type": "code",
   "execution_count": 7,
   "id": "50264a08",
   "metadata": {
    "execution": {
     "iopub.execute_input": "2022-08-30T13:01:36.772878Z",
     "iopub.status.busy": "2022-08-30T13:01:36.772246Z",
     "iopub.status.idle": "2022-08-30T13:01:36.793816Z",
     "shell.execute_reply": "2022-08-30T13:01:36.793010Z"
    },
    "papermill": {
     "duration": 0.032686,
     "end_time": "2022-08-30T13:01:36.796473",
     "exception": false,
     "start_time": "2022-08-30T13:01:36.763787",
     "status": "completed"
    },
    "tags": []
   },
   "outputs": [
    {
     "data": {
      "text/plain": [
       "{1: 1079327, 2: 309747, 3: 70172, 4: 28259, -1: 523}"
      ]
     },
     "execution_count": 7,
     "metadata": {},
     "output_type": "execute_result"
    }
   ],
   "source": [
    "all_data['ps_ind_02_cat'].value_counts().to_dict()"
   ]
  },
  {
   "cell_type": "code",
   "execution_count": 8,
   "id": "0c5aa896",
   "metadata": {
    "execution": {
     "iopub.execute_input": "2022-08-30T13:01:36.813386Z",
     "iopub.status.busy": "2022-08-30T13:01:36.812441Z",
     "iopub.status.idle": "2022-08-30T13:01:46.979685Z",
     "shell.execute_reply": "2022-08-30T13:01:46.978486Z"
    },
    "papermill": {
     "duration": 10.178542,
     "end_time": "2022-08-30T13:01:46.982385",
     "exception": false,
     "start_time": "2022-08-30T13:01:36.803843",
     "status": "completed"
    },
    "tags": []
   },
   "outputs": [],
   "source": [
    "cat_count_features = []\n",
    "for feature in cat_features+['mix_ind']:\n",
    "    val_counts_dict = all_data[feature].value_counts().to_dict()\n",
    "    all_data[f'{feature}_count'] = all_data[feature].apply(lambda x:\n",
    "                                                           val_counts_dict[x])\n",
    "    cat_count_features.append(f'{feature}_count')"
   ]
  },
  {
   "cell_type": "code",
   "execution_count": 9,
   "id": "e0540a76",
   "metadata": {
    "execution": {
     "iopub.execute_input": "2022-08-30T13:01:46.999804Z",
     "iopub.status.busy": "2022-08-30T13:01:46.999431Z",
     "iopub.status.idle": "2022-08-30T13:01:47.005275Z",
     "shell.execute_reply": "2022-08-30T13:01:47.004253Z"
    },
    "papermill": {
     "duration": 0.017697,
     "end_time": "2022-08-30T13:01:47.008100",
     "exception": false,
     "start_time": "2022-08-30T13:01:46.990403",
     "status": "completed"
    },
    "tags": []
   },
   "outputs": [
    {
     "data": {
      "text/plain": [
       "['ps_ind_02_cat_count',\n",
       " 'ps_ind_04_cat_count',\n",
       " 'ps_ind_05_cat_count',\n",
       " 'ps_car_01_cat_count',\n",
       " 'ps_car_02_cat_count',\n",
       " 'ps_car_03_cat_count',\n",
       " 'ps_car_04_cat_count',\n",
       " 'ps_car_05_cat_count',\n",
       " 'ps_car_06_cat_count',\n",
       " 'ps_car_07_cat_count',\n",
       " 'ps_car_08_cat_count',\n",
       " 'ps_car_09_cat_count',\n",
       " 'ps_car_10_cat_count',\n",
       " 'ps_car_11_cat_count',\n",
       " 'mix_ind_count']"
      ]
     },
     "execution_count": 9,
     "metadata": {},
     "output_type": "execute_result"
    }
   ],
   "source": [
    "cat_count_features"
   ]
  },
  {
   "cell_type": "markdown",
   "id": "623eff28",
   "metadata": {
    "papermill": {
     "duration": 0.007092,
     "end_time": "2022-08-30T13:01:47.022760",
     "exception": false,
     "start_time": "2022-08-30T13:01:47.015668",
     "status": "completed"
    },
    "tags": []
   },
   "source": [
    "* 필요없는 피처 제거  \n",
    "지금까지 만든 피처들   \n",
    " encoded_cat_matrix : 원-핫 인코딩된 명목형 피처  \n",
    " remaining_features : 명목형 피처와 calc 분류의 피처를 제외한 피처들 (+num_missing)  \n",
    " cat_count_features : mix_ind를 포함한 명목형 피처의 고윳값별 개수 파생 피처"
   ]
  },
  {
   "cell_type": "code",
   "execution_count": 10,
   "id": "2dd8b4a1",
   "metadata": {
    "execution": {
     "iopub.execute_input": "2022-08-30T13:01:47.039767Z",
     "iopub.status.busy": "2022-08-30T13:01:47.038784Z",
     "iopub.status.idle": "2022-08-30T13:01:52.864664Z",
     "shell.execute_reply": "2022-08-30T13:01:52.863420Z"
    },
    "papermill": {
     "duration": 5.837155,
     "end_time": "2022-08-30T13:01:52.867375",
     "exception": false,
     "start_time": "2022-08-30T13:01:47.030220",
     "status": "completed"
    },
    "tags": []
   },
   "outputs": [],
   "source": [
    "from scipy import sparse\n",
    "# 필요없는 피처들\n",
    "drop_features = ['ps_ind_14', 'ps_ind_10_bin', 'ps_ind_11_bin',\n",
    "                 'ps_ind_12_bin', 'ps_ind_13_bin', 'ps_car_14']\n",
    "\n",
    "# remaining_features, cat_count_features에서 drop_features를 제거한 데이터\n",
    "all_data_remaining = all_data[remaining_features+cat_count_features].drop(drop_features, axis=1)\n",
    "\n",
    "# 데이터 합치기\n",
    "all_data_sprs = sparse.hstack([sparse.csr_matrix(all_data_remaining),\n",
    "                               encoded_cat_matrix],\n",
    "                              format='csr')"
   ]
  },
  {
   "cell_type": "markdown",
   "id": "f04004a6",
   "metadata": {
    "papermill": {
     "duration": 0.007302,
     "end_time": "2022-08-30T13:01:52.882223",
     "exception": false,
     "start_time": "2022-08-30T13:01:52.874921",
     "status": "completed"
    },
    "tags": []
   },
   "source": [
    "* 데이터 나누기"
   ]
  },
  {
   "cell_type": "code",
   "execution_count": 11,
   "id": "b010b78d",
   "metadata": {
    "execution": {
     "iopub.execute_input": "2022-08-30T13:01:52.902587Z",
     "iopub.status.busy": "2022-08-30T13:01:52.902049Z",
     "iopub.status.idle": "2022-08-30T13:01:54.118325Z",
     "shell.execute_reply": "2022-08-30T13:01:54.117239Z"
    },
    "papermill": {
     "duration": 1.228199,
     "end_time": "2022-08-30T13:01:54.121202",
     "exception": false,
     "start_time": "2022-08-30T13:01:52.893003",
     "status": "completed"
    },
    "tags": []
   },
   "outputs": [],
   "source": [
    "num_train = len(train)  # 훈련 데이터 개수\n",
    "\n",
    "# 훈련 데이터와 테스트 데이터 나누기\n",
    "X = all_data_sprs[:num_train]\n",
    "X_test = all_data_sprs[num_train:]\n",
    "\n",
    "y = train['target'].values"
   ]
  },
  {
   "cell_type": "markdown",
   "id": "8ba4c771",
   "metadata": {
    "papermill": {
     "duration": 0.007459,
     "end_time": "2022-08-30T13:01:54.136532",
     "exception": false,
     "start_time": "2022-08-30T13:01:54.129073",
     "status": "completed"
    },
    "tags": []
   },
   "source": [
    "## 8.4.2 하이퍼파라미터 최적화"
   ]
  },
  {
   "cell_type": "markdown",
   "id": "4654caf1",
   "metadata": {
    "papermill": {
     "duration": 0.007207,
     "end_time": "2022-08-30T13:01:54.151236",
     "exception": false,
     "start_time": "2022-08-30T13:01:54.144029",
     "status": "completed"
    },
    "tags": []
   },
   "source": [
    "* 데이터셋"
   ]
  },
  {
   "cell_type": "code",
   "execution_count": 12,
   "id": "bc1748b7",
   "metadata": {
    "execution": {
     "iopub.execute_input": "2022-08-30T13:01:54.168091Z",
     "iopub.status.busy": "2022-08-30T13:01:54.167368Z",
     "iopub.status.idle": "2022-08-30T13:01:55.213078Z",
     "shell.execute_reply": "2022-08-30T13:01:55.211838Z"
    },
    "papermill": {
     "duration": 1.05722,
     "end_time": "2022-08-30T13:01:55.215797",
     "exception": false,
     "start_time": "2022-08-30T13:01:54.158577",
     "status": "completed"
    },
    "tags": []
   },
   "outputs": [
    {
     "data": {
      "text/html": [
       "<style type='text/css'>\n",
       ".datatable table.frame { margin-bottom: 0; }\n",
       ".datatable table.frame thead { border-bottom: none; }\n",
       ".datatable table.frame tr.coltypes td {  color: #FFFFFF;  line-height: 6px;  padding: 0 0.5em;}\n",
       ".datatable .bool    { background: #DDDD99; }\n",
       ".datatable .object  { background: #565656; }\n",
       ".datatable .int     { background: #5D9E5D; }\n",
       ".datatable .float   { background: #4040CC; }\n",
       ".datatable .str     { background: #CC4040; }\n",
       ".datatable .time    { background: #40CC40; }\n",
       ".datatable .row_index {  background: var(--jp-border-color3);  border-right: 1px solid var(--jp-border-color0);  color: var(--jp-ui-font-color3);  font-size: 9px;}\n",
       ".datatable .frame tbody td { text-align: left; }\n",
       ".datatable .frame tr.coltypes .row_index {  background: var(--jp-border-color0);}\n",
       ".datatable th:nth-child(2) { padding-left: 12px; }\n",
       ".datatable .hellipsis {  color: var(--jp-cell-editor-border-color);}\n",
       ".datatable .vellipsis {  background: var(--jp-layout-color0);  color: var(--jp-cell-editor-border-color);}\n",
       ".datatable .na {  color: var(--jp-cell-editor-border-color);  font-size: 80%;}\n",
       ".datatable .sp {  opacity: 0.25;}\n",
       ".datatable .footer { font-size: 9px; }\n",
       ".datatable .frame_dimensions {  background: var(--jp-border-color3);  border-top: 1px solid var(--jp-border-color0);  color: var(--jp-ui-font-color3);  display: inline-block;  opacity: 0.6;  padding: 1px 10px 1px 5px;}\n",
       "</style>\n"
      ],
      "text/plain": [
       "<IPython.core.display.HTML object>"
      ]
     },
     "metadata": {},
     "output_type": "display_data"
    }
   ],
   "source": [
    "import lightgbm as lgb\n",
    "from sklearn.model_selection import train_test_split\n",
    "\n",
    "# 8:2 비율로 훈련 데이터, 검증 데이터 분리 (베이지안 최적화 수행용)\n",
    "X_train, X_valid, y_train, y_valid = train_test_split(X, y,\n",
    "                                                      test_size=0.2,\n",
    "                                                      random_state=0)\n",
    "\n",
    "# 베이지안 최적화용 데이터셋\n",
    "bayes_dtrain = lgb.Dataset(X_train, y_train)\n",
    "bayes_dvalid = lgb.Dataset(X_valid, y_valid)"
   ]
  },
  {
   "cell_type": "markdown",
   "id": "0938b893",
   "metadata": {
    "papermill": {
     "duration": 0.007328,
     "end_time": "2022-08-30T13:01:55.230975",
     "exception": false,
     "start_time": "2022-08-30T13:01:55.223647",
     "status": "completed"
    },
    "tags": []
   },
   "source": [
    "* 하이퍼파라미터 범위설정"
   ]
  },
  {
   "cell_type": "code",
   "execution_count": 13,
   "id": "c67ed6cb",
   "metadata": {
    "execution": {
     "iopub.execute_input": "2022-08-30T13:01:55.248007Z",
     "iopub.status.busy": "2022-08-30T13:01:55.247600Z",
     "iopub.status.idle": "2022-08-30T13:01:55.254431Z",
     "shell.execute_reply": "2022-08-30T13:01:55.253185Z"
    },
    "papermill": {
     "duration": 0.018336,
     "end_time": "2022-08-30T13:01:55.256871",
     "exception": false,
     "start_time": "2022-08-30T13:01:55.238535",
     "status": "completed"
    },
    "tags": []
   },
   "outputs": [],
   "source": [
    "# 베이지안 최적화를 위한 하이퍼파라미터 범위\n",
    "param_bounds = {'num_leaves': (30, 40),\n",
    "                'lambda_l1': (0.7, 0.9),\n",
    "                'lambda_l2': (0.9, 1),\n",
    "                'feature_fraction': (0.6, 0.7),\n",
    "                'bagging_fraction': (0.6, 0.9),\n",
    "                'min_child_samples': (6, 10),\n",
    "                'min_child_weight': (10, 40)}\n",
    "\n",
    "# 값이 고정된 하이퍼파라미터\n",
    "fixed_params = {'objective': 'binary',     # 이진분류 문제기 때문에 binary설정\n",
    "                   'learning_rate': 0.005,    # 학습률은 보통 0.01 ~ 0.001 사이의 값으로 설정함\n",
    "                   'bagging_freq': 1,         # learning_rate, bagging_freq는 범위로 해도되고 변경하면서 최적을 찾아도 됨\n",
    "                   'force_row_wise': True,    # 경고문구 제거를 위해\n",
    "                   'random_state': 1993}      # 동일한 결과를 위해 값 고정"
   ]
  },
  {
   "cell_type": "code",
   "execution_count": 14,
   "id": "cc334db4",
   "metadata": {
    "execution": {
     "iopub.execute_input": "2022-08-30T13:01:55.274332Z",
     "iopub.status.busy": "2022-08-30T13:01:55.273603Z",
     "iopub.status.idle": "2022-08-30T13:01:55.282177Z",
     "shell.execute_reply": "2022-08-30T13:01:55.281351Z"
    },
    "papermill": {
     "duration": 0.019898,
     "end_time": "2022-08-30T13:01:55.284506",
     "exception": false,
     "start_time": "2022-08-30T13:01:55.264608",
     "status": "completed"
    },
    "tags": []
   },
   "outputs": [],
   "source": [
    "import numpy as np\n",
    "\n",
    "def eval_gini(y_true, y_pred):\n",
    "    # 실제값과 예측값의 크기가 서로 같은지 확인 (값이 다르면 오류 발생)\n",
    "    assert y_true.shape == y_pred.shape\n",
    "    \n",
    "    n_samples = y_true.shape[0]        # 데이터 개수\n",
    "    L_mid = np.linspace(1 / n_samples, 1, n_samples) # 대각선 값\n",
    "    \n",
    "    # 1) 예측값에 대한 지니계수\n",
    "    pred_order = y_true[y_pred.argsort()] # y_pred 크기 순으로 y_true 값 정렬\n",
    "    L_pred = np.cumsum(pred_order) / np.sum(pred_order) # 로렌츠 곡선\n",
    "    G_pred = np.sum(L_mid - L_pred)       # 예측값에 대한 지니계수\n",
    "    \n",
    "    # 2) 예측이 완벽할 때 지니계수\n",
    "    true_order = y_true[y_true.argsort()]  # y_true 크기 순으로 y_true값 정렬\n",
    "    L_true = np.cumsum(true_order) / np.sum(true_order)  # 로렌츠 곡선\n",
    "    G_true = np.sum(L_mid - L_true)     # 예측이 완벽할 때 지니계수\n",
    "    \n",
    "    # 정규화된 지니계수\n",
    "    return G_pred / G_true"
   ]
  },
  {
   "cell_type": "code",
   "execution_count": 15,
   "id": "6056e78b",
   "metadata": {
    "execution": {
     "iopub.execute_input": "2022-08-30T13:01:55.301654Z",
     "iopub.status.busy": "2022-08-30T13:01:55.301227Z",
     "iopub.status.idle": "2022-08-30T13:01:55.306559Z",
     "shell.execute_reply": "2022-08-30T13:01:55.305417Z"
    },
    "papermill": {
     "duration": 0.016705,
     "end_time": "2022-08-30T13:01:55.308925",
     "exception": false,
     "start_time": "2022-08-30T13:01:55.292220",
     "status": "completed"
    },
    "tags": []
   },
   "outputs": [],
   "source": [
    "# LightGBM용 gini() 함수\n",
    "def gini(preds, dtrain):\n",
    "    labels = dtrain.get_label() # 데이터셋의 타겟값을 반환함\n",
    "    return 'gini', eval_gini(labels, preds), True    # 평가지표 이름, 평가점수, 평가점수가 높을수록 좋은지 여부"
   ]
  },
  {
   "cell_type": "markdown",
   "id": "7dcf1dcc",
   "metadata": {
    "papermill": {
     "duration": 0.007312,
     "end_time": "2022-08-30T13:01:55.323823",
     "exception": false,
     "start_time": "2022-08-30T13:01:55.316511",
     "status": "completed"
    },
    "tags": []
   },
   "source": [
    "베이지안 최적화용 평가지표 계산 함수 작성"
   ]
  },
  {
   "cell_type": "code",
   "execution_count": 16,
   "id": "dc3c5010",
   "metadata": {
    "execution": {
     "iopub.execute_input": "2022-08-30T13:01:55.340800Z",
     "iopub.status.busy": "2022-08-30T13:01:55.340388Z",
     "iopub.status.idle": "2022-08-30T13:01:55.349221Z",
     "shell.execute_reply": "2022-08-30T13:01:55.348008Z"
    },
    "papermill": {
     "duration": 0.020166,
     "end_time": "2022-08-30T13:01:55.351470",
     "exception": false,
     "start_time": "2022-08-30T13:01:55.331304",
     "status": "completed"
    },
    "tags": []
   },
   "outputs": [],
   "source": [
    "def eval_function(num_leaves, lambda_l1, lambda_l2, feature_fraction, \n",
    "                  bagging_fraction, min_child_samples, min_child_weight):\n",
    "    '''최적화하려는 평가지표(지니계수) 계산 함수'''\n",
    "    \n",
    "    # 베이지안 최적화를 수행할 하이퍼파라미터\n",
    "    params = {'num_leaves': int(round(num_leaves)),\n",
    "              'lambda_l1': lambda_l1,\n",
    "              'lambda_l2': lambda_l2,\n",
    "              'feature_fraction': feature_fraction,\n",
    "              'bagging_fraction': bagging_fraction,\n",
    "              'min_child_samples': int(round(min_child_samples)),\n",
    "              'min_child_weight': min_child_weight,\n",
    "              'feature_pre_filter': False}\n",
    "    \n",
    "    # 고정된 하이퍼파라미터도 추가\n",
    "    params.update(fixed_params)\n",
    "    \n",
    "    print('하이퍼파라미터:', params)\n",
    "    \n",
    "    # LightGBM 모델 훈련\n",
    "    lgb_model = lgb.train(params=params,\n",
    "                          train_set=bayes_dtrain,\n",
    "                          num_boost_round=2500,\n",
    "                          valid_sets=bayes_dvalid,\n",
    "                          feval=gini,\n",
    "                          early_stopping_rounds=300,\n",
    "                          verbose_eval=False)\n",
    "    # 검증 데이터로 예측 수행\n",
    "    preds = lgb_model.predict(X_valid)\n",
    "    # 지니계수 계산\n",
    "    gini_score = eval_gini(y_valid, preds)\n",
    "    print(f'지니계수 : {gini_score}\\n')\n",
    "    \n",
    "    return gini_score"
   ]
  },
  {
   "cell_type": "markdown",
   "id": "e0a9d372",
   "metadata": {
    "papermill": {
     "duration": 0.007206,
     "end_time": "2022-08-30T13:01:55.366347",
     "exception": false,
     "start_time": "2022-08-30T13:01:55.359141",
     "status": "completed"
    },
    "tags": []
   },
   "source": [
    "* 최적화 수행"
   ]
  },
  {
   "cell_type": "code",
   "execution_count": 17,
   "id": "000525aa",
   "metadata": {
    "execution": {
     "iopub.execute_input": "2022-08-30T13:01:55.383786Z",
     "iopub.status.busy": "2022-08-30T13:01:55.383015Z",
     "iopub.status.idle": "2022-08-30T13:01:55.408470Z",
     "shell.execute_reply": "2022-08-30T13:01:55.407572Z"
    },
    "papermill": {
     "duration": 0.037176,
     "end_time": "2022-08-30T13:01:55.411055",
     "exception": false,
     "start_time": "2022-08-30T13:01:55.373879",
     "status": "completed"
    },
    "tags": []
   },
   "outputs": [],
   "source": [
    "from bayes_opt import BayesianOptimization\n",
    "\n",
    "# 베이지안 최적화 객체 생성\n",
    "optimizer = BayesianOptimization(f=eval_function,      # 평가지표 계산 함수\n",
    "                                 pbounds=param_bounds, # 하이퍼파라미터 범위\n",
    "                                 random_state=0)"
   ]
  },
  {
   "cell_type": "code",
   "execution_count": 18,
   "id": "d5635ab7",
   "metadata": {
    "execution": {
     "iopub.execute_input": "2022-08-30T13:01:55.428665Z",
     "iopub.status.busy": "2022-08-30T13:01:55.427877Z",
     "iopub.status.idle": "2022-08-30T13:32:27.097398Z",
     "shell.execute_reply": "2022-08-30T13:32:27.095956Z"
    },
    "papermill": {
     "duration": 1831.690389,
     "end_time": "2022-08-30T13:32:27.109199",
     "exception": false,
     "start_time": "2022-08-30T13:01:55.418810",
     "status": "completed"
    },
    "tags": []
   },
   "outputs": [
    {
     "name": "stdout",
     "output_type": "stream",
     "text": [
      "|   iter    |  target   | baggin... | featur... | lambda_l1 | lambda_l2 | min_ch... | min_ch... | num_le... |\n",
      "-------------------------------------------------------------------------------------------------------------\n",
      "하이퍼파라미터: {'num_leaves': 34, 'lambda_l1': 0.8205526752143287, 'lambda_l2': 0.9544883182996897, 'feature_fraction': 0.6715189366372419, 'bagging_fraction': 0.7646440511781974, 'min_child_samples': 8, 'min_child_weight': 29.376823391999682, 'feature_pre_filter': False, 'objective': 'binary', 'learning_rate': 0.005, 'bagging_freq': 1, 'force_row_wise': True, 'random_state': 1993}\n"
     ]
    },
    {
     "name": "stderr",
     "output_type": "stream",
     "text": [
      "/opt/conda/lib/python3.7/site-packages/lightgbm/engine.py:181: UserWarning: 'early_stopping_rounds' argument is deprecated and will be removed in a future release of LightGBM. Pass 'early_stopping()' callback via 'callbacks' argument instead.\n",
      "  _log_warning(\"'early_stopping_rounds' argument is deprecated and will be removed in a future release of LightGBM. \"\n",
      "/opt/conda/lib/python3.7/site-packages/lightgbm/engine.py:239: UserWarning: 'verbose_eval' argument is deprecated and will be removed in a future release of LightGBM. Pass 'log_evaluation()' callback via 'callbacks' argument instead.\n",
      "  _log_warning(\"'verbose_eval' argument is deprecated and will be removed in a future release of LightGBM. \"\n"
     ]
    },
    {
     "name": "stdout",
     "output_type": "stream",
     "text": [
      "[LightGBM] [Info] Number of positive: 17383, number of negative: 458786\n",
      "[LightGBM] [Info] Total Bins 1557\n",
      "[LightGBM] [Info] Number of data points in the train set: 476169, number of used features: 217\n",
      "[LightGBM] [Info] [binary:BoostFromScore]: pavg=0.036506 -> initscore=-3.273091\n",
      "[LightGBM] [Info] Start training from score -3.273091\n",
      "지니계수 : 0.2853830357519995\n",
      "\n",
      "| \u001b[0m 1       \u001b[0m | \u001b[0m 0.2854  \u001b[0m | \u001b[0m 0.7646  \u001b[0m | \u001b[0m 0.6715  \u001b[0m | \u001b[0m 0.8206  \u001b[0m | \u001b[0m 0.9545  \u001b[0m | \u001b[0m 7.695   \u001b[0m | \u001b[0m 29.38   \u001b[0m | \u001b[0m 34.38   \u001b[0m |\n",
      "하이퍼파라미터: {'num_leaves': 39, 'lambda_l1': 0.7766883037651555, 'lambda_l2': 0.9791725038082665, 'feature_fraction': 0.6963662760501029, 'bagging_fraction': 0.867531900234624, 'min_child_samples': 8, 'min_child_weight': 27.04133683281797, 'feature_pre_filter': False, 'objective': 'binary', 'learning_rate': 0.005, 'bagging_freq': 1, 'force_row_wise': True, 'random_state': 1993}\n",
      "[LightGBM] [Info] Number of positive: 17383, number of negative: 458786\n",
      "[LightGBM] [Info] Total Bins 1557\n",
      "[LightGBM] [Info] Number of data points in the train set: 476169, number of used features: 217\n",
      "[LightGBM] [Info] [binary:BoostFromScore]: pavg=0.036506 -> initscore=-3.273091\n",
      "[LightGBM] [Info] Start training from score -3.273091\n",
      "지니계수 : 0.28448955136848003\n",
      "\n",
      "| \u001b[0m 2       \u001b[0m | \u001b[0m 0.2845  \u001b[0m | \u001b[0m 0.8675  \u001b[0m | \u001b[0m 0.6964  \u001b[0m | \u001b[0m 0.7767  \u001b[0m | \u001b[0m 0.9792  \u001b[0m | \u001b[0m 8.116   \u001b[0m | \u001b[0m 27.04   \u001b[0m | \u001b[0m 39.26   \u001b[0m |\n",
      "하이퍼파라미터: {'num_leaves': 40, 'lambda_l1': 0.7040436794880651, 'lambda_l2': 0.9832619845547939, 'feature_fraction': 0.608712929970154, 'bagging_fraction': 0.6213108174593661, 'min_child_samples': 9, 'min_child_weight': 36.10036444740457, 'feature_pre_filter': False, 'objective': 'binary', 'learning_rate': 0.005, 'bagging_freq': 1, 'force_row_wise': True, 'random_state': 1993}\n",
      "[LightGBM] [Info] Number of positive: 17383, number of negative: 458786\n",
      "[LightGBM] [Info] Total Bins 1557\n",
      "[LightGBM] [Info] Number of data points in the train set: 476169, number of used features: 217\n",
      "[LightGBM] [Info] [binary:BoostFromScore]: pavg=0.036506 -> initscore=-3.273091\n",
      "[LightGBM] [Info] Start training from score -3.273091\n",
      "지니계수 : 0.2861976215538957\n",
      "\n",
      "| \u001b[95m 3       \u001b[0m | \u001b[95m 0.2862  \u001b[0m | \u001b[95m 0.6213  \u001b[0m | \u001b[95m 0.6087  \u001b[0m | \u001b[95m 0.704   \u001b[0m | \u001b[95m 0.9833  \u001b[0m | \u001b[95m 9.113   \u001b[0m | \u001b[95m 36.1    \u001b[0m | \u001b[95m 39.79   \u001b[0m |\n",
      "하이퍼파라미터: {'num_leaves': 30, 'lambda_l1': 0.8444997594874222, 'lambda_l2': 0.9234023852202012, 'feature_fraction': 0.6593983245038058, 'bagging_fraction': 0.8977977822397395, 'min_child_samples': 9, 'min_child_weight': 10.549362495448534, 'feature_pre_filter': False, 'objective': 'binary', 'learning_rate': 0.005, 'bagging_freq': 1, 'force_row_wise': True, 'random_state': 1993}\n",
      "[LightGBM] [Info] Number of positive: 17383, number of negative: 458786\n"
     ]
    },
    {
     "name": "stderr",
     "output_type": "stream",
     "text": [
      "/opt/conda/lib/python3.7/site-packages/lightgbm/engine.py:181: UserWarning: 'early_stopping_rounds' argument is deprecated and will be removed in a future release of LightGBM. Pass 'early_stopping()' callback via 'callbacks' argument instead.\n",
      "  _log_warning(\"'early_stopping_rounds' argument is deprecated and will be removed in a future release of LightGBM. \"\n",
      "/opt/conda/lib/python3.7/site-packages/lightgbm/engine.py:239: UserWarning: 'verbose_eval' argument is deprecated and will be removed in a future release of LightGBM. Pass 'log_evaluation()' callback via 'callbacks' argument instead.\n",
      "  _log_warning(\"'verbose_eval' argument is deprecated and will be removed in a future release of LightGBM. \"\n"
     ]
    },
    {
     "name": "stdout",
     "output_type": "stream",
     "text": [
      "[LightGBM] [Info] Total Bins 1557\n",
      "[LightGBM] [Info] Number of data points in the train set: 476169, number of used features: 217\n",
      "[LightGBM] [Info] [binary:BoostFromScore]: pavg=0.036506 -> initscore=-3.273091\n",
      "[LightGBM] [Info] Start training from score -3.273091\n",
      "지니계수 : 0.2833674422512079\n",
      "\n",
      "| \u001b[0m 4       \u001b[0m | \u001b[0m 0.2834  \u001b[0m | \u001b[0m 0.8978  \u001b[0m | \u001b[0m 0.6594  \u001b[0m | \u001b[0m 0.8445  \u001b[0m | \u001b[0m 0.9234  \u001b[0m | \u001b[0m 8.619   \u001b[0m | \u001b[0m 10.55   \u001b[0m | \u001b[0m 30.09   \u001b[0m |\n",
      "하이퍼파라미터: {'num_leaves': 34, 'lambda_l1': 0.8439576755399246, 'lambda_l2': 0.9071389562807886, 'feature_fraction': 0.6141666844038982, 'bagging_fraction': 0.780941422121342, 'min_child_samples': 9, 'min_child_weight': 38.792062858582554, 'feature_pre_filter': False, 'objective': 'binary', 'learning_rate': 0.005, 'bagging_freq': 1, 'force_row_wise': True, 'random_state': 1993}\n",
      "[LightGBM] [Info] Number of positive: 17383, number of negative: 458786\n"
     ]
    },
    {
     "name": "stderr",
     "output_type": "stream",
     "text": [
      "/opt/conda/lib/python3.7/site-packages/lightgbm/engine.py:181: UserWarning: 'early_stopping_rounds' argument is deprecated and will be removed in a future release of LightGBM. Pass 'early_stopping()' callback via 'callbacks' argument instead.\n",
      "  _log_warning(\"'early_stopping_rounds' argument is deprecated and will be removed in a future release of LightGBM. \"\n",
      "/opt/conda/lib/python3.7/site-packages/lightgbm/engine.py:239: UserWarning: 'verbose_eval' argument is deprecated and will be removed in a future release of LightGBM. Pass 'log_evaluation()' callback via 'callbacks' argument instead.\n",
      "  _log_warning(\"'verbose_eval' argument is deprecated and will be removed in a future release of LightGBM. \"\n"
     ]
    },
    {
     "name": "stdout",
     "output_type": "stream",
     "text": [
      "[LightGBM] [Info] Total Bins 1557\n",
      "[LightGBM] [Info] Number of data points in the train set: 476169, number of used features: 217\n",
      "[LightGBM] [Info] [binary:BoostFromScore]: pavg=0.036506 -> initscore=-3.273091\n",
      "[LightGBM] [Info] Start training from score -3.273091\n",
      "지니계수 : 0.2857146952724652\n",
      "\n",
      "| \u001b[0m 5       \u001b[0m | \u001b[0m 0.2857  \u001b[0m | \u001b[0m 0.7809  \u001b[0m | \u001b[0m 0.6142  \u001b[0m | \u001b[0m 0.844   \u001b[0m | \u001b[0m 0.9071  \u001b[0m | \u001b[0m 8.837   \u001b[0m | \u001b[0m 38.79   \u001b[0m | \u001b[0m 33.75   \u001b[0m |\n",
      "하이퍼파라미터: {'num_leaves': 40, 'lambda_l1': 0.7113567244294035, 'lambda_l2': 0.9992148463611682, 'feature_fraction': 0.6823972673568225, 'bagging_fraction': 0.6452323984860321, 'min_child_samples': 9, 'min_child_weight': 36.23198396337493, 'feature_pre_filter': False, 'objective': 'binary', 'learning_rate': 0.005, 'bagging_freq': 1, 'force_row_wise': True, 'random_state': 1993}\n",
      "[LightGBM] [Info] Number of positive: 17383, number of negative: 458786\n"
     ]
    },
    {
     "name": "stderr",
     "output_type": "stream",
     "text": [
      "/opt/conda/lib/python3.7/site-packages/lightgbm/engine.py:181: UserWarning: 'early_stopping_rounds' argument is deprecated and will be removed in a future release of LightGBM. Pass 'early_stopping()' callback via 'callbacks' argument instead.\n",
      "  _log_warning(\"'early_stopping_rounds' argument is deprecated and will be removed in a future release of LightGBM. \"\n",
      "/opt/conda/lib/python3.7/site-packages/lightgbm/engine.py:239: UserWarning: 'verbose_eval' argument is deprecated and will be removed in a future release of LightGBM. Pass 'log_evaluation()' callback via 'callbacks' argument instead.\n",
      "  _log_warning(\"'verbose_eval' argument is deprecated and will be removed in a future release of LightGBM. \"\n"
     ]
    },
    {
     "name": "stdout",
     "output_type": "stream",
     "text": [
      "[LightGBM] [Info] Total Bins 1557\n",
      "[LightGBM] [Info] Number of data points in the train set: 476169, number of used features: 217\n",
      "[LightGBM] [Info] [binary:BoostFromScore]: pavg=0.036506 -> initscore=-3.273091\n",
      "[LightGBM] [Info] Start training from score -3.273091\n",
      "지니계수 : 0.2859932988125352\n",
      "\n",
      "| \u001b[0m 6       \u001b[0m | \u001b[0m 0.286   \u001b[0m | \u001b[0m 0.6452  \u001b[0m | \u001b[0m 0.6824  \u001b[0m | \u001b[0m 0.7114  \u001b[0m | \u001b[0m 0.9992  \u001b[0m | \u001b[0m 9.083   \u001b[0m | \u001b[0m 36.23   \u001b[0m | \u001b[0m 39.59   \u001b[0m |\n",
      "하이퍼파라미터: {'num_leaves': 40, 'lambda_l1': 0.8329533491733405, 'lambda_l2': 0.9070423594822995, 'feature_fraction': 0.643096339913785, 'bagging_fraction': 0.8810601650808936, 'min_child_samples': 9, 'min_child_weight': 34.00813892373257, 'feature_pre_filter': False, 'objective': 'binary', 'learning_rate': 0.005, 'bagging_freq': 1, 'force_row_wise': True, 'random_state': 1993}\n",
      "[LightGBM] [Info] Number of positive: 17383, number of negative: 458786\n"
     ]
    },
    {
     "name": "stderr",
     "output_type": "stream",
     "text": [
      "/opt/conda/lib/python3.7/site-packages/lightgbm/engine.py:181: UserWarning: 'early_stopping_rounds' argument is deprecated and will be removed in a future release of LightGBM. Pass 'early_stopping()' callback via 'callbacks' argument instead.\n",
      "  _log_warning(\"'early_stopping_rounds' argument is deprecated and will be removed in a future release of LightGBM. \"\n",
      "/opt/conda/lib/python3.7/site-packages/lightgbm/engine.py:239: UserWarning: 'verbose_eval' argument is deprecated and will be removed in a future release of LightGBM. Pass 'log_evaluation()' callback via 'callbacks' argument instead.\n",
      "  _log_warning(\"'verbose_eval' argument is deprecated and will be removed in a future release of LightGBM. \"\n"
     ]
    },
    {
     "name": "stdout",
     "output_type": "stream",
     "text": [
      "[LightGBM] [Info] Total Bins 1557\n",
      "[LightGBM] [Info] Number of data points in the train set: 476169, number of used features: 217\n",
      "[LightGBM] [Info] [binary:BoostFromScore]: pavg=0.036506 -> initscore=-3.273091\n",
      "[LightGBM] [Info] Start training from score -3.273091\n",
      "지니계수 : 0.2853460692271328\n",
      "\n",
      "| \u001b[0m 7       \u001b[0m | \u001b[0m 0.2853  \u001b[0m | \u001b[0m 0.8811  \u001b[0m | \u001b[0m 0.6431  \u001b[0m | \u001b[0m 0.833   \u001b[0m | \u001b[0m 0.907   \u001b[0m | \u001b[0m 9.16    \u001b[0m | \u001b[0m 34.01   \u001b[0m | \u001b[0m 39.91   \u001b[0m |\n",
      "하이퍼파라미터: {'num_leaves': 40, 'lambda_l1': 0.7375143924554232, 'lambda_l2': 0.9447377797391991, 'feature_fraction': 0.6749422364975074, 'bagging_fraction': 0.7037668349812904, 'min_child_samples': 7, 'min_child_weight': 36.336982968130606, 'feature_pre_filter': False, 'objective': 'binary', 'learning_rate': 0.005, 'bagging_freq': 1, 'force_row_wise': True, 'random_state': 1993}\n",
      "[LightGBM] [Info] Number of positive: 17383, number of negative: 458786\n"
     ]
    },
    {
     "name": "stderr",
     "output_type": "stream",
     "text": [
      "/opt/conda/lib/python3.7/site-packages/lightgbm/engine.py:181: UserWarning: 'early_stopping_rounds' argument is deprecated and will be removed in a future release of LightGBM. Pass 'early_stopping()' callback via 'callbacks' argument instead.\n",
      "  _log_warning(\"'early_stopping_rounds' argument is deprecated and will be removed in a future release of LightGBM. \"\n",
      "/opt/conda/lib/python3.7/site-packages/lightgbm/engine.py:239: UserWarning: 'verbose_eval' argument is deprecated and will be removed in a future release of LightGBM. Pass 'log_evaluation()' callback via 'callbacks' argument instead.\n",
      "  _log_warning(\"'verbose_eval' argument is deprecated and will be removed in a future release of LightGBM. \"\n"
     ]
    },
    {
     "name": "stdout",
     "output_type": "stream",
     "text": [
      "[LightGBM] [Info] Total Bins 1557\n",
      "[LightGBM] [Info] Number of data points in the train set: 476169, number of used features: 217\n",
      "[LightGBM] [Info] [binary:BoostFromScore]: pavg=0.036506 -> initscore=-3.273091\n",
      "[LightGBM] [Info] Start training from score -3.273091\n",
      "지니계수 : 0.2850006897964863\n",
      "\n",
      "| \u001b[0m 8       \u001b[0m | \u001b[0m 0.285   \u001b[0m | \u001b[0m 0.7038  \u001b[0m | \u001b[0m 0.6749  \u001b[0m | \u001b[0m 0.7375  \u001b[0m | \u001b[0m 0.9447  \u001b[0m | \u001b[0m 7.172   \u001b[0m | \u001b[0m 36.34   \u001b[0m | \u001b[0m 39.95   \u001b[0m |\n",
      "하이퍼파라미터: {'num_leaves': 40, 'lambda_l1': 0.7309829153275589, 'lambda_l2': 0.9606913515746498, 'feature_fraction': 0.6312923791828471, 'bagging_fraction': 0.8515224104845123, 'min_child_samples': 10, 'min_child_weight': 35.29426485484539, 'feature_pre_filter': False, 'objective': 'binary', 'learning_rate': 0.005, 'bagging_freq': 1, 'force_row_wise': True, 'random_state': 1993}\n",
      "[LightGBM] [Info] Number of positive: 17383, number of negative: 458786\n"
     ]
    },
    {
     "name": "stderr",
     "output_type": "stream",
     "text": [
      "/opt/conda/lib/python3.7/site-packages/lightgbm/engine.py:181: UserWarning: 'early_stopping_rounds' argument is deprecated and will be removed in a future release of LightGBM. Pass 'early_stopping()' callback via 'callbacks' argument instead.\n",
      "  _log_warning(\"'early_stopping_rounds' argument is deprecated and will be removed in a future release of LightGBM. \"\n",
      "/opt/conda/lib/python3.7/site-packages/lightgbm/engine.py:239: UserWarning: 'verbose_eval' argument is deprecated and will be removed in a future release of LightGBM. Pass 'log_evaluation()' callback via 'callbacks' argument instead.\n",
      "  _log_warning(\"'verbose_eval' argument is deprecated and will be removed in a future release of LightGBM. \"\n"
     ]
    },
    {
     "name": "stdout",
     "output_type": "stream",
     "text": [
      "[LightGBM] [Info] Total Bins 1557\n",
      "[LightGBM] [Info] Number of data points in the train set: 476169, number of used features: 217\n",
      "[LightGBM] [Info] [binary:BoostFromScore]: pavg=0.036506 -> initscore=-3.273091\n",
      "[LightGBM] [Info] Start training from score -3.273091\n",
      "지니계수 : 0.2856048470319783\n",
      "\n",
      "| \u001b[0m 9       \u001b[0m | \u001b[0m 0.2856  \u001b[0m | \u001b[0m 0.8515  \u001b[0m | \u001b[0m 0.6313  \u001b[0m | \u001b[0m 0.731   \u001b[0m | \u001b[0m 0.9607  \u001b[0m | \u001b[0m 9.864   \u001b[0m | \u001b[0m 35.29   \u001b[0m | \u001b[0m 39.77   \u001b[0m |\n",
      "=============================================================================================================\n"
     ]
    }
   ],
   "source": [
    "# 베이지안 최적화 수행\n",
    "'''init_points와 n_iter를 더한 값만큼 반복함'''\n",
    "optimizer.maximize(init_points=3, # 무작위로 하이퍼파라미터를 탐색하는 횟수 \n",
    "                   n_iter=6)      # 베이지안 최적화 반복횟수"
   ]
  },
  {
   "cell_type": "markdown",
   "id": "1e8fb729",
   "metadata": {
    "papermill": {
     "duration": 0.009338,
     "end_time": "2022-08-30T13:32:27.128159",
     "exception": false,
     "start_time": "2022-08-30T13:32:27.118821",
     "status": "completed"
    },
    "tags": []
   },
   "source": [
    "* 결과 확인"
   ]
  },
  {
   "cell_type": "code",
   "execution_count": 19,
   "id": "407468a4",
   "metadata": {
    "execution": {
     "iopub.execute_input": "2022-08-30T13:32:27.149903Z",
     "iopub.status.busy": "2022-08-30T13:32:27.149318Z",
     "iopub.status.idle": "2022-08-30T13:32:27.158197Z",
     "shell.execute_reply": "2022-08-30T13:32:27.156988Z"
    },
    "papermill": {
     "duration": 0.022796,
     "end_time": "2022-08-30T13:32:27.160603",
     "exception": false,
     "start_time": "2022-08-30T13:32:27.137807",
     "status": "completed"
    },
    "tags": []
   },
   "outputs": [
    {
     "data": {
      "text/plain": [
       "{'bagging_fraction': 0.6213108174593661,\n",
       " 'feature_fraction': 0.608712929970154,\n",
       " 'lambda_l1': 0.7040436794880651,\n",
       " 'lambda_l2': 0.9832619845547939,\n",
       " 'min_child_samples': 9.112627003799401,\n",
       " 'min_child_weight': 36.10036444740457,\n",
       " 'num_leaves': 39.78618342232764}"
      ]
     },
     "execution_count": 19,
     "metadata": {},
     "output_type": "execute_result"
    }
   ],
   "source": [
    "# 평가함수 점수가 최대일 때 하이퍼파라미터\n",
    "max_params = optimizer.max['params']\n",
    "max_params"
   ]
  },
  {
   "cell_type": "code",
   "execution_count": 20,
   "id": "6e83de53",
   "metadata": {
    "execution": {
     "iopub.execute_input": "2022-08-30T13:32:27.182144Z",
     "iopub.status.busy": "2022-08-30T13:32:27.181785Z",
     "iopub.status.idle": "2022-08-30T13:32:27.187065Z",
     "shell.execute_reply": "2022-08-30T13:32:27.185970Z"
    },
    "papermill": {
     "duration": 0.018839,
     "end_time": "2022-08-30T13:32:27.189262",
     "exception": false,
     "start_time": "2022-08-30T13:32:27.170423",
     "status": "completed"
    },
    "tags": []
   },
   "outputs": [],
   "source": [
    "# 정수형 하이퍼파라미터 변환\n",
    "max_params['num_leaves'] = int(round(max_params['num_leaves']))\n",
    "max_params['min_child_samples'] = int(round(max_params['min_child_samples']))"
   ]
  },
  {
   "cell_type": "code",
   "execution_count": null,
   "id": "764279bc",
   "metadata": {
    "papermill": {
     "duration": 0.009272,
     "end_time": "2022-08-30T13:32:27.208299",
     "exception": false,
     "start_time": "2022-08-30T13:32:27.199027",
     "status": "completed"
    },
    "tags": []
   },
   "outputs": [],
   "source": []
  }
 ],
 "metadata": {
  "kernelspec": {
   "display_name": "Python 3",
   "language": "python",
   "name": "python3"
  },
  "language_info": {
   "codemirror_mode": {
    "name": "ipython",
    "version": 3
   },
   "file_extension": ".py",
   "mimetype": "text/x-python",
   "name": "python",
   "nbconvert_exporter": "python",
   "pygments_lexer": "ipython3",
   "version": "3.7.12"
  },
  "papermill": {
   "default_parameters": {},
   "duration": 1896.355307,
   "end_time": "2022-08-30T13:32:28.346263",
   "environment_variables": {},
   "exception": null,
   "input_path": "__notebook__.ipynb",
   "output_path": "__notebook__.ipynb",
   "parameters": {},
   "start_time": "2022-08-30T13:00:51.990956",
   "version": "2.3.4"
  }
 },
 "nbformat": 4,
 "nbformat_minor": 5
}
